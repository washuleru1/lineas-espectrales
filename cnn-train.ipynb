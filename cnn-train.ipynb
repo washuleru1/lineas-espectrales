{
 "cells": [
  {
   "cell_type": "code",
   "execution_count": 1,
   "id": "56ecb0a3",
   "metadata": {},
   "outputs": [],
   "source": [
    "import numpy as np\n",
    "import pandas as pd\n",
    "import matplotlib as plt\n",
    "import tensorflow as tf\n",
    "import glob\n",
    "from sklearn.preprocessing import MinMaxScaler, StandardScaler\n",
    "from sklearn.model_selection import train_test_split\n",
    "from sklearn.metrics import classification_report, plot_confusion_matrix"
   ]
  },
  {
   "cell_type": "code",
   "execution_count": 2,
   "id": "f32fc74e",
   "metadata": {},
   "outputs": [],
   "source": [
    "#Función que separa los parametros t,g,v del fileName\n",
    "def separateParams(fileName):\n",
    "    t = fileName.split(\"t\")[1].split(\"g\")[0]\n",
    "    rest_of = fileName.split(\"t\")[1].split(\"g\")[1].split(\"v\")\n",
    "    g, v = rest_of\n",
    "    return float(t), float(g)/10, float(v)"
   ]
  },
  {
   "cell_type": "code",
   "execution_count": 3,
   "id": "a9585efc",
   "metadata": {},
   "outputs": [],
   "source": [
    "#Se definen los sets de training, test y validación\n",
    "def train_val_test_split(X, y, train_size, val_size, test_size, random_state = 1):\n",
    "    if train_size + val_size + test_size != 1.0:\n",
    "        print(\"Incorrect sizes!\")\n",
    "        return None \n",
    "    X_tmp, X_test, y_tmp, y_test = train_test_split(X, y, test_size = test_size, random_state=random_state)\n",
    "    X_train, X_val, y_train, y_val = train_test_split(X_tmp, y_tmp, test_size = val_size/(test_size + train_size), random_state=random_state)\n",
    "    return X_train, X_val, X_test, y_train, y_val, y_test"
   ]
  },
  {
   "cell_type": "code",
   "execution_count": 4,
   "id": "2d8da443",
   "metadata": {},
   "outputs": [
    {
     "name": "stdout",
     "output_type": "stream",
     "text": [
      "Files qty: 3100\n"
     ]
    }
   ],
   "source": [
    "files = glob.glob('../data-lineas-espectrales/filtered_wv_models_old/*')\n",
    "file_qty = len(files)\n",
    "print(\"Files qty: {}\".format(file_qty))"
   ]
  },
  {
   "cell_type": "code",
   "execution_count": 5,
   "id": "13e67b8d",
   "metadata": {},
   "outputs": [
    {
     "name": "stdout",
     "output_type": "stream",
     "text": [
      "points: 201 | columns: 2 \n"
     ]
    }
   ],
   "source": [
    "y = np.zeros((file_qty,3))\n",
    "df = pd.read_csv(files[0], sep=\" \", header=None)\n",
    "n_points , n_columns = df.shape\n",
    "print(\"points: {} | columns: {} \".format(n_points, n_columns))"
   ]
  },
  {
   "cell_type": "code",
   "execution_count": 6,
   "id": "210af774",
   "metadata": {},
   "outputs": [
    {
     "name": "stdout",
     "output_type": "stream",
     "text": [
      "(3100, 201)\n",
      "(3100, 3)\n"
     ]
    }
   ],
   "source": [
    "#Matriz que contiene las lineas espectrales\n",
    "X = np.zeros((file_qty, n_points))\n",
    "#Matriz que contiene los labels de cada linea espectral\n",
    "y = np.zeros((file_qty, 3))\n",
    "\n",
    "print(X.shape)\n",
    "print(y.shape)"
   ]
  },
  {
   "cell_type": "code",
   "execution_count": 7,
   "id": "533602ce",
   "metadata": {},
   "outputs": [],
   "source": [
    "#extract files, se almacenan las lineas espectrales y labels en X e y respectivamente\n",
    "for i, name in enumerate(files):\n",
    "    file_name = name.split(\"/\")[-1].split(\".\")[0].split(\"_\")[1]\n",
    "    df = pd.read_csv(name, sep=\" \", header=None)\n",
    "    t, g, v = separateParams(file_name)\n",
    "    #Se almacena la línea espectral\n",
    "    X[i, :] = df[1].values\n",
    "    #Se almacena el label de la linea espectral\n",
    "    y[i] = t, g, v"
   ]
  },
  {
   "cell_type": "code",
   "execution_count": 8,
   "id": "4e3e43ed",
   "metadata": {},
   "outputs": [
    {
     "name": "stdout",
     "output_type": "stream",
     "text": [
      "[[1.9e+04 4.5e+00 2.2e+02]\n",
      " [3.0e+04 4.5e+00 2.3e+02]\n",
      " [3.8e+04 4.5e+00 3.0e+02]\n",
      " [3.4e+04 3.5e+00 3.2e+02]]\n"
     ]
    }
   ],
   "source": [
    "print(y[:4])"
   ]
  },
  {
   "cell_type": "code",
   "execution_count": null,
   "id": "7aae3a8f",
   "metadata": {},
   "outputs": [],
   "source": []
  }
 ],
 "metadata": {
  "kernelspec": {
   "display_name": "Python 3 (ipykernel)",
   "language": "python",
   "name": "python3"
  },
  "language_info": {
   "codemirror_mode": {
    "name": "ipython",
    "version": 3
   },
   "file_extension": ".py",
   "mimetype": "text/x-python",
   "name": "python",
   "nbconvert_exporter": "python",
   "pygments_lexer": "ipython3",
   "version": "3.9.7"
  }
 },
 "nbformat": 4,
 "nbformat_minor": 5
}
