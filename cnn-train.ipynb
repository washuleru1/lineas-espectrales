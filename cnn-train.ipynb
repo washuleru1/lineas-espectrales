{
 "cells": [
  {
   "cell_type": "code",
   "execution_count": 1,
   "id": "56ecb0a3",
   "metadata": {},
   "outputs": [],
   "source": [
    "import numpy as np\n",
    "import pandas as pd\n",
    "import matplotlib as plt\n",
    "from matplotlib import pyplot as pltp\n",
    "import tensorflow as tf\n",
    "import glob\n",
    "from sklearn.preprocessing import MinMaxScaler, StandardScaler\n",
    "from sklearn.model_selection import train_test_split\n",
    "from sklearn.metrics import classification_report, plot_confusion_matrix"
   ]
  },
  {
   "cell_type": "code",
   "execution_count": 2,
   "id": "f32fc74e",
   "metadata": {},
   "outputs": [],
   "source": [
    "#Función que separa los parametros t,g,v del fileName\n",
    "def separateParams(fileName):\n",
    "    t = fileName.split(\"t\")[1].split(\"g\")[0]\n",
    "    rest_of = fileName.split(\"t\")[1].split(\"g\")[1].split(\"v\")\n",
    "    g, v = rest_of\n",
    "    return float(t), float(g)/10, float(v)"
   ]
  },
  {
   "cell_type": "code",
   "execution_count": 3,
   "id": "a9585efc",
   "metadata": {},
   "outputs": [],
   "source": [
    "#Se definen los sets de training, test y validación\n",
    "def train_val_test_split(X, y, train_size, val_size, test_size, random_state = 1):\n",
    "    if train_size + val_size + test_size != 1.0:\n",
    "        print(\"Incorrect sizes!\")\n",
    "        return None \n",
    "    X_tmp, X_test, y_tmp, y_test = train_test_split(X, y, test_size = test_size, random_state=random_state)\n",
    "    X_train, X_val, y_train, y_val = train_test_split(X_tmp, y_tmp, test_size = val_size/(test_size + train_size), random_state=random_state)\n",
    "    return X_train, X_val, X_test, y_train, y_val, y_test"
   ]
  },
  {
   "cell_type": "code",
   "execution_count": 4,
   "id": "2d8da443",
   "metadata": {},
   "outputs": [
    {
     "name": "stdout",
     "output_type": "stream",
     "text": [
      "Files qty: 5425\n"
     ]
    }
   ],
   "source": [
    "files = glob.glob('../data-lineas-espectrales/filtered_wv_models/*')\n",
    "file_qty = len(files)\n",
    "print(\"Files qty: {}\".format(file_qty))"
   ]
  },
  {
   "cell_type": "code",
   "execution_count": 5,
   "id": "13e67b8d",
   "metadata": {},
   "outputs": [
    {
     "name": "stdout",
     "output_type": "stream",
     "text": [
      "points: 201 | columns: 2 \n"
     ]
    }
   ],
   "source": [
    "y = np.zeros((file_qty,3))\n",
    "df = pd.read_csv(files[0], sep=\" \", header=None)\n",
    "n_points , n_columns = df.shape\n",
    "print(\"points: {} | columns: {} \".format(n_points, n_columns))"
   ]
  },
  {
   "cell_type": "code",
   "execution_count": 6,
   "id": "210af774",
   "metadata": {},
   "outputs": [
    {
     "name": "stdout",
     "output_type": "stream",
     "text": [
      "(5425, 201)\n",
      "(5425, 3)\n"
     ]
    }
   ],
   "source": [
    "#Matriz que contiene las lineas espectrales\n",
    "X = np.zeros((file_qty, n_points))\n",
    "#Matriz que contiene los labels de cada linea espectral\n",
    "y = np.zeros((file_qty, 3))\n",
    "\n",
    "print(X.shape)\n",
    "print(y.shape)"
   ]
  },
  {
   "cell_type": "code",
   "execution_count": 7,
   "id": "533602ce",
   "metadata": {},
   "outputs": [],
   "source": [
    "#extract files, se almacenan las lineas espectrales y labels en X e y respectivamente\n",
    "for i, name in enumerate(files):\n",
    "    file_name = name.split(\"/\")[-1].split(\".\")[0].split(\"_\")[1]\n",
    "    df = pd.read_csv(name, sep=\" \", header=None)\n",
    "    t, g, v = separateParams(file_name)\n",
    "    #Se almacena la línea espectral\n",
    "    X[i, :] = df[1].values\n",
    "    #Se almacena el label de la linea espectral\n",
    "    y[i] = t, g, v"
   ]
  },
  {
   "cell_type": "code",
   "execution_count": 8,
   "id": "4e3e43ed",
   "metadata": {},
   "outputs": [
    {
     "name": "stdout",
     "output_type": "stream",
     "text": [
      "[[3.5e+04 2.0e+00 2.8e+02]\n",
      " [2.0e+04 2.0e+00 2.6e+02]\n",
      " [2.8e+04 2.0e+00 3.5e+02]\n",
      " [1.7e+04 3.0e+00 1.7e+02]]\n"
     ]
    }
   ],
   "source": [
    "print(y[:4])"
   ]
  },
  {
   "cell_type": "code",
   "execution_count": 9,
   "id": "7aae3a8f",
   "metadata": {},
   "outputs": [],
   "source": [
    "#se normaliza y\n",
    "standardScaler = StandardScaler()\n",
    "standardScaler.fit(y)\n",
    "normalized_y = standardScaler.transform(y)"
   ]
  },
  {
   "cell_type": "code",
   "execution_count": 10,
   "id": "00d7857b",
   "metadata": {},
   "outputs": [],
   "source": [
    "X_train, X_val, X_test, y_train, y_val, y_test = train_val_test_split(X, normalized_y, .8, .1, .1)"
   ]
  },
  {
   "cell_type": "code",
   "execution_count": 11,
   "id": "714278b3",
   "metadata": {},
   "outputs": [
    {
     "name": "stdout",
     "output_type": "stream",
     "text": [
      "(4339, 201) (4339, 3)\n",
      "(543, 201) (543, 3)\n",
      "(543, 201) (543, 3)\n"
     ]
    }
   ],
   "source": [
    "print(X_train.shape, y_train.shape)\n",
    "print(X_val.shape, y_val.shape)\n",
    "print(X_test.shape, y_test.shape)"
   ]
  },
  {
   "cell_type": "code",
   "execution_count": 12,
   "id": "d5f685d4",
   "metadata": {},
   "outputs": [
    {
     "name": "stdout",
     "output_type": "stream",
     "text": [
      "201\n"
     ]
    }
   ],
   "source": [
    "time_steps = X.shape[1]\n",
    "input_dimension = 1\n",
    "print(time_steps)"
   ]
  },
  {
   "cell_type": "code",
   "execution_count": 13,
   "id": "c3fdf954",
   "metadata": {},
   "outputs": [
    {
     "name": "stdout",
     "output_type": "stream",
     "text": [
      "reshaped X_train: (4339, 201, 1)\n",
      "reshaped X_val: (543, 201, 1)\n",
      "reshaped X_test: (543, 201, 1)\n"
     ]
    }
   ],
   "source": [
    "sample_size = X_train.shape[0]\n",
    "X_train_reshaped = X_train.reshape((sample_size, time_steps, input_dimension))\n",
    "sample_size = X_val.shape[0]\n",
    "X_val_reshaped = X_val.reshape((sample_size, time_steps, input_dimension))\n",
    "sample_size = X_test.shape[0]\n",
    "X_test_reshaped = X_test.reshape((sample_size, time_steps, input_dimension))\n",
    "print(\"reshaped X_train: {}\".format(X_train_reshaped.shape))\n",
    "print(\"reshaped X_val: {}\".format(X_val_reshaped.shape))\n",
    "print(\"reshaped X_test: {}\".format(X_test_reshaped.shape))"
   ]
  },
  {
   "cell_type": "code",
   "execution_count": 46,
   "id": "be7ede77",
   "metadata": {},
   "outputs": [
    {
     "name": "stdout",
     "output_type": "stream",
     "text": [
      "Model: \"model_conv1D\"\n",
      "_________________________________________________________________\n",
      " Layer (type)                Output Shape              Param #   \n",
      "=================================================================\n",
      " conv1d_3 (Conv1D)           (None, 199, 64)           256       \n",
      "                                                                 \n",
      " conv1d_4 (Conv1D)           (None, 197, 40)           7720      \n",
      "                                                                 \n",
      " Conv1D_1 (Conv1D)           (None, 191, 32)           8992      \n",
      "                                                                 \n",
      " Conv1D_2 (Conv1D)           (None, 189, 16)           1552      \n",
      "                                                                 \n",
      " flatten_3 (Flatten)         (None, 3024)              0         \n",
      "                                                                 \n",
      " Dense_00 (Dense)            (None, 128)               387200    \n",
      "                                                                 \n",
      " Dense_0 (Dense)             (None, 64)                8256      \n",
      "                                                                 \n",
      " Dense_1 (Dense)             (None, 32)                2080      \n",
      "                                                                 \n",
      " dense_2 (Dense)             (None, 10)                330       \n",
      "                                                                 \n",
      " Dense_4 (Dense)             (None, 3)                 33        \n",
      "                                                                 \n",
      "=================================================================\n",
      "Total params: 416,419\n",
      "Trainable params: 416,419\n",
      "Non-trainable params: 0\n",
      "_________________________________________________________________\n"
     ]
    }
   ],
   "source": [
    "#Arquitectura de la red\n",
    "def build_conv1D_model():\n",
    "    n_timesteps = X_train_reshaped.shape[1] #210\n",
    "    n_features  = X_train_reshaped.shape[2] #1 \n",
    "    model = tf.keras.Sequential(name=\"model_conv1D\")\n",
    "    model.add(tf.keras.layers.Input(shape=(n_timesteps,n_features)))\n",
    "    model.add(tf.keras.layers.Conv1D(filters=64, kernel_size=3, activation='elu'))\n",
    "    model.add(tf.keras.layers.Conv1D(filters=40, kernel_size=3, activation='relu'))\n",
    "    #model.add(tf.keras.layers.Conv1D(filters=64, kernel_size=3, activation='relu', name=\"Conv1D_0\"))\n",
    "    model.add(tf.keras.layers.Conv1D(filters=32, kernel_size=7, activation='softmax', name=\"Conv1D_1\"))\n",
    "    model.add(tf.keras.layers.Conv1D(filters=16, kernel_size=3, activation='selu', name=\"Conv1D_2\"))\n",
    "    tf.keras.layers.BatchNormalization()\n",
    "    model.add(tf.keras.layers.Flatten())\n",
    "    model.add(tf.keras.layers.Dense(128,activation='elu', name=\"Dense_00\"))\n",
    "    model.add(tf.keras.layers.Dense(64,activation='relu', name=\"Dense_0\"))\n",
    "    model.add(tf.keras.layers.Dense(32, activation= \"selu\", name=\"Dense_1\"))\n",
    "    model.add(tf.keras.layers.Dense(10, activation='softmax'))\n",
    "    model.add(tf.keras.layers.Dense(3, activation = \"linear\", name=\"Dense_4\"))\n",
    "    \n",
    "\n",
    "\n",
    "    optimizer = tf.keras.optimizers.RMSprop(0.001)\n",
    "\n",
    "    l = tf.keras.losses.LogCosh()\n",
    "    \n",
    "    \n",
    "    model.compile(loss='mse',optimizer=optimizer,metrics=['mse', 'accuracy'])\n",
    "    return model\n",
    "\n",
    "model_conv1D = build_conv1D_model()\n",
    "model_conv1D.summary()"
   ]
  },
  {
   "cell_type": "code",
   "execution_count": 47,
   "id": "0a7264bf",
   "metadata": {},
   "outputs": [
    {
     "name": "stdout",
     "output_type": "stream",
     "text": [
      "Epoch 1/80\n",
      "136/136 [==============================] - 4s 21ms/step - loss: 1.0051 - mse: 1.0051 - accuracy: 0.3581 - val_loss: 0.9615 - val_mse: 0.9615 - val_accuracy: 0.3039\n",
      "Epoch 2/80\n",
      "136/136 [==============================] - 3s 20ms/step - loss: 0.8140 - mse: 0.8140 - accuracy: 0.5799 - val_loss: 0.6690 - val_mse: 0.6690 - val_accuracy: 0.6924\n",
      "Epoch 3/80\n",
      "136/136 [==============================] - 3s 19ms/step - loss: 0.6460 - mse: 0.6460 - accuracy: 0.6806 - val_loss: 0.8441 - val_mse: 0.8441 - val_accuracy: 0.5433\n",
      "Epoch 4/80\n",
      "136/136 [==============================] - 3s 20ms/step - loss: 0.5897 - mse: 0.5897 - accuracy: 0.7034 - val_loss: 0.5215 - val_mse: 0.5215 - val_accuracy: 0.7643\n",
      "Epoch 5/80\n",
      "136/136 [==============================] - 3s 20ms/step - loss: 0.5373 - mse: 0.5373 - accuracy: 0.7237 - val_loss: 0.4740 - val_mse: 0.4740 - val_accuracy: 0.7827\n",
      "Epoch 6/80\n",
      "136/136 [==============================] - 3s 20ms/step - loss: 0.5043 - mse: 0.5043 - accuracy: 0.7380 - val_loss: 0.6601 - val_mse: 0.6601 - val_accuracy: 0.5838\n",
      "Epoch 7/80\n",
      "136/136 [==============================] - 3s 20ms/step - loss: 0.4676 - mse: 0.4676 - accuracy: 0.7481 - val_loss: 0.5016 - val_mse: 0.5016 - val_accuracy: 0.6262\n",
      "Epoch 8/80\n",
      "136/136 [==============================] - 3s 20ms/step - loss: 0.4384 - mse: 0.4384 - accuracy: 0.7631 - val_loss: 0.4481 - val_mse: 0.4481 - val_accuracy: 0.6851\n",
      "Epoch 9/80\n",
      "136/136 [==============================] - 3s 20ms/step - loss: 0.4159 - mse: 0.4159 - accuracy: 0.7790 - val_loss: 0.3607 - val_mse: 0.3607 - val_accuracy: 0.7919\n",
      "Epoch 10/80\n",
      "136/136 [==============================] - 3s 20ms/step - loss: 0.3899 - mse: 0.3899 - accuracy: 0.7889 - val_loss: 0.3326 - val_mse: 0.3326 - val_accuracy: 0.8122\n",
      "Epoch 11/80\n",
      "136/136 [==============================] - 3s 20ms/step - loss: 0.3591 - mse: 0.3591 - accuracy: 0.7976 - val_loss: 0.4396 - val_mse: 0.4396 - val_accuracy: 0.7680\n",
      "Epoch 12/80\n",
      "136/136 [==============================] - 3s 20ms/step - loss: 0.3443 - mse: 0.3443 - accuracy: 0.8023 - val_loss: 0.3153 - val_mse: 0.3153 - val_accuracy: 0.7790\n",
      "Epoch 13/80\n",
      "136/136 [==============================] - 3s 20ms/step - loss: 0.3081 - mse: 0.3081 - accuracy: 0.8161 - val_loss: 0.2500 - val_mse: 0.2500 - val_accuracy: 0.8158\n",
      "Epoch 14/80\n",
      "136/136 [==============================] - 3s 20ms/step - loss: 0.2939 - mse: 0.2939 - accuracy: 0.8184 - val_loss: 0.2869 - val_mse: 0.2869 - val_accuracy: 0.7919\n",
      "Epoch 15/80\n",
      "136/136 [==============================] - 3s 20ms/step - loss: 0.2803 - mse: 0.2803 - accuracy: 0.8281 - val_loss: 0.2229 - val_mse: 0.2229 - val_accuracy: 0.8435\n",
      "Epoch 16/80\n",
      "136/136 [==============================] - 3s 20ms/step - loss: 0.2547 - mse: 0.2547 - accuracy: 0.8299 - val_loss: 0.2054 - val_mse: 0.2054 - val_accuracy: 0.8619\n",
      "Epoch 17/80\n",
      "136/136 [==============================] - 3s 20ms/step - loss: 0.2480 - mse: 0.2480 - accuracy: 0.8288 - val_loss: 0.2388 - val_mse: 0.2388 - val_accuracy: 0.8103\n",
      "Epoch 18/80\n",
      "136/136 [==============================] - 3s 19ms/step - loss: 0.2286 - mse: 0.2286 - accuracy: 0.8334 - val_loss: 0.1944 - val_mse: 0.1944 - val_accuracy: 0.8398\n",
      "Epoch 19/80\n",
      "136/136 [==============================] - 3s 20ms/step - loss: 0.2172 - mse: 0.2172 - accuracy: 0.8396 - val_loss: 0.2758 - val_mse: 0.2758 - val_accuracy: 0.8343\n",
      "Epoch 20/80\n",
      "136/136 [==============================] - 3s 21ms/step - loss: 0.2019 - mse: 0.2019 - accuracy: 0.8490 - val_loss: 0.1614 - val_mse: 0.1614 - val_accuracy: 0.8490\n",
      "Epoch 21/80\n",
      "136/136 [==============================] - 3s 20ms/step - loss: 0.1951 - mse: 0.1951 - accuracy: 0.8564 - val_loss: 1.1164 - val_mse: 1.1164 - val_accuracy: 0.5801\n",
      "Epoch 22/80\n",
      "136/136 [==============================] - 3s 20ms/step - loss: 0.1952 - mse: 0.1952 - accuracy: 0.8539 - val_loss: 0.1633 - val_mse: 0.1633 - val_accuracy: 0.8416\n",
      "Epoch 23/80\n",
      "136/136 [==============================] - 3s 20ms/step - loss: 0.1815 - mse: 0.1815 - accuracy: 0.8610 - val_loss: 0.2284 - val_mse: 0.2284 - val_accuracy: 0.8435\n",
      "Epoch 24/80\n",
      "136/136 [==============================] - 3s 20ms/step - loss: 0.1673 - mse: 0.1673 - accuracy: 0.8576 - val_loss: 0.1257 - val_mse: 0.1257 - val_accuracy: 0.9061\n",
      "Epoch 25/80\n",
      "136/136 [==============================] - 3s 20ms/step - loss: 0.1621 - mse: 0.1621 - accuracy: 0.8721 - val_loss: 0.1413 - val_mse: 0.1413 - val_accuracy: 0.8932\n",
      "Epoch 26/80\n",
      "136/136 [==============================] - 3s 19ms/step - loss: 0.1570 - mse: 0.1570 - accuracy: 0.8785 - val_loss: 0.1758 - val_mse: 0.1758 - val_accuracy: 0.8600\n",
      "Epoch 27/80\n",
      "136/136 [==============================] - 3s 20ms/step - loss: 0.1453 - mse: 0.1453 - accuracy: 0.8779 - val_loss: 0.1553 - val_mse: 0.1553 - val_accuracy: 0.8545\n",
      "Epoch 28/80\n",
      "136/136 [==============================] - 3s 21ms/step - loss: 0.1476 - mse: 0.1476 - accuracy: 0.8790 - val_loss: 0.1408 - val_mse: 0.1408 - val_accuracy: 0.8932\n",
      "Epoch 29/80\n",
      "136/136 [==============================] - 3s 20ms/step - loss: 0.1464 - mse: 0.1464 - accuracy: 0.8861 - val_loss: 0.2497 - val_mse: 0.2497 - val_accuracy: 0.8287\n",
      "Epoch 30/80\n",
      "136/136 [==============================] - 3s 20ms/step - loss: 0.1415 - mse: 0.1415 - accuracy: 0.8834 - val_loss: 0.1507 - val_mse: 0.1507 - val_accuracy: 0.8637\n",
      "Epoch 31/80\n",
      "136/136 [==============================] - 3s 21ms/step - loss: 0.1312 - mse: 0.1312 - accuracy: 0.8875 - val_loss: 0.1606 - val_mse: 0.1606 - val_accuracy: 0.8637\n",
      "Epoch 32/80\n",
      "136/136 [==============================] - 3s 20ms/step - loss: 0.1330 - mse: 0.1330 - accuracy: 0.8885 - val_loss: 0.1188 - val_mse: 0.1188 - val_accuracy: 0.9208\n",
      "Epoch 33/80\n",
      "136/136 [==============================] - 3s 20ms/step - loss: 0.1320 - mse: 0.1320 - accuracy: 0.8834 - val_loss: 0.1463 - val_mse: 0.1463 - val_accuracy: 0.8435\n",
      "Epoch 34/80\n",
      "136/136 [==============================] - 3s 20ms/step - loss: 0.1274 - mse: 0.1274 - accuracy: 0.8843 - val_loss: 0.1096 - val_mse: 0.1096 - val_accuracy: 0.8840\n",
      "Epoch 35/80\n",
      "136/136 [==============================] - 3s 21ms/step - loss: 0.1243 - mse: 0.1243 - accuracy: 0.8818 - val_loss: 0.1170 - val_mse: 0.1170 - val_accuracy: 0.9171\n",
      "Epoch 36/80\n",
      "136/136 [==============================] - 3s 21ms/step - loss: 0.1190 - mse: 0.1190 - accuracy: 0.8910 - val_loss: 0.1003 - val_mse: 0.1003 - val_accuracy: 0.9098\n",
      "Epoch 37/80\n",
      "136/136 [==============================] - 3s 20ms/step - loss: 0.1234 - mse: 0.1234 - accuracy: 0.8986 - val_loss: 0.0920 - val_mse: 0.0920 - val_accuracy: 0.9006\n",
      "Epoch 38/80\n",
      "136/136 [==============================] - 3s 19ms/step - loss: 0.1216 - mse: 0.1216 - accuracy: 0.8838 - val_loss: 0.2470 - val_mse: 0.2470 - val_accuracy: 0.8582\n",
      "Epoch 39/80\n",
      "136/136 [==============================] - 3s 20ms/step - loss: 0.1165 - mse: 0.1165 - accuracy: 0.8921 - val_loss: 0.1063 - val_mse: 0.1063 - val_accuracy: 0.9282\n",
      "Epoch 40/80\n",
      "136/136 [==============================] - 3s 20ms/step - loss: 0.1180 - mse: 0.1180 - accuracy: 0.8910 - val_loss: 0.1673 - val_mse: 0.1673 - val_accuracy: 0.8306\n",
      "Epoch 41/80\n",
      "136/136 [==============================] - 3s 20ms/step - loss: 0.1098 - mse: 0.1098 - accuracy: 0.8896 - val_loss: 0.1427 - val_mse: 0.1427 - val_accuracy: 0.8858\n",
      "Epoch 42/80\n",
      "136/136 [==============================] - 3s 20ms/step - loss: 0.1086 - mse: 0.1086 - accuracy: 0.8889 - val_loss: 0.1308 - val_mse: 0.1308 - val_accuracy: 0.8564\n",
      "Epoch 43/80\n",
      "136/136 [==============================] - 4s 26ms/step - loss: 0.1115 - mse: 0.1115 - accuracy: 0.8947 - val_loss: 0.1227 - val_mse: 0.1227 - val_accuracy: 0.8821\n",
      "Epoch 44/80\n",
      "136/136 [==============================] - 3s 25ms/step - loss: 0.1049 - mse: 0.1049 - accuracy: 0.8933 - val_loss: 0.0823 - val_mse: 0.0823 - val_accuracy: 0.9227\n",
      "Epoch 45/80\n",
      "136/136 [==============================] - 3s 25ms/step - loss: 0.1043 - mse: 0.1043 - accuracy: 0.8956 - val_loss: 0.0854 - val_mse: 0.0854 - val_accuracy: 0.9245\n",
      "Epoch 46/80\n",
      "136/136 [==============================] - 3s 21ms/step - loss: 0.1043 - mse: 0.1043 - accuracy: 0.8921 - val_loss: 0.1031 - val_mse: 0.1031 - val_accuracy: 0.9061\n",
      "Epoch 47/80\n"
     ]
    },
    {
     "name": "stdout",
     "output_type": "stream",
     "text": [
      "136/136 [==============================] - 3s 20ms/step - loss: 0.1010 - mse: 0.1010 - accuracy: 0.8984 - val_loss: 0.1154 - val_mse: 0.1154 - val_accuracy: 0.8932\n",
      "Epoch 48/80\n",
      "136/136 [==============================] - 3s 19ms/step - loss: 0.1050 - mse: 0.1050 - accuracy: 0.9018 - val_loss: 0.0906 - val_mse: 0.0906 - val_accuracy: 0.9171\n",
      "Epoch 49/80\n",
      "136/136 [==============================] - 3s 20ms/step - loss: 0.0972 - mse: 0.0972 - accuracy: 0.9027 - val_loss: 0.0949 - val_mse: 0.0949 - val_accuracy: 0.9061\n",
      "Epoch 50/80\n",
      "136/136 [==============================] - 3s 19ms/step - loss: 0.0965 - mse: 0.0965 - accuracy: 0.8993 - val_loss: 0.1439 - val_mse: 0.1439 - val_accuracy: 0.8950\n",
      "Epoch 51/80\n",
      "136/136 [==============================] - 3s 19ms/step - loss: 0.0952 - mse: 0.0952 - accuracy: 0.9016 - val_loss: 0.0830 - val_mse: 0.0830 - val_accuracy: 0.9190\n",
      "Epoch 52/80\n",
      "136/136 [==============================] - 3s 19ms/step - loss: 0.0947 - mse: 0.0947 - accuracy: 0.9085 - val_loss: 0.0897 - val_mse: 0.0897 - val_accuracy: 0.9116\n",
      "Epoch 53/80\n",
      "136/136 [==============================] - 3s 20ms/step - loss: 0.1003 - mse: 0.1003 - accuracy: 0.9060 - val_loss: 0.0697 - val_mse: 0.0697 - val_accuracy: 0.9319\n",
      "Epoch 54/80\n",
      "136/136 [==============================] - 3s 20ms/step - loss: 0.0931 - mse: 0.0931 - accuracy: 0.9025 - val_loss: 0.0762 - val_mse: 0.0762 - val_accuracy: 0.9319\n",
      "Epoch 55/80\n",
      "136/136 [==============================] - 3s 19ms/step - loss: 0.0963 - mse: 0.0963 - accuracy: 0.9062 - val_loss: 0.0677 - val_mse: 0.0677 - val_accuracy: 0.9300\n",
      "Epoch 56/80\n",
      "136/136 [==============================] - 3s 19ms/step - loss: 0.0924 - mse: 0.0924 - accuracy: 0.9037 - val_loss: 0.0771 - val_mse: 0.0771 - val_accuracy: 0.9208\n",
      "Epoch 57/80\n",
      "136/136 [==============================] - 3s 19ms/step - loss: 0.0976 - mse: 0.0976 - accuracy: 0.9062 - val_loss: 0.1204 - val_mse: 0.1204 - val_accuracy: 0.8895\n",
      "Epoch 58/80\n",
      "136/136 [==============================] - 3s 18ms/step - loss: 0.0931 - mse: 0.0931 - accuracy: 0.9085 - val_loss: 0.0710 - val_mse: 0.0710 - val_accuracy: 0.9227\n",
      "Epoch 59/80\n",
      "136/136 [==============================] - 3s 18ms/step - loss: 0.0897 - mse: 0.0897 - accuracy: 0.9032 - val_loss: 0.0850 - val_mse: 0.0850 - val_accuracy: 0.9263\n",
      "Epoch 60/80\n",
      "136/136 [==============================] - 3s 18ms/step - loss: 0.0912 - mse: 0.0912 - accuracy: 0.9067 - val_loss: 0.0825 - val_mse: 0.0825 - val_accuracy: 0.9098\n",
      "Epoch 61/80\n",
      "136/136 [==============================] - 3s 19ms/step - loss: 0.0878 - mse: 0.0878 - accuracy: 0.9087 - val_loss: 0.0960 - val_mse: 0.0960 - val_accuracy: 0.9079\n",
      "Epoch 62/80\n",
      "136/136 [==============================] - 2s 18ms/step - loss: 0.0867 - mse: 0.0867 - accuracy: 0.9150 - val_loss: 0.0705 - val_mse: 0.0705 - val_accuracy: 0.9300\n",
      "Epoch 63/80\n",
      "136/136 [==============================] - 3s 19ms/step - loss: 0.0858 - mse: 0.0858 - accuracy: 0.9083 - val_loss: 0.0654 - val_mse: 0.0654 - val_accuracy: 0.9245\n",
      "Epoch 64/80\n",
      "136/136 [==============================] - 3s 19ms/step - loss: 0.0894 - mse: 0.0894 - accuracy: 0.9094 - val_loss: 0.1043 - val_mse: 0.1043 - val_accuracy: 0.8950\n",
      "Epoch 65/80\n",
      "136/136 [==============================] - 3s 19ms/step - loss: 0.0864 - mse: 0.0864 - accuracy: 0.9053 - val_loss: 0.1395 - val_mse: 0.1395 - val_accuracy: 0.8619\n",
      "Epoch 66/80\n",
      "136/136 [==============================] - 3s 18ms/step - loss: 0.0867 - mse: 0.0867 - accuracy: 0.9129 - val_loss: 0.0754 - val_mse: 0.0754 - val_accuracy: 0.9300\n",
      "Epoch 67/80\n",
      "136/136 [==============================] - 3s 19ms/step - loss: 0.0858 - mse: 0.0858 - accuracy: 0.9044 - val_loss: 0.1116 - val_mse: 0.1116 - val_accuracy: 0.8785\n",
      "Epoch 68/80\n",
      "136/136 [==============================] - 3s 19ms/step - loss: 0.0844 - mse: 0.0844 - accuracy: 0.9097 - val_loss: 0.0902 - val_mse: 0.0902 - val_accuracy: 0.8729\n",
      "Epoch 69/80\n",
      "136/136 [==============================] - 3s 20ms/step - loss: 0.0843 - mse: 0.0843 - accuracy: 0.9120 - val_loss: 0.0622 - val_mse: 0.0622 - val_accuracy: 0.9300\n",
      "Epoch 70/80\n",
      "136/136 [==============================] - 3s 20ms/step - loss: 0.0863 - mse: 0.0863 - accuracy: 0.9150 - val_loss: 0.0698 - val_mse: 0.0698 - val_accuracy: 0.9171\n",
      "Epoch 71/80\n",
      "136/136 [==============================] - 3s 20ms/step - loss: 0.0825 - mse: 0.0825 - accuracy: 0.9127 - val_loss: 0.0606 - val_mse: 0.0606 - val_accuracy: 0.9337\n",
      "Epoch 72/80\n",
      "136/136 [==============================] - 3s 24ms/step - loss: 0.0807 - mse: 0.0807 - accuracy: 0.9074 - val_loss: 0.0847 - val_mse: 0.0847 - val_accuracy: 0.9116\n",
      "Epoch 73/80\n",
      "136/136 [==============================] - 3s 21ms/step - loss: 0.0837 - mse: 0.0837 - accuracy: 0.9136 - val_loss: 0.0680 - val_mse: 0.0680 - val_accuracy: 0.9171\n",
      "Epoch 74/80\n",
      "136/136 [==============================] - 3s 21ms/step - loss: 0.0828 - mse: 0.0828 - accuracy: 0.9138 - val_loss: 0.0624 - val_mse: 0.0624 - val_accuracy: 0.9374\n",
      "Epoch 75/80\n",
      "136/136 [==============================] - 3s 21ms/step - loss: 0.0834 - mse: 0.0834 - accuracy: 0.9097 - val_loss: 0.0591 - val_mse: 0.0591 - val_accuracy: 0.9263\n",
      "Epoch 76/80\n",
      "136/136 [==============================] - 3s 21ms/step - loss: 0.0800 - mse: 0.0800 - accuracy: 0.9110 - val_loss: 0.0662 - val_mse: 0.0662 - val_accuracy: 0.9171\n",
      "Epoch 77/80\n",
      "136/136 [==============================] - 3s 21ms/step - loss: 0.0778 - mse: 0.0778 - accuracy: 0.9145 - val_loss: 0.0837 - val_mse: 0.0837 - val_accuracy: 0.9024\n",
      "Epoch 78/80\n",
      "136/136 [==============================] - 3s 21ms/step - loss: 0.0794 - mse: 0.0794 - accuracy: 0.9159 - val_loss: 0.0771 - val_mse: 0.0771 - val_accuracy: 0.9153\n",
      "Epoch 79/80\n",
      "136/136 [==============================] - 3s 21ms/step - loss: 0.0775 - mse: 0.0775 - accuracy: 0.9161 - val_loss: 0.1221 - val_mse: 0.1221 - val_accuracy: 0.9006\n",
      "Epoch 80/80\n",
      "136/136 [==============================] - 3s 20ms/step - loss: 0.0801 - mse: 0.0801 - accuracy: 0.9115 - val_loss: 0.0823 - val_mse: 0.0823 - val_accuracy: 0.8932\n"
     ]
    }
   ],
   "source": [
    "#train\n",
    "epoch_qty = 80\n",
    "callback = tf.keras.callbacks.EarlyStopping(monitor='loss', \n",
    "                                                patience=5)\n",
    "history = model_conv1D.fit(X_train_reshaped, y_train, epochs=epoch_qty,\n",
    "                    validation_data = (X_val_reshaped, y_val), \n",
    "                           verbose=1, callbacks=[callback])"
   ]
  },
  {
   "cell_type": "code",
   "execution_count": 49,
   "id": "9c545071",
   "metadata": {},
   "outputs": [
    {
     "name": "stdout",
     "output_type": "stream",
     "text": [
      "Testing set Mean Abs Error:   81.46\n"
     ]
    },
    {
     "data": {
      "image/png": "[encoded data removed]",
      "text/plain": [
       "<Figure size 720x432 with 1 Axes>"
      ]
     },
     "metadata": {
      "needs_background": "light"
     },
     "output_type": "display_data"
    }
   ],
   "source": [
    "[loss, mae, accuracy] = model_conv1D.evaluate(X_test_reshaped, y_test, verbose=0)\n",
    "print(\"Testing set Mean Abs Error: {:7.2f}\".format(mae * 1000))\n",
    "\n",
    "pred =model_conv1D.predict(X_test_reshaped)\n",
    "\n",
    "y_pred_inv = standardScaler.inverse_transform(y)\n",
    "\n",
    "\n",
    "train_loss = history.history['loss']\n",
    "\n",
    "\n",
    "val_loss = history.history['val_loss']\n",
    "\n",
    "\n",
    "def plot_train_val(A, B, n, xlabel, ylabel, title):\n",
    "    pltp.figure(1, figsize=(10, 6))\n",
    "    pltp.plot(range(n),A)\n",
    "    pltp.plot(range(n),B)\n",
    "    pltp.ylabel(xlabel)\n",
    "    pltp.xlabel(ylabel)\n",
    "    pltp.title(title)\n",
    "    pltp.grid(True)\n",
    "    pltp.legend(['Training', 'Validation'])\n",
    "    pltp.show()\n",
    "\n",
    "\n",
    "plot_train_val(train_loss, val_loss, 80, 'Loss', 'Number of epochs', 'Training loss vs Validation loss')"
   ]
  },
  {
   "cell_type": "code",
   "execution_count": 28,
   "id": "dc5237c9",
   "metadata": {},
   "outputs": [],
   "source": [
    "model_conv1D.save('../abs_error_66.h5')"
   ]
  },
  {
   "cell_type": "code",
   "execution_count": 29,
   "id": "ebed31da",
   "metadata": {},
   "outputs": [
    {
     "name": "stderr",
     "output_type": "stream",
     "text": [
      "/var/folders/w9/gh780vs52dgb_ypr6vd5g_4m0000gn/T/ipykernel_1020/942857022.py:7: UserWarning: Boolean Series key will be reindexed to match DataFrame index.\n",
      "  df2 = df[m1][m2]\n"
     ]
    },
    {
     "data": {
      "text/html": [
       "<div>\n",
       "<style scoped>\n",
       "    .dataframe tbody tr th:only-of-type {\n",
       "        vertical-align: middle;\n",
       "    }\n",
       "\n",
       "    .dataframe tbody tr th {\n",
       "        vertical-align: top;\n",
       "    }\n",
       "\n",
       "    .dataframe thead th {\n",
       "        text-align: right;\n",
       "    }\n",
       "</style>\n",
       "<table border=\"1\" class=\"dataframe\">\n",
       "  <thead>\n",
       "    <tr style=\"text-align: right;\">\n",
       "      <th></th>\n",
       "      <th>0</th>\n",
       "      <th>1</th>\n",
       "    </tr>\n",
       "  </thead>\n",
       "  <tbody>\n",
       "    <tr>\n",
       "      <th>2367</th>\n",
       "      <td>4460.022618</td>\n",
       "      <td>0.979893</td>\n",
       "    </tr>\n",
       "    <tr>\n",
       "      <th>2368</th>\n",
       "      <td>4460.111978</td>\n",
       "      <td>0.998823</td>\n",
       "    </tr>\n",
       "    <tr>\n",
       "      <th>2369</th>\n",
       "      <td>4460.201338</td>\n",
       "      <td>1.020981</td>\n",
       "    </tr>\n",
       "    <tr>\n",
       "      <th>2370</th>\n",
       "      <td>4460.290697</td>\n",
       "      <td>1.021009</td>\n",
       "    </tr>\n",
       "    <tr>\n",
       "      <th>2371</th>\n",
       "      <td>4460.380057</td>\n",
       "      <td>1.018809</td>\n",
       "    </tr>\n",
       "    <tr>\n",
       "      <th>...</th>\n",
       "      <td>...</td>\n",
       "      <td>...</td>\n",
       "    </tr>\n",
       "    <tr>\n",
       "      <th>2586</th>\n",
       "      <td>4479.592386</td>\n",
       "      <td>0.986350</td>\n",
       "    </tr>\n",
       "    <tr>\n",
       "      <th>2587</th>\n",
       "      <td>4479.681746</td>\n",
       "      <td>0.977661</td>\n",
       "    </tr>\n",
       "    <tr>\n",
       "      <th>2588</th>\n",
       "      <td>4479.771106</td>\n",
       "      <td>0.998069</td>\n",
       "    </tr>\n",
       "    <tr>\n",
       "      <th>2589</th>\n",
       "      <td>4479.860465</td>\n",
       "      <td>0.996876</td>\n",
       "    </tr>\n",
       "    <tr>\n",
       "      <th>2590</th>\n",
       "      <td>4479.949825</td>\n",
       "      <td>0.948284</td>\n",
       "    </tr>\n",
       "  </tbody>\n",
       "</table>\n",
       "<p>224 rows × 2 columns</p>\n",
       "</div>"
      ],
      "text/plain": [
       "                0         1\n",
       "2367  4460.022618  0.979893\n",
       "2368  4460.111978  0.998823\n",
       "2369  4460.201338  1.020981\n",
       "2370  4460.290697  1.021009\n",
       "2371  4460.380057  1.018809\n",
       "...           ...       ...\n",
       "2586  4479.592386  0.986350\n",
       "2587  4479.681746  0.977661\n",
       "2588  4479.771106  0.998069\n",
       "2589  4479.860465  0.996876\n",
       "2590  4479.949825  0.948284\n",
       "\n",
       "[224 rows x 2 columns]"
      ]
     },
     "execution_count": 29,
     "metadata": {},
     "output_type": "execute_result"
    }
   ],
   "source": [
    "#read besos\n",
    "df = pd.read_csv(\"../data-lineas-espectrales/BESOS/2_Be_stars/HD37041/hd37041_2014-01-29_03-58-58_final_corr.txt\", sep=\"\\t\", header=None)\n",
    "\n",
    "m1 = df[0] >= 4460\n",
    "m2 = df[0] <= 4480\n",
    "\n",
    "df2 = df[m1][m2]\n",
    "\n",
    "df2"
   ]
  },
  {
   "cell_type": "code",
   "execution_count": 31,
   "id": "9fca0eb6",
   "metadata": {},
   "outputs": [
    {
     "data": {
      "image/png": "[encoded data removed]",
      "text/plain": [
       "<Figure size 576x432 with 1 Axes>"
      ]
     },
     "metadata": {
      "needs_background": "light"
     },
     "output_type": "display_data"
    }
   ],
   "source": [
    "pltp.figure(figsize=(8,6))\n",
    "pltp.plot(df2[0], df2[1], label=\"Línea observada\")\n",
    "#plt.plot(df4[0], df4[1], label=\"Modelo\")\n",
    "pltp.grid()\n",
    "pltp.legend(loc=\"best\")\n",
    "pltp.show()"
   ]
  },
  {
   "cell_type": "code",
   "execution_count": 32,
   "id": "953617fd",
   "metadata": {},
   "outputs": [],
   "source": [
    "n = 201  # for 2 random indices\n",
    "index = np.random.choice(df2[0].shape[0], n, replace=False) \n",
    "index.sort()"
   ]
  },
  {
   "cell_type": "code",
   "execution_count": 33,
   "id": "f656e69a",
   "metadata": {},
   "outputs": [
    {
     "data": {
      "text/plain": [
       "(201,)"
      ]
     },
     "execution_count": 33,
     "metadata": {},
     "output_type": "execute_result"
    }
   ],
   "source": [
    "obs_waves = df2[0].values[index]\n",
    "\n",
    "obs_flux = df2[1].values[index]\n",
    "obs_flux.shape"
   ]
  },
  {
   "cell_type": "code",
   "execution_count": 35,
   "id": "2e491a57",
   "metadata": {},
   "outputs": [
    {
     "data": {
      "image/png": "[encoded data removed]",
      "text/plain": [
       "<Figure size 576x432 with 1 Axes>"
      ]
     },
     "metadata": {
      "needs_background": "light"
     },
     "output_type": "display_data"
    }
   ],
   "source": [
    "pltp.figure(figsize=(8,6))\n",
    "pltp.plot(obs_waves, obs_flux ,label=\"Línea observada\")\n",
    "pltp.legend(loc=\"best\")\n",
    "pltp.show()"
   ]
  },
  {
   "cell_type": "code",
   "execution_count": 36,
   "id": "418b7e5d",
   "metadata": {},
   "outputs": [],
   "source": [
    "time_steps = 201\n",
    "input_dimension = 1\n",
    "obs_flux_reshaped = obs_flux.reshape((1, time_steps, input_dimension))"
   ]
  },
  {
   "cell_type": "code",
   "execution_count": 42,
   "id": "22891d1c",
   "metadata": {},
   "outputs": [],
   "source": [
    "new_model = tf.keras.models.load_model('../abs_error_66.h5')"
   ]
  },
  {
   "cell_type": "code",
   "execution_count": 43,
   "id": "3d641ac0",
   "metadata": {},
   "outputs": [],
   "source": [
    "pred_obs = new_model.predict(obs_flux_reshaped)"
   ]
  },
  {
   "cell_type": "code",
   "execution_count": 44,
   "id": "30aa30f3",
   "metadata": {},
   "outputs": [
    {
     "name": "stdout",
     "output_type": "stream",
     "text": [
      "t_eff: 0.5047259\n",
      "log g: 1.3971596\n",
      "v_rot: -1.0305442\n"
     ]
    }
   ],
   "source": [
    "print(\"t_eff:\", pred_obs[0][0])\n",
    "print(\"log g:\", pred_obs[0][1])\n",
    "print(\"v_rot:\", pred_obs[0][2])"
   ]
  },
  {
   "cell_type": "code",
   "execution_count": 45,
   "id": "1aa2f2a0",
   "metadata": {},
   "outputs": [
    {
     "name": "stdout",
     "output_type": "stream",
     "text": [
      "30639.63\n",
      "4.8971596\n",
      "157.82532\n"
     ]
    }
   ],
   "source": [
    "pred_obs_inv = standardScaler.inverse_transform(pred_obs)\n",
    "print(pred_obs_inv[0,0])\n",
    "print(pred_obs_inv[0,1])\n",
    "print(pred_obs_inv[0,2])"
   ]
  },
  {
   "cell_type": "code",
   "execution_count": null,
   "id": "694791c6",
   "metadata": {},
   "outputs": [],
   "source": []
  }
 ],
 "metadata": {
  "kernelspec": {
   "display_name": "Python 3 (ipykernel)",
   "language": "python",
   "name": "python3"
  },
  "language_info": {
   "codemirror_mode": {
    "name": "ipython",
    "version": 3
   },
   "file_extension": ".py",
   "mimetype": "text/x-python",
   "name": "python",
   "nbconvert_exporter": "python",
   "pygments_lexer": "ipython3",
   "version": "3.9.7"
  }
 },
 "nbformat": 4,
 "nbformat_minor": 5
}
