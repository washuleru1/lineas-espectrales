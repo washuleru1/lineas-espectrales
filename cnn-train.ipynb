{
 "cells": [
  {
   "cell_type": "code",
   "execution_count": 1,
   "id": "56ecb0a3",
   "metadata": {},
   "outputs": [],
   "source": [
    "import numpy as np\n",
    "import pandas as pd\n",
    "import matplotlib as plt\n",
    "from matplotlib import pyplot as pltp\n",
    "import tensorflow as tf\n",
    "import glob\n",
    "from sklearn.preprocessing import MinMaxScaler, StandardScaler\n",
    "from sklearn.model_selection import train_test_split\n",
    "from sklearn.metrics import classification_report, plot_confusion_matrix"
   ]
  },
  {
   "cell_type": "code",
   "execution_count": 2,
   "id": "f32fc74e",
   "metadata": {},
   "outputs": [],
   "source": [
    "#Función que separa los parametros t,g,v del fileName\n",
    "def separateParams(fileName):\n",
    "    t = fileName.split(\"t\")[1].split(\"g\")[0]\n",
    "    rest_of = fileName.split(\"t\")[1].split(\"g\")[1].split(\"v\")\n",
    "    g, v = rest_of\n",
    "    return float(t), float(g)/10, float(v)"
   ]
  },
  {
   "cell_type": "code",
   "execution_count": 3,
   "id": "a9585efc",
   "metadata": {},
   "outputs": [],
   "source": [
    "#Se definen los sets de training, test y validación\n",
    "def train_val_test_split(X, y, train_size, val_size, test_size, random_state = 1):\n",
    "    if train_size + val_size + test_size != 1.0:\n",
    "        print(\"Incorrect sizes!\")\n",
    "        return None \n",
    "    X_tmp, X_test, y_tmp, y_test = train_test_split(X, y, test_size = test_size, random_state=random_state)\n",
    "    X_train, X_val, y_train, y_val = train_test_split(X_tmp, y_tmp, test_size = val_size/(test_size + train_size), random_state=random_state)\n",
    "    return X_train, X_val, X_test, y_train, y_val, y_test"
   ]
  },
  {
   "cell_type": "code",
   "execution_count": 4,
   "id": "2d8da443",
   "metadata": {},
   "outputs": [
    {
     "name": "stdout",
     "output_type": "stream",
     "text": [
      "Files qty: 5425\n"
     ]
    }
   ],
   "source": [
    "files = glob.glob('../data-lineas-espectrales/filtered_wv_models/*')\n",
    "file_qty = len(files)\n",
    "print(\"Files qty: {}\".format(file_qty))"
   ]
  },
  {
   "cell_type": "code",
   "execution_count": 5,
   "id": "13e67b8d",
   "metadata": {},
   "outputs": [
    {
     "name": "stdout",
     "output_type": "stream",
     "text": [
      "points: 201 | columns: 2 \n"
     ]
    }
   ],
   "source": [
    "y = np.zeros((file_qty,3))\n",
    "df = pd.read_csv(files[0], sep=\" \", header=None)\n",
    "n_points , n_columns = df.shape\n",
    "print(\"points: {} | columns: {} \".format(n_points, n_columns))"
   ]
  },
  {
   "cell_type": "code",
   "execution_count": 6,
   "id": "210af774",
   "metadata": {},
   "outputs": [
    {
     "name": "stdout",
     "output_type": "stream",
     "text": [
      "(5425, 201)\n",
      "(5425, 3)\n"
     ]
    }
   ],
   "source": [
    "#Matriz que contiene las lineas espectrales\n",
    "X = np.zeros((file_qty, n_points))\n",
    "#Matriz que contiene los labels de cada linea espectral\n",
    "y = np.zeros((file_qty, 3))\n",
    "\n",
    "print(X.shape)\n",
    "print(y.shape)"
   ]
  },
  {
   "cell_type": "code",
   "execution_count": 7,
   "id": "533602ce",
   "metadata": {},
   "outputs": [],
   "source": [
    "#extract files, se almacenan las lineas espectrales y labels en X e y respectivamente\n",
    "for i, name in enumerate(files):\n",
    "    file_name = name.split(\"/\")[-1].split(\".\")[0].split(\"_\")[1]\n",
    "    df = pd.read_csv(name, sep=\" \", header=None)\n",
    "    t, g, v = separateParams(file_name)\n",
    "    #Se almacena la línea espectral\n",
    "    X[i, :] = df[1].values\n",
    "    #Se almacena el label de la linea espectral\n",
    "    y[i] = t, g, v"
   ]
  },
  {
   "cell_type": "code",
   "execution_count": 8,
   "id": "4e3e43ed",
   "metadata": {},
   "outputs": [
    {
     "name": "stdout",
     "output_type": "stream",
     "text": [
      "[[3.5e+04 2.0e+00 2.8e+02]\n",
      " [2.0e+04 2.0e+00 2.6e+02]\n",
      " [2.8e+04 2.0e+00 3.5e+02]\n",
      " [1.7e+04 3.0e+00 1.7e+02]]\n"
     ]
    }
   ],
   "source": [
    "print(y[:4])"
   ]
  },
  {
   "cell_type": "code",
   "execution_count": 9,
   "id": "7aae3a8f",
   "metadata": {},
   "outputs": [],
   "source": [
    "#se normaliza y\n",
    "standardScaler = StandardScaler()\n",
    "standardScaler.fit(y)\n",
    "normalized_y = standardScaler.transform(y)"
   ]
  },
  {
   "cell_type": "code",
   "execution_count": 10,
   "id": "00d7857b",
   "metadata": {},
   "outputs": [],
   "source": [
    "X_train, X_val, X_test, y_train, y_val, y_test = train_val_test_split(X, normalized_y, .8, .1, .1)"
   ]
  },
  {
   "cell_type": "code",
   "execution_count": 11,
   "id": "714278b3",
   "metadata": {},
   "outputs": [
    {
     "name": "stdout",
     "output_type": "stream",
     "text": [
      "(4339, 201) (4339, 3)\n",
      "(543, 201) (543, 3)\n",
      "(543, 201) (543, 3)\n"
     ]
    }
   ],
   "source": [
    "print(X_train.shape, y_train.shape)\n",
    "print(X_val.shape, y_val.shape)\n",
    "print(X_test.shape, y_test.shape)"
   ]
  },
  {
   "cell_type": "code",
   "execution_count": 12,
   "id": "d5f685d4",
   "metadata": {},
   "outputs": [
    {
     "name": "stdout",
     "output_type": "stream",
     "text": [
      "201\n"
     ]
    }
   ],
   "source": [
    "time_steps = X.shape[1]\n",
    "input_dimension = 1\n",
    "print(time_steps)"
   ]
  },
  {
   "cell_type": "code",
   "execution_count": 13,
   "id": "c3fdf954",
   "metadata": {},
   "outputs": [
    {
     "name": "stdout",
     "output_type": "stream",
     "text": [
      "reshaped X_train: (4339, 201, 1)\n",
      "reshaped X_val: (543, 201, 1)\n",
      "reshaped X_test: (543, 201, 1)\n"
     ]
    }
   ],
   "source": [
    "sample_size = X_train.shape[0]\n",
    "X_train_reshaped = X_train.reshape((sample_size, time_steps, input_dimension))\n",
    "sample_size = X_val.shape[0]\n",
    "X_val_reshaped = X_val.reshape((sample_size, time_steps, input_dimension))\n",
    "sample_size = X_test.shape[0]\n",
    "X_test_reshaped = X_test.reshape((sample_size, time_steps, input_dimension))\n",
    "print(\"reshaped X_train: {}\".format(X_train_reshaped.shape))\n",
    "print(\"reshaped X_val: {}\".format(X_val_reshaped.shape))\n",
    "print(\"reshaped X_test: {}\".format(X_test_reshaped.shape))"
   ]
  },
  {
   "cell_type": "code",
   "execution_count": 65,
   "id": "be7ede77",
   "metadata": {},
   "outputs": [
    {
     "name": "stdout",
     "output_type": "stream",
     "text": [
      "Model: \"model_conv1D\"\n",
      "_________________________________________________________________\n",
      " Layer (type)                Output Shape              Param #   \n",
      "=================================================================\n",
      " conv1d_4 (Conv1D)           (None, 199, 64)           256       \n",
      "                                                                 \n",
      " Conv1D_1 (Conv1D)           (None, 193, 32)           14368     \n",
      "                                                                 \n",
      " Conv1D_2 (Conv1D)           (None, 191, 16)           1552      \n",
      "                                                                 \n",
      " Conv1D_3 (Conv1D)           (None, 189, 10)           490       \n",
      "                                                                 \n",
      " flatten_4 (Flatten)         (None, 1890)              0         \n",
      "                                                                 \n",
      " Dense_00 (Dense)            (None, 128)               242048    \n",
      "                                                                 \n",
      " Dense_0 (Dense)             (None, 64)                8256      \n",
      "                                                                 \n",
      " Dense_1 (Dense)             (None, 32)                2080      \n",
      "                                                                 \n",
      " dense_4 (Dense)             (None, 10)                330       \n",
      "                                                                 \n",
      " Dense_4 (Dense)             (None, 3)                 33        \n",
      "                                                                 \n",
      "=================================================================\n",
      "Total params: 269,413\n",
      "Trainable params: 269,413\n",
      "Non-trainable params: 0\n",
      "_________________________________________________________________\n"
     ]
    }
   ],
   "source": [
    "#Arquitectura de la red\n",
    "def build_conv1D_model():\n",
    "    n_timesteps = X_train_reshaped.shape[1] #210\n",
    "    n_features  = X_train_reshaped.shape[2] #1 \n",
    "    model = tf.keras.Sequential(name=\"model_conv1D\")\n",
    "    model.add(tf.keras.layers.Input(shape=(n_timesteps,n_features)))\n",
    "    model.add(tf.keras.layers.Conv1D(filters=64, kernel_size=3, activation='elu'))\n",
    "    #model.add(tf.keras.layers.Conv1D(filters=64, kernel_size=3, activation='relu', name=\"Conv1D_0\"))\n",
    "    model.add(tf.keras.layers.Conv1D(filters=32, kernel_size=7, activation='softmax', name=\"Conv1D_1\"))\n",
    "    model.add(tf.keras.layers.Conv1D(filters=16, kernel_size=3, activation='selu', name=\"Conv1D_2\"))\n",
    "    model.add(tf.keras.layers.Conv1D(filters=10, kernel_size=3, activation='tanh', name=\"Conv1D_3\"))\n",
    "    tf.keras.layers.BatchNormalization()\n",
    "    model.add(tf.keras.layers.Flatten())\n",
    "    model.add(tf.keras.layers.Dense(128,activation='elu', name=\"Dense_00\"))\n",
    "    model.add(tf.keras.layers.Dense(64,activation='relu', name=\"Dense_0\"))\n",
    "    model.add(tf.keras.layers.Dense(32, activation= \"selu\", name=\"Dense_1\"))\n",
    "    model.add(tf.keras.layers.Dense(10, activation='softmax'))\n",
    "    model.add(tf.keras.layers.Dense(3, activation = \"linear\", name=\"Dense_4\"))\n",
    "    \n",
    "\n",
    "\n",
    "    optimizer = tf.keras.optimizers.RMSprop(0.001)\n",
    "\n",
    "    l = tf.keras.losses.LogCosh() #ok\n",
    "    cs = tf.keras.losses.CosineSimilarity() #ok\n",
    "    hl = tf.keras.losses.Huber() #NO FUNCIONA\n",
    "    lg = tf.keras.losses.MeanSquaredLogarithmicError()\n",
    "    hg = tf.keras.losses.Hinge()\n",
    "    mse = tf.keras.losses.MeanSquaredError()\n",
    "    bc = tf.keras.losses.BinaryCrossentropy() #NO SIRVE\n",
    "    ce = tf.keras.losses.CategoricalCrossentropy() # NO SIRVE\n",
    "    LOG_COSH = 'log_cosh'\n",
    "    MEAN_SQUARED_LOG_ERROR = 'mean_squared_logarithmic_error'\n",
    "    COSINE_SIMILARITY = 'cosine_similarity'\n",
    "    HINGHE = 'hinge'\n",
    "    MEAN_SQUARE_ERROR = 'mse'\n",
    "    BINARY_CROSS_ENTROPY = 'binary_crossentropy'\n",
    "    CATEGORICAL_CROSS_ENTROPY = 'categorical_crossentropy'\n",
    "    HUBER = 'huber_loss'\n",
    "    RECALL = 'recall'\n",
    "    RECALL_METRIC = tf.keras.metrics.Recall\n",
    "    #activations\n",
    "    \n",
    "    model.compile(loss=l,optimizer=optimizer,metrics=['mse', LOG_COSH, 'accuracy'])\n",
    "    return model\n",
    "\n",
    "model_conv1D = build_conv1D_model()\n",
    "model_conv1D.summary()"
   ]
  },
  {
   "cell_type": "code",
   "execution_count": 66,
   "id": "0a7264bf",
   "metadata": {},
   "outputs": [
    {
     "name": "stdout",
     "output_type": "stream",
     "text": [
      "Epoch 1/100\n",
      "136/136 [==============================] - 4s 25ms/step - loss: 0.3900 - mse: 0.9705 - log_cosh: 0.3900 - accuracy: 0.4065 - val_loss: 0.3121 - val_mse: 0.7610 - val_log_cosh: 0.3121 - val_accuracy: 0.6943\n",
      "Epoch 2/100\n",
      "136/136 [==============================] - 4s 26ms/step - loss: 0.2822 - mse: 0.6835 - log_cosh: 0.2822 - accuracy: 0.6783 - val_loss: 0.2430 - val_mse: 0.5791 - val_log_cosh: 0.2430 - val_accuracy: 0.7127\n",
      "Epoch 3/100\n",
      "136/136 [==============================] - 4s 27ms/step - loss: 0.2470 - mse: 0.5926 - log_cosh: 0.2470 - accuracy: 0.6981 - val_loss: 0.2827 - val_mse: 0.7153 - val_log_cosh: 0.2827 - val_accuracy: 0.6575\n",
      "Epoch 4/100\n",
      "136/136 [==============================] - 4s 27ms/step - loss: 0.2261 - mse: 0.5402 - log_cosh: 0.2261 - accuracy: 0.7156 - val_loss: 0.2716 - val_mse: 0.6645 - val_log_cosh: 0.2716 - val_accuracy: 0.6114\n",
      "Epoch 5/100\n",
      "136/136 [==============================] - 3s 25ms/step - loss: 0.2068 - mse: 0.4921 - log_cosh: 0.2068 - accuracy: 0.7292 - val_loss: 0.1822 - val_mse: 0.4269 - val_log_cosh: 0.1822 - val_accuracy: 0.7532\n",
      "Epoch 6/100\n",
      "136/136 [==============================] - 3s 25ms/step - loss: 0.1896 - mse: 0.4482 - log_cosh: 0.1896 - accuracy: 0.7499 - val_loss: 0.1678 - val_mse: 0.3942 - val_log_cosh: 0.1678 - val_accuracy: 0.7901\n",
      "Epoch 7/100\n",
      "136/136 [==============================] - 3s 24ms/step - loss: 0.1749 - mse: 0.4114 - log_cosh: 0.1749 - accuracy: 0.7619 - val_loss: 0.1546 - val_mse: 0.3552 - val_log_cosh: 0.1546 - val_accuracy: 0.7661\n",
      "Epoch 8/100\n",
      "136/136 [==============================] - 3s 24ms/step - loss: 0.1630 - mse: 0.3816 - log_cosh: 0.1630 - accuracy: 0.7861 - val_loss: 0.1827 - val_mse: 0.4242 - val_log_cosh: 0.1827 - val_accuracy: 0.7919\n",
      "Epoch 9/100\n",
      "136/136 [==============================] - 3s 26ms/step - loss: 0.1519 - mse: 0.3529 - log_cosh: 0.1519 - accuracy: 0.7974 - val_loss: 0.1313 - val_mse: 0.2988 - val_log_cosh: 0.1313 - val_accuracy: 0.8361\n",
      "Epoch 10/100\n",
      "136/136 [==============================] - 3s 24ms/step - loss: 0.1385 - mse: 0.3208 - log_cosh: 0.1385 - accuracy: 0.8212 - val_loss: 0.1488 - val_mse: 0.3359 - val_log_cosh: 0.1488 - val_accuracy: 0.7385\n",
      "Epoch 11/100\n",
      "136/136 [==============================] - 3s 25ms/step - loss: 0.1277 - mse: 0.2936 - log_cosh: 0.1277 - accuracy: 0.8255 - val_loss: 0.1153 - val_mse: 0.2592 - val_log_cosh: 0.1153 - val_accuracy: 0.8453\n",
      "Epoch 12/100\n",
      "136/136 [==============================] - 3s 25ms/step - loss: 0.1224 - mse: 0.2835 - log_cosh: 0.1224 - accuracy: 0.8283 - val_loss: 0.0986 - val_mse: 0.2220 - val_log_cosh: 0.0986 - val_accuracy: 0.8545\n",
      "Epoch 13/100\n",
      "136/136 [==============================] - 3s 24ms/step - loss: 0.1105 - mse: 0.2541 - log_cosh: 0.1105 - accuracy: 0.8345 - val_loss: 0.0882 - val_mse: 0.1985 - val_log_cosh: 0.0882 - val_accuracy: 0.8785\n",
      "Epoch 14/100\n",
      "136/136 [==============================] - 4s 26ms/step - loss: 0.0967 - mse: 0.2199 - log_cosh: 0.0967 - accuracy: 0.8474 - val_loss: 0.0934 - val_mse: 0.2093 - val_log_cosh: 0.0934 - val_accuracy: 0.8913\n",
      "Epoch 15/100\n",
      "136/136 [==============================] - 4s 28ms/step - loss: 0.0930 - mse: 0.2123 - log_cosh: 0.0930 - accuracy: 0.8560 - val_loss: 0.0817 - val_mse: 0.1840 - val_log_cosh: 0.0817 - val_accuracy: 0.8895\n",
      "Epoch 16/100\n",
      "136/136 [==============================] - 3s 25ms/step - loss: 0.0859 - mse: 0.1961 - log_cosh: 0.0859 - accuracy: 0.8541 - val_loss: 0.0985 - val_mse: 0.2226 - val_log_cosh: 0.0985 - val_accuracy: 0.8582\n",
      "Epoch 17/100\n",
      "136/136 [==============================] - 3s 24ms/step - loss: 0.0833 - mse: 0.1895 - log_cosh: 0.0833 - accuracy: 0.8580 - val_loss: 0.0674 - val_mse: 0.1501 - val_log_cosh: 0.0674 - val_accuracy: 0.8932\n",
      "Epoch 18/100\n",
      "136/136 [==============================] - 3s 23ms/step - loss: 0.0778 - mse: 0.1764 - log_cosh: 0.0778 - accuracy: 0.8645 - val_loss: 0.0663 - val_mse: 0.1473 - val_log_cosh: 0.0663 - val_accuracy: 0.9079\n",
      "Epoch 19/100\n",
      "136/136 [==============================] - 3s 24ms/step - loss: 0.0725 - mse: 0.1635 - log_cosh: 0.0725 - accuracy: 0.8659 - val_loss: 0.0597 - val_mse: 0.1347 - val_log_cosh: 0.0597 - val_accuracy: 0.8950\n",
      "Epoch 20/100\n",
      "136/136 [==============================] - 3s 23ms/step - loss: 0.0705 - mse: 0.1598 - log_cosh: 0.0705 - accuracy: 0.8661 - val_loss: 0.0722 - val_mse: 0.1638 - val_log_cosh: 0.0722 - val_accuracy: 0.8821\n",
      "Epoch 21/100\n",
      "136/136 [==============================] - 3s 25ms/step - loss: 0.0700 - mse: 0.1600 - log_cosh: 0.0700 - accuracy: 0.8762 - val_loss: 0.0651 - val_mse: 0.1447 - val_log_cosh: 0.0651 - val_accuracy: 0.8932\n",
      "Epoch 22/100\n",
      "136/136 [==============================] - 4s 27ms/step - loss: 0.0669 - mse: 0.1512 - log_cosh: 0.0669 - accuracy: 0.8776 - val_loss: 0.0574 - val_mse: 0.1286 - val_log_cosh: 0.0574 - val_accuracy: 0.9042\n",
      "Epoch 23/100\n",
      "136/136 [==============================] - 4s 27ms/step - loss: 0.0633 - mse: 0.1426 - log_cosh: 0.0633 - accuracy: 0.8781 - val_loss: 0.0619 - val_mse: 0.1379 - val_log_cosh: 0.0619 - val_accuracy: 0.9042\n",
      "Epoch 24/100\n",
      "136/136 [==============================] - 4s 26ms/step - loss: 0.0623 - mse: 0.1400 - log_cosh: 0.0623 - accuracy: 0.8746 - val_loss: 0.0596 - val_mse: 0.1320 - val_log_cosh: 0.0596 - val_accuracy: 0.8895\n",
      "Epoch 25/100\n",
      "136/136 [==============================] - 4s 27ms/step - loss: 0.0603 - mse: 0.1360 - log_cosh: 0.0603 - accuracy: 0.8783 - val_loss: 0.0811 - val_mse: 0.1879 - val_log_cosh: 0.0811 - val_accuracy: 0.8840\n",
      "Epoch 26/100\n",
      "136/136 [==============================] - 3s 24ms/step - loss: 0.0576 - mse: 0.1295 - log_cosh: 0.0576 - accuracy: 0.8875 - val_loss: 0.0490 - val_mse: 0.1075 - val_log_cosh: 0.0490 - val_accuracy: 0.9006\n",
      "Epoch 27/100\n",
      "136/136 [==============================] - 3s 24ms/step - loss: 0.0568 - mse: 0.1281 - log_cosh: 0.0568 - accuracy: 0.8908 - val_loss: 0.0541 - val_mse: 0.1196 - val_log_cosh: 0.0541 - val_accuracy: 0.9079\n",
      "Epoch 28/100\n",
      "136/136 [==============================] - 3s 24ms/step - loss: 0.0548 - mse: 0.1233 - log_cosh: 0.0548 - accuracy: 0.8919 - val_loss: 0.0413 - val_mse: 0.0894 - val_log_cosh: 0.0413 - val_accuracy: 0.9300\n",
      "Epoch 29/100\n",
      "136/136 [==============================] - 3s 24ms/step - loss: 0.0548 - mse: 0.1248 - log_cosh: 0.0548 - accuracy: 0.8919 - val_loss: 0.0401 - val_mse: 0.0867 - val_log_cosh: 0.0401 - val_accuracy: 0.9153\n",
      "Epoch 30/100\n",
      "136/136 [==============================] - 3s 23ms/step - loss: 0.0516 - mse: 0.1147 - log_cosh: 0.0516 - accuracy: 0.8880 - val_loss: 0.0426 - val_mse: 0.0929 - val_log_cosh: 0.0426 - val_accuracy: 0.9245\n",
      "Epoch 31/100\n",
      "136/136 [==============================] - 3s 22ms/step - loss: 0.0495 - mse: 0.1111 - log_cosh: 0.0495 - accuracy: 0.8924 - val_loss: 0.0716 - val_mse: 0.1694 - val_log_cosh: 0.0716 - val_accuracy: 0.8416\n",
      "Epoch 32/100\n",
      "136/136 [==============================] - 3s 24ms/step - loss: 0.0503 - mse: 0.1123 - log_cosh: 0.0503 - accuracy: 0.8880 - val_loss: 0.0718 - val_mse: 0.1619 - val_log_cosh: 0.0718 - val_accuracy: 0.8379\n",
      "Epoch 33/100\n",
      "136/136 [==============================] - 3s 24ms/step - loss: 0.0463 - mse: 0.1031 - log_cosh: 0.0463 - accuracy: 0.9000 - val_loss: 0.0823 - val_mse: 0.1893 - val_log_cosh: 0.0823 - val_accuracy: 0.7974\n",
      "Epoch 34/100\n",
      "136/136 [==============================] - 3s 23ms/step - loss: 0.0482 - mse: 0.1079 - log_cosh: 0.0482 - accuracy: 0.8908 - val_loss: 0.0381 - val_mse: 0.0825 - val_log_cosh: 0.0381 - val_accuracy: 0.9263\n",
      "Epoch 35/100\n",
      "136/136 [==============================] - 3s 24ms/step - loss: 0.0465 - mse: 0.1037 - log_cosh: 0.0465 - accuracy: 0.8958 - val_loss: 0.0362 - val_mse: 0.0795 - val_log_cosh: 0.0362 - val_accuracy: 0.9355\n",
      "Epoch 36/100\n",
      "136/136 [==============================] - 3s 24ms/step - loss: 0.0444 - mse: 0.0981 - log_cosh: 0.0444 - accuracy: 0.9009 - val_loss: 0.0658 - val_mse: 0.1600 - val_log_cosh: 0.0658 - val_accuracy: 0.8674\n",
      "Epoch 37/100\n",
      "136/136 [==============================] - 3s 23ms/step - loss: 0.0457 - mse: 0.1018 - log_cosh: 0.0457 - accuracy: 0.8956 - val_loss: 0.0370 - val_mse: 0.0798 - val_log_cosh: 0.0370 - val_accuracy: 0.9300\n",
      "Epoch 38/100\n"
     ]
    },
    {
     "name": "stdout",
     "output_type": "stream",
     "text": [
      "136/136 [==============================] - 3s 24ms/step - loss: 0.0440 - mse: 0.0979 - log_cosh: 0.0440 - accuracy: 0.8940 - val_loss: 0.0387 - val_mse: 0.0836 - val_log_cosh: 0.0387 - val_accuracy: 0.8840\n",
      "Epoch 39/100\n",
      "136/136 [==============================] - 3s 24ms/step - loss: 0.0438 - mse: 0.0973 - log_cosh: 0.0438 - accuracy: 0.9023 - val_loss: 0.0571 - val_mse: 0.1282 - val_log_cosh: 0.0571 - val_accuracy: 0.8950\n",
      "Epoch 40/100\n",
      "136/136 [==============================] - 3s 23ms/step - loss: 0.0439 - mse: 0.0977 - log_cosh: 0.0439 - accuracy: 0.8993 - val_loss: 0.0571 - val_mse: 0.1266 - val_log_cosh: 0.0571 - val_accuracy: 0.8674\n",
      "Epoch 41/100\n",
      "136/136 [==============================] - 3s 24ms/step - loss: 0.0415 - mse: 0.0919 - log_cosh: 0.0415 - accuracy: 0.9071 - val_loss: 0.0616 - val_mse: 0.1388 - val_log_cosh: 0.0616 - val_accuracy: 0.8656\n",
      "Epoch 42/100\n",
      "136/136 [==============================] - 3s 24ms/step - loss: 0.0420 - mse: 0.0939 - log_cosh: 0.0420 - accuracy: 0.9027 - val_loss: 0.0348 - val_mse: 0.0751 - val_log_cosh: 0.0348 - val_accuracy: 0.9024\n",
      "Epoch 43/100\n",
      "136/136 [==============================] - 3s 24ms/step - loss: 0.0410 - mse: 0.0905 - log_cosh: 0.0410 - accuracy: 0.9030 - val_loss: 0.0343 - val_mse: 0.0735 - val_log_cosh: 0.0343 - val_accuracy: 0.9042\n",
      "Epoch 44/100\n",
      "136/136 [==============================] - 3s 24ms/step - loss: 0.0395 - mse: 0.0872 - log_cosh: 0.0395 - accuracy: 0.9090 - val_loss: 0.0454 - val_mse: 0.1011 - val_log_cosh: 0.0454 - val_accuracy: 0.9061\n",
      "Epoch 45/100\n",
      "136/136 [==============================] - 4s 26ms/step - loss: 0.0412 - mse: 0.0922 - log_cosh: 0.0412 - accuracy: 0.9046 - val_loss: 0.0356 - val_mse: 0.0774 - val_log_cosh: 0.0356 - val_accuracy: 0.9153\n",
      "Epoch 46/100\n",
      "136/136 [==============================] - 4s 29ms/step - loss: 0.0412 - mse: 0.0913 - log_cosh: 0.0412 - accuracy: 0.9080 - val_loss: 0.0316 - val_mse: 0.0682 - val_log_cosh: 0.0316 - val_accuracy: 0.9392\n",
      "Epoch 47/100\n",
      "136/136 [==============================] - 3s 23ms/step - loss: 0.0398 - mse: 0.0893 - log_cosh: 0.0398 - accuracy: 0.9090 - val_loss: 0.0291 - val_mse: 0.0627 - val_log_cosh: 0.0291 - val_accuracy: 0.9355\n",
      "Epoch 48/100\n",
      "136/136 [==============================] - 3s 23ms/step - loss: 0.0390 - mse: 0.0860 - log_cosh: 0.0390 - accuracy: 0.9076 - val_loss: 0.0322 - val_mse: 0.0699 - val_log_cosh: 0.0322 - val_accuracy: 0.9098\n",
      "Epoch 49/100\n",
      "136/136 [==============================] - 3s 23ms/step - loss: 0.0394 - mse: 0.0872 - log_cosh: 0.0394 - accuracy: 0.9110 - val_loss: 0.0694 - val_mse: 0.1592 - val_log_cosh: 0.0694 - val_accuracy: 0.8821\n",
      "Epoch 50/100\n",
      "136/136 [==============================] - 3s 23ms/step - loss: 0.0395 - mse: 0.0885 - log_cosh: 0.0395 - accuracy: 0.9060 - val_loss: 0.0453 - val_mse: 0.1046 - val_log_cosh: 0.0453 - val_accuracy: 0.8877\n",
      "Epoch 51/100\n",
      "136/136 [==============================] - 3s 23ms/step - loss: 0.0398 - mse: 0.0890 - log_cosh: 0.0398 - accuracy: 0.9046 - val_loss: 0.0441 - val_mse: 0.0954 - val_log_cosh: 0.0441 - val_accuracy: 0.9079\n",
      "Epoch 52/100\n",
      "136/136 [==============================] - 3s 24ms/step - loss: 0.0374 - mse: 0.0827 - log_cosh: 0.0374 - accuracy: 0.9083 - val_loss: 0.0552 - val_mse: 0.1227 - val_log_cosh: 0.0552 - val_accuracy: 0.9171\n",
      "Epoch 53/100\n",
      "136/136 [==============================] - 3s 23ms/step - loss: 0.0385 - mse: 0.0858 - log_cosh: 0.0385 - accuracy: 0.9117 - val_loss: 0.0347 - val_mse: 0.0770 - val_log_cosh: 0.0347 - val_accuracy: 0.9300\n",
      "Epoch 54/100\n",
      "136/136 [==============================] - 3s 24ms/step - loss: 0.0384 - mse: 0.0861 - log_cosh: 0.0384 - accuracy: 0.9062 - val_loss: 0.0632 - val_mse: 0.1543 - val_log_cosh: 0.0632 - val_accuracy: 0.8564\n",
      "Epoch 55/100\n",
      "136/136 [==============================] - 3s 24ms/step - loss: 0.0358 - mse: 0.0790 - log_cosh: 0.0358 - accuracy: 0.9108 - val_loss: 0.0293 - val_mse: 0.0628 - val_log_cosh: 0.0293 - val_accuracy: 0.9374\n",
      "Epoch 56/100\n",
      "136/136 [==============================] - 3s 23ms/step - loss: 0.0360 - mse: 0.0796 - log_cosh: 0.0360 - accuracy: 0.9124 - val_loss: 0.0349 - val_mse: 0.0761 - val_log_cosh: 0.0349 - val_accuracy: 0.9227\n",
      "Epoch 57/100\n",
      "136/136 [==============================] - 3s 23ms/step - loss: 0.0361 - mse: 0.0803 - log_cosh: 0.0361 - accuracy: 0.9115 - val_loss: 0.0299 - val_mse: 0.0640 - val_log_cosh: 0.0299 - val_accuracy: 0.9171\n",
      "Epoch 58/100\n",
      "136/136 [==============================] - 3s 24ms/step - loss: 0.0360 - mse: 0.0800 - log_cosh: 0.0360 - accuracy: 0.9078 - val_loss: 0.0377 - val_mse: 0.0808 - val_log_cosh: 0.0377 - val_accuracy: 0.9153\n",
      "Epoch 59/100\n",
      "136/136 [==============================] - 3s 24ms/step - loss: 0.0347 - mse: 0.0765 - log_cosh: 0.0347 - accuracy: 0.9117 - val_loss: 0.0747 - val_mse: 0.1713 - val_log_cosh: 0.0747 - val_accuracy: 0.8416\n",
      "Epoch 60/100\n",
      "136/136 [==============================] - 3s 23ms/step - loss: 0.0346 - mse: 0.0761 - log_cosh: 0.0346 - accuracy: 0.9147 - val_loss: 0.0475 - val_mse: 0.1134 - val_log_cosh: 0.0475 - val_accuracy: 0.9355\n",
      "Epoch 61/100\n",
      "136/136 [==============================] - 3s 24ms/step - loss: 0.0352 - mse: 0.0781 - log_cosh: 0.0352 - accuracy: 0.9127 - val_loss: 0.0336 - val_mse: 0.0722 - val_log_cosh: 0.0336 - val_accuracy: 0.9355\n",
      "Epoch 62/100\n",
      "136/136 [==============================] - 3s 24ms/step - loss: 0.0340 - mse: 0.0750 - log_cosh: 0.0340 - accuracy: 0.9156 - val_loss: 0.0327 - val_mse: 0.0717 - val_log_cosh: 0.0327 - val_accuracy: 0.9263\n",
      "Epoch 63/100\n",
      "136/136 [==============================] - 3s 24ms/step - loss: 0.0338 - mse: 0.0742 - log_cosh: 0.0338 - accuracy: 0.9133 - val_loss: 0.0351 - val_mse: 0.0785 - val_log_cosh: 0.0351 - val_accuracy: 0.9134\n",
      "Epoch 64/100\n",
      "136/136 [==============================] - 3s 25ms/step - loss: 0.0333 - mse: 0.0732 - log_cosh: 0.0333 - accuracy: 0.9161 - val_loss: 0.0406 - val_mse: 0.0943 - val_log_cosh: 0.0406 - val_accuracy: 0.9061\n",
      "Epoch 65/100\n",
      "136/136 [==============================] - 4s 30ms/step - loss: 0.0340 - mse: 0.0747 - log_cosh: 0.0340 - accuracy: 0.9154 - val_loss: 0.0384 - val_mse: 0.0823 - val_log_cosh: 0.0384 - val_accuracy: 0.8766\n",
      "Epoch 66/100\n",
      "136/136 [==============================] - 4s 26ms/step - loss: 0.0324 - mse: 0.0710 - log_cosh: 0.0324 - accuracy: 0.9133 - val_loss: 0.0330 - val_mse: 0.0705 - val_log_cosh: 0.0330 - val_accuracy: 0.9098\n",
      "Epoch 67/100\n",
      "136/136 [==============================] - 3s 24ms/step - loss: 0.0332 - mse: 0.0731 - log_cosh: 0.0332 - accuracy: 0.9143 - val_loss: 0.0303 - val_mse: 0.0654 - val_log_cosh: 0.0303 - val_accuracy: 0.9319\n",
      "Epoch 68/100\n",
      "136/136 [==============================] - 3s 24ms/step - loss: 0.0317 - mse: 0.0692 - log_cosh: 0.0317 - accuracy: 0.9094 - val_loss: 0.1118 - val_mse: 0.2959 - val_log_cosh: 0.1118 - val_accuracy: 0.7440\n",
      "Epoch 69/100\n",
      "136/136 [==============================] - 3s 24ms/step - loss: 0.0333 - mse: 0.0736 - log_cosh: 0.0333 - accuracy: 0.9140 - val_loss: 0.0299 - val_mse: 0.0652 - val_log_cosh: 0.0299 - val_accuracy: 0.9300\n",
      "Epoch 70/100\n",
      "136/136 [==============================] - 3s 23ms/step - loss: 0.0329 - mse: 0.0733 - log_cosh: 0.0329 - accuracy: 0.9161 - val_loss: 0.0306 - val_mse: 0.0656 - val_log_cosh: 0.0306 - val_accuracy: 0.9374\n",
      "Epoch 71/100\n",
      "136/136 [==============================] - 4s 28ms/step - loss: 0.0321 - mse: 0.0705 - log_cosh: 0.0321 - accuracy: 0.9159 - val_loss: 0.0266 - val_mse: 0.0577 - val_log_cosh: 0.0266 - val_accuracy: 0.9319\n",
      "Epoch 72/100\n",
      "136/136 [==============================] - 3s 24ms/step - loss: 0.0324 - mse: 0.0717 - log_cosh: 0.0324 - accuracy: 0.9110 - val_loss: 0.0489 - val_mse: 0.1119 - val_log_cosh: 0.0489 - val_accuracy: 0.9116\n",
      "Epoch 73/100\n",
      "136/136 [==============================] - 3s 23ms/step - loss: 0.0325 - mse: 0.0713 - log_cosh: 0.0325 - accuracy: 0.9147 - val_loss: 0.0309 - val_mse: 0.0659 - val_log_cosh: 0.0309 - val_accuracy: 0.9116\n"
     ]
    }
   ],
   "source": [
    "#train\n",
    "epoch_qty = 100\n",
    "callback = tf.keras.callbacks.EarlyStopping(monitor='loss', \n",
    "                                                patience=5)\n",
    "history = model_conv1D.fit(X_train_reshaped, y_train, epochs=epoch_qty,\n",
    "                    validation_data = (X_val_reshaped, y_val), \n",
    "                           verbose=1, callbacks=[callback])"
   ]
  },
  {
   "cell_type": "code",
   "execution_count": 67,
   "id": "9c545071",
   "metadata": {},
   "outputs": [
    {
     "name": "stdout",
     "output_type": "stream",
     "text": [
      "Testing set Mean SQ Error:   57.53\n",
      "Accuracy: 93.37016344070435\n",
      "['loss', 'mse', 'log_cosh', 'accuracy']\n"
     ]
    },
    {
     "data": {
      "image/png": "[encoded data removed]",
      "text/plain": [
       "<Figure size 720x432 with 1 Axes>"
      ]
     },
     "metadata": {
      "needs_background": "light"
     },
     "output_type": "display_data"
    }
   ],
   "source": [
    "[loss, mse, metric, accuracy] = model_conv1D.evaluate(X_test_reshaped, y_test, verbose=0)\n",
    "print(\"Testing set Mean SQ Error: {:7.2f}\".format(mse * 1000))\n",
    "print(\"Accuracy: {}\".format(accuracy*100))\n",
    "print(model_conv1D.metrics_names)\n",
    "pred =model_conv1D.predict(X_test_reshaped)\n",
    "\n",
    "y_pred_inv = standardScaler.inverse_transform(y)\n",
    "\n",
    "\n",
    "train_loss = history.history['loss']\n",
    "\n",
    "\n",
    "val_loss = history.history['val_loss']\n",
    "\n",
    "\n",
    "def plot_train_val(A, B, n, xlabel, ylabel, title):\n",
    "    pltp.figure(1, figsize=(10, 6))\n",
    "    pltp.plot(range(n),A)\n",
    "    pltp.plot(range(n),B)\n",
    "    pltp.ylabel(xlabel)\n",
    "    pltp.xlabel(ylabel)\n",
    "    pltp.title(title)\n",
    "    pltp.grid(True)\n",
    "    pltp.legend(['Training', 'Validation'])\n",
    "    pltp.show()\n",
    "\n",
    "\n",
    "plot_train_val(train_loss, val_loss, 73, 'Loss', 'Number of epochs', 'Training loss vs Validation loss')"
   ]
  },
  {
   "cell_type": "code",
   "execution_count": 68,
   "id": "510db48c",
   "metadata": {},
   "outputs": [
    {
     "name": "stdout",
     "output_type": "stream",
     "text": [
      "(543,)\n",
      "(543,)\n"
     ]
    },
    {
     "data": {
      "image/png": "[encoded data removed]",
      "text/plain": [
       "<Figure size 432x288 with 1 Axes>"
      ]
     },
     "metadata": {
      "needs_background": "light"
     },
     "output_type": "display_data"
    }
   ],
   "source": [
    "from sklearn.metrics import mean_absolute_error\n",
    "y_pred_normalized = standardScaler.inverse_transform(pred)\n",
    "print(y_pred_normalized[:,0].shape)\n",
    "y_test_normalized = standardScaler.inverse_transform(y_test)\n",
    "print(y_test_normalized[:,0].shape)\n",
    "pltp.figure()\n",
    "pltp.hist(y_pred_normalized[:,0], label=\"pred\")\n",
    "pltp.hist(y_test_normalized[:,0], label=\"test\")\n",
    "\n",
    "pltp.legend(loc=\"best\")\n",
    "pltp.show()"
   ]
  },
  {
   "cell_type": "code",
   "execution_count": 69,
   "id": "80719173",
   "metadata": {},
   "outputs": [
    {
     "data": {
      "text/plain": [
       "(543,)"
      ]
     },
     "execution_count": 69,
     "metadata": {},
     "output_type": "execute_result"
    }
   ],
   "source": [
    "pred[:,0].shape"
   ]
  },
  {
   "cell_type": "code",
   "execution_count": 70,
   "id": "41ede450",
   "metadata": {},
   "outputs": [
    {
     "data": {
      "image/png": "[encoded data removed]",
      "text/plain": [
       "<Figure size 432x288 with 1 Axes>"
      ]
     },
     "metadata": {
      "needs_background": "light"
     },
     "output_type": "display_data"
    }
   ],
   "source": [
    "pltp.figure()\n",
    "pltp.hist(y_pred_normalized[:,1], label=\"pred\")\n",
    "pltp.hist(y_test_normalized[:,1], label=\"test\")\n",
    "\n",
    "pltp.legend(loc=\"best\")\n",
    "pltp.show()"
   ]
  },
  {
   "cell_type": "code",
   "execution_count": 71,
   "id": "dab0eb97",
   "metadata": {},
   "outputs": [
    {
     "data": {
      "image/png": "[encoded data removed]",
      "text/plain": [
       "<Figure size 432x288 with 1 Axes>"
      ]
     },
     "metadata": {
      "needs_background": "light"
     },
     "output_type": "display_data"
    }
   ],
   "source": [
    "pltp.figure()\n",
    "pltp.hist(y_pred_normalized[:,2], label=\"pred\")\n",
    "pltp.hist(y_test_normalized[:,2], label=\"test\")\n",
    "\n",
    "pltp.legend(loc=\"best\")\n",
    "pltp.show()"
   ]
  },
  {
   "cell_type": "code",
   "execution_count": 72,
   "id": "d6f88361",
   "metadata": {},
   "outputs": [
    {
     "data": {
      "text/plain": [
       "326.3075431335038"
      ]
     },
     "execution_count": 72,
     "metadata": {},
     "output_type": "execute_result"
    }
   ],
   "source": [
    "mean_absolute_error(y_pred_normalized, y_test_normalized)"
   ]
  },
  {
   "cell_type": "code",
   "execution_count": null,
   "id": "203e4090",
   "metadata": {},
   "outputs": [],
   "source": []
  },
  {
   "cell_type": "code",
   "execution_count": 73,
   "id": "dc5237c9",
   "metadata": {},
   "outputs": [],
   "source": [
    "model_conv1D.save('../abs_error_57_53_326.h5')"
   ]
  },
  {
   "cell_type": "code",
   "execution_count": 74,
   "id": "1e672701",
   "metadata": {},
   "outputs": [
    {
     "name": "stdout",
     "output_type": "stream",
     "text": [
      "2367    4460.022618\n",
      "2368    4460.111978\n",
      "2369    4460.201338\n",
      "2370    4460.290697\n",
      "2371    4460.380057\n",
      "           ...     \n",
      "2586    4479.592386\n",
      "2587    4479.681746\n",
      "2588    4479.771106\n",
      "2589    4479.860465\n",
      "2590    4479.949825\n",
      "Name: 0, Length: 224, dtype: float64\n"
     ]
    },
    {
     "name": "stderr",
     "output_type": "stream",
     "text": [
      "/var/folders/w9/gh780vs52dgb_ypr6vd5g_4m0000gn/T/ipykernel_19466/932170932.py:7: UserWarning: Boolean Series key will be reindexed to match DataFrame index.\n",
      "  df2 = df[m1][m2]\n"
     ]
    }
   ],
   "source": [
    "#read besos\n",
    "df = pd.read_csv(\"../data-lineas-espectrales/BESOS/2_Be_stars/HD37041/hd37041_2014-01-29_03-58-58_final_corr.txt\", sep=\"\\t\", header=None)\n",
    "\n",
    "m1 = df[0] >= 4460\n",
    "m2 = df[0] <= 4480\n",
    "\n",
    "df2 = df[m1][m2]\n",
    "\n",
    "df2\n",
    "print(df2[0])"
   ]
  },
  {
   "cell_type": "code",
   "execution_count": 75,
   "id": "9a0884ca",
   "metadata": {},
   "outputs": [
    {
     "data": {
      "image/png": "[encoded data removed]",
      "text/plain": [
       "<Figure size 576x432 with 1 Axes>"
      ]
     },
     "metadata": {
      "needs_background": "light"
     },
     "output_type": "display_data"
    }
   ],
   "source": [
    "pltp.figure(figsize=(8,6))\n",
    "pltp.plot(df2[0], df2[1], label=\"Línea observada\")\n",
    "#plt.plot(df4[0], df4[1], label=\"Modelo\")\n",
    "pltp.grid()\n",
    "pltp.legend(loc=\"best\")\n",
    "pltp.show()"
   ]
  },
  {
   "cell_type": "code",
   "execution_count": 76,
   "id": "22ffe54e",
   "metadata": {},
   "outputs": [],
   "source": [
    "n = 201  # for 2 random indices\n",
    "index = np.random.choice(df2[0].shape[0], n, replace=False) \n",
    "index.sort()"
   ]
  },
  {
   "cell_type": "code",
   "execution_count": 77,
   "id": "cdb1888f",
   "metadata": {},
   "outputs": [
    {
     "data": {
      "text/plain": [
       "(201,)"
      ]
     },
     "execution_count": 77,
     "metadata": {},
     "output_type": "execute_result"
    }
   ],
   "source": [
    "obs_waves = df2[0].values[index]\n",
    "\n",
    "obs_flux = df2[1].values[index]\n",
    "obs_flux.shape"
   ]
  },
  {
   "cell_type": "code",
   "execution_count": 78,
   "id": "5195a0d6",
   "metadata": {},
   "outputs": [
    {
     "data": {
      "image/png": "[encoded data removed]",
      "text/plain": [
       "<Figure size 576x432 with 1 Axes>"
      ]
     },
     "metadata": {
      "needs_background": "light"
     },
     "output_type": "display_data"
    }
   ],
   "source": [
    "pltp.figure(figsize=(8,6))\n",
    "pltp.plot(obs_waves, obs_flux ,label=\"Línea observada\")\n",
    "pltp.legend(loc=\"best\")\n",
    "pltp.show()"
   ]
  },
  {
   "cell_type": "code",
   "execution_count": 79,
   "id": "7e5b1a31",
   "metadata": {},
   "outputs": [],
   "source": [
    "time_steps = 201\n",
    "input_dimension = 1\n",
    "obs_flux_reshaped = obs_flux.reshape((1, time_steps, input_dimension))"
   ]
  },
  {
   "cell_type": "code",
   "execution_count": 80,
   "id": "89155eb6",
   "metadata": {},
   "outputs": [],
   "source": [
    "new_model = tf.keras.models.load_model('../abs_error_57_53_326.h5')"
   ]
  },
  {
   "cell_type": "code",
   "execution_count": 81,
   "id": "023ed71c",
   "metadata": {},
   "outputs": [],
   "source": [
    "pred_obs = new_model.predict(obs_flux_reshaped)"
   ]
  },
  {
   "cell_type": "code",
   "execution_count": 82,
   "id": "3450dc07",
   "metadata": {},
   "outputs": [
    {
     "name": "stdout",
     "output_type": "stream",
     "text": [
      "t_eff: -0.08596556\n",
      "log g: 1.3110904\n",
      "v_rot: -1.2592477\n"
     ]
    }
   ],
   "source": [
    "print(\"t_eff:\", pred_obs[0][0])\n",
    "print(\"log g:\", pred_obs[0][1])\n",
    "print(\"v_rot:\", pred_obs[0][2])"
   ]
  },
  {
   "cell_type": "code",
   "execution_count": 83,
   "id": "dff152bc",
   "metadata": {},
   "outputs": [
    {
     "name": "stdout",
     "output_type": "stream",
     "text": [
      "26380.094\n",
      "4.8110905\n",
      "137.36948\n"
     ]
    }
   ],
   "source": [
    "pred_obs_inv = standardScaler.inverse_transform(pred_obs)\n",
    "print(pred_obs_inv[0,0])\n",
    "print(pred_obs_inv[0,1])\n",
    "print(pred_obs_inv[0,2])"
   ]
  },
  {
   "cell_type": "code",
   "execution_count": null,
   "id": "d1b0b541",
   "metadata": {},
   "outputs": [],
   "source": []
  }
 ],
 "metadata": {
  "kernelspec": {
   "display_name": "Python 3 (ipykernel)",
   "language": "python",
   "name": "python3"
  },
  "language_info": {
   "codemirror_mode": {
    "name": "ipython",
    "version": 3
   },
   "file_extension": ".py",
   "mimetype": "text/x-python",
   "name": "python",
   "nbconvert_exporter": "python",
   "pygments_lexer": "ipython3",
   "version": "3.9.7"
  }
 },
 "nbformat": 4,
 "nbformat_minor": 5
}
