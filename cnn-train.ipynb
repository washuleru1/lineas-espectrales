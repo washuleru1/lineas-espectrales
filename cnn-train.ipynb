{
 "cells": [
  {
   "cell_type": "code",
   "execution_count": 1,
   "id": "56ecb0a3",
   "metadata": {},
   "outputs": [],
   "source": [
    "import numpy as np\n",
    "import pandas as pd\n",
    "import matplotlib as plt\n",
    "from matplotlib import pyplot as pltp\n",
    "import tensorflow as tf\n",
    "import glob\n",
    "from sklearn.preprocessing import MinMaxScaler, StandardScaler\n",
    "from sklearn.model_selection import train_test_split\n",
    "from sklearn.metrics import classification_report, plot_confusion_matrix"
   ]
  },
  {
   "cell_type": "code",
   "execution_count": 2,
   "id": "f32fc74e",
   "metadata": {},
   "outputs": [],
   "source": [
    "#Función que separa los parametros t,g,v del fileName\n",
    "def separateParams(fileName):\n",
    "    t = fileName.split(\"t\")[1].split(\"g\")[0]\n",
    "    rest_of = fileName.split(\"t\")[1].split(\"g\")[1].split(\"v\")\n",
    "    g, v = rest_of\n",
    "    return float(t), float(g)/10, float(v)"
   ]
  },
  {
   "cell_type": "code",
   "execution_count": 3,
   "id": "a9585efc",
   "metadata": {},
   "outputs": [],
   "source": [
    "#Se definen los sets de training, test y validación\n",
    "def train_val_test_split(X, y, train_size, val_size, test_size, random_state = 1):\n",
    "    if train_size + val_size + test_size != 1.0:\n",
    "        print(\"Incorrect sizes!\")\n",
    "        return None \n",
    "    X_tmp, X_test, y_tmp, y_test = train_test_split(X, y, test_size = test_size, random_state=random_state)\n",
    "    X_train, X_val, y_train, y_val = train_test_split(X_tmp, y_tmp, test_size = val_size/(test_size + train_size), random_state=random_state)\n",
    "    return X_train, X_val, X_test, y_train, y_val, y_test"
   ]
  },
  {
   "cell_type": "code",
   "execution_count": 4,
   "id": "2d8da443",
   "metadata": {},
   "outputs": [
    {
     "name": "stdout",
     "output_type": "stream",
     "text": [
      "Files qty: 5425\n"
     ]
    }
   ],
   "source": [
    "files = glob.glob('../data-lineas-espectrales/filtered_wv_models/*')\n",
    "file_qty = len(files)\n",
    "print(\"Files qty: {}\".format(file_qty))"
   ]
  },
  {
   "cell_type": "code",
   "execution_count": 5,
   "id": "13e67b8d",
   "metadata": {},
   "outputs": [
    {
     "name": "stdout",
     "output_type": "stream",
     "text": [
      "points: 201 | columns: 2 \n"
     ]
    }
   ],
   "source": [
    "y = np.zeros((file_qty,3))\n",
    "df = pd.read_csv(files[0], sep=\" \", header=None)\n",
    "n_points , n_columns = df.shape\n",
    "print(\"points: {} | columns: {} \".format(n_points, n_columns))"
   ]
  },
  {
   "cell_type": "code",
   "execution_count": 6,
   "id": "210af774",
   "metadata": {},
   "outputs": [
    {
     "name": "stdout",
     "output_type": "stream",
     "text": [
      "(5425, 201)\n",
      "(5425, 3)\n"
     ]
    }
   ],
   "source": [
    "#Matriz que contiene las lineas espectrales\n",
    "X = np.zeros((file_qty, n_points))\n",
    "#Matriz que contiene los labels de cada linea espectral\n",
    "y = np.zeros((file_qty, 3))\n",
    "\n",
    "print(X.shape)\n",
    "print(y.shape)"
   ]
  },
  {
   "cell_type": "code",
   "execution_count": 7,
   "id": "533602ce",
   "metadata": {},
   "outputs": [],
   "source": [
    "#extract files, se almacenan las lineas espectrales y labels en X e y respectivamente\n",
    "for i, name in enumerate(files):\n",
    "    file_name = name.split(\"/\")[-1].split(\".\")[0].split(\"_\")[1]\n",
    "    df = pd.read_csv(name, sep=\" \", header=None)\n",
    "    t, g, v = separateParams(file_name)\n",
    "    #Se almacena la línea espectral\n",
    "    X[i, :] = df[1].values\n",
    "    #Se almacena el label de la linea espectral\n",
    "    y[i] = t, g, v"
   ]
  },
  {
   "cell_type": "code",
   "execution_count": 8,
   "id": "4e3e43ed",
   "metadata": {},
   "outputs": [
    {
     "name": "stdout",
     "output_type": "stream",
     "text": [
      "[[3.5e+04 2.0e+00 2.8e+02]\n",
      " [2.0e+04 2.0e+00 2.6e+02]\n",
      " [2.8e+04 2.0e+00 3.5e+02]\n",
      " [1.7e+04 3.0e+00 1.7e+02]]\n"
     ]
    }
   ],
   "source": [
    "print(y[:4])"
   ]
  },
  {
   "cell_type": "code",
   "execution_count": 9,
   "id": "7aae3a8f",
   "metadata": {},
   "outputs": [],
   "source": [
    "#se normaliza y\n",
    "standardScaler = StandardScaler()\n",
    "standardScaler.fit(y)\n",
    "normalized_y = standardScaler.transform(y)"
   ]
  },
  {
   "cell_type": "code",
   "execution_count": 10,
   "id": "00d7857b",
   "metadata": {},
   "outputs": [],
   "source": [
    "X_train, X_val, X_test, y_train, y_val, y_test = train_val_test_split(X, normalized_y, .8, .1, .1)"
   ]
  },
  {
   "cell_type": "code",
   "execution_count": 11,
   "id": "714278b3",
   "metadata": {},
   "outputs": [
    {
     "name": "stdout",
     "output_type": "stream",
     "text": [
      "(4339, 201) (4339, 3)\n",
      "(543, 201) (543, 3)\n",
      "(543, 201) (543, 3)\n"
     ]
    }
   ],
   "source": [
    "print(X_train.shape, y_train.shape)\n",
    "print(X_val.shape, y_val.shape)\n",
    "print(X_test.shape, y_test.shape)"
   ]
  },
  {
   "cell_type": "code",
   "execution_count": 12,
   "id": "d5f685d4",
   "metadata": {},
   "outputs": [
    {
     "name": "stdout",
     "output_type": "stream",
     "text": [
      "201\n"
     ]
    }
   ],
   "source": [
    "time_steps = X.shape[1]\n",
    "input_dimension = 1\n",
    "print(time_steps)"
   ]
  },
  {
   "cell_type": "code",
   "execution_count": 13,
   "id": "c3fdf954",
   "metadata": {},
   "outputs": [
    {
     "name": "stdout",
     "output_type": "stream",
     "text": [
      "reshaped X_train: (4339, 201, 1)\n",
      "reshaped X_val: (543, 201, 1)\n",
      "reshaped X_test: (543, 201, 1)\n"
     ]
    }
   ],
   "source": [
    "sample_size = X_train.shape[0]\n",
    "X_train_reshaped = X_train.reshape((sample_size, time_steps, input_dimension))\n",
    "sample_size = X_val.shape[0]\n",
    "X_val_reshaped = X_val.reshape((sample_size, time_steps, input_dimension))\n",
    "sample_size = X_test.shape[0]\n",
    "X_test_reshaped = X_test.reshape((sample_size, time_steps, input_dimension))\n",
    "print(\"reshaped X_train: {}\".format(X_train_reshaped.shape))\n",
    "print(\"reshaped X_val: {}\".format(X_val_reshaped.shape))\n",
    "print(\"reshaped X_test: {}\".format(X_test_reshaped.shape))"
   ]
  },
  {
   "cell_type": "code",
   "execution_count": 55,
   "id": "be7ede77",
   "metadata": {},
   "outputs": [
    {
     "name": "stdout",
     "output_type": "stream",
     "text": [
      "Model: \"model_conv1D\"\n",
      "_________________________________________________________________\n",
      " Layer (type)                Output Shape              Param #   \n",
      "=================================================================\n",
      " conv1d_3 (Conv1D)           (None, 199, 64)           256       \n",
      "                                                                 \n",
      " Conv1D_1 (Conv1D)           (None, 193, 32)           14368     \n",
      "                                                                 \n",
      " Conv1D_2 (Conv1D)           (None, 191, 16)           1552      \n",
      "                                                                 \n",
      " flatten_3 (Flatten)         (None, 3056)              0         \n",
      "                                                                 \n",
      " Dense_00 (Dense)            (None, 128)               391296    \n",
      "                                                                 \n",
      " Dense_0 (Dense)             (None, 64)                8256      \n",
      "                                                                 \n",
      " Dense_1 (Dense)             (None, 32)                2080      \n",
      "                                                                 \n",
      " dense_3 (Dense)             (None, 10)                330       \n",
      "                                                                 \n",
      " Dense_4 (Dense)             (None, 3)                 33        \n",
      "                                                                 \n",
      "=================================================================\n",
      "Total params: 418,171\n",
      "Trainable params: 418,171\n",
      "Non-trainable params: 0\n",
      "_________________________________________________________________\n"
     ]
    }
   ],
   "source": [
    "#Arquitectura de la red\n",
    "def build_conv1D_model():\n",
    "    n_timesteps = X_train_reshaped.shape[1] #210\n",
    "    n_features  = X_train_reshaped.shape[2] #1 \n",
    "    model = tf.keras.Sequential(name=\"model_conv1D\")\n",
    "    model.add(tf.keras.layers.Input(shape=(n_timesteps,n_features)))\n",
    "    model.add(tf.keras.layers.Conv1D(filters=64, kernel_size=3, activation='elu'))\n",
    "    #model.add(tf.keras.layers.Conv1D(filters=64, kernel_size=3, activation='relu', name=\"Conv1D_0\"))\n",
    "    model.add(tf.keras.layers.Conv1D(filters=32, kernel_size=7, activation='softmax', name=\"Conv1D_1\"))\n",
    "    model.add(tf.keras.layers.Conv1D(filters=16, kernel_size=3, activation='selu', name=\"Conv1D_2\"))\n",
    "    tf.keras.layers.BatchNormalization()\n",
    "    model.add(tf.keras.layers.Flatten())\n",
    "    model.add(tf.keras.layers.Dense(128,activation='elu', name=\"Dense_00\"))\n",
    "    model.add(tf.keras.layers.Dense(64,activation='relu', name=\"Dense_0\"))\n",
    "    model.add(tf.keras.layers.Dense(32, activation= \"selu\", name=\"Dense_1\"))\n",
    "    model.add(tf.keras.layers.Dense(10, activation='softmax'))\n",
    "    model.add(tf.keras.layers.Dense(3, activation = \"linear\", name=\"Dense_4\"))\n",
    "    \n",
    "\n",
    "\n",
    "    optimizer = tf.keras.optimizers.RMSprop(0.001)\n",
    "\n",
    "    l = tf.keras.losses.LogCosh()\n",
    "    cs = tf.keras.losses.CosineSimilarity()\n",
    "    hl = tf.keras.losses.Huber()\n",
    "    lg = tf.keras.losses.MeanSquaredLogarithmicError()\n",
    "    hg = tf.keras.losses.Hinge()\n",
    "    LOG_COSH = 'log_cosh'\n",
    "    MEAN_SQUARED_LOG_ERROR = 'mean_squared_logarithmic_error'\n",
    "    COSINE_SIMILARITY = 'cosine_similarity'\n",
    "    \n",
    "    model.compile(loss=l,optimizer=optimizer,metrics=[LOG_COSH])\n",
    "    return model\n",
    "\n",
    "model_conv1D = build_conv1D_model()\n",
    "model_conv1D.summary()"
   ]
  },
  {
   "cell_type": "code",
   "execution_count": 56,
   "id": "0a7264bf",
   "metadata": {},
   "outputs": [
    {
     "name": "stdout",
     "output_type": "stream",
     "text": [
      "Epoch 1/80\n",
      "136/136 [==============================] - 4s 20ms/step - loss: 0.3963 - log_cosh: 0.3963 - val_loss: 0.3391 - val_log_cosh: 0.3391\n",
      "Epoch 2/80\n",
      "136/136 [==============================] - 3s 19ms/step - loss: 0.3060 - log_cosh: 0.3060 - val_loss: 0.2607 - val_log_cosh: 0.2607\n",
      "Epoch 3/80\n",
      "136/136 [==============================] - 2s 18ms/step - loss: 0.2601 - log_cosh: 0.2601 - val_loss: 0.2397 - val_log_cosh: 0.2397\n",
      "Epoch 4/80\n",
      "136/136 [==============================] - 3s 22ms/step - loss: 0.2374 - log_cosh: 0.2374 - val_loss: 0.2202 - val_log_cosh: 0.2202\n",
      "Epoch 5/80\n",
      "136/136 [==============================] - 3s 19ms/step - loss: 0.2211 - log_cosh: 0.2211 - val_loss: 0.1997 - val_log_cosh: 0.1997\n",
      "Epoch 6/80\n",
      "136/136 [==============================] - 3s 23ms/step - loss: 0.2073 - log_cosh: 0.2073 - val_loss: 0.2042 - val_log_cosh: 0.2042\n",
      "Epoch 7/80\n",
      "136/136 [==============================] - 3s 19ms/step - loss: 0.1943 - log_cosh: 0.1943 - val_loss: 0.1851 - val_log_cosh: 0.1851\n",
      "Epoch 8/80\n",
      "136/136 [==============================] - 3s 19ms/step - loss: 0.1810 - log_cosh: 0.1810 - val_loss: 0.1543 - val_log_cosh: 0.1543\n",
      "Epoch 9/80\n",
      "136/136 [==============================] - 3s 22ms/step - loss: 0.1613 - log_cosh: 0.1613 - val_loss: 0.1491 - val_log_cosh: 0.1491\n",
      "Epoch 10/80\n",
      "136/136 [==============================] - 3s 21ms/step - loss: 0.1468 - log_cosh: 0.1468 - val_loss: 0.1595 - val_log_cosh: 0.1595\n",
      "Epoch 11/80\n",
      "136/136 [==============================] - 3s 22ms/step - loss: 0.1361 - log_cosh: 0.1361 - val_loss: 0.1215 - val_log_cosh: 0.1215\n",
      "Epoch 12/80\n",
      "136/136 [==============================] - 3s 21ms/step - loss: 0.1238 - log_cosh: 0.1238 - val_loss: 0.1493 - val_log_cosh: 0.1493\n",
      "Epoch 13/80\n",
      "136/136 [==============================] - 2s 18ms/step - loss: 0.1125 - log_cosh: 0.1125 - val_loss: 0.1578 - val_log_cosh: 0.1578\n",
      "Epoch 14/80\n",
      "136/136 [==============================] - 2s 17ms/step - loss: 0.1045 - log_cosh: 0.1045 - val_loss: 0.0930 - val_log_cosh: 0.0930\n",
      "Epoch 15/80\n",
      "136/136 [==============================] - 2s 18ms/step - loss: 0.0943 - log_cosh: 0.0943 - val_loss: 0.0795 - val_log_cosh: 0.0795\n",
      "Epoch 16/80\n",
      "136/136 [==============================] - 2s 18ms/step - loss: 0.0879 - log_cosh: 0.0879 - val_loss: 0.2107 - val_log_cosh: 0.2107\n",
      "Epoch 17/80\n",
      "136/136 [==============================] - 2s 17ms/step - loss: 0.0840 - log_cosh: 0.0840 - val_loss: 0.1157 - val_log_cosh: 0.1157\n",
      "Epoch 18/80\n",
      "136/136 [==============================] - 2s 18ms/step - loss: 0.0773 - log_cosh: 0.0773 - val_loss: 0.0639 - val_log_cosh: 0.0639\n",
      "Epoch 19/80\n",
      "136/136 [==============================] - 2s 17ms/step - loss: 0.0742 - log_cosh: 0.0742 - val_loss: 0.0643 - val_log_cosh: 0.0643\n",
      "Epoch 20/80\n",
      "136/136 [==============================] - 2s 17ms/step - loss: 0.0715 - log_cosh: 0.0715 - val_loss: 0.0820 - val_log_cosh: 0.0820\n",
      "Epoch 21/80\n",
      "136/136 [==============================] - 2s 17ms/step - loss: 0.0669 - log_cosh: 0.0669 - val_loss: 0.0826 - val_log_cosh: 0.0826\n",
      "Epoch 22/80\n",
      "136/136 [==============================] - 2s 17ms/step - loss: 0.0648 - log_cosh: 0.0648 - val_loss: 0.0526 - val_log_cosh: 0.0526\n",
      "Epoch 23/80\n",
      "136/136 [==============================] - 2s 18ms/step - loss: 0.0632 - log_cosh: 0.0632 - val_loss: 0.0490 - val_log_cosh: 0.0490\n",
      "Epoch 24/80\n",
      "136/136 [==============================] - 3s 22ms/step - loss: 0.0627 - log_cosh: 0.0627 - val_loss: 0.0529 - val_log_cosh: 0.0529\n",
      "Epoch 25/80\n",
      "136/136 [==============================] - 3s 23ms/step - loss: 0.0591 - log_cosh: 0.0591 - val_loss: 0.0601 - val_log_cosh: 0.0601\n",
      "Epoch 26/80\n",
      "136/136 [==============================] - 3s 19ms/step - loss: 0.0609 - log_cosh: 0.0609 - val_loss: 0.0574 - val_log_cosh: 0.0574\n",
      "Epoch 27/80\n",
      "136/136 [==============================] - 3s 23ms/step - loss: 0.0560 - log_cosh: 0.0560 - val_loss: 0.1108 - val_log_cosh: 0.1108\n",
      "Epoch 28/80\n",
      "136/136 [==============================] - 3s 21ms/step - loss: 0.0546 - log_cosh: 0.0546 - val_loss: 0.0760 - val_log_cosh: 0.0760\n",
      "Epoch 29/80\n",
      "136/136 [==============================] - 3s 21ms/step - loss: 0.0549 - log_cosh: 0.0549 - val_loss: 0.0423 - val_log_cosh: 0.0423\n",
      "Epoch 30/80\n",
      "136/136 [==============================] - 3s 19ms/step - loss: 0.0525 - log_cosh: 0.0525 - val_loss: 0.0423 - val_log_cosh: 0.0423\n",
      "Epoch 31/80\n",
      "136/136 [==============================] - 3s 19ms/step - loss: 0.0531 - log_cosh: 0.0531 - val_loss: 0.0437 - val_log_cosh: 0.0437\n",
      "Epoch 32/80\n",
      "136/136 [==============================] - 3s 19ms/step - loss: 0.0517 - log_cosh: 0.0517 - val_loss: 0.0427 - val_log_cosh: 0.0427\n",
      "Epoch 33/80\n",
      "136/136 [==============================] - 3s 19ms/step - loss: 0.0486 - log_cosh: 0.0486 - val_loss: 0.0499 - val_log_cosh: 0.0499\n",
      "Epoch 34/80\n",
      "136/136 [==============================] - 3s 19ms/step - loss: 0.0483 - log_cosh: 0.0483 - val_loss: 0.0395 - val_log_cosh: 0.0395\n",
      "Epoch 35/80\n",
      "136/136 [==============================] - 3s 20ms/step - loss: 0.0483 - log_cosh: 0.0483 - val_loss: 0.0409 - val_log_cosh: 0.0409\n",
      "Epoch 36/80\n",
      "136/136 [==============================] - 3s 19ms/step - loss: 0.0465 - log_cosh: 0.0465 - val_loss: 0.0505 - val_log_cosh: 0.0505\n",
      "Epoch 37/80\n",
      "136/136 [==============================] - 3s 19ms/step - loss: 0.0464 - log_cosh: 0.0464 - val_loss: 0.1076 - val_log_cosh: 0.1076\n",
      "Epoch 38/80\n",
      "136/136 [==============================] - 2s 18ms/step - loss: 0.0453 - log_cosh: 0.0453 - val_loss: 0.0573 - val_log_cosh: 0.0573\n",
      "Epoch 39/80\n",
      "136/136 [==============================] - 3s 19ms/step - loss: 0.0449 - log_cosh: 0.0449 - val_loss: 0.0677 - val_log_cosh: 0.0677\n",
      "Epoch 40/80\n",
      "136/136 [==============================] - 3s 19ms/step - loss: 0.0446 - log_cosh: 0.0446 - val_loss: 0.0496 - val_log_cosh: 0.0496\n",
      "Epoch 41/80\n",
      "136/136 [==============================] - 3s 19ms/step - loss: 0.0426 - log_cosh: 0.0426 - val_loss: 0.0368 - val_log_cosh: 0.0368\n",
      "Epoch 42/80\n",
      "136/136 [==============================] - 3s 19ms/step - loss: 0.0431 - log_cosh: 0.0431 - val_loss: 0.0462 - val_log_cosh: 0.0462\n",
      "Epoch 43/80\n",
      "136/136 [==============================] - 3s 19ms/step - loss: 0.0421 - log_cosh: 0.0421 - val_loss: 0.0423 - val_log_cosh: 0.0423\n",
      "Epoch 44/80\n",
      "136/136 [==============================] - 3s 19ms/step - loss: 0.0433 - log_cosh: 0.0433 - val_loss: 0.0426 - val_log_cosh: 0.0426\n",
      "Epoch 45/80\n",
      "136/136 [==============================] - 3s 19ms/step - loss: 0.0418 - log_cosh: 0.0418 - val_loss: 0.0336 - val_log_cosh: 0.0336\n",
      "Epoch 46/80\n",
      "136/136 [==============================] - 3s 19ms/step - loss: 0.0413 - log_cosh: 0.0413 - val_loss: 0.0486 - val_log_cosh: 0.0486\n",
      "Epoch 47/80\n",
      "136/136 [==============================] - 2s 18ms/step - loss: 0.0405 - log_cosh: 0.0405 - val_loss: 0.0324 - val_log_cosh: 0.0324\n",
      "Epoch 48/80\n",
      "136/136 [==============================] - 2s 18ms/step - loss: 0.0405 - log_cosh: 0.0405 - val_loss: 0.0321 - val_log_cosh: 0.0321\n",
      "Epoch 49/80\n",
      "136/136 [==============================] - 3s 19ms/step - loss: 0.0405 - log_cosh: 0.0405 - val_loss: 0.0328 - val_log_cosh: 0.0328\n",
      "Epoch 50/80\n",
      "136/136 [==============================] - 3s 19ms/step - loss: 0.0407 - log_cosh: 0.0407 - val_loss: 0.0411 - val_log_cosh: 0.0411\n",
      "Epoch 51/80\n",
      "136/136 [==============================] - 2s 18ms/step - loss: 0.0382 - log_cosh: 0.0382 - val_loss: 0.0410 - val_log_cosh: 0.0410\n",
      "Epoch 52/80\n",
      "136/136 [==============================] - 3s 19ms/step - loss: 0.0392 - log_cosh: 0.0392 - val_loss: 0.0576 - val_log_cosh: 0.0576\n",
      "Epoch 53/80\n",
      "136/136 [==============================] - 3s 19ms/step - loss: 0.0391 - log_cosh: 0.0391 - val_loss: 0.0559 - val_log_cosh: 0.0559\n",
      "Epoch 54/80\n",
      "136/136 [==============================] - 3s 19ms/step - loss: 0.0388 - log_cosh: 0.0388 - val_loss: 0.0307 - val_log_cosh: 0.0307\n",
      "Epoch 55/80\n",
      "136/136 [==============================] - 3s 20ms/step - loss: 0.0381 - log_cosh: 0.0381 - val_loss: 0.0279 - val_log_cosh: 0.0279\n",
      "Epoch 56/80\n",
      "136/136 [==============================] - 3s 19ms/step - loss: 0.0371 - log_cosh: 0.0371 - val_loss: 0.0290 - val_log_cosh: 0.0290\n",
      "Epoch 57/80\n",
      "136/136 [==============================] - 3s 19ms/step - loss: 0.0381 - log_cosh: 0.0381 - val_loss: 0.0376 - val_log_cosh: 0.0376\n"
     ]
    },
    {
     "name": "stdout",
     "output_type": "stream",
     "text": [
      "Epoch 58/80\n",
      "136/136 [==============================] - 3s 19ms/step - loss: 0.0371 - log_cosh: 0.0371 - val_loss: 0.0331 - val_log_cosh: 0.0331\n",
      "Epoch 59/80\n",
      "136/136 [==============================] - 3s 19ms/step - loss: 0.0369 - log_cosh: 0.0369 - val_loss: 0.0615 - val_log_cosh: 0.0615\n",
      "Epoch 60/80\n",
      "136/136 [==============================] - 3s 19ms/step - loss: 0.0376 - log_cosh: 0.0376 - val_loss: 0.0412 - val_log_cosh: 0.0412\n",
      "Epoch 61/80\n",
      "136/136 [==============================] - 3s 19ms/step - loss: 0.0358 - log_cosh: 0.0358 - val_loss: 0.0320 - val_log_cosh: 0.0320\n",
      "Epoch 62/80\n",
      "136/136 [==============================] - 3s 19ms/step - loss: 0.0368 - log_cosh: 0.0368 - val_loss: 0.0328 - val_log_cosh: 0.0328\n",
      "Epoch 63/80\n",
      "136/136 [==============================] - 3s 19ms/step - loss: 0.0342 - log_cosh: 0.0342 - val_loss: 0.1379 - val_log_cosh: 0.1379\n",
      "Epoch 64/80\n",
      "136/136 [==============================] - 3s 20ms/step - loss: 0.0358 - log_cosh: 0.0358 - val_loss: 0.0407 - val_log_cosh: 0.0407\n",
      "Epoch 65/80\n",
      "136/136 [==============================] - 3s 20ms/step - loss: 0.0359 - log_cosh: 0.0359 - val_loss: 0.0306 - val_log_cosh: 0.0306\n",
      "Epoch 66/80\n",
      "136/136 [==============================] - 3s 19ms/step - loss: 0.0346 - log_cosh: 0.0346 - val_loss: 0.0425 - val_log_cosh: 0.0425\n",
      "Epoch 67/80\n",
      "136/136 [==============================] - 3s 18ms/step - loss: 0.0358 - log_cosh: 0.0358 - val_loss: 0.0405 - val_log_cosh: 0.0405\n",
      "Epoch 68/80\n",
      "136/136 [==============================] - 3s 20ms/step - loss: 0.0350 - log_cosh: 0.0350 - val_loss: 0.0293 - val_log_cosh: 0.0293\n"
     ]
    }
   ],
   "source": [
    "#train\n",
    "epoch_qty = 80\n",
    "callback = tf.keras.callbacks.EarlyStopping(monitor='loss', \n",
    "                                                patience=5)\n",
    "history = model_conv1D.fit(X_train_reshaped, y_train, epochs=epoch_qty,\n",
    "                    validation_data = (X_val_reshaped, y_val), \n",
    "                           verbose=1, callbacks=[callback])"
   ]
  },
  {
   "cell_type": "code",
   "execution_count": 57,
   "id": "9c545071",
   "metadata": {},
   "outputs": [
    {
     "name": "stdout",
     "output_type": "stream",
     "text": [
      "Testing set Mean Abs Error:   25.61\n"
     ]
    },
    {
     "data": {
      "image/png": "[encoded data removed]",
      "text/plain": [
       "<Figure size 720x432 with 1 Axes>"
      ]
     },
     "metadata": {
      "needs_background": "light"
     },
     "output_type": "display_data"
    }
   ],
   "source": [
    "[loss, mae] = model_conv1D.evaluate(X_test_reshaped, y_test, verbose=0)\n",
    "print(\"Testing set Mean Abs Error: {:7.2f}\".format(mae * 1000))\n",
    "\n",
    "pred =model_conv1D.predict(X_test_reshaped)\n",
    "\n",
    "y_pred_inv = standardScaler.inverse_transform(y)\n",
    "\n",
    "\n",
    "train_loss = history.history['loss']\n",
    "\n",
    "\n",
    "val_loss = history.history['val_loss']\n",
    "\n",
    "\n",
    "def plot_train_val(A, B, n, xlabel, ylabel, title):\n",
    "    pltp.figure(1, figsize=(10, 6))\n",
    "    pltp.plot(range(n),A)\n",
    "    pltp.plot(range(n),B)\n",
    "    pltp.ylabel(xlabel)\n",
    "    pltp.xlabel(ylabel)\n",
    "    pltp.title(title)\n",
    "    pltp.grid(True)\n",
    "    pltp.legend(['Training', 'Validation'])\n",
    "    pltp.show()\n",
    "\n",
    "\n",
    "plot_train_val(train_loss, val_loss, 68, 'Loss', 'Number of epochs', 'Training loss vs Validation loss')"
   ]
  },
  {
   "cell_type": "code",
   "execution_count": 58,
   "id": "602507ba",
   "metadata": {},
   "outputs": [
    {
     "name": "stdout",
     "output_type": "stream",
     "text": [
      "(543,)\n",
      "(543,)\n"
     ]
    },
    {
     "data": {
      "image/png": "[encoded data removed]",
      "text/plain": [
       "<Figure size 432x288 with 1 Axes>"
      ]
     },
     "metadata": {
      "needs_background": "light"
     },
     "output_type": "display_data"
    }
   ],
   "source": [
    "from sklearn.metrics import mean_absolute_error\n",
    "y_pred_normalized = standardScaler.inverse_transform(pred)\n",
    "print(y_pred_normalized[:,0].shape)\n",
    "y_test_normalized = standardScaler.inverse_transform(y_test)\n",
    "print(y_test_normalized[:,0].shape)\n",
    "pltp.figure()\n",
    "pltp.hist(y_pred_normalized[:,0], label=\"pred\")\n",
    "pltp.hist(y_test_normalized[:,0], label=\"test\")\n",
    "\n",
    "pltp.legend(loc=\"best\")\n",
    "pltp.show()"
   ]
  },
  {
   "cell_type": "code",
   "execution_count": 59,
   "id": "bc0a3e96",
   "metadata": {},
   "outputs": [
    {
     "data": {
      "text/plain": [
       "(543,)"
      ]
     },
     "execution_count": 59,
     "metadata": {},
     "output_type": "execute_result"
    }
   ],
   "source": [
    "pred[:,0].shape"
   ]
  },
  {
   "cell_type": "code",
   "execution_count": 60,
   "id": "e735e85b",
   "metadata": {},
   "outputs": [
    {
     "data": {
      "image/png": "[encoded data removed]",
      "text/plain": [
       "<Figure size 432x288 with 1 Axes>"
      ]
     },
     "metadata": {
      "needs_background": "light"
     },
     "output_type": "display_data"
    }
   ],
   "source": [
    "pltp.figure()\n",
    "pltp.hist(y_pred_normalized[:,1], label=\"pred\")\n",
    "pltp.hist(y_test_normalized[:,1], label=\"test\")\n",
    "\n",
    "pltp.legend(loc=\"best\")\n",
    "pltp.show()"
   ]
  },
  {
   "cell_type": "code",
   "execution_count": 61,
   "id": "a2604637",
   "metadata": {},
   "outputs": [
    {
     "data": {
      "image/png": "[encoded data removed]",
      "text/plain": [
       "<Figure size 432x288 with 1 Axes>"
      ]
     },
     "metadata": {
      "needs_background": "light"
     },
     "output_type": "display_data"
    }
   ],
   "source": [
    "pltp.figure()\n",
    "pltp.hist(y_pred_normalized[:,2], label=\"pred\")\n",
    "pltp.hist(y_test_normalized[:,2], label=\"test\")\n",
    "\n",
    "pltp.legend(loc=\"best\")\n",
    "pltp.show()"
   ]
  },
  {
   "cell_type": "code",
   "execution_count": 67,
   "id": "1c356e3f",
   "metadata": {},
   "outputs": [
    {
     "data": {
      "text/plain": [
       "221.66076608476942"
      ]
     },
     "execution_count": 67,
     "metadata": {},
     "output_type": "execute_result"
    }
   ],
   "source": [
    "mean_absolute_error(y_pred_normalized, y_test_normalized)"
   ]
  },
  {
   "cell_type": "code",
   "execution_count": 32,
   "id": "dc5237c9",
   "metadata": {},
   "outputs": [],
   "source": [
    "model_conv1D.save('../abs_error_5_43.h5')"
   ]
  },
  {
   "cell_type": "code",
   "execution_count": 33,
   "id": "1e672701",
   "metadata": {},
   "outputs": [
    {
     "name": "stderr",
     "output_type": "stream",
     "text": [
      "/var/folders/w9/gh780vs52dgb_ypr6vd5g_4m0000gn/T/ipykernel_3844/942857022.py:7: UserWarning: Boolean Series key will be reindexed to match DataFrame index.\n",
      "  df2 = df[m1][m2]\n"
     ]
    },
    {
     "data": {
      "text/html": [
       "<div>\n",
       "<style scoped>\n",
       "    .dataframe tbody tr th:only-of-type {\n",
       "        vertical-align: middle;\n",
       "    }\n",
       "\n",
       "    .dataframe tbody tr th {\n",
       "        vertical-align: top;\n",
       "    }\n",
       "\n",
       "    .dataframe thead th {\n",
       "        text-align: right;\n",
       "    }\n",
       "</style>\n",
       "<table border=\"1\" class=\"dataframe\">\n",
       "  <thead>\n",
       "    <tr style=\"text-align: right;\">\n",
       "      <th></th>\n",
       "      <th>0</th>\n",
       "      <th>1</th>\n",
       "    </tr>\n",
       "  </thead>\n",
       "  <tbody>\n",
       "    <tr>\n",
       "      <th>2367</th>\n",
       "      <td>4460.022618</td>\n",
       "      <td>0.979893</td>\n",
       "    </tr>\n",
       "    <tr>\n",
       "      <th>2368</th>\n",
       "      <td>4460.111978</td>\n",
       "      <td>0.998823</td>\n",
       "    </tr>\n",
       "    <tr>\n",
       "      <th>2369</th>\n",
       "      <td>4460.201338</td>\n",
       "      <td>1.020981</td>\n",
       "    </tr>\n",
       "    <tr>\n",
       "      <th>2370</th>\n",
       "      <td>4460.290697</td>\n",
       "      <td>1.021009</td>\n",
       "    </tr>\n",
       "    <tr>\n",
       "      <th>2371</th>\n",
       "      <td>4460.380057</td>\n",
       "      <td>1.018809</td>\n",
       "    </tr>\n",
       "    <tr>\n",
       "      <th>...</th>\n",
       "      <td>...</td>\n",
       "      <td>...</td>\n",
       "    </tr>\n",
       "    <tr>\n",
       "      <th>2586</th>\n",
       "      <td>4479.592386</td>\n",
       "      <td>0.986350</td>\n",
       "    </tr>\n",
       "    <tr>\n",
       "      <th>2587</th>\n",
       "      <td>4479.681746</td>\n",
       "      <td>0.977661</td>\n",
       "    </tr>\n",
       "    <tr>\n",
       "      <th>2588</th>\n",
       "      <td>4479.771106</td>\n",
       "      <td>0.998069</td>\n",
       "    </tr>\n",
       "    <tr>\n",
       "      <th>2589</th>\n",
       "      <td>4479.860465</td>\n",
       "      <td>0.996876</td>\n",
       "    </tr>\n",
       "    <tr>\n",
       "      <th>2590</th>\n",
       "      <td>4479.949825</td>\n",
       "      <td>0.948284</td>\n",
       "    </tr>\n",
       "  </tbody>\n",
       "</table>\n",
       "<p>224 rows × 2 columns</p>\n",
       "</div>"
      ],
      "text/plain": [
       "                0         1\n",
       "2367  4460.022618  0.979893\n",
       "2368  4460.111978  0.998823\n",
       "2369  4460.201338  1.020981\n",
       "2370  4460.290697  1.021009\n",
       "2371  4460.380057  1.018809\n",
       "...           ...       ...\n",
       "2586  4479.592386  0.986350\n",
       "2587  4479.681746  0.977661\n",
       "2588  4479.771106  0.998069\n",
       "2589  4479.860465  0.996876\n",
       "2590  4479.949825  0.948284\n",
       "\n",
       "[224 rows x 2 columns]"
      ]
     },
     "execution_count": 33,
     "metadata": {},
     "output_type": "execute_result"
    }
   ],
   "source": [
    "#read besos\n",
    "df = pd.read_csv(\"../data-lineas-espectrales/BESOS/2_Be_stars/HD37041/hd37041_2014-01-29_03-58-58_final_corr.txt\", sep=\"\\t\", header=None)\n",
    "\n",
    "m1 = df[0] >= 4460\n",
    "m2 = df[0] <= 4480\n",
    "\n",
    "df2 = df[m1][m2]\n",
    "\n",
    "df2"
   ]
  },
  {
   "cell_type": "code",
   "execution_count": 34,
   "id": "9a0884ca",
   "metadata": {},
   "outputs": [
    {
     "data": {
      "image/png": "[encoded data removed]",
      "text/plain": [
       "<Figure size 576x432 with 1 Axes>"
      ]
     },
     "metadata": {
      "needs_background": "light"
     },
     "output_type": "display_data"
    }
   ],
   "source": [
    "pltp.figure(figsize=(8,6))\n",
    "pltp.plot(df2[0], df2[1], label=\"Línea observada\")\n",
    "#plt.plot(df4[0], df4[1], label=\"Modelo\")\n",
    "pltp.grid()\n",
    "pltp.legend(loc=\"best\")\n",
    "pltp.show()"
   ]
  },
  {
   "cell_type": "code",
   "execution_count": 35,
   "id": "22ffe54e",
   "metadata": {},
   "outputs": [],
   "source": [
    "n = 201  # for 2 random indices\n",
    "index = np.random.choice(df2[0].shape[0], n, replace=False) \n",
    "index.sort()"
   ]
  },
  {
   "cell_type": "code",
   "execution_count": 36,
   "id": "cdb1888f",
   "metadata": {},
   "outputs": [
    {
     "data": {
      "text/plain": [
       "(201,)"
      ]
     },
     "execution_count": 36,
     "metadata": {},
     "output_type": "execute_result"
    }
   ],
   "source": [
    "obs_waves = df2[0].values[index]\n",
    "\n",
    "obs_flux = df2[1].values[index]\n",
    "obs_flux.shape"
   ]
  },
  {
   "cell_type": "code",
   "execution_count": 37,
   "id": "5195a0d6",
   "metadata": {},
   "outputs": [
    {
     "data": {
      "image/png": "[encoded data removed]",
      "text/plain": [
       "<Figure size 576x432 with 1 Axes>"
      ]
     },
     "metadata": {
      "needs_background": "light"
     },
     "output_type": "display_data"
    }
   ],
   "source": [
    "pltp.figure(figsize=(8,6))\n",
    "pltp.plot(obs_waves, obs_flux ,label=\"Línea observada\")\n",
    "pltp.legend(loc=\"best\")\n",
    "pltp.show()"
   ]
  },
  {
   "cell_type": "code",
   "execution_count": 38,
   "id": "7e5b1a31",
   "metadata": {},
   "outputs": [],
   "source": [
    "time_steps = 201\n",
    "input_dimension = 1\n",
    "obs_flux_reshaped = obs_flux.reshape((1, time_steps, input_dimension))"
   ]
  },
  {
   "cell_type": "code",
   "execution_count": 39,
   "id": "89155eb6",
   "metadata": {},
   "outputs": [],
   "source": [
    "new_model = tf.keras.models.load_model('../abs_error_5_43.h5')"
   ]
  },
  {
   "cell_type": "code",
   "execution_count": 40,
   "id": "023ed71c",
   "metadata": {},
   "outputs": [],
   "source": [
    "pred_obs = new_model.predict(obs_flux_reshaped)"
   ]
  },
  {
   "cell_type": "code",
   "execution_count": 41,
   "id": "3450dc07",
   "metadata": {},
   "outputs": [
    {
     "name": "stdout",
     "output_type": "stream",
     "text": [
      "t_eff: -0.038505226\n",
      "log g: 1.1985635\n",
      "v_rot: -0.28080624\n"
     ]
    }
   ],
   "source": [
    "print(\"t_eff:\", pred_obs[0][0])\n",
    "print(\"log g:\", pred_obs[0][1])\n",
    "print(\"v_rot:\", pred_obs[0][2])"
   ]
  },
  {
   "cell_type": "code",
   "execution_count": 42,
   "id": "dff152bc",
   "metadata": {},
   "outputs": [
    {
     "name": "stdout",
     "output_type": "stream",
     "text": [
      "26722.334\n",
      "4.6985636\n",
      "224.88393\n"
     ]
    }
   ],
   "source": [
    "pred_obs_inv = standardScaler.inverse_transform(pred_obs)\n",
    "print(pred_obs_inv[0,0])\n",
    "print(pred_obs_inv[0,1])\n",
    "print(pred_obs_inv[0,2])"
   ]
  },
  {
   "cell_type": "code",
   "execution_count": null,
   "id": "d1b0b541",
   "metadata": {},
   "outputs": [],
   "source": []
  }
 ],
 "metadata": {
  "kernelspec": {
   "display_name": "Python 3 (ipykernel)",
   "language": "python",
   "name": "python3"
  },
  "language_info": {
   "codemirror_mode": {
    "name": "ipython",
    "version": 3
   },
   "file_extension": ".py",
   "mimetype": "text/x-python",
   "name": "python",
   "nbconvert_exporter": "python",
   "pygments_lexer": "ipython3",
   "version": "3.9.7"
  }
 },
 "nbformat": 4,
 "nbformat_minor": 5
}
