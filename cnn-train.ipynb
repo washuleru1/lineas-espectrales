{
 "cells": [
  {
   "cell_type": "code",
   "execution_count": 1,
   "id": "56ecb0a3",
   "metadata": {},
   "outputs": [],
   "source": [
    "import numpy as np\n",
    "import pandas as pd\n",
    "import matplotlib as plt\n",
    "from matplotlib import pyplot as pltp\n",
    "import tensorflow as tf\n",
    "import glob\n",
    "from sklearn.preprocessing import MinMaxScaler, StandardScaler\n",
    "from sklearn.model_selection import train_test_split\n",
    "from sklearn.metrics import classification_report, plot_confusion_matrix"
   ]
  },
  {
   "cell_type": "code",
   "execution_count": 2,
   "id": "f32fc74e",
   "metadata": {},
   "outputs": [],
   "source": [
    "#Función que separa los parametros t,g,v del fileName\n",
    "def separateParams(fileName):\n",
    "    t = fileName.split(\"t\")[1].split(\"g\")[0]\n",
    "    rest_of = fileName.split(\"t\")[1].split(\"g\")[1].split(\"v\")\n",
    "    g, v = rest_of\n",
    "    return float(t), float(g)/10, float(v)"
   ]
  },
  {
   "cell_type": "code",
   "execution_count": 3,
   "id": "a9585efc",
   "metadata": {},
   "outputs": [],
   "source": [
    "#Se definen los sets de training, test y validación\n",
    "def train_val_test_split(X, y, train_size, val_size, test_size, random_state = 1):\n",
    "    if train_size + val_size + test_size != 1.0:\n",
    "        print(\"Incorrect sizes!\")\n",
    "        return None \n",
    "    X_tmp, X_test, y_tmp, y_test = train_test_split(X, y, test_size = test_size, random_state=random_state)\n",
    "    X_train, X_val, y_train, y_val = train_test_split(X_tmp, y_tmp, test_size = val_size/(test_size + train_size), random_state=random_state)\n",
    "    return X_train, X_val, X_test, y_train, y_val, y_test"
   ]
  },
  {
   "cell_type": "code",
   "execution_count": 4,
   "id": "2d8da443",
   "metadata": {},
   "outputs": [
    {
     "name": "stdout",
     "output_type": "stream",
     "text": [
      "Files qty: 5425\n"
     ]
    }
   ],
   "source": [
    "files = glob.glob('../data-lineas-espectrales/filtered_wv_models/*')\n",
    "file_qty = len(files)\n",
    "print(\"Files qty: {}\".format(file_qty))"
   ]
  },
  {
   "cell_type": "code",
   "execution_count": 5,
   "id": "13e67b8d",
   "metadata": {},
   "outputs": [
    {
     "name": "stdout",
     "output_type": "stream",
     "text": [
      "points: 201 | columns: 2 \n"
     ]
    }
   ],
   "source": [
    "y = np.zeros((file_qty,3))\n",
    "df = pd.read_csv(files[0], sep=\" \", header=None)\n",
    "n_points , n_columns = df.shape\n",
    "print(\"points: {} | columns: {} \".format(n_points, n_columns))"
   ]
  },
  {
   "cell_type": "code",
   "execution_count": 6,
   "id": "210af774",
   "metadata": {},
   "outputs": [
    {
     "name": "stdout",
     "output_type": "stream",
     "text": [
      "(5425, 201)\n",
      "(5425, 3)\n"
     ]
    }
   ],
   "source": [
    "#Matriz que contiene las lineas espectrales\n",
    "X = np.zeros((file_qty, n_points))\n",
    "#Matriz que contiene los labels de cada linea espectral\n",
    "y = np.zeros((file_qty, 3))\n",
    "\n",
    "print(X.shape)\n",
    "print(y.shape)"
   ]
  },
  {
   "cell_type": "code",
   "execution_count": 7,
   "id": "533602ce",
   "metadata": {},
   "outputs": [],
   "source": [
    "#extract files, se almacenan las lineas espectrales y labels en X e y respectivamente\n",
    "for i, name in enumerate(files):\n",
    "    file_name = name.split(\"/\")[-1].split(\".\")[0].split(\"_\")[1]\n",
    "    df = pd.read_csv(name, sep=\" \", header=None)\n",
    "    t, g, v = separateParams(file_name)\n",
    "    #Se almacena la línea espectral\n",
    "    X[i, :] = df[1].values\n",
    "    #Se almacena el label de la linea espectral\n",
    "    y[i] = t, g, v"
   ]
  },
  {
   "cell_type": "code",
   "execution_count": 8,
   "id": "4e3e43ed",
   "metadata": {},
   "outputs": [
    {
     "name": "stdout",
     "output_type": "stream",
     "text": [
      "[[3.5e+04 2.0e+00 2.8e+02]\n",
      " [2.0e+04 2.0e+00 2.6e+02]\n",
      " [2.8e+04 2.0e+00 3.5e+02]\n",
      " [1.7e+04 3.0e+00 1.7e+02]]\n"
     ]
    }
   ],
   "source": [
    "print(y[:4])"
   ]
  },
  {
   "cell_type": "code",
   "execution_count": 9,
   "id": "7aae3a8f",
   "metadata": {},
   "outputs": [],
   "source": [
    "#se normaliza y\n",
    "standardScaler = StandardScaler()\n",
    "standardScaler.fit(y)\n",
    "normalized_y = standardScaler.transform(y)"
   ]
  },
  {
   "cell_type": "code",
   "execution_count": 10,
   "id": "00d7857b",
   "metadata": {},
   "outputs": [],
   "source": [
    "X_train, X_val, X_test, y_train, y_val, y_test = train_val_test_split(X, normalized_y, .8, .1, .1)"
   ]
  },
  {
   "cell_type": "code",
   "execution_count": 11,
   "id": "714278b3",
   "metadata": {},
   "outputs": [
    {
     "name": "stdout",
     "output_type": "stream",
     "text": [
      "(4339, 201) (4339, 3)\n",
      "(543, 201) (543, 3)\n",
      "(543, 201) (543, 3)\n"
     ]
    }
   ],
   "source": [
    "print(X_train.shape, y_train.shape)\n",
    "print(X_val.shape, y_val.shape)\n",
    "print(X_test.shape, y_test.shape)"
   ]
  },
  {
   "cell_type": "code",
   "execution_count": 12,
   "id": "d5f685d4",
   "metadata": {},
   "outputs": [
    {
     "name": "stdout",
     "output_type": "stream",
     "text": [
      "201\n"
     ]
    }
   ],
   "source": [
    "time_steps = X.shape[1]\n",
    "input_dimension = 1\n",
    "print(time_steps)"
   ]
  },
  {
   "cell_type": "code",
   "execution_count": 13,
   "id": "c3fdf954",
   "metadata": {},
   "outputs": [
    {
     "name": "stdout",
     "output_type": "stream",
     "text": [
      "reshaped X_train: (4339, 201, 1)\n",
      "reshaped X_val: (543, 201, 1)\n",
      "reshaped X_test: (543, 201, 1)\n"
     ]
    }
   ],
   "source": [
    "sample_size = X_train.shape[0]\n",
    "X_train_reshaped = X_train.reshape((sample_size, time_steps, input_dimension))\n",
    "sample_size = X_val.shape[0]\n",
    "X_val_reshaped = X_val.reshape((sample_size, time_steps, input_dimension))\n",
    "sample_size = X_test.shape[0]\n",
    "X_test_reshaped = X_test.reshape((sample_size, time_steps, input_dimension))\n",
    "print(\"reshaped X_train: {}\".format(X_train_reshaped.shape))\n",
    "print(\"reshaped X_val: {}\".format(X_val_reshaped.shape))\n",
    "print(\"reshaped X_test: {}\".format(X_test_reshaped.shape))"
   ]
  },
  {
   "cell_type": "code",
   "execution_count": 14,
   "id": "be7ede77",
   "metadata": {},
   "outputs": [
    {
     "name": "stdout",
     "output_type": "stream",
     "text": [
      "Model: \"model_conv1D\"\n",
      "_________________________________________________________________\n",
      " Layer (type)                Output Shape              Param #   \n",
      "=================================================================\n",
      " conv1d (Conv1D)             (None, 199, 64)           256       \n",
      "                                                                 \n",
      " Conv1D_1 (Conv1D)           (None, 193, 32)           14368     \n",
      "                                                                 \n",
      " Conv1D_2 (Conv1D)           (None, 191, 16)           1552      \n",
      "                                                                 \n",
      " flatten (Flatten)           (None, 3056)              0         \n",
      "                                                                 \n",
      " Dense_00 (Dense)            (None, 128)               391296    \n",
      "                                                                 \n",
      " Dense_0 (Dense)             (None, 64)                8256      \n",
      "                                                                 \n",
      " Dense_1 (Dense)             (None, 32)                2080      \n",
      "                                                                 \n",
      " dense (Dense)               (None, 10)                330       \n",
      "                                                                 \n",
      " Dense_4 (Dense)             (None, 3)                 33        \n",
      "                                                                 \n",
      "=================================================================\n",
      "Total params: 418,171\n",
      "Trainable params: 418,171\n",
      "Non-trainable params: 0\n",
      "_________________________________________________________________\n"
     ]
    },
    {
     "name": "stderr",
     "output_type": "stream",
     "text": [
      "2022-05-26 00:49:15.757599: I tensorflow/core/platform/cpu_feature_guard.cc:151] This TensorFlow binary is optimized with oneAPI Deep Neural Network Library (oneDNN) to use the following CPU instructions in performance-critical operations:  AVX2 AVX512F FMA\n",
      "To enable them in other operations, rebuild TensorFlow with the appropriate compiler flags.\n"
     ]
    }
   ],
   "source": [
    "#Arquitectura de la red\n",
    "def build_conv1D_model():\n",
    "    n_timesteps = X_train_reshaped.shape[1] #210\n",
    "    n_features  = X_train_reshaped.shape[2] #1 \n",
    "    model = tf.keras.Sequential(name=\"model_conv1D\")\n",
    "    model.add(tf.keras.layers.Input(shape=(n_timesteps,n_features)))\n",
    "    model.add(tf.keras.layers.Conv1D(filters=64, kernel_size=3, activation='elu'))\n",
    "    #model.add(tf.keras.layers.Conv1D(filters=64, kernel_size=3, activation='relu', name=\"Conv1D_0\"))\n",
    "    model.add(tf.keras.layers.Conv1D(filters=32, kernel_size=7, activation='softmax', name=\"Conv1D_1\"))\n",
    "    model.add(tf.keras.layers.Conv1D(filters=16, kernel_size=3, activation='selu', name=\"Conv1D_2\"))\n",
    "    tf.keras.layers.BatchNormalization()\n",
    "    model.add(tf.keras.layers.Flatten())\n",
    "    model.add(tf.keras.layers.Dense(128,activation='elu', name=\"Dense_00\"))\n",
    "    model.add(tf.keras.layers.Dense(64,activation='relu', name=\"Dense_0\"))\n",
    "    model.add(tf.keras.layers.Dense(32, activation= \"selu\", name=\"Dense_1\"))\n",
    "    model.add(tf.keras.layers.Dense(10, activation='softmax'))\n",
    "    model.add(tf.keras.layers.Dense(3, activation = \"linear\", name=\"Dense_4\"))\n",
    "    \n",
    "\n",
    "\n",
    "    optimizer = tf.keras.optimizers.RMSprop(0.001)\n",
    "\n",
    "    l = tf.keras.losses.LogCosh()\n",
    "    cs = tf.keras.losses.CosineSimilarity()\n",
    "    hl = tf.keras.losses.Huber()\n",
    "    lg = tf.keras.losses.MeanSquaredLogarithmicError()\n",
    "    hg = tf.keras.losses.Hinge()\n",
    "    \n",
    "    model.compile(loss=lg,optimizer=optimizer,metrics=['msle','accuracy'])\n",
    "    return model\n",
    "\n",
    "model_conv1D = build_conv1D_model()\n",
    "model_conv1D.summary()"
   ]
  },
  {
   "cell_type": "code",
   "execution_count": 15,
   "id": "0a7264bf",
   "metadata": {},
   "outputs": [
    {
     "name": "stdout",
     "output_type": "stream",
     "text": [
      "Epoch 1/80\n",
      "136/136 [==============================] - 3s 20ms/step - loss: 0.1577 - msle: 0.1577 - accuracy: 0.3314 - val_loss: 0.1546 - val_msle: 0.1546 - val_accuracy: 0.3278\n",
      "Epoch 2/80\n",
      "136/136 [==============================] - 2s 18ms/step - loss: 0.1476 - msle: 0.1476 - accuracy: 0.4619 - val_loss: 0.1171 - val_msle: 0.1171 - val_accuracy: 0.5304\n",
      "Epoch 3/80\n",
      "136/136 [==============================] - 2s 18ms/step - loss: 0.1009 - msle: 0.1009 - accuracy: 0.6329 - val_loss: 0.0760 - val_msle: 0.0760 - val_accuracy: 0.6888\n",
      "Epoch 4/80\n",
      "136/136 [==============================] - 2s 18ms/step - loss: 0.0749 - msle: 0.0749 - accuracy: 0.7181 - val_loss: 0.0658 - val_msle: 0.0658 - val_accuracy: 0.7735\n",
      "Epoch 5/80\n",
      "136/136 [==============================] - 2s 18ms/step - loss: 0.0647 - msle: 0.0647 - accuracy: 0.7347 - val_loss: 0.0762 - val_msle: 0.0762 - val_accuracy: 0.6851\n",
      "Epoch 6/80\n",
      "136/136 [==============================] - 3s 19ms/step - loss: 0.0533 - msle: 0.0533 - accuracy: 0.7426 - val_loss: 0.0488 - val_msle: 0.0488 - val_accuracy: 0.6869\n",
      "Epoch 7/80\n",
      "136/136 [==============================] - 3s 21ms/step - loss: 0.0437 - msle: 0.0437 - accuracy: 0.7539 - val_loss: 0.0341 - val_msle: 0.0341 - val_accuracy: 0.7569\n",
      "Epoch 8/80\n",
      "136/136 [==============================] - 3s 21ms/step - loss: 0.0379 - msle: 0.0379 - accuracy: 0.7723 - val_loss: 0.0403 - val_msle: 0.0403 - val_accuracy: 0.7808\n",
      "Epoch 9/80\n",
      "136/136 [==============================] - 3s 20ms/step - loss: 0.0343 - msle: 0.0343 - accuracy: 0.7926 - val_loss: 0.0262 - val_msle: 0.0262 - val_accuracy: 0.7827\n",
      "Epoch 10/80\n",
      "136/136 [==============================] - 3s 19ms/step - loss: 0.0318 - msle: 0.0318 - accuracy: 0.8106 - val_loss: 0.0276 - val_msle: 0.0276 - val_accuracy: 0.8029\n",
      "Epoch 11/80\n",
      "136/136 [==============================] - 3s 19ms/step - loss: 0.0312 - msle: 0.0312 - accuracy: 0.8036 - val_loss: 0.0266 - val_msle: 0.0266 - val_accuracy: 0.7790\n",
      "Epoch 12/80\n",
      "136/136 [==============================] - 2s 18ms/step - loss: 0.0289 - msle: 0.0289 - accuracy: 0.8053 - val_loss: 0.0242 - val_msle: 0.0242 - val_accuracy: 0.8232\n",
      "Epoch 13/80\n",
      "136/136 [==============================] - 2s 18ms/step - loss: 0.0265 - msle: 0.0265 - accuracy: 0.8119 - val_loss: 0.0335 - val_msle: 0.0335 - val_accuracy: 0.7735\n",
      "Epoch 14/80\n",
      "136/136 [==============================] - 2s 18ms/step - loss: 0.0268 - msle: 0.0268 - accuracy: 0.8156 - val_loss: 0.0212 - val_msle: 0.0212 - val_accuracy: 0.8250\n",
      "Epoch 15/80\n",
      "136/136 [==============================] - 3s 19ms/step - loss: 0.0256 - msle: 0.0256 - accuracy: 0.8161 - val_loss: 0.0294 - val_msle: 0.0294 - val_accuracy: 0.7937\n",
      "Epoch 16/80\n",
      "136/136 [==============================] - 3s 19ms/step - loss: 0.0239 - msle: 0.0239 - accuracy: 0.8239 - val_loss: 0.0233 - val_msle: 0.0233 - val_accuracy: 0.8398\n",
      "Epoch 17/80\n",
      "136/136 [==============================] - 3s 19ms/step - loss: 0.0233 - msle: 0.0233 - accuracy: 0.8221 - val_loss: 0.0432 - val_msle: 0.0432 - val_accuracy: 0.7403\n",
      "Epoch 18/80\n",
      "136/136 [==============================] - 3s 20ms/step - loss: 0.0225 - msle: 0.0225 - accuracy: 0.8189 - val_loss: 0.0198 - val_msle: 0.0198 - val_accuracy: 0.8361\n",
      "Epoch 19/80\n",
      "136/136 [==============================] - 3s 19ms/step - loss: 0.0214 - msle: 0.0214 - accuracy: 0.8281 - val_loss: 0.0208 - val_msle: 0.0208 - val_accuracy: 0.8195\n",
      "Epoch 20/80\n",
      "136/136 [==============================] - 2s 18ms/step - loss: 0.0207 - msle: 0.0207 - accuracy: 0.8352 - val_loss: 0.0196 - val_msle: 0.0196 - val_accuracy: 0.8398\n",
      "Epoch 21/80\n",
      "136/136 [==============================] - 3s 19ms/step - loss: 0.0206 - msle: 0.0206 - accuracy: 0.8315 - val_loss: 0.0184 - val_msle: 0.0184 - val_accuracy: 0.7937\n",
      "Epoch 22/80\n",
      "136/136 [==============================] - 3s 20ms/step - loss: 0.0206 - msle: 0.0206 - accuracy: 0.8311 - val_loss: 0.0289 - val_msle: 0.0289 - val_accuracy: 0.8066\n",
      "Epoch 23/80\n",
      "136/136 [==============================] - 3s 19ms/step - loss: 0.0185 - msle: 0.0185 - accuracy: 0.8419 - val_loss: 0.0172 - val_msle: 0.0172 - val_accuracy: 0.8748\n",
      "Epoch 24/80\n",
      "136/136 [==============================] - 2s 18ms/step - loss: 0.0173 - msle: 0.0173 - accuracy: 0.8403 - val_loss: 0.0290 - val_msle: 0.0290 - val_accuracy: 0.7661\n",
      "Epoch 25/80\n",
      "136/136 [==============================] - 2s 17ms/step - loss: 0.0172 - msle: 0.0172 - accuracy: 0.8378 - val_loss: 0.0135 - val_msle: 0.0135 - val_accuracy: 0.8637\n",
      "Epoch 26/80\n",
      "136/136 [==============================] - 3s 19ms/step - loss: 0.0169 - msle: 0.0169 - accuracy: 0.8357 - val_loss: 0.0119 - val_msle: 0.0119 - val_accuracy: 0.8600\n",
      "Epoch 27/80\n",
      "136/136 [==============================] - 2s 18ms/step - loss: 0.0163 - msle: 0.0163 - accuracy: 0.8426 - val_loss: 0.0288 - val_msle: 0.0288 - val_accuracy: 0.7901\n",
      "Epoch 28/80\n",
      "136/136 [==============================] - 3s 19ms/step - loss: 0.0157 - msle: 0.0157 - accuracy: 0.8391 - val_loss: 0.0581 - val_msle: 0.0581 - val_accuracy: 0.6888\n",
      "Epoch 29/80\n",
      "136/136 [==============================] - 3s 19ms/step - loss: 0.0156 - msle: 0.0156 - accuracy: 0.8329 - val_loss: 0.0148 - val_msle: 0.0148 - val_accuracy: 0.8269\n",
      "Epoch 30/80\n",
      "136/136 [==============================] - 3s 19ms/step - loss: 0.0157 - msle: 0.0157 - accuracy: 0.8327 - val_loss: 0.0128 - val_msle: 0.0128 - val_accuracy: 0.8619\n",
      "Epoch 31/80\n",
      "136/136 [==============================] - 3s 19ms/step - loss: 0.0145 - msle: 0.0145 - accuracy: 0.8324 - val_loss: 0.0192 - val_msle: 0.0192 - val_accuracy: 0.8048\n",
      "Epoch 32/80\n",
      "136/136 [==============================] - 3s 19ms/step - loss: 0.0142 - msle: 0.0142 - accuracy: 0.8442 - val_loss: 0.0110 - val_msle: 0.0110 - val_accuracy: 0.8453\n",
      "Epoch 33/80\n",
      "136/136 [==============================] - 3s 20ms/step - loss: 0.0136 - msle: 0.0136 - accuracy: 0.8410 - val_loss: 0.0307 - val_msle: 0.0307 - val_accuracy: 0.8140\n",
      "Epoch 34/80\n",
      "136/136 [==============================] - 2s 18ms/step - loss: 0.0135 - msle: 0.0135 - accuracy: 0.8470 - val_loss: 0.0088 - val_msle: 0.0088 - val_accuracy: 0.8692\n",
      "Epoch 35/80\n",
      "136/136 [==============================] - 3s 19ms/step - loss: 0.0132 - msle: 0.0132 - accuracy: 0.8417 - val_loss: 0.0105 - val_msle: 0.0105 - val_accuracy: 0.8692\n",
      "Epoch 36/80\n",
      "136/136 [==============================] - 3s 19ms/step - loss: 0.0137 - msle: 0.0137 - accuracy: 0.8490 - val_loss: 0.0192 - val_msle: 0.0192 - val_accuracy: 0.7993\n",
      "Epoch 37/80\n",
      "136/136 [==============================] - 3s 19ms/step - loss: 0.0124 - msle: 0.0124 - accuracy: 0.8435 - val_loss: 0.0101 - val_msle: 0.0101 - val_accuracy: 0.8600\n",
      "Epoch 38/80\n",
      "136/136 [==============================] - 2s 18ms/step - loss: 0.0121 - msle: 0.0121 - accuracy: 0.8465 - val_loss: 0.0072 - val_msle: 0.0072 - val_accuracy: 0.8656\n",
      "Epoch 39/80\n",
      "136/136 [==============================] - 3s 19ms/step - loss: 0.0121 - msle: 0.0121 - accuracy: 0.8509 - val_loss: 0.0103 - val_msle: 0.0103 - val_accuracy: 0.8674\n",
      "Epoch 40/80\n",
      "136/136 [==============================] - 3s 20ms/step - loss: 0.0125 - msle: 0.0125 - accuracy: 0.8449 - val_loss: 0.0108 - val_msle: 0.0108 - val_accuracy: 0.8545\n",
      "Epoch 41/80\n",
      "136/136 [==============================] - 3s 19ms/step - loss: 0.0114 - msle: 0.0114 - accuracy: 0.8509 - val_loss: 0.0194 - val_msle: 0.0194 - val_accuracy: 0.8508\n",
      "Epoch 42/80\n",
      "136/136 [==============================] - 3s 20ms/step - loss: 0.0115 - msle: 0.0115 - accuracy: 0.8527 - val_loss: 0.0131 - val_msle: 0.0131 - val_accuracy: 0.7974\n",
      "Epoch 43/80\n",
      "136/136 [==============================] - 3s 19ms/step - loss: 0.0114 - msle: 0.0114 - accuracy: 0.8495 - val_loss: 0.0090 - val_msle: 0.0090 - val_accuracy: 0.8582\n",
      "Epoch 44/80\n",
      "136/136 [==============================] - 3s 19ms/step - loss: 0.0116 - msle: 0.0116 - accuracy: 0.8465 - val_loss: 0.0169 - val_msle: 0.0169 - val_accuracy: 0.8232\n",
      "Epoch 45/80\n",
      "136/136 [==============================] - 3s 19ms/step - loss: 0.0107 - msle: 0.0107 - accuracy: 0.8590 - val_loss: 0.0104 - val_msle: 0.0104 - val_accuracy: 0.8600\n",
      "Epoch 46/80\n",
      "136/136 [==============================] - 3s 20ms/step - loss: 0.0110 - msle: 0.0110 - accuracy: 0.8539 - val_loss: 0.0196 - val_msle: 0.0196 - val_accuracy: 0.8527\n",
      "Epoch 47/80\n"
     ]
    },
    {
     "name": "stdout",
     "output_type": "stream",
     "text": [
      "136/136 [==============================] - 3s 19ms/step - loss: 0.0106 - msle: 0.0106 - accuracy: 0.8543 - val_loss: 0.0137 - val_msle: 0.0137 - val_accuracy: 0.8490\n",
      "Epoch 48/80\n",
      "136/136 [==============================] - 3s 20ms/step - loss: 0.0098 - msle: 0.0098 - accuracy: 0.8555 - val_loss: 0.0071 - val_msle: 0.0071 - val_accuracy: 0.8582\n",
      "Epoch 49/80\n",
      "136/136 [==============================] - 3s 19ms/step - loss: 0.0102 - msle: 0.0102 - accuracy: 0.8527 - val_loss: 0.0093 - val_msle: 0.0093 - val_accuracy: 0.8343\n",
      "Epoch 50/80\n",
      "136/136 [==============================] - 3s 19ms/step - loss: 0.0100 - msle: 0.0100 - accuracy: 0.8511 - val_loss: 0.0116 - val_msle: 0.0116 - val_accuracy: 0.8398\n",
      "Epoch 51/80\n",
      "136/136 [==============================] - 3s 19ms/step - loss: 0.0093 - msle: 0.0093 - accuracy: 0.8578 - val_loss: 0.0092 - val_msle: 0.0092 - val_accuracy: 0.8306\n",
      "Epoch 52/80\n",
      "136/136 [==============================] - 3s 20ms/step - loss: 0.0099 - msle: 0.0099 - accuracy: 0.8638 - val_loss: 0.0091 - val_msle: 0.0091 - val_accuracy: 0.8306\n",
      "Epoch 53/80\n",
      "136/136 [==============================] - 3s 20ms/step - loss: 0.0089 - msle: 0.0089 - accuracy: 0.8613 - val_loss: 0.0062 - val_msle: 0.0062 - val_accuracy: 0.8527\n",
      "Epoch 54/80\n",
      "136/136 [==============================] - 3s 21ms/step - loss: 0.0097 - msle: 0.0097 - accuracy: 0.8716 - val_loss: 0.0154 - val_msle: 0.0154 - val_accuracy: 0.8582\n",
      "Epoch 55/80\n",
      "136/136 [==============================] - 3s 19ms/step - loss: 0.0088 - msle: 0.0088 - accuracy: 0.8673 - val_loss: 0.0183 - val_msle: 0.0183 - val_accuracy: 0.8269\n",
      "Epoch 56/80\n",
      "136/136 [==============================] - 2s 18ms/step - loss: 0.0093 - msle: 0.0093 - accuracy: 0.8691 - val_loss: 0.0063 - val_msle: 0.0063 - val_accuracy: 0.8766\n",
      "Epoch 57/80\n",
      "136/136 [==============================] - 3s 20ms/step - loss: 0.0095 - msle: 0.0095 - accuracy: 0.8693 - val_loss: 0.0092 - val_msle: 0.0092 - val_accuracy: 0.8674\n",
      "Epoch 58/80\n",
      "136/136 [==============================] - 3s 20ms/step - loss: 0.0086 - msle: 0.0086 - accuracy: 0.8781 - val_loss: 0.0140 - val_msle: 0.0140 - val_accuracy: 0.8250\n",
      "Epoch 59/80\n",
      "136/136 [==============================] - 3s 20ms/step - loss: 0.0096 - msle: 0.0096 - accuracy: 0.8792 - val_loss: 0.0093 - val_msle: 0.0093 - val_accuracy: 0.8656\n",
      "Epoch 60/80\n",
      "136/136 [==============================] - 2s 18ms/step - loss: 0.0089 - msle: 0.0089 - accuracy: 0.8769 - val_loss: 0.0058 - val_msle: 0.0058 - val_accuracy: 0.8656\n",
      "Epoch 61/80\n",
      "136/136 [==============================] - 3s 19ms/step - loss: 0.0086 - msle: 0.0086 - accuracy: 0.8779 - val_loss: 0.0120 - val_msle: 0.0120 - val_accuracy: 0.8674\n",
      "Epoch 62/80\n",
      "136/136 [==============================] - 3s 18ms/step - loss: 0.0087 - msle: 0.0087 - accuracy: 0.8781 - val_loss: 0.0073 - val_msle: 0.0073 - val_accuracy: 0.8987\n",
      "Epoch 63/80\n",
      "136/136 [==============================] - 3s 19ms/step - loss: 0.0088 - msle: 0.0088 - accuracy: 0.8746 - val_loss: 0.0068 - val_msle: 0.0068 - val_accuracy: 0.8803\n"
     ]
    }
   ],
   "source": [
    "#train\n",
    "epoch_qty = 80\n",
    "callback = tf.keras.callbacks.EarlyStopping(monitor='loss', \n",
    "                                                patience=5)\n",
    "history = model_conv1D.fit(X_train_reshaped, y_train, epochs=epoch_qty,\n",
    "                    validation_data = (X_val_reshaped, y_val), \n",
    "                           verbose=1, callbacks=[callback])"
   ]
  },
  {
   "cell_type": "code",
   "execution_count": 16,
   "id": "9c545071",
   "metadata": {},
   "outputs": [
    {
     "name": "stdout",
     "output_type": "stream",
     "text": [
      "Testing set Mean Abs Error:    5.88\n"
     ]
    },
    {
     "data": {
      "image/png": "[encoded data removed]",
      "text/plain": [
       "<Figure size 720x432 with 1 Axes>"
      ]
     },
     "metadata": {
      "needs_background": "light"
     },
     "output_type": "display_data"
    }
   ],
   "source": [
    "[loss, msle,accuracy] = model_conv1D.evaluate(X_test_reshaped, y_test, verbose=0)\n",
    "print(\"Testing set Mean Abs Error: {:7.2f}\".format(msle * 1000))\n",
    "\n",
    "pred =model_conv1D.predict(X_test_reshaped)\n",
    "\n",
    "y_pred_inv = standardScaler.inverse_transform(y)\n",
    "\n",
    "\n",
    "train_loss = history.history['loss']\n",
    "\n",
    "\n",
    "val_loss = history.history['val_loss']\n",
    "\n",
    "\n",
    "def plot_train_val(A, B, n, xlabel, ylabel, title):\n",
    "    pltp.figure(1, figsize=(10, 6))\n",
    "    pltp.plot(range(n),A)\n",
    "    pltp.plot(range(n),B)\n",
    "    pltp.ylabel(xlabel)\n",
    "    pltp.xlabel(ylabel)\n",
    "    pltp.title(title)\n",
    "    pltp.grid(True)\n",
    "    pltp.legend(['Training', 'Validation'])\n",
    "    pltp.show()\n",
    "\n",
    "\n",
    "plot_train_val(train_loss, val_loss, 63, 'Loss', 'Number of epochs', 'Training loss vs Validation loss')"
   ]
  },
  {
   "cell_type": "code",
   "execution_count": 17,
   "id": "dc5237c9",
   "metadata": {},
   "outputs": [],
   "source": [
    "model_conv1D.save('../abs_error_5_88.h5')"
   ]
  },
  {
   "cell_type": "code",
   "execution_count": 18,
   "id": "1e672701",
   "metadata": {},
   "outputs": [
    {
     "name": "stderr",
     "output_type": "stream",
     "text": [
      "/var/folders/w9/gh780vs52dgb_ypr6vd5g_4m0000gn/T/ipykernel_3844/942857022.py:7: UserWarning: Boolean Series key will be reindexed to match DataFrame index.\n",
      "  df2 = df[m1][m2]\n"
     ]
    },
    {
     "data": {
      "text/html": [
       "<div>\n",
       "<style scoped>\n",
       "    .dataframe tbody tr th:only-of-type {\n",
       "        vertical-align: middle;\n",
       "    }\n",
       "\n",
       "    .dataframe tbody tr th {\n",
       "        vertical-align: top;\n",
       "    }\n",
       "\n",
       "    .dataframe thead th {\n",
       "        text-align: right;\n",
       "    }\n",
       "</style>\n",
       "<table border=\"1\" class=\"dataframe\">\n",
       "  <thead>\n",
       "    <tr style=\"text-align: right;\">\n",
       "      <th></th>\n",
       "      <th>0</th>\n",
       "      <th>1</th>\n",
       "    </tr>\n",
       "  </thead>\n",
       "  <tbody>\n",
       "    <tr>\n",
       "      <th>2367</th>\n",
       "      <td>4460.022618</td>\n",
       "      <td>0.979893</td>\n",
       "    </tr>\n",
       "    <tr>\n",
       "      <th>2368</th>\n",
       "      <td>4460.111978</td>\n",
       "      <td>0.998823</td>\n",
       "    </tr>\n",
       "    <tr>\n",
       "      <th>2369</th>\n",
       "      <td>4460.201338</td>\n",
       "      <td>1.020981</td>\n",
       "    </tr>\n",
       "    <tr>\n",
       "      <th>2370</th>\n",
       "      <td>4460.290697</td>\n",
       "      <td>1.021009</td>\n",
       "    </tr>\n",
       "    <tr>\n",
       "      <th>2371</th>\n",
       "      <td>4460.380057</td>\n",
       "      <td>1.018809</td>\n",
       "    </tr>\n",
       "    <tr>\n",
       "      <th>...</th>\n",
       "      <td>...</td>\n",
       "      <td>...</td>\n",
       "    </tr>\n",
       "    <tr>\n",
       "      <th>2586</th>\n",
       "      <td>4479.592386</td>\n",
       "      <td>0.986350</td>\n",
       "    </tr>\n",
       "    <tr>\n",
       "      <th>2587</th>\n",
       "      <td>4479.681746</td>\n",
       "      <td>0.977661</td>\n",
       "    </tr>\n",
       "    <tr>\n",
       "      <th>2588</th>\n",
       "      <td>4479.771106</td>\n",
       "      <td>0.998069</td>\n",
       "    </tr>\n",
       "    <tr>\n",
       "      <th>2589</th>\n",
       "      <td>4479.860465</td>\n",
       "      <td>0.996876</td>\n",
       "    </tr>\n",
       "    <tr>\n",
       "      <th>2590</th>\n",
       "      <td>4479.949825</td>\n",
       "      <td>0.948284</td>\n",
       "    </tr>\n",
       "  </tbody>\n",
       "</table>\n",
       "<p>224 rows × 2 columns</p>\n",
       "</div>"
      ],
      "text/plain": [
       "                0         1\n",
       "2367  4460.022618  0.979893\n",
       "2368  4460.111978  0.998823\n",
       "2369  4460.201338  1.020981\n",
       "2370  4460.290697  1.021009\n",
       "2371  4460.380057  1.018809\n",
       "...           ...       ...\n",
       "2586  4479.592386  0.986350\n",
       "2587  4479.681746  0.977661\n",
       "2588  4479.771106  0.998069\n",
       "2589  4479.860465  0.996876\n",
       "2590  4479.949825  0.948284\n",
       "\n",
       "[224 rows x 2 columns]"
      ]
     },
     "execution_count": 18,
     "metadata": {},
     "output_type": "execute_result"
    }
   ],
   "source": [
    "#read besos\n",
    "df = pd.read_csv(\"../data-lineas-espectrales/BESOS/2_Be_stars/HD37041/hd37041_2014-01-29_03-58-58_final_corr.txt\", sep=\"\\t\", header=None)\n",
    "\n",
    "m1 = df[0] >= 4460\n",
    "m2 = df[0] <= 4480\n",
    "\n",
    "df2 = df[m1][m2]\n",
    "\n",
    "df2"
   ]
  },
  {
   "cell_type": "code",
   "execution_count": 19,
   "id": "9a0884ca",
   "metadata": {},
   "outputs": [
    {
     "data": {
      "image/png": "[encoded data removed]",
      "text/plain": [
       "<Figure size 576x432 with 1 Axes>"
      ]
     },
     "metadata": {
      "needs_background": "light"
     },
     "output_type": "display_data"
    }
   ],
   "source": [
    "pltp.figure(figsize=(8,6))\n",
    "pltp.plot(df2[0], df2[1], label=\"Línea observada\")\n",
    "#plt.plot(df4[0], df4[1], label=\"Modelo\")\n",
    "pltp.grid()\n",
    "pltp.legend(loc=\"best\")\n",
    "pltp.show()"
   ]
  },
  {
   "cell_type": "code",
   "execution_count": 20,
   "id": "22ffe54e",
   "metadata": {},
   "outputs": [],
   "source": [
    "n = 201  # for 2 random indices\n",
    "index = np.random.choice(df2[0].shape[0], n, replace=False) \n",
    "index.sort()"
   ]
  },
  {
   "cell_type": "code",
   "execution_count": 21,
   "id": "cdb1888f",
   "metadata": {},
   "outputs": [
    {
     "data": {
      "text/plain": [
       "(201,)"
      ]
     },
     "execution_count": 21,
     "metadata": {},
     "output_type": "execute_result"
    }
   ],
   "source": [
    "obs_waves = df2[0].values[index]\n",
    "\n",
    "obs_flux = df2[1].values[index]\n",
    "obs_flux.shape"
   ]
  },
  {
   "cell_type": "code",
   "execution_count": 22,
   "id": "5195a0d6",
   "metadata": {},
   "outputs": [
    {
     "data": {
      "image/png": "[encoded data removed]",
      "text/plain": [
       "<Figure size 576x432 with 1 Axes>"
      ]
     },
     "metadata": {
      "needs_background": "light"
     },
     "output_type": "display_data"
    }
   ],
   "source": [
    "pltp.figure(figsize=(8,6))\n",
    "pltp.plot(obs_waves, obs_flux ,label=\"Línea observada\")\n",
    "pltp.legend(loc=\"best\")\n",
    "pltp.show()"
   ]
  },
  {
   "cell_type": "code",
   "execution_count": 23,
   "id": "7e5b1a31",
   "metadata": {},
   "outputs": [],
   "source": [
    "time_steps = 201\n",
    "input_dimension = 1\n",
    "obs_flux_reshaped = obs_flux.reshape((1, time_steps, input_dimension))"
   ]
  },
  {
   "cell_type": "code",
   "execution_count": 24,
   "id": "89155eb6",
   "metadata": {},
   "outputs": [],
   "source": [
    "new_model = tf.keras.models.load_model('../abs_error_5_88.h5')"
   ]
  },
  {
   "cell_type": "code",
   "execution_count": 25,
   "id": "023ed71c",
   "metadata": {},
   "outputs": [],
   "source": [
    "pred_obs = new_model.predict(obs_flux_reshaped)"
   ]
  },
  {
   "cell_type": "code",
   "execution_count": 26,
   "id": "3450dc07",
   "metadata": {},
   "outputs": [
    {
     "name": "stdout",
     "output_type": "stream",
     "text": [
      "t_eff: 0.144425\n",
      "log g: 1.4655589\n",
      "v_rot: -0.1017676\n"
     ]
    }
   ],
   "source": [
    "print(\"t_eff:\", pred_obs[0][0])\n",
    "print(\"log g:\", pred_obs[0][1])\n",
    "print(\"v_rot:\", pred_obs[0][2])"
   ]
  },
  {
   "cell_type": "code",
   "execution_count": 27,
   "id": "dff152bc",
   "metadata": {},
   "outputs": [
    {
     "name": "stdout",
     "output_type": "stream",
     "text": [
      "28041.463\n",
      "4.965559\n",
      "240.89763\n"
     ]
    }
   ],
   "source": [
    "pred_obs_inv = standardScaler.inverse_transform(pred_obs)\n",
    "print(pred_obs_inv[0,0])\n",
    "print(pred_obs_inv[0,1])\n",
    "print(pred_obs_inv[0,2])"
   ]
  },
  {
   "cell_type": "code",
   "execution_count": null,
   "id": "d1b0b541",
   "metadata": {},
   "outputs": [],
   "source": []
  }
 ],
 "metadata": {
  "kernelspec": {
   "display_name": "Python 3 (ipykernel)",
   "language": "python",
   "name": "python3"
  },
  "language_info": {
   "codemirror_mode": {
    "name": "ipython",
    "version": 3
   },
   "file_extension": ".py",
   "mimetype": "text/x-python",
   "name": "python",
   "nbconvert_exporter": "python",
   "pygments_lexer": "ipython3",
   "version": "3.9.7"
  }
 },
 "nbformat": 4,
 "nbformat_minor": 5
}
