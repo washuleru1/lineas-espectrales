{
 "cells": [
  {
   "cell_type": "code",
   "execution_count": 1,
   "id": "56ecb0a3",
   "metadata": {},
   "outputs": [],
   "source": [
    "import numpy as np\n",
    "import pandas as pd\n",
    "import matplotlib as plt\n",
    "from matplotlib import pyplot as pltp\n",
    "import tensorflow as tf\n",
    "import glob\n",
    "from sklearn.preprocessing import MinMaxScaler, StandardScaler\n",
    "from sklearn.model_selection import train_test_split\n",
    "from sklearn.metrics import classification_report, plot_confusion_matrix"
   ]
  },
  {
   "cell_type": "code",
   "execution_count": 2,
   "id": "f32fc74e",
   "metadata": {},
   "outputs": [],
   "source": [
    "#Función que separa los parametros t,g,v del fileName\n",
    "def separateParams(fileName):\n",
    "    t = fileName.split(\"t\")[1].split(\"g\")[0]\n",
    "    rest_of = fileName.split(\"t\")[1].split(\"g\")[1].split(\"v\")\n",
    "    g, v = rest_of\n",
    "    return float(t), float(g)/10, float(v)"
   ]
  },
  {
   "cell_type": "code",
   "execution_count": 3,
   "id": "a9585efc",
   "metadata": {},
   "outputs": [],
   "source": [
    "#Se definen los sets de training, test y validación\n",
    "def train_val_test_split(X, y, train_size, val_size, test_size, random_state = 1):\n",
    "    if train_size + val_size + test_size != 1.0:\n",
    "        print(\"Incorrect sizes!\")\n",
    "        return None \n",
    "    X_tmp, X_test, y_tmp, y_test = train_test_split(X, y, test_size = test_size, random_state=random_state)\n",
    "    X_train, X_val, y_train, y_val = train_test_split(X_tmp, y_tmp, test_size = val_size/(test_size + train_size), random_state=random_state)\n",
    "    return X_train, X_val, X_test, y_train, y_val, y_test"
   ]
  },
  {
   "cell_type": "code",
   "execution_count": 4,
   "id": "2d8da443",
   "metadata": {},
   "outputs": [
    {
     "name": "stdout",
     "output_type": "stream",
     "text": [
      "Files qty: 5425\n"
     ]
    }
   ],
   "source": [
    "files = glob.glob('../data-lineas-espectrales/filtered_wv_models/*')\n",
    "file_qty = len(files)\n",
    "print(\"Files qty: {}\".format(file_qty))"
   ]
  },
  {
   "cell_type": "code",
   "execution_count": 5,
   "id": "13e67b8d",
   "metadata": {},
   "outputs": [
    {
     "name": "stdout",
     "output_type": "stream",
     "text": [
      "points: 201 | columns: 2 \n"
     ]
    }
   ],
   "source": [
    "y = np.zeros((file_qty,3))\n",
    "df = pd.read_csv(files[0], sep=\" \", header=None)\n",
    "n_points , n_columns = df.shape\n",
    "print(\"points: {} | columns: {} \".format(n_points, n_columns))"
   ]
  },
  {
   "cell_type": "code",
   "execution_count": 6,
   "id": "210af774",
   "metadata": {},
   "outputs": [
    {
     "name": "stdout",
     "output_type": "stream",
     "text": [
      "(5425, 201)\n",
      "(5425, 3)\n"
     ]
    }
   ],
   "source": [
    "#Matriz que contiene las lineas espectrales\n",
    "X = np.zeros((file_qty, n_points))\n",
    "#Matriz que contiene los labels de cada linea espectral\n",
    "y = np.zeros((file_qty, 3))\n",
    "\n",
    "print(X.shape)\n",
    "print(y.shape)"
   ]
  },
  {
   "cell_type": "code",
   "execution_count": 7,
   "id": "533602ce",
   "metadata": {},
   "outputs": [],
   "source": [
    "#extract files, se almacenan las lineas espectrales y labels en X e y respectivamente\n",
    "for i, name in enumerate(files):\n",
    "    file_name = name.split(\"/\")[-1].split(\".\")[0].split(\"_\")[1]\n",
    "    df = pd.read_csv(name, sep=\" \", header=None)\n",
    "    t, g, v = separateParams(file_name)\n",
    "    #Se almacena la línea espectral\n",
    "    X[i, :] = df[1].values\n",
    "    #Se almacena el label de la linea espectral\n",
    "    y[i] = t, g, v"
   ]
  },
  {
   "cell_type": "code",
   "execution_count": 8,
   "id": "4e3e43ed",
   "metadata": {},
   "outputs": [
    {
     "name": "stdout",
     "output_type": "stream",
     "text": [
      "[[3.5e+04 2.0e+00 2.8e+02]\n",
      " [2.0e+04 2.0e+00 2.6e+02]\n",
      " [2.8e+04 2.0e+00 3.5e+02]\n",
      " [1.7e+04 3.0e+00 1.7e+02]]\n"
     ]
    }
   ],
   "source": [
    "print(y[:4])"
   ]
  },
  {
   "cell_type": "code",
   "execution_count": 9,
   "id": "7aae3a8f",
   "metadata": {},
   "outputs": [],
   "source": [
    "#se normaliza y\n",
    "standardScaler = StandardScaler()\n",
    "standardScaler.fit(y)\n",
    "normalized_y = standardScaler.transform(y)"
   ]
  },
  {
   "cell_type": "code",
   "execution_count": 10,
   "id": "00d7857b",
   "metadata": {},
   "outputs": [],
   "source": [
    "X_train, X_val, X_test, y_train, y_val, y_test = train_val_test_split(X, normalized_y, .8, .1, .1)"
   ]
  },
  {
   "cell_type": "code",
   "execution_count": 11,
   "id": "714278b3",
   "metadata": {},
   "outputs": [
    {
     "name": "stdout",
     "output_type": "stream",
     "text": [
      "(4339, 201) (4339, 3)\n",
      "(543, 201) (543, 3)\n",
      "(543, 201) (543, 3)\n"
     ]
    }
   ],
   "source": [
    "print(X_train.shape, y_train.shape)\n",
    "print(X_val.shape, y_val.shape)\n",
    "print(X_test.shape, y_test.shape)"
   ]
  },
  {
   "cell_type": "code",
   "execution_count": 12,
   "id": "d5f685d4",
   "metadata": {},
   "outputs": [
    {
     "name": "stdout",
     "output_type": "stream",
     "text": [
      "201\n"
     ]
    }
   ],
   "source": [
    "time_steps = X.shape[1]\n",
    "input_dimension = 1\n",
    "print(time_steps)"
   ]
  },
  {
   "cell_type": "code",
   "execution_count": 13,
   "id": "c3fdf954",
   "metadata": {},
   "outputs": [
    {
     "name": "stdout",
     "output_type": "stream",
     "text": [
      "reshaped X_train: (4339, 201, 1)\n",
      "reshaped X_val: (543, 201, 1)\n",
      "reshaped X_test: (543, 201, 1)\n"
     ]
    }
   ],
   "source": [
    "sample_size = X_train.shape[0]\n",
    "X_train_reshaped = X_train.reshape((sample_size, time_steps, input_dimension))\n",
    "sample_size = X_val.shape[0]\n",
    "X_val_reshaped = X_val.reshape((sample_size, time_steps, input_dimension))\n",
    "sample_size = X_test.shape[0]\n",
    "X_test_reshaped = X_test.reshape((sample_size, time_steps, input_dimension))\n",
    "print(\"reshaped X_train: {}\".format(X_train_reshaped.shape))\n",
    "print(\"reshaped X_val: {}\".format(X_val_reshaped.shape))\n",
    "print(\"reshaped X_test: {}\".format(X_test_reshaped.shape))"
   ]
  },
  {
   "cell_type": "code",
   "execution_count": 40,
   "id": "be7ede77",
   "metadata": {},
   "outputs": [
    {
     "name": "stdout",
     "output_type": "stream",
     "text": [
      "Model: \"model_conv1D\"\n",
      "_________________________________________________________________\n",
      " Layer (type)                Output Shape              Param #   \n",
      "=================================================================\n",
      " conv1d_10 (Conv1D)          (None, 199, 64)           256       \n",
      "                                                                 \n",
      " Conv1D_1 (Conv1D)           (None, 193, 32)           14368     \n",
      "                                                                 \n",
      " Conv1D_2 (Conv1D)           (None, 191, 16)           1552      \n",
      "                                                                 \n",
      " flatten_9 (Flatten)         (None, 3056)              0         \n",
      "                                                                 \n",
      " Dense_0 (Dense)             (None, 64)                195648    \n",
      "                                                                 \n",
      " Dense_1 (Dense)             (None, 32)                2080      \n",
      "                                                                 \n",
      " dense_7 (Dense)             (None, 10)                330       \n",
      "                                                                 \n",
      " Dense_4 (Dense)             (None, 3)                 33        \n",
      "                                                                 \n",
      "=================================================================\n",
      "Total params: 214,267\n",
      "Trainable params: 214,267\n",
      "Non-trainable params: 0\n",
      "_________________________________________________________________\n"
     ]
    }
   ],
   "source": [
    "#Arquitectura de la red\n",
    "def build_conv1D_model():\n",
    "    n_timesteps = X_train_reshaped.shape[1] #210\n",
    "    n_features  = X_train_reshaped.shape[2] #1 \n",
    "    model = tf.keras.Sequential(name=\"model_conv1D\")\n",
    "    model.add(tf.keras.layers.Input(shape=(n_timesteps,n_features)))\n",
    "    model.add(tf.keras.layers.Conv1D(filters=64, kernel_size=3, activation='elu'))\n",
    "    #model.add(tf.keras.layers.Conv1D(filters=64, kernel_size=3, activation='relu', name=\"Conv1D_0\"))\n",
    "    model.add(tf.keras.layers.Conv1D(filters=32, kernel_size=7, activation='softmax', name=\"Conv1D_1\"))\n",
    "    model.add(tf.keras.layers.Conv1D(filters=16, kernel_size=3, activation='selu', name=\"Conv1D_2\"))\n",
    "    tf.keras.layers.BatchNormalization()\n",
    "    model.add(tf.keras.layers.Flatten())\n",
    "    model.add(tf.keras.layers.Dense(64,activation='relu', name=\"Dense_0\"))\n",
    "    model.add(tf.keras.layers.Dense(32, activation= \"selu\", name=\"Dense_1\"))\n",
    "    model.add(tf.keras.layers.Dense(10, activation='softmax'))\n",
    "    model.add(tf.keras.layers.Dense(3, activation = \"linear\", name=\"Dense_4\"))\n",
    "    \n",
    "\n",
    "\n",
    "    optimizer = tf.keras.optimizers.RMSprop(0.001)\n",
    "\n",
    "    l = tf.keras.losses.LogCosh()\n",
    "    \n",
    "    \n",
    "    model.compile(loss='mse',optimizer=optimizer,metrics=['mse', 'accuracy'])\n",
    "    return model\n",
    "\n",
    "model_conv1D = build_conv1D_model()\n",
    "model_conv1D.summary()"
   ]
  },
  {
   "cell_type": "code",
   "execution_count": 41,
   "id": "0a7264bf",
   "metadata": {},
   "outputs": [
    {
     "name": "stdout",
     "output_type": "stream",
     "text": [
      "Epoch 1/80\n",
      "136/136 [==============================] - 3s 19ms/step - loss: 0.9619 - mse: 0.9619 - accuracy: 0.4208 - val_loss: 0.7625 - val_mse: 0.7625 - val_accuracy: 0.6759\n",
      "Epoch 2/80\n",
      "136/136 [==============================] - 3s 19ms/step - loss: 0.7311 - mse: 0.7311 - accuracy: 0.6545 - val_loss: 0.6524 - val_mse: 0.6524 - val_accuracy: 0.7403\n",
      "Epoch 3/80\n",
      "136/136 [==============================] - 2s 18ms/step - loss: 0.6202 - mse: 0.6202 - accuracy: 0.7082 - val_loss: 0.5568 - val_mse: 0.5568 - val_accuracy: 0.7495\n",
      "Epoch 4/80\n",
      "136/136 [==============================] - 2s 18ms/step - loss: 0.5659 - mse: 0.5659 - accuracy: 0.7246 - val_loss: 0.5212 - val_mse: 0.5212 - val_accuracy: 0.7587\n",
      "Epoch 5/80\n",
      "136/136 [==============================] - 3s 19ms/step - loss: 0.5213 - mse: 0.5213 - accuracy: 0.7373 - val_loss: 0.4909 - val_mse: 0.4909 - val_accuracy: 0.7109\n",
      "Epoch 6/80\n",
      "136/136 [==============================] - 3s 19ms/step - loss: 0.4910 - mse: 0.4910 - accuracy: 0.7490 - val_loss: 0.4683 - val_mse: 0.4683 - val_accuracy: 0.7145\n",
      "Epoch 7/80\n",
      "136/136 [==============================] - 3s 19ms/step - loss: 0.4638 - mse: 0.4638 - accuracy: 0.7557 - val_loss: 0.4299 - val_mse: 0.4299 - val_accuracy: 0.7680\n",
      "Epoch 8/80\n",
      "136/136 [==============================] - 2s 17ms/step - loss: 0.4439 - mse: 0.4439 - accuracy: 0.7635 - val_loss: 0.4172 - val_mse: 0.4172 - val_accuracy: 0.7716\n",
      "Epoch 9/80\n",
      "136/136 [==============================] - 3s 20ms/step - loss: 0.4180 - mse: 0.4180 - accuracy: 0.7654 - val_loss: 0.3997 - val_mse: 0.3997 - val_accuracy: 0.7569\n",
      "Epoch 10/80\n",
      "136/136 [==============================] - 3s 24ms/step - loss: 0.3807 - mse: 0.3807 - accuracy: 0.7864 - val_loss: 0.3371 - val_mse: 0.3371 - val_accuracy: 0.8029\n",
      "Epoch 11/80\n",
      "136/136 [==============================] - 3s 19ms/step - loss: 0.3477 - mse: 0.3477 - accuracy: 0.7921 - val_loss: 0.4640 - val_mse: 0.4640 - val_accuracy: 0.6446\n",
      "Epoch 12/80\n",
      "136/136 [==============================] - 3s 21ms/step - loss: 0.3203 - mse: 0.3203 - accuracy: 0.8073 - val_loss: 0.3314 - val_mse: 0.3314 - val_accuracy: 0.7643\n",
      "Epoch 13/80\n",
      "136/136 [==============================] - 3s 20ms/step - loss: 0.2936 - mse: 0.2936 - accuracy: 0.8036 - val_loss: 0.3876 - val_mse: 0.3876 - val_accuracy: 0.7845\n",
      "Epoch 14/80\n",
      "136/136 [==============================] - 3s 19ms/step - loss: 0.2715 - mse: 0.2715 - accuracy: 0.8149 - val_loss: 0.2465 - val_mse: 0.2465 - val_accuracy: 0.8361\n",
      "Epoch 15/80\n",
      "136/136 [==============================] - 2s 18ms/step - loss: 0.2524 - mse: 0.2524 - accuracy: 0.8235 - val_loss: 0.2195 - val_mse: 0.2195 - val_accuracy: 0.8122\n",
      "Epoch 16/80\n",
      "136/136 [==============================] - 2s 18ms/step - loss: 0.2391 - mse: 0.2391 - accuracy: 0.8269 - val_loss: 0.5232 - val_mse: 0.5232 - val_accuracy: 0.7238\n",
      "Epoch 17/80\n",
      "136/136 [==============================] - 3s 20ms/step - loss: 0.2243 - mse: 0.2243 - accuracy: 0.8329 - val_loss: 0.1989 - val_mse: 0.1989 - val_accuracy: 0.8343\n",
      "Epoch 18/80\n",
      "136/136 [==============================] - 3s 21ms/step - loss: 0.2107 - mse: 0.2107 - accuracy: 0.8382 - val_loss: 0.1704 - val_mse: 0.1704 - val_accuracy: 0.8711\n",
      "Epoch 19/80\n",
      "136/136 [==============================] - 3s 20ms/step - loss: 0.1960 - mse: 0.1960 - accuracy: 0.8481 - val_loss: 0.2020 - val_mse: 0.2020 - val_accuracy: 0.8195\n",
      "Epoch 20/80\n",
      "136/136 [==============================] - 2s 18ms/step - loss: 0.1863 - mse: 0.1863 - accuracy: 0.8592 - val_loss: 0.1554 - val_mse: 0.1554 - val_accuracy: 0.8711\n",
      "Epoch 21/80\n",
      "136/136 [==============================] - 2s 18ms/step - loss: 0.1705 - mse: 0.1705 - accuracy: 0.8663 - val_loss: 0.2038 - val_mse: 0.2038 - val_accuracy: 0.8711\n",
      "Epoch 22/80\n",
      "136/136 [==============================] - 2s 18ms/step - loss: 0.1651 - mse: 0.1651 - accuracy: 0.8647 - val_loss: 0.3862 - val_mse: 0.3862 - val_accuracy: 0.7109\n",
      "Epoch 23/80\n",
      "136/136 [==============================] - 3s 19ms/step - loss: 0.1604 - mse: 0.1604 - accuracy: 0.8712 - val_loss: 0.1259 - val_mse: 0.1259 - val_accuracy: 0.8913\n",
      "Epoch 24/80\n",
      "136/136 [==============================] - 3s 19ms/step - loss: 0.1463 - mse: 0.1463 - accuracy: 0.8719 - val_loss: 0.2569 - val_mse: 0.2569 - val_accuracy: 0.7201\n",
      "Epoch 25/80\n",
      "136/136 [==============================] - 3s 19ms/step - loss: 0.1429 - mse: 0.1429 - accuracy: 0.8762 - val_loss: 0.1113 - val_mse: 0.1113 - val_accuracy: 0.8877\n",
      "Epoch 26/80\n",
      "136/136 [==============================] - 2s 18ms/step - loss: 0.1423 - mse: 0.1423 - accuracy: 0.8799 - val_loss: 0.1477 - val_mse: 0.1477 - val_accuracy: 0.8895\n",
      "Epoch 27/80\n",
      "136/136 [==============================] - 3s 19ms/step - loss: 0.1350 - mse: 0.1350 - accuracy: 0.8751 - val_loss: 0.1204 - val_mse: 0.1204 - val_accuracy: 0.8692\n",
      "Epoch 28/80\n",
      "136/136 [==============================] - 2s 18ms/step - loss: 0.1313 - mse: 0.1313 - accuracy: 0.8850 - val_loss: 0.1027 - val_mse: 0.1027 - val_accuracy: 0.9153\n",
      "Epoch 29/80\n",
      "136/136 [==============================] - 2s 18ms/step - loss: 0.1295 - mse: 0.1295 - accuracy: 0.8806 - val_loss: 0.1298 - val_mse: 0.1298 - val_accuracy: 0.8969\n",
      "Epoch 30/80\n",
      "136/136 [==============================] - 2s 18ms/step - loss: 0.1294 - mse: 0.1294 - accuracy: 0.8779 - val_loss: 0.1056 - val_mse: 0.1056 - val_accuracy: 0.9116\n",
      "Epoch 31/80\n",
      "136/136 [==============================] - 2s 18ms/step - loss: 0.1195 - mse: 0.1195 - accuracy: 0.8825 - val_loss: 0.0965 - val_mse: 0.0965 - val_accuracy: 0.9024\n",
      "Epoch 32/80\n",
      "136/136 [==============================] - 2s 18ms/step - loss: 0.1204 - mse: 0.1204 - accuracy: 0.8772 - val_loss: 0.1774 - val_mse: 0.1774 - val_accuracy: 0.8029\n",
      "Epoch 33/80\n",
      "136/136 [==============================] - 3s 18ms/step - loss: 0.1183 - mse: 0.1183 - accuracy: 0.8795 - val_loss: 0.0936 - val_mse: 0.0936 - val_accuracy: 0.9116\n",
      "Epoch 34/80\n",
      "136/136 [==============================] - 3s 19ms/step - loss: 0.1160 - mse: 0.1160 - accuracy: 0.8880 - val_loss: 0.0941 - val_mse: 0.0941 - val_accuracy: 0.9098\n",
      "Epoch 35/80\n",
      "136/136 [==============================] - 2s 18ms/step - loss: 0.1114 - mse: 0.1114 - accuracy: 0.8859 - val_loss: 0.1188 - val_mse: 0.1188 - val_accuracy: 0.8803\n",
      "Epoch 36/80\n",
      "136/136 [==============================] - 3s 18ms/step - loss: 0.1156 - mse: 0.1156 - accuracy: 0.8855 - val_loss: 0.0888 - val_mse: 0.0888 - val_accuracy: 0.8895\n",
      "Epoch 37/80\n",
      "136/136 [==============================] - 3s 20ms/step - loss: 0.1102 - mse: 0.1102 - accuracy: 0.8852 - val_loss: 0.0892 - val_mse: 0.0892 - val_accuracy: 0.8950\n",
      "Epoch 38/80\n",
      "136/136 [==============================] - 3s 19ms/step - loss: 0.1064 - mse: 0.1064 - accuracy: 0.8956 - val_loss: 0.0827 - val_mse: 0.0827 - val_accuracy: 0.9116\n",
      "Epoch 39/80\n",
      "136/136 [==============================] - 2s 18ms/step - loss: 0.1077 - mse: 0.1077 - accuracy: 0.8871 - val_loss: 0.1084 - val_mse: 0.1084 - val_accuracy: 0.8637\n",
      "Epoch 40/80\n",
      "136/136 [==============================] - 2s 18ms/step - loss: 0.1053 - mse: 0.1053 - accuracy: 0.8857 - val_loss: 0.0841 - val_mse: 0.0841 - val_accuracy: 0.9245\n",
      "Epoch 41/80\n",
      "136/136 [==============================] - 3s 18ms/step - loss: 0.1034 - mse: 0.1034 - accuracy: 0.8926 - val_loss: 0.0896 - val_mse: 0.0896 - val_accuracy: 0.9190\n",
      "Epoch 42/80\n",
      "136/136 [==============================] - 3s 19ms/step - loss: 0.1047 - mse: 0.1047 - accuracy: 0.8903 - val_loss: 0.0834 - val_mse: 0.0834 - val_accuracy: 0.9190\n",
      "Epoch 43/80\n",
      "136/136 [==============================] - 3s 21ms/step - loss: 0.1014 - mse: 0.1014 - accuracy: 0.8938 - val_loss: 0.1322 - val_mse: 0.1322 - val_accuracy: 0.8766\n",
      "Epoch 44/80\n",
      "136/136 [==============================] - 3s 20ms/step - loss: 0.1011 - mse: 0.1011 - accuracy: 0.8972 - val_loss: 0.1019 - val_mse: 0.1019 - val_accuracy: 0.9061\n",
      "Epoch 45/80\n",
      "136/136 [==============================] - 3s 18ms/step - loss: 0.0994 - mse: 0.0994 - accuracy: 0.8910 - val_loss: 0.0831 - val_mse: 0.0831 - val_accuracy: 0.9282\n",
      "Epoch 46/80\n",
      "136/136 [==============================] - 4s 26ms/step - loss: 0.0999 - mse: 0.0999 - accuracy: 0.8942 - val_loss: 0.1018 - val_mse: 0.1018 - val_accuracy: 0.9061\n",
      "Epoch 47/80\n"
     ]
    },
    {
     "name": "stdout",
     "output_type": "stream",
     "text": [
      "136/136 [==============================] - 4s 29ms/step - loss: 0.0963 - mse: 0.0963 - accuracy: 0.8974 - val_loss: 0.1719 - val_mse: 0.1719 - val_accuracy: 0.8637\n",
      "Epoch 48/80\n",
      "136/136 [==============================] - 4s 30ms/step - loss: 0.0936 - mse: 0.0936 - accuracy: 0.8997 - val_loss: 0.0918 - val_mse: 0.0918 - val_accuracy: 0.9098\n",
      "Epoch 49/80\n",
      "136/136 [==============================] - 4s 30ms/step - loss: 0.0948 - mse: 0.0948 - accuracy: 0.9027 - val_loss: 0.0910 - val_mse: 0.0910 - val_accuracy: 0.9171\n",
      "Epoch 50/80\n",
      "136/136 [==============================] - 4s 30ms/step - loss: 0.0938 - mse: 0.0938 - accuracy: 0.9011 - val_loss: 0.0861 - val_mse: 0.0861 - val_accuracy: 0.8932\n",
      "Epoch 51/80\n",
      "136/136 [==============================] - 4s 29ms/step - loss: 0.0939 - mse: 0.0939 - accuracy: 0.8951 - val_loss: 0.0894 - val_mse: 0.0894 - val_accuracy: 0.9190\n",
      "Epoch 52/80\n",
      "136/136 [==============================] - 4s 30ms/step - loss: 0.0917 - mse: 0.0917 - accuracy: 0.8993 - val_loss: 0.0761 - val_mse: 0.0761 - val_accuracy: 0.9282\n",
      "Epoch 53/80\n",
      "136/136 [==============================] - 4s 30ms/step - loss: 0.0899 - mse: 0.0899 - accuracy: 0.8896 - val_loss: 0.0896 - val_mse: 0.0896 - val_accuracy: 0.9171\n",
      "Epoch 54/80\n",
      "136/136 [==============================] - 4s 29ms/step - loss: 0.0911 - mse: 0.0911 - accuracy: 0.9055 - val_loss: 0.0778 - val_mse: 0.0778 - val_accuracy: 0.9263\n",
      "Epoch 55/80\n",
      "136/136 [==============================] - 4s 30ms/step - loss: 0.0891 - mse: 0.0891 - accuracy: 0.9016 - val_loss: 0.0973 - val_mse: 0.0973 - val_accuracy: 0.8895\n",
      "Epoch 56/80\n",
      "136/136 [==============================] - 4s 30ms/step - loss: 0.0914 - mse: 0.0914 - accuracy: 0.9085 - val_loss: 0.0883 - val_mse: 0.0883 - val_accuracy: 0.9300\n",
      "Epoch 57/80\n",
      "136/136 [==============================] - 4s 30ms/step - loss: 0.0897 - mse: 0.0897 - accuracy: 0.9106 - val_loss: 0.0957 - val_mse: 0.0957 - val_accuracy: 0.8877\n",
      "Epoch 58/80\n",
      "136/136 [==============================] - 4s 30ms/step - loss: 0.0879 - mse: 0.0879 - accuracy: 0.9078 - val_loss: 0.0711 - val_mse: 0.0711 - val_accuracy: 0.9171\n",
      "Epoch 59/80\n",
      "136/136 [==============================] - 4s 29ms/step - loss: 0.0872 - mse: 0.0872 - accuracy: 0.9030 - val_loss: 0.0858 - val_mse: 0.0858 - val_accuracy: 0.9061\n",
      "Epoch 60/80\n",
      "136/136 [==============================] - 4s 29ms/step - loss: 0.0836 - mse: 0.0836 - accuracy: 0.8997 - val_loss: 0.0764 - val_mse: 0.0764 - val_accuracy: 0.8969\n",
      "Epoch 61/80\n",
      "136/136 [==============================] - 4s 29ms/step - loss: 0.0843 - mse: 0.0843 - accuracy: 0.9092 - val_loss: 0.0730 - val_mse: 0.0730 - val_accuracy: 0.9282\n",
      "Epoch 62/80\n",
      "136/136 [==============================] - 4s 29ms/step - loss: 0.0858 - mse: 0.0858 - accuracy: 0.9041 - val_loss: 0.0713 - val_mse: 0.0713 - val_accuracy: 0.9484\n",
      "Epoch 63/80\n",
      "136/136 [==============================] - 4s 31ms/step - loss: 0.0846 - mse: 0.0846 - accuracy: 0.9062 - val_loss: 0.0917 - val_mse: 0.0917 - val_accuracy: 0.9098\n",
      "Epoch 64/80\n",
      "136/136 [==============================] - 4s 30ms/step - loss: 0.0847 - mse: 0.0847 - accuracy: 0.9115 - val_loss: 0.0651 - val_mse: 0.0651 - val_accuracy: 0.9466\n",
      "Epoch 65/80\n",
      "136/136 [==============================] - 4s 29ms/step - loss: 0.0824 - mse: 0.0824 - accuracy: 0.9080 - val_loss: 0.0705 - val_mse: 0.0705 - val_accuracy: 0.9282\n",
      "Epoch 66/80\n",
      "136/136 [==============================] - 4s 30ms/step - loss: 0.0832 - mse: 0.0832 - accuracy: 0.9122 - val_loss: 0.1038 - val_mse: 0.1038 - val_accuracy: 0.9061\n",
      "Epoch 67/80\n",
      "136/136 [==============================] - 4s 29ms/step - loss: 0.0814 - mse: 0.0814 - accuracy: 0.9110 - val_loss: 0.0924 - val_mse: 0.0924 - val_accuracy: 0.9134\n",
      "Epoch 68/80\n",
      "136/136 [==============================] - 4s 29ms/step - loss: 0.0821 - mse: 0.0821 - accuracy: 0.9110 - val_loss: 0.0825 - val_mse: 0.0825 - val_accuracy: 0.9429\n",
      "Epoch 69/80\n",
      "136/136 [==============================] - 4s 29ms/step - loss: 0.0824 - mse: 0.0824 - accuracy: 0.9106 - val_loss: 0.0776 - val_mse: 0.0776 - val_accuracy: 0.9208\n",
      "Epoch 70/80\n",
      "136/136 [==============================] - 4s 30ms/step - loss: 0.0795 - mse: 0.0795 - accuracy: 0.9097 - val_loss: 0.1115 - val_mse: 0.1115 - val_accuracy: 0.8711\n",
      "Epoch 71/80\n",
      "136/136 [==============================] - 4s 29ms/step - loss: 0.0799 - mse: 0.0799 - accuracy: 0.9117 - val_loss: 0.0664 - val_mse: 0.0664 - val_accuracy: 0.9392\n",
      "Epoch 72/80\n",
      "136/136 [==============================] - 4s 29ms/step - loss: 0.0795 - mse: 0.0795 - accuracy: 0.9115 - val_loss: 0.1737 - val_mse: 0.1737 - val_accuracy: 0.8379\n",
      "Epoch 73/80\n",
      "136/136 [==============================] - 4s 29ms/step - loss: 0.0786 - mse: 0.0786 - accuracy: 0.9071 - val_loss: 0.0988 - val_mse: 0.0988 - val_accuracy: 0.9134\n",
      "Epoch 74/80\n",
      "136/136 [==============================] - 4s 28ms/step - loss: 0.0796 - mse: 0.0796 - accuracy: 0.9078 - val_loss: 0.0756 - val_mse: 0.0756 - val_accuracy: 0.9153\n",
      "Epoch 75/80\n",
      "136/136 [==============================] - 4s 29ms/step - loss: 0.0795 - mse: 0.0795 - accuracy: 0.9094 - val_loss: 0.0785 - val_mse: 0.0785 - val_accuracy: 0.9245\n",
      "Epoch 76/80\n",
      "136/136 [==============================] - 4s 29ms/step - loss: 0.0785 - mse: 0.0785 - accuracy: 0.9136 - val_loss: 0.0659 - val_mse: 0.0659 - val_accuracy: 0.9319\n",
      "Epoch 77/80\n",
      "136/136 [==============================] - 4s 29ms/step - loss: 0.0772 - mse: 0.0772 - accuracy: 0.9080 - val_loss: 0.0733 - val_mse: 0.0733 - val_accuracy: 0.9190\n",
      "Epoch 78/80\n",
      "136/136 [==============================] - 4s 30ms/step - loss: 0.0766 - mse: 0.0766 - accuracy: 0.9110 - val_loss: 0.0702 - val_mse: 0.0702 - val_accuracy: 0.9429\n",
      "Epoch 79/80\n",
      "136/136 [==============================] - 4s 29ms/step - loss: 0.0785 - mse: 0.0785 - accuracy: 0.9138 - val_loss: 0.0582 - val_mse: 0.0582 - val_accuracy: 0.9503\n",
      "Epoch 80/80\n",
      "136/136 [==============================] - 4s 29ms/step - loss: 0.0772 - mse: 0.0772 - accuracy: 0.9173 - val_loss: 0.0599 - val_mse: 0.0599 - val_accuracy: 0.9374\n"
     ]
    }
   ],
   "source": [
    "#train\n",
    "epoch_qty = 80\n",
    "callback = tf.keras.callbacks.EarlyStopping(monitor='loss', \n",
    "                                                patience=5)\n",
    "history = model_conv1D.fit(X_train_reshaped, y_train, epochs=epoch_qty,\n",
    "                    validation_data = (X_val_reshaped, y_val), \n",
    "                           verbose=1, callbacks=[callback])"
   ]
  },
  {
   "cell_type": "code",
   "execution_count": 42,
   "id": "9c545071",
   "metadata": {},
   "outputs": [
    {
     "name": "stdout",
     "output_type": "stream",
     "text": [
      "Testing set Mean Abs Error:   53.54\n"
     ]
    },
    {
     "data": {
      "image/png": "[encoded data removed]",
      "text/plain": [
       "<Figure size 720x432 with 1 Axes>"
      ]
     },
     "metadata": {
      "needs_background": "light"
     },
     "output_type": "display_data"
    }
   ],
   "source": [
    "[loss, mae, accuracy] = model_conv1D.evaluate(X_test_reshaped, y_test, verbose=0)\n",
    "print(\"Testing set Mean Abs Error: {:7.2f}\".format(mae * 1000))\n",
    "\n",
    "pred =model_conv1D.predict(X_test_reshaped)\n",
    "\n",
    "y_pred_inv = standardScaler.inverse_transform(y)\n",
    "\n",
    "\n",
    "train_loss = history.history['loss']\n",
    "\n",
    "\n",
    "val_loss = history.history['val_loss']\n",
    "\n",
    "\n",
    "def plot_train_val(A, B, n, xlabel, ylabel, title):\n",
    "    pltp.figure(1, figsize=(10, 6))\n",
    "    pltp.plot(range(n),A)\n",
    "    pltp.plot(range(n),B)\n",
    "    pltp.ylabel(xlabel)\n",
    "    pltp.xlabel(ylabel)\n",
    "    pltp.title(title)\n",
    "    pltp.grid(True)\n",
    "    pltp.legend(['Training', 'Validation'])\n",
    "    pltp.show()\n",
    "\n",
    "\n",
    "plot_train_val(train_loss, val_loss, epoch_qty, 'Loss', 'Number of epochs', 'Training loss vs Validation loss')"
   ]
  },
  {
   "cell_type": "code",
   "execution_count": null,
   "id": "dc5237c9",
   "metadata": {},
   "outputs": [],
   "source": []
  }
 ],
 "metadata": {
  "kernelspec": {
   "display_name": "Python 3 (ipykernel)",
   "language": "python",
   "name": "python3"
  },
  "language_info": {
   "codemirror_mode": {
    "name": "ipython",
    "version": 3
   },
   "file_extension": ".py",
   "mimetype": "text/x-python",
   "name": "python",
   "nbconvert_exporter": "python",
   "pygments_lexer": "ipython3",
   "version": "3.9.7"
  }
 },
 "nbformat": 4,
 "nbformat_minor": 5
}
