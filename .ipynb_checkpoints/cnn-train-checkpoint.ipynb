{
 "cells": [
  {
   "cell_type": "code",
   "execution_count": 1,
   "id": "56ecb0a3",
   "metadata": {},
   "outputs": [],
   "source": [
    "import numpy as np\n",
    "import pandas as pd\n",
    "import matplotlib as plt\n",
    "from matplotlib import pyplot as pltp\n",
    "import tensorflow as tf\n",
    "import glob\n",
    "from sklearn.preprocessing import MinMaxScaler, StandardScaler\n",
    "from sklearn.model_selection import train_test_split\n",
    "from sklearn.metrics import classification_report, plot_confusion_matrix"
   ]
  },
  {
   "cell_type": "code",
   "execution_count": 2,
   "id": "f32fc74e",
   "metadata": {},
   "outputs": [],
   "source": [
    "#Función que separa los parametros t,g,v del fileName\n",
    "def separateParams(fileName):\n",
    "    t = fileName.split(\"t\")[1].split(\"g\")[0]\n",
    "    rest_of = fileName.split(\"t\")[1].split(\"g\")[1].split(\"v\")\n",
    "    g, v = rest_of\n",
    "    return float(t), float(g)/10, float(v)"
   ]
  },
  {
   "cell_type": "code",
   "execution_count": 3,
   "id": "a9585efc",
   "metadata": {},
   "outputs": [],
   "source": [
    "#Se definen los sets de training, test y validación\n",
    "def train_val_test_split(X, y, train_size, val_size, test_size, random_state = 1):\n",
    "    if train_size + val_size + test_size != 1.0:\n",
    "        print(\"Incorrect sizes!\")\n",
    "        return None \n",
    "    X_tmp, X_test, y_tmp, y_test = train_test_split(X, y, test_size = test_size, random_state=random_state)\n",
    "    X_train, X_val, y_train, y_val = train_test_split(X_tmp, y_tmp, test_size = val_size/(test_size + train_size), random_state=random_state)\n",
    "    return X_train, X_val, X_test, y_train, y_val, y_test"
   ]
  },
  {
   "cell_type": "code",
   "execution_count": 4,
   "id": "2d8da443",
   "metadata": {},
   "outputs": [
    {
     "name": "stdout",
     "output_type": "stream",
     "text": [
      "Files qty: 5425\n"
     ]
    }
   ],
   "source": [
    "files = glob.glob('../data-lineas-espectrales/filtered_wv_models/*')\n",
    "file_qty = len(files)\n",
    "print(\"Files qty: {}\".format(file_qty))"
   ]
  },
  {
   "cell_type": "code",
   "execution_count": 5,
   "id": "13e67b8d",
   "metadata": {},
   "outputs": [
    {
     "name": "stdout",
     "output_type": "stream",
     "text": [
      "points: 201 | columns: 2 \n"
     ]
    }
   ],
   "source": [
    "y = np.zeros((file_qty,3))\n",
    "df = pd.read_csv(files[0], sep=\" \", header=None)\n",
    "n_points , n_columns = df.shape\n",
    "print(\"points: {} | columns: {} \".format(n_points, n_columns))"
   ]
  },
  {
   "cell_type": "code",
   "execution_count": 6,
   "id": "210af774",
   "metadata": {},
   "outputs": [
    {
     "name": "stdout",
     "output_type": "stream",
     "text": [
      "(5425, 201)\n",
      "(5425, 3)\n"
     ]
    }
   ],
   "source": [
    "#Matriz que contiene las lineas espectrales\n",
    "X = np.zeros((file_qty, n_points))\n",
    "#Matriz que contiene los labels de cada linea espectral\n",
    "y = np.zeros((file_qty, 3))\n",
    "\n",
    "print(X.shape)\n",
    "print(y.shape)"
   ]
  },
  {
   "cell_type": "code",
   "execution_count": 7,
   "id": "533602ce",
   "metadata": {},
   "outputs": [],
   "source": [
    "#extract files, se almacenan las lineas espectrales y labels en X e y respectivamente\n",
    "for i, name in enumerate(files):\n",
    "    file_name = name.split(\"/\")[-1].split(\".\")[0].split(\"_\")[1]\n",
    "    df = pd.read_csv(name, sep=\" \", header=None)\n",
    "    t, g, v = separateParams(file_name)\n",
    "    #Se almacena la línea espectral\n",
    "    X[i, :] = df[1].values\n",
    "    #Se almacena el label de la linea espectral\n",
    "    y[i] = t, g, v"
   ]
  },
  {
   "cell_type": "code",
   "execution_count": 8,
   "id": "4e3e43ed",
   "metadata": {},
   "outputs": [
    {
     "name": "stdout",
     "output_type": "stream",
     "text": [
      "[[3.5e+04 2.0e+00 2.8e+02]\n",
      " [2.0e+04 2.0e+00 2.6e+02]\n",
      " [2.8e+04 2.0e+00 3.5e+02]\n",
      " [1.7e+04 3.0e+00 1.7e+02]]\n"
     ]
    }
   ],
   "source": [
    "print(y[:4])"
   ]
  },
  {
   "cell_type": "code",
   "execution_count": 9,
   "id": "7aae3a8f",
   "metadata": {},
   "outputs": [],
   "source": [
    "#se normaliza y\n",
    "standardScaler = StandardScaler()\n",
    "standardScaler.fit(y)\n",
    "normalized_y = standardScaler.transform(y)"
   ]
  },
  {
   "cell_type": "code",
   "execution_count": 10,
   "id": "00d7857b",
   "metadata": {},
   "outputs": [],
   "source": [
    "X_train, X_val, X_test, y_train, y_val, y_test = train_val_test_split(X, normalized_y, .8, .1, .1)"
   ]
  },
  {
   "cell_type": "code",
   "execution_count": 11,
   "id": "714278b3",
   "metadata": {},
   "outputs": [
    {
     "name": "stdout",
     "output_type": "stream",
     "text": [
      "(4339, 201) (4339, 3)\n",
      "(543, 201) (543, 3)\n",
      "(543, 201) (543, 3)\n"
     ]
    }
   ],
   "source": [
    "print(X_train.shape, y_train.shape)\n",
    "print(X_val.shape, y_val.shape)\n",
    "print(X_test.shape, y_test.shape)"
   ]
  },
  {
   "cell_type": "code",
   "execution_count": 12,
   "id": "d5f685d4",
   "metadata": {},
   "outputs": [
    {
     "name": "stdout",
     "output_type": "stream",
     "text": [
      "201\n"
     ]
    }
   ],
   "source": [
    "time_steps = X.shape[1]\n",
    "input_dimension = 1\n",
    "print(time_steps)"
   ]
  },
  {
   "cell_type": "code",
   "execution_count": 13,
   "id": "c3fdf954",
   "metadata": {},
   "outputs": [
    {
     "name": "stdout",
     "output_type": "stream",
     "text": [
      "reshaped X_train: (4339, 201, 1)\n",
      "reshaped X_val: (543, 201, 1)\n",
      "reshaped X_test: (543, 201, 1)\n"
     ]
    }
   ],
   "source": [
    "sample_size = X_train.shape[0]\n",
    "X_train_reshaped = X_train.reshape((sample_size, time_steps, input_dimension))\n",
    "sample_size = X_val.shape[0]\n",
    "X_val_reshaped = X_val.reshape((sample_size, time_steps, input_dimension))\n",
    "sample_size = X_test.shape[0]\n",
    "X_test_reshaped = X_test.reshape((sample_size, time_steps, input_dimension))\n",
    "print(\"reshaped X_train: {}\".format(X_train_reshaped.shape))\n",
    "print(\"reshaped X_val: {}\".format(X_val_reshaped.shape))\n",
    "print(\"reshaped X_test: {}\".format(X_test_reshaped.shape))"
   ]
  },
  {
   "cell_type": "code",
   "execution_count": 77,
   "id": "be7ede77",
   "metadata": {},
   "outputs": [
    {
     "name": "stdout",
     "output_type": "stream",
     "text": [
      "Model: \"model_conv1D\"\n",
      "_________________________________________________________________\n",
      " Layer (type)                Output Shape              Param #   \n",
      "=================================================================\n",
      " conv1d_7 (Conv1D)           (None, 199, 64)           256       \n",
      "                                                                 \n",
      " Conv1D_1 (Conv1D)           (None, 193, 32)           14368     \n",
      "                                                                 \n",
      " Conv1D_2 (Conv1D)           (None, 191, 16)           1552      \n",
      "                                                                 \n",
      " Conv1D_3 (Conv1D)           (None, 189, 8)            392       \n",
      "                                                                 \n",
      " flatten_5 (Flatten)         (None, 1512)              0         \n",
      "                                                                 \n",
      " Dense_00 (Dense)            (None, 128)               193664    \n",
      "                                                                 \n",
      " Dense_0 (Dense)             (None, 64)                8256      \n",
      "                                                                 \n",
      " Dense_1 (Dense)             (None, 32)                2080      \n",
      "                                                                 \n",
      " dense_4 (Dense)             (None, 10)                330       \n",
      "                                                                 \n",
      " Dense_4 (Dense)             (None, 3)                 33        \n",
      "                                                                 \n",
      "=================================================================\n",
      "Total params: 220,931\n",
      "Trainable params: 220,931\n",
      "Non-trainable params: 0\n",
      "_________________________________________________________________\n"
     ]
    }
   ],
   "source": [
    "#Arquitectura de la red\n",
    "def build_conv1D_model():\n",
    "    n_timesteps = X_train_reshaped.shape[1] #210\n",
    "    n_features  = X_train_reshaped.shape[2] #1 \n",
    "    model = tf.keras.Sequential(name=\"model_conv1D\")\n",
    "    model.add(tf.keras.layers.Input(shape=(n_timesteps,n_features)))\n",
    "    model.add(tf.keras.layers.Conv1D(filters=64, kernel_size=3, activation='elu'))\n",
    "    #model.add(tf.keras.layers.Conv1D(filters=64, kernel_size=3, activation='relu', name=\"Conv1D_0\"))\n",
    "    model.add(tf.keras.layers.Conv1D(filters=32, kernel_size=7, activation='softmax', name=\"Conv1D_1\"))\n",
    "    model.add(tf.keras.layers.Conv1D(filters=16, kernel_size=3, activation='selu', name=\"Conv1D_2\"))\n",
    "    model.add(tf.keras.layers.Conv1D(filters=8, kernel_size=3, activation='sigmoid', name=\"Conv1D_3\"))\n",
    "    tf.keras.layers.BatchNormalization()\n",
    "    model.add(tf.keras.layers.Flatten())\n",
    "    model.add(tf.keras.layers.Dense(128,activation='elu', name=\"Dense_00\"))\n",
    "    model.add(tf.keras.layers.Dense(64,activation='relu', name=\"Dense_0\"))\n",
    "    model.add(tf.keras.layers.Dense(32, activation= \"selu\", name=\"Dense_1\"))\n",
    "    model.add(tf.keras.layers.Dense(10, activation='softmax'))\n",
    "    model.add(tf.keras.layers.Dense(3, activation = \"linear\", name=\"Dense_4\"))\n",
    "    \n",
    "\n",
    "\n",
    "    optimizer = tf.keras.optimizers.RMSprop(0.001)\n",
    "\n",
    "    l = tf.keras.losses.LogCosh()\n",
    "    \n",
    "    \n",
    "    model.compile(loss='mse',optimizer=optimizer,metrics=['mse', 'accuracy'])\n",
    "    return model\n",
    "\n",
    "model_conv1D = build_conv1D_model()\n",
    "model_conv1D.summary()"
   ]
  },
  {
   "cell_type": "code",
   "execution_count": 78,
   "id": "0a7264bf",
   "metadata": {},
   "outputs": [
    {
     "name": "stdout",
     "output_type": "stream",
     "text": [
      "Epoch 1/80\n",
      "136/136 [==============================] - 4s 22ms/step - loss: 1.0248 - mse: 1.0248 - accuracy: 0.3390 - val_loss: 1.0021 - val_mse: 1.0021 - val_accuracy: 0.3039\n",
      "Epoch 2/80\n",
      "136/136 [==============================] - 3s 21ms/step - loss: 1.0093 - mse: 1.0093 - accuracy: 0.3395 - val_loss: 0.9769 - val_mse: 0.9769 - val_accuracy: 0.3039\n",
      "Epoch 3/80\n",
      "136/136 [==============================] - 3s 25ms/step - loss: 1.0052 - mse: 1.0052 - accuracy: 0.3489 - val_loss: 0.9629 - val_mse: 0.9629 - val_accuracy: 0.3370\n",
      "Epoch 4/80\n",
      "136/136 [==============================] - 3s 21ms/step - loss: 0.7844 - mse: 0.7844 - accuracy: 0.6117 - val_loss: 0.6629 - val_mse: 0.6629 - val_accuracy: 0.6519\n",
      "Epoch 5/80\n",
      "136/136 [==============================] - 3s 20ms/step - loss: 0.6245 - mse: 0.6245 - accuracy: 0.7172 - val_loss: 0.6049 - val_mse: 0.6049 - val_accuracy: 0.6611\n",
      "Epoch 6/80\n",
      "136/136 [==============================] - 3s 20ms/step - loss: 0.5550 - mse: 0.5550 - accuracy: 0.7495 - val_loss: 0.4991 - val_mse: 0.4991 - val_accuracy: 0.7827\n",
      "Epoch 7/80\n",
      "136/136 [==============================] - 3s 20ms/step - loss: 0.5203 - mse: 0.5203 - accuracy: 0.7516 - val_loss: 0.5137 - val_mse: 0.5137 - val_accuracy: 0.6832\n",
      "Epoch 8/80\n",
      "136/136 [==============================] - 3s 19ms/step - loss: 0.4922 - mse: 0.4922 - accuracy: 0.7564 - val_loss: 0.4580 - val_mse: 0.4580 - val_accuracy: 0.7808\n",
      "Epoch 9/80\n",
      "136/136 [==============================] - 3s 19ms/step - loss: 0.4736 - mse: 0.4736 - accuracy: 0.7541 - val_loss: 0.4472 - val_mse: 0.4472 - val_accuracy: 0.7624\n",
      "Epoch 10/80\n",
      "136/136 [==============================] - 3s 20ms/step - loss: 0.4592 - mse: 0.4592 - accuracy: 0.7610 - val_loss: 0.4243 - val_mse: 0.4243 - val_accuracy: 0.7587\n",
      "Epoch 11/80\n",
      "136/136 [==============================] - 3s 20ms/step - loss: 0.4489 - mse: 0.4489 - accuracy: 0.7631 - val_loss: 0.4219 - val_mse: 0.4219 - val_accuracy: 0.7864\n",
      "Epoch 12/80\n",
      "136/136 [==============================] - 3s 20ms/step - loss: 0.4319 - mse: 0.4319 - accuracy: 0.7679 - val_loss: 0.4319 - val_mse: 0.4319 - val_accuracy: 0.7827\n",
      "Epoch 13/80\n",
      "136/136 [==============================] - 3s 22ms/step - loss: 0.4145 - mse: 0.4145 - accuracy: 0.7741 - val_loss: 0.4071 - val_mse: 0.4071 - val_accuracy: 0.8048\n",
      "Epoch 14/80\n",
      "136/136 [==============================] - 3s 21ms/step - loss: 0.3966 - mse: 0.3966 - accuracy: 0.7834 - val_loss: 0.4463 - val_mse: 0.4463 - val_accuracy: 0.7495\n",
      "Epoch 15/80\n",
      "136/136 [==============================] - 3s 19ms/step - loss: 0.3794 - mse: 0.3794 - accuracy: 0.7894 - val_loss: 0.3843 - val_mse: 0.3843 - val_accuracy: 0.8103\n",
      "Epoch 16/80\n",
      "136/136 [==============================] - 2s 18ms/step - loss: 0.3572 - mse: 0.3572 - accuracy: 0.7942 - val_loss: 0.3132 - val_mse: 0.3132 - val_accuracy: 0.7753\n",
      "Epoch 17/80\n",
      "136/136 [==============================] - 3s 20ms/step - loss: 0.3347 - mse: 0.3347 - accuracy: 0.8066 - val_loss: 0.2875 - val_mse: 0.2875 - val_accuracy: 0.8306\n",
      "Epoch 18/80\n",
      "136/136 [==============================] - 3s 20ms/step - loss: 0.3121 - mse: 0.3121 - accuracy: 0.8154 - val_loss: 0.3650 - val_mse: 0.3650 - val_accuracy: 0.8195\n",
      "Epoch 19/80\n",
      "136/136 [==============================] - 3s 20ms/step - loss: 0.3024 - mse: 0.3024 - accuracy: 0.8186 - val_loss: 0.3198 - val_mse: 0.3198 - val_accuracy: 0.8011\n",
      "Epoch 20/80\n",
      "136/136 [==============================] - 3s 20ms/step - loss: 0.2751 - mse: 0.2751 - accuracy: 0.8311 - val_loss: 0.2099 - val_mse: 0.2099 - val_accuracy: 0.8545\n",
      "Epoch 21/80\n",
      "136/136 [==============================] - 3s 20ms/step - loss: 0.2600 - mse: 0.2600 - accuracy: 0.8345 - val_loss: 0.2263 - val_mse: 0.2263 - val_accuracy: 0.8600\n",
      "Epoch 22/80\n",
      "136/136 [==============================] - 3s 20ms/step - loss: 0.2387 - mse: 0.2387 - accuracy: 0.8336 - val_loss: 0.3030 - val_mse: 0.3030 - val_accuracy: 0.7993\n",
      "Epoch 23/80\n",
      "136/136 [==============================] - 3s 20ms/step - loss: 0.2277 - mse: 0.2277 - accuracy: 0.8417 - val_loss: 0.1928 - val_mse: 0.1928 - val_accuracy: 0.8582\n",
      "Epoch 24/80\n",
      "136/136 [==============================] - 3s 20ms/step - loss: 0.2137 - mse: 0.2137 - accuracy: 0.8488 - val_loss: 0.3104 - val_mse: 0.3104 - val_accuracy: 0.8195\n",
      "Epoch 25/80\n",
      "136/136 [==============================] - 3s 20ms/step - loss: 0.2051 - mse: 0.2051 - accuracy: 0.8463 - val_loss: 0.5975 - val_mse: 0.5975 - val_accuracy: 0.6335\n",
      "Epoch 26/80\n",
      "136/136 [==============================] - 3s 19ms/step - loss: 0.2039 - mse: 0.2039 - accuracy: 0.8472 - val_loss: 0.1643 - val_mse: 0.1643 - val_accuracy: 0.8674\n",
      "Epoch 27/80\n",
      "136/136 [==============================] - 3s 20ms/step - loss: 0.1925 - mse: 0.1925 - accuracy: 0.8566 - val_loss: 0.1510 - val_mse: 0.1510 - val_accuracy: 0.8858\n",
      "Epoch 28/80\n",
      "136/136 [==============================] - 3s 19ms/step - loss: 0.1819 - mse: 0.1819 - accuracy: 0.8659 - val_loss: 0.2333 - val_mse: 0.2333 - val_accuracy: 0.8269\n",
      "Epoch 29/80\n",
      "136/136 [==============================] - 3s 19ms/step - loss: 0.1836 - mse: 0.1836 - accuracy: 0.8633 - val_loss: 0.2431 - val_mse: 0.2431 - val_accuracy: 0.7661\n",
      "Epoch 30/80\n",
      "136/136 [==============================] - 3s 20ms/step - loss: 0.1767 - mse: 0.1767 - accuracy: 0.8689 - val_loss: 0.2285 - val_mse: 0.2285 - val_accuracy: 0.7808\n",
      "Epoch 31/80\n",
      "136/136 [==============================] - 3s 19ms/step - loss: 0.1715 - mse: 0.1715 - accuracy: 0.8742 - val_loss: 0.1616 - val_mse: 0.1616 - val_accuracy: 0.8821\n",
      "Epoch 32/80\n",
      "136/136 [==============================] - 3s 20ms/step - loss: 0.1623 - mse: 0.1623 - accuracy: 0.8686 - val_loss: 0.1373 - val_mse: 0.1373 - val_accuracy: 0.9006\n",
      "Epoch 33/80\n",
      "136/136 [==============================] - 3s 20ms/step - loss: 0.1621 - mse: 0.1621 - accuracy: 0.8779 - val_loss: 0.1362 - val_mse: 0.1362 - val_accuracy: 0.8877\n",
      "Epoch 34/80\n",
      "136/136 [==============================] - 3s 20ms/step - loss: 0.1582 - mse: 0.1582 - accuracy: 0.8781 - val_loss: 0.4835 - val_mse: 0.4835 - val_accuracy: 0.7643\n",
      "Epoch 35/80\n",
      "136/136 [==============================] - 3s 21ms/step - loss: 0.1552 - mse: 0.1552 - accuracy: 0.8749 - val_loss: 0.2006 - val_mse: 0.2006 - val_accuracy: 0.8711\n",
      "Epoch 36/80\n",
      "136/136 [==============================] - 3s 22ms/step - loss: 0.1503 - mse: 0.1503 - accuracy: 0.8751 - val_loss: 0.1681 - val_mse: 0.1681 - val_accuracy: 0.8656\n",
      "Epoch 37/80\n",
      "136/136 [==============================] - 3s 22ms/step - loss: 0.1479 - mse: 0.1479 - accuracy: 0.8755 - val_loss: 0.1172 - val_mse: 0.1172 - val_accuracy: 0.8895\n",
      "Epoch 38/80\n",
      "136/136 [==============================] - 3s 21ms/step - loss: 0.1410 - mse: 0.1410 - accuracy: 0.8857 - val_loss: 0.1196 - val_mse: 0.1196 - val_accuracy: 0.9006\n",
      "Epoch 39/80\n",
      "136/136 [==============================] - 3s 19ms/step - loss: 0.1408 - mse: 0.1408 - accuracy: 0.8921 - val_loss: 0.2347 - val_mse: 0.2347 - val_accuracy: 0.8398\n",
      "Epoch 40/80\n",
      "136/136 [==============================] - 3s 21ms/step - loss: 0.1403 - mse: 0.1403 - accuracy: 0.8808 - val_loss: 0.1468 - val_mse: 0.1468 - val_accuracy: 0.8877\n",
      "Epoch 41/80\n",
      "136/136 [==============================] - 3s 22ms/step - loss: 0.1379 - mse: 0.1379 - accuracy: 0.8834 - val_loss: 0.1203 - val_mse: 0.1203 - val_accuracy: 0.8969\n",
      "Epoch 42/80\n",
      "136/136 [==============================] - 3s 20ms/step - loss: 0.1344 - mse: 0.1344 - accuracy: 0.8822 - val_loss: 0.1215 - val_mse: 0.1215 - val_accuracy: 0.9208\n",
      "Epoch 43/80\n",
      "136/136 [==============================] - 3s 21ms/step - loss: 0.1336 - mse: 0.1336 - accuracy: 0.8878 - val_loss: 0.1203 - val_mse: 0.1203 - val_accuracy: 0.8987\n",
      "Epoch 44/80\n",
      "136/136 [==============================] - 3s 21ms/step - loss: 0.1266 - mse: 0.1266 - accuracy: 0.8855 - val_loss: 0.1763 - val_mse: 0.1763 - val_accuracy: 0.9006\n",
      "Epoch 45/80\n",
      "136/136 [==============================] - 3s 22ms/step - loss: 0.1270 - mse: 0.1270 - accuracy: 0.8942 - val_loss: 0.1088 - val_mse: 0.1088 - val_accuracy: 0.9079\n",
      "Epoch 46/80\n",
      "136/136 [==============================] - 3s 20ms/step - loss: 0.1235 - mse: 0.1235 - accuracy: 0.8926 - val_loss: 0.1264 - val_mse: 0.1264 - val_accuracy: 0.9153\n",
      "Epoch 47/80\n"
     ]
    },
    {
     "name": "stdout",
     "output_type": "stream",
     "text": [
      "136/136 [==============================] - 3s 21ms/step - loss: 0.1210 - mse: 0.1210 - accuracy: 0.8919 - val_loss: 0.1299 - val_mse: 0.1299 - val_accuracy: 0.9042\n",
      "Epoch 48/80\n",
      "136/136 [==============================] - 3s 21ms/step - loss: 0.1225 - mse: 0.1225 - accuracy: 0.8970 - val_loss: 0.1424 - val_mse: 0.1424 - val_accuracy: 0.8895\n",
      "Epoch 49/80\n",
      "136/136 [==============================] - 3s 19ms/step - loss: 0.1206 - mse: 0.1206 - accuracy: 0.8963 - val_loss: 0.0918 - val_mse: 0.0918 - val_accuracy: 0.9227\n",
      "Epoch 50/80\n",
      "136/136 [==============================] - 3s 19ms/step - loss: 0.1165 - mse: 0.1165 - accuracy: 0.8914 - val_loss: 0.1405 - val_mse: 0.1405 - val_accuracy: 0.9042\n",
      "Epoch 51/80\n",
      "136/136 [==============================] - 3s 20ms/step - loss: 0.1159 - mse: 0.1159 - accuracy: 0.8972 - val_loss: 0.0838 - val_mse: 0.0838 - val_accuracy: 0.9208\n",
      "Epoch 52/80\n",
      "136/136 [==============================] - 3s 20ms/step - loss: 0.1114 - mse: 0.1114 - accuracy: 0.8928 - val_loss: 0.1111 - val_mse: 0.1111 - val_accuracy: 0.8932\n",
      "Epoch 53/80\n",
      "136/136 [==============================] - 3s 20ms/step - loss: 0.1159 - mse: 0.1159 - accuracy: 0.8963 - val_loss: 0.1018 - val_mse: 0.1018 - val_accuracy: 0.9006\n",
      "Epoch 54/80\n",
      "136/136 [==============================] - 3s 21ms/step - loss: 0.1121 - mse: 0.1121 - accuracy: 0.8972 - val_loss: 0.0961 - val_mse: 0.0961 - val_accuracy: 0.9190\n",
      "Epoch 55/80\n",
      "136/136 [==============================] - 3s 21ms/step - loss: 0.1109 - mse: 0.1109 - accuracy: 0.8970 - val_loss: 0.0832 - val_mse: 0.0832 - val_accuracy: 0.9171\n",
      "Epoch 56/80\n",
      "136/136 [==============================] - 3s 20ms/step - loss: 0.1113 - mse: 0.1113 - accuracy: 0.9018 - val_loss: 0.0922 - val_mse: 0.0922 - val_accuracy: 0.9245\n",
      "Epoch 57/80\n",
      "136/136 [==============================] - 3s 20ms/step - loss: 0.1075 - mse: 0.1075 - accuracy: 0.9002 - val_loss: 0.1119 - val_mse: 0.1119 - val_accuracy: 0.8582\n",
      "Epoch 58/80\n",
      "136/136 [==============================] - 3s 22ms/step - loss: 0.1096 - mse: 0.1096 - accuracy: 0.9021 - val_loss: 0.0925 - val_mse: 0.0925 - val_accuracy: 0.9208\n",
      "Epoch 59/80\n",
      "136/136 [==============================] - 3s 24ms/step - loss: 0.1078 - mse: 0.1078 - accuracy: 0.9000 - val_loss: 0.1027 - val_mse: 0.1027 - val_accuracy: 0.9208\n",
      "Epoch 60/80\n",
      "136/136 [==============================] - 3s 22ms/step - loss: 0.1038 - mse: 0.1038 - accuracy: 0.9074 - val_loss: 0.0896 - val_mse: 0.0896 - val_accuracy: 0.9208\n",
      "Epoch 61/80\n",
      "136/136 [==============================] - 3s 24ms/step - loss: 0.1054 - mse: 0.1054 - accuracy: 0.9037 - val_loss: 0.1127 - val_mse: 0.1127 - val_accuracy: 0.9171\n",
      "Epoch 62/80\n",
      "136/136 [==============================] - 3s 23ms/step - loss: 0.1039 - mse: 0.1039 - accuracy: 0.9076 - val_loss: 0.1264 - val_mse: 0.1264 - val_accuracy: 0.8858\n",
      "Epoch 63/80\n",
      "136/136 [==============================] - 3s 24ms/step - loss: 0.1015 - mse: 0.1015 - accuracy: 0.9044 - val_loss: 0.0860 - val_mse: 0.0860 - val_accuracy: 0.9171\n",
      "Epoch 64/80\n",
      "136/136 [==============================] - 3s 21ms/step - loss: 0.1029 - mse: 0.1029 - accuracy: 0.8979 - val_loss: 0.1037 - val_mse: 0.1037 - val_accuracy: 0.9282\n",
      "Epoch 65/80\n",
      "136/136 [==============================] - 3s 21ms/step - loss: 0.1023 - mse: 0.1023 - accuracy: 0.9067 - val_loss: 0.1810 - val_mse: 0.1810 - val_accuracy: 0.8582\n",
      "Epoch 66/80\n",
      "136/136 [==============================] - 3s 20ms/step - loss: 0.1031 - mse: 0.1031 - accuracy: 0.9064 - val_loss: 0.0860 - val_mse: 0.0860 - val_accuracy: 0.9098\n",
      "Epoch 67/80\n",
      "136/136 [==============================] - 3s 21ms/step - loss: 0.1045 - mse: 0.1045 - accuracy: 0.8984 - val_loss: 0.1270 - val_mse: 0.1270 - val_accuracy: 0.9098\n",
      "Epoch 68/80\n",
      "136/136 [==============================] - 3s 21ms/step - loss: 0.0974 - mse: 0.0974 - accuracy: 0.9053 - val_loss: 0.1285 - val_mse: 0.1285 - val_accuracy: 0.8913\n",
      "Epoch 69/80\n",
      "136/136 [==============================] - 3s 20ms/step - loss: 0.1004 - mse: 0.1004 - accuracy: 0.9027 - val_loss: 0.0838 - val_mse: 0.0838 - val_accuracy: 0.9171\n",
      "Epoch 70/80\n",
      "136/136 [==============================] - 3s 23ms/step - loss: 0.1009 - mse: 0.1009 - accuracy: 0.9097 - val_loss: 0.1587 - val_mse: 0.1587 - val_accuracy: 0.8895\n",
      "Epoch 71/80\n",
      "136/136 [==============================] - 3s 23ms/step - loss: 0.0968 - mse: 0.0968 - accuracy: 0.9083 - val_loss: 0.1062 - val_mse: 0.1062 - val_accuracy: 0.8840\n",
      "Epoch 72/80\n",
      "136/136 [==============================] - 3s 21ms/step - loss: 0.0977 - mse: 0.0977 - accuracy: 0.9023 - val_loss: 0.0724 - val_mse: 0.0724 - val_accuracy: 0.9355\n",
      "Epoch 73/80\n",
      "136/136 [==============================] - 3s 23ms/step - loss: 0.0987 - mse: 0.0987 - accuracy: 0.9099 - val_loss: 0.1006 - val_mse: 0.1006 - val_accuracy: 0.9134\n",
      "Epoch 74/80\n",
      "136/136 [==============================] - 3s 22ms/step - loss: 0.0920 - mse: 0.0920 - accuracy: 0.9025 - val_loss: 0.0813 - val_mse: 0.0813 - val_accuracy: 0.9190\n",
      "Epoch 75/80\n",
      "136/136 [==============================] - 3s 22ms/step - loss: 0.0949 - mse: 0.0949 - accuracy: 0.9110 - val_loss: 0.0928 - val_mse: 0.0928 - val_accuracy: 0.8987\n",
      "Epoch 76/80\n",
      "136/136 [==============================] - 3s 24ms/step - loss: 0.0980 - mse: 0.0980 - accuracy: 0.9067 - val_loss: 0.0951 - val_mse: 0.0951 - val_accuracy: 0.8987\n",
      "Epoch 77/80\n",
      "136/136 [==============================] - 3s 21ms/step - loss: 0.0938 - mse: 0.0938 - accuracy: 0.9090 - val_loss: 0.0881 - val_mse: 0.0881 - val_accuracy: 0.9208\n",
      "Epoch 78/80\n",
      "136/136 [==============================] - 3s 21ms/step - loss: 0.0921 - mse: 0.0921 - accuracy: 0.9120 - val_loss: 0.1376 - val_mse: 0.1376 - val_accuracy: 0.8895\n",
      "Epoch 79/80\n",
      "136/136 [==============================] - 3s 20ms/step - loss: 0.0923 - mse: 0.0923 - accuracy: 0.9048 - val_loss: 0.0757 - val_mse: 0.0757 - val_accuracy: 0.9282\n"
     ]
    }
   ],
   "source": [
    "#train\n",
    "epoch_qty = 80\n",
    "callback = tf.keras.callbacks.EarlyStopping(monitor='loss', \n",
    "                                                patience=5)\n",
    "history = model_conv1D.fit(X_train_reshaped, y_train, epochs=epoch_qty,\n",
    "                    validation_data = (X_val_reshaped, y_val), \n",
    "                           verbose=1, callbacks=[callback])"
   ]
  },
  {
   "cell_type": "code",
   "execution_count": 79,
   "id": "9c545071",
   "metadata": {},
   "outputs": [
    {
     "name": "stdout",
     "output_type": "stream",
     "text": [
      "Testing set Mean Abs Error:   66.30\n"
     ]
    },
    {
     "data": {
      "image/png": "[encoded data removed]",
      "text/plain": [
       "<Figure size 720x432 with 1 Axes>"
      ]
     },
     "metadata": {
      "needs_background": "light"
     },
     "output_type": "display_data"
    }
   ],
   "source": [
    "[loss, mae, accuracy] = model_conv1D.evaluate(X_test_reshaped, y_test, verbose=0)\n",
    "print(\"Testing set Mean Abs Error: {:7.2f}\".format(mae * 1000))\n",
    "\n",
    "pred =model_conv1D.predict(X_test_reshaped)\n",
    "\n",
    "y_pred_inv = standardScaler.inverse_transform(y)\n",
    "\n",
    "\n",
    "train_loss = history.history['loss']\n",
    "\n",
    "\n",
    "val_loss = history.history['val_loss']\n",
    "\n",
    "\n",
    "def plot_train_val(A, B, n, xlabel, ylabel, title):\n",
    "    pltp.figure(1, figsize=(10, 6))\n",
    "    pltp.plot(range(n),A)\n",
    "    pltp.plot(range(n),B)\n",
    "    pltp.ylabel(xlabel)\n",
    "    pltp.xlabel(ylabel)\n",
    "    pltp.title(title)\n",
    "    pltp.grid(True)\n",
    "    pltp.legend(['Training', 'Validation'])\n",
    "    pltp.show()\n",
    "\n",
    "\n",
    "plot_train_val(train_loss, val_loss, 79, 'Loss', 'Number of epochs', 'Training loss vs Validation loss')"
   ]
  },
  {
   "cell_type": "code",
   "execution_count": 80,
   "id": "dc5237c9",
   "metadata": {},
   "outputs": [],
   "source": [
    "model_conv1D.save('../abs_error_66_3.h5')"
   ]
  },
  {
   "cell_type": "code",
   "execution_count": 81,
   "id": "a6fa58cb",
   "metadata": {},
   "outputs": [
    {
     "name": "stderr",
     "output_type": "stream",
     "text": [
      "/var/folders/w9/gh780vs52dgb_ypr6vd5g_4m0000gn/T/ipykernel_1020/942857022.py:7: UserWarning: Boolean Series key will be reindexed to match DataFrame index.\n",
      "  df2 = df[m1][m2]\n"
     ]
    },
    {
     "data": {
      "text/html": [
       "<div>\n",
       "<style scoped>\n",
       "    .dataframe tbody tr th:only-of-type {\n",
       "        vertical-align: middle;\n",
       "    }\n",
       "\n",
       "    .dataframe tbody tr th {\n",
       "        vertical-align: top;\n",
       "    }\n",
       "\n",
       "    .dataframe thead th {\n",
       "        text-align: right;\n",
       "    }\n",
       "</style>\n",
       "<table border=\"1\" class=\"dataframe\">\n",
       "  <thead>\n",
       "    <tr style=\"text-align: right;\">\n",
       "      <th></th>\n",
       "      <th>0</th>\n",
       "      <th>1</th>\n",
       "    </tr>\n",
       "  </thead>\n",
       "  <tbody>\n",
       "    <tr>\n",
       "      <th>2367</th>\n",
       "      <td>4460.022618</td>\n",
       "      <td>0.979893</td>\n",
       "    </tr>\n",
       "    <tr>\n",
       "      <th>2368</th>\n",
       "      <td>4460.111978</td>\n",
       "      <td>0.998823</td>\n",
       "    </tr>\n",
       "    <tr>\n",
       "      <th>2369</th>\n",
       "      <td>4460.201338</td>\n",
       "      <td>1.020981</td>\n",
       "    </tr>\n",
       "    <tr>\n",
       "      <th>2370</th>\n",
       "      <td>4460.290697</td>\n",
       "      <td>1.021009</td>\n",
       "    </tr>\n",
       "    <tr>\n",
       "      <th>2371</th>\n",
       "      <td>4460.380057</td>\n",
       "      <td>1.018809</td>\n",
       "    </tr>\n",
       "    <tr>\n",
       "      <th>...</th>\n",
       "      <td>...</td>\n",
       "      <td>...</td>\n",
       "    </tr>\n",
       "    <tr>\n",
       "      <th>2586</th>\n",
       "      <td>4479.592386</td>\n",
       "      <td>0.986350</td>\n",
       "    </tr>\n",
       "    <tr>\n",
       "      <th>2587</th>\n",
       "      <td>4479.681746</td>\n",
       "      <td>0.977661</td>\n",
       "    </tr>\n",
       "    <tr>\n",
       "      <th>2588</th>\n",
       "      <td>4479.771106</td>\n",
       "      <td>0.998069</td>\n",
       "    </tr>\n",
       "    <tr>\n",
       "      <th>2589</th>\n",
       "      <td>4479.860465</td>\n",
       "      <td>0.996876</td>\n",
       "    </tr>\n",
       "    <tr>\n",
       "      <th>2590</th>\n",
       "      <td>4479.949825</td>\n",
       "      <td>0.948284</td>\n",
       "    </tr>\n",
       "  </tbody>\n",
       "</table>\n",
       "<p>224 rows × 2 columns</p>\n",
       "</div>"
      ],
      "text/plain": [
       "                0         1\n",
       "2367  4460.022618  0.979893\n",
       "2368  4460.111978  0.998823\n",
       "2369  4460.201338  1.020981\n",
       "2370  4460.290697  1.021009\n",
       "2371  4460.380057  1.018809\n",
       "...           ...       ...\n",
       "2586  4479.592386  0.986350\n",
       "2587  4479.681746  0.977661\n",
       "2588  4479.771106  0.998069\n",
       "2589  4479.860465  0.996876\n",
       "2590  4479.949825  0.948284\n",
       "\n",
       "[224 rows x 2 columns]"
      ]
     },
     "execution_count": 81,
     "metadata": {},
     "output_type": "execute_result"
    }
   ],
   "source": [
    "#read besos\n",
    "df = pd.read_csv(\"../data-lineas-espectrales/BESOS/2_Be_stars/HD37041/hd37041_2014-01-29_03-58-58_final_corr.txt\", sep=\"\\t\", header=None)\n",
    "\n",
    "m1 = df[0] >= 4460\n",
    "m2 = df[0] <= 4480\n",
    "\n",
    "df2 = df[m1][m2]\n",
    "\n",
    "df2"
   ]
  },
  {
   "cell_type": "code",
   "execution_count": 82,
   "id": "7bc2a25a",
   "metadata": {},
   "outputs": [
    {
     "data": {
      "image/png": "[encoded data removed]",
      "text/plain": [
       "<Figure size 576x432 with 1 Axes>"
      ]
     },
     "metadata": {
      "needs_background": "light"
     },
     "output_type": "display_data"
    }
   ],
   "source": [
    "pltp.figure(figsize=(8,6))\n",
    "pltp.plot(df2[0], df2[1], label=\"Línea observada\")\n",
    "#plt.plot(df4[0], df4[1], label=\"Modelo\")\n",
    "pltp.grid()\n",
    "pltp.legend(loc=\"best\")\n",
    "pltp.show()"
   ]
  },
  {
   "cell_type": "code",
   "execution_count": 83,
   "id": "9ae53e45",
   "metadata": {},
   "outputs": [],
   "source": [
    "n = 201  # for 2 random indices\n",
    "index = np.random.choice(df2[0].shape[0], n, replace=False) \n",
    "index.sort()"
   ]
  },
  {
   "cell_type": "code",
   "execution_count": 84,
   "id": "0dd9349d",
   "metadata": {},
   "outputs": [
    {
     "data": {
      "text/plain": [
       "(201,)"
      ]
     },
     "execution_count": 84,
     "metadata": {},
     "output_type": "execute_result"
    }
   ],
   "source": [
    "obs_waves = df2[0].values[index]\n",
    "\n",
    "obs_flux = df2[1].values[index]\n",
    "obs_flux.shape"
   ]
  },
  {
   "cell_type": "code",
   "execution_count": 85,
   "id": "3d3c94b0",
   "metadata": {},
   "outputs": [
    {
     "data": {
      "image/png": "[encoded data removed]",
      "text/plain": [
       "<Figure size 576x432 with 1 Axes>"
      ]
     },
     "metadata": {
      "needs_background": "light"
     },
     "output_type": "display_data"
    }
   ],
   "source": [
    "pltp.figure(figsize=(8,6))\n",
    "pltp.plot(obs_waves, obs_flux ,label=\"Línea observada\")\n",
    "pltp.legend(loc=\"best\")\n",
    "pltp.show()"
   ]
  },
  {
   "cell_type": "code",
   "execution_count": 86,
   "id": "de9dc174",
   "metadata": {},
   "outputs": [],
   "source": [
    "time_steps = 201\n",
    "input_dimension = 1\n",
    "obs_flux_reshaped = obs_flux.reshape((1, time_steps, input_dimension))"
   ]
  },
  {
   "cell_type": "code",
   "execution_count": 87,
   "id": "c6ffa4c0",
   "metadata": {},
   "outputs": [],
   "source": [
    "new_model = tf.keras.models.load_model('../abs_error_66_3.h5')"
   ]
  },
  {
   "cell_type": "code",
   "execution_count": 88,
   "id": "b2b081a2",
   "metadata": {},
   "outputs": [],
   "source": [
    "pred_obs = new_model.predict(obs_flux_reshaped)"
   ]
  },
  {
   "cell_type": "code",
   "execution_count": 89,
   "id": "74a8f895",
   "metadata": {},
   "outputs": [
    {
     "name": "stdout",
     "output_type": "stream",
     "text": [
      "t_eff: -1.5863523\n",
      "log g: 1.0382283\n",
      "v_rot: -0.75742704\n"
     ]
    }
   ],
   "source": [
    "print(\"t_eff:\", pred_obs[0][0])\n",
    "print(\"log g:\", pred_obs[0][1])\n",
    "print(\"v_rot:\", pred_obs[0][2])"
   ]
  },
  {
   "cell_type": "code",
   "execution_count": 90,
   "id": "64668f05",
   "metadata": {},
   "outputs": [
    {
     "name": "stdout",
     "output_type": "stream",
     "text": [
      "15560.65\n",
      "4.538228\n",
      "182.25366\n"
     ]
    }
   ],
   "source": [
    "pred_obs_inv = standardScaler.inverse_transform(pred_obs)\n",
    "print(pred_obs_inv[0,0])\n",
    "print(pred_obs_inv[0,1])\n",
    "print(pred_obs_inv[0,2])"
   ]
  },
  {
   "cell_type": "code",
   "execution_count": null,
   "id": "7fcc9f9a",
   "metadata": {},
   "outputs": [],
   "source": []
  }
 ],
 "metadata": {
  "kernelspec": {
   "display_name": "Python 3 (ipykernel)",
   "language": "python",
   "name": "python3"
  },
  "language_info": {
   "codemirror_mode": {
    "name": "ipython",
    "version": 3
   },
   "file_extension": ".py",
   "mimetype": "text/x-python",
   "name": "python",
   "nbconvert_exporter": "python",
   "pygments_lexer": "ipython3",
   "version": "3.9.7"
  }
 },
 "nbformat": 4,
 "nbformat_minor": 5
}
