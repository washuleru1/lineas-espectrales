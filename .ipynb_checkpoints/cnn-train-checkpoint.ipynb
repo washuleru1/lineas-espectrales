{
 "cells": [
  {
   "cell_type": "code",
   "execution_count": 1,
   "id": "56ecb0a3",
   "metadata": {},
   "outputs": [],
   "source": [
    "import numpy as np\n",
    "import pandas as pd\n",
    "import matplotlib as plt\n",
    "from matplotlib import pyplot as pltp\n",
    "import tensorflow as tf\n",
    "import glob\n",
    "from sklearn.preprocessing import MinMaxScaler, StandardScaler\n",
    "from sklearn.model_selection import train_test_split\n",
    "from sklearn.metrics import classification_report, plot_confusion_matrix"
   ]
  },
  {
   "cell_type": "code",
   "execution_count": 2,
   "id": "f32fc74e",
   "metadata": {},
   "outputs": [],
   "source": [
    "#Función que separa los parametros t,g,v del fileName\n",
    "def separateParams(fileName):\n",
    "    t = fileName.split(\"t\")[1].split(\"g\")[0]\n",
    "    rest_of = fileName.split(\"t\")[1].split(\"g\")[1].split(\"v\")\n",
    "    g, v = rest_of\n",
    "    return float(t), float(g)/10, float(v)"
   ]
  },
  {
   "cell_type": "code",
   "execution_count": 3,
   "id": "a9585efc",
   "metadata": {},
   "outputs": [],
   "source": [
    "#Se definen los sets de training, test y validación\n",
    "def train_val_test_split(X, y, train_size, val_size, test_size, random_state = 1):\n",
    "    if train_size + val_size + test_size != 1.0:\n",
    "        print(\"Incorrect sizes!\")\n",
    "        return None \n",
    "    X_tmp, X_test, y_tmp, y_test = train_test_split(X, y, test_size = test_size, random_state=random_state)\n",
    "    X_train, X_val, y_train, y_val = train_test_split(X_tmp, y_tmp, test_size = val_size/(test_size + train_size), random_state=random_state)\n",
    "    return X_train, X_val, X_test, y_train, y_val, y_test"
   ]
  },
  {
   "cell_type": "code",
   "execution_count": 4,
   "id": "2d8da443",
   "metadata": {},
   "outputs": [
    {
     "name": "stdout",
     "output_type": "stream",
     "text": [
      "Files qty: 5425\n"
     ]
    }
   ],
   "source": [
    "files = glob.glob('../data-lineas-espectrales/filtered_wv_models/*')\n",
    "file_qty = len(files)\n",
    "print(\"Files qty: {}\".format(file_qty))"
   ]
  },
  {
   "cell_type": "code",
   "execution_count": 5,
   "id": "13e67b8d",
   "metadata": {},
   "outputs": [
    {
     "name": "stdout",
     "output_type": "stream",
     "text": [
      "points: 201 | columns: 2 \n"
     ]
    }
   ],
   "source": [
    "y = np.zeros((file_qty,3))\n",
    "df = pd.read_csv(files[0], sep=\" \", header=None)\n",
    "n_points , n_columns = df.shape\n",
    "print(\"points: {} | columns: {} \".format(n_points, n_columns))"
   ]
  },
  {
   "cell_type": "code",
   "execution_count": 6,
   "id": "210af774",
   "metadata": {},
   "outputs": [
    {
     "name": "stdout",
     "output_type": "stream",
     "text": [
      "(5425, 201)\n",
      "(5425, 3)\n"
     ]
    }
   ],
   "source": [
    "#Matriz que contiene las lineas espectrales\n",
    "X = np.zeros((file_qty, n_points))\n",
    "#Matriz que contiene los labels de cada linea espectral\n",
    "y = np.zeros((file_qty, 3))\n",
    "\n",
    "print(X.shape)\n",
    "print(y.shape)"
   ]
  },
  {
   "cell_type": "code",
   "execution_count": 7,
   "id": "533602ce",
   "metadata": {},
   "outputs": [],
   "source": [
    "#extract files, se almacenan las lineas espectrales y labels en X e y respectivamente\n",
    "for i, name in enumerate(files):\n",
    "    file_name = name.split(\"/\")[-1].split(\".\")[0].split(\"_\")[1]\n",
    "    df = pd.read_csv(name, sep=\" \", header=None)\n",
    "    t, g, v = separateParams(file_name)\n",
    "    #Se almacena la línea espectral\n",
    "    X[i, :] = df[1].values\n",
    "    #Se almacena el label de la linea espectral\n",
    "    y[i] = t, g, v"
   ]
  },
  {
   "cell_type": "code",
   "execution_count": 8,
   "id": "4e3e43ed",
   "metadata": {},
   "outputs": [
    {
     "name": "stdout",
     "output_type": "stream",
     "text": [
      "[[3.5e+04 2.0e+00 2.8e+02]\n",
      " [2.0e+04 2.0e+00 2.6e+02]\n",
      " [2.8e+04 2.0e+00 3.5e+02]\n",
      " [1.7e+04 3.0e+00 1.7e+02]]\n"
     ]
    }
   ],
   "source": [
    "print(y[:4])"
   ]
  },
  {
   "cell_type": "code",
   "execution_count": 9,
   "id": "7aae3a8f",
   "metadata": {},
   "outputs": [],
   "source": [
    "#se normaliza y\n",
    "standardScaler = StandardScaler()\n",
    "standardScaler.fit(y)\n",
    "normalized_y = standardScaler.transform(y)"
   ]
  },
  {
   "cell_type": "code",
   "execution_count": 10,
   "id": "00d7857b",
   "metadata": {},
   "outputs": [],
   "source": [
    "X_train, X_val, X_test, y_train, y_val, y_test = train_val_test_split(X, normalized_y, .8, .1, .1)"
   ]
  },
  {
   "cell_type": "code",
   "execution_count": 11,
   "id": "714278b3",
   "metadata": {},
   "outputs": [
    {
     "name": "stdout",
     "output_type": "stream",
     "text": [
      "(4339, 201) (4339, 3)\n",
      "(543, 201) (543, 3)\n",
      "(543, 201) (543, 3)\n"
     ]
    }
   ],
   "source": [
    "print(X_train.shape, y_train.shape)\n",
    "print(X_val.shape, y_val.shape)\n",
    "print(X_test.shape, y_test.shape)"
   ]
  },
  {
   "cell_type": "code",
   "execution_count": 12,
   "id": "d5f685d4",
   "metadata": {},
   "outputs": [
    {
     "name": "stdout",
     "output_type": "stream",
     "text": [
      "201\n"
     ]
    }
   ],
   "source": [
    "time_steps = X.shape[1]\n",
    "input_dimension = 1\n",
    "print(time_steps)"
   ]
  },
  {
   "cell_type": "code",
   "execution_count": 13,
   "id": "c3fdf954",
   "metadata": {},
   "outputs": [
    {
     "name": "stdout",
     "output_type": "stream",
     "text": [
      "reshaped X_train: (4339, 201, 1)\n",
      "reshaped X_val: (543, 201, 1)\n",
      "reshaped X_test: (543, 201, 1)\n"
     ]
    }
   ],
   "source": [
    "sample_size = X_train.shape[0]\n",
    "X_train_reshaped = X_train.reshape((sample_size, time_steps, input_dimension))\n",
    "sample_size = X_val.shape[0]\n",
    "X_val_reshaped = X_val.reshape((sample_size, time_steps, input_dimension))\n",
    "sample_size = X_test.shape[0]\n",
    "X_test_reshaped = X_test.reshape((sample_size, time_steps, input_dimension))\n",
    "print(\"reshaped X_train: {}\".format(X_train_reshaped.shape))\n",
    "print(\"reshaped X_val: {}\".format(X_val_reshaped.shape))\n",
    "print(\"reshaped X_test: {}\".format(X_test_reshaped.shape))"
   ]
  },
  {
   "cell_type": "code",
   "execution_count": 62,
   "id": "be7ede77",
   "metadata": {},
   "outputs": [
    {
     "name": "stdout",
     "output_type": "stream",
     "text": [
      "Model: \"model_conv1D\"\n",
      "_________________________________________________________________\n",
      " Layer (type)                Output Shape              Param #   \n",
      "=================================================================\n",
      " conv1d_5 (Conv1D)           (None, 199, 64)           256       \n",
      "                                                                 \n",
      " Conv1D_1 (Conv1D)           (None, 193, 32)           14368     \n",
      "                                                                 \n",
      " Conv1D_2 (Conv1D)           (None, 191, 16)           1552      \n",
      "                                                                 \n",
      " flatten_4 (Flatten)         (None, 3056)              0         \n",
      "                                                                 \n",
      " Dense_00 (Dense)            (None, 128)               391296    \n",
      "                                                                 \n",
      " Dense_0 (Dense)             (None, 64)                8256      \n",
      "                                                                 \n",
      " Dense_1 (Dense)             (None, 32)                2080      \n",
      "                                                                 \n",
      " dense_3 (Dense)             (None, 10)                330       \n",
      "                                                                 \n",
      " Dense_4 (Dense)             (None, 3)                 33        \n",
      "                                                                 \n",
      "=================================================================\n",
      "Total params: 418,171\n",
      "Trainable params: 418,171\n",
      "Non-trainable params: 0\n",
      "_________________________________________________________________\n"
     ]
    }
   ],
   "source": [
    "#Arquitectura de la red\n",
    "def build_conv1D_model():\n",
    "    n_timesteps = X_train_reshaped.shape[1] #210\n",
    "    n_features  = X_train_reshaped.shape[2] #1 \n",
    "    model = tf.keras.Sequential(name=\"model_conv1D\")\n",
    "    model.add(tf.keras.layers.Input(shape=(n_timesteps,n_features)))\n",
    "    model.add(tf.keras.layers.Conv1D(filters=64, kernel_size=3, activation='elu'))\n",
    "    #model.add(tf.keras.layers.Conv1D(filters=64, kernel_size=3, activation='relu', name=\"Conv1D_0\"))\n",
    "    model.add(tf.keras.layers.Conv1D(filters=32, kernel_size=7, activation='softmax', name=\"Conv1D_1\"))\n",
    "    model.add(tf.keras.layers.Conv1D(filters=16, kernel_size=3, activation='selu', name=\"Conv1D_2\"))\n",
    "    tf.keras.layers.BatchNormalization()\n",
    "    model.add(tf.keras.layers.Flatten())\n",
    "    model.add(tf.keras.layers.Dense(128,activation='elu', name=\"Dense_00\"))\n",
    "    model.add(tf.keras.layers.Dense(64,activation='relu', name=\"Dense_0\"))\n",
    "    model.add(tf.keras.layers.Dense(32, activation= \"selu\", name=\"Dense_1\"))\n",
    "    model.add(tf.keras.layers.Dense(10, activation='softmax'))\n",
    "    model.add(tf.keras.layers.Dense(3, activation = \"linear\", name=\"Dense_4\"))\n",
    "    \n",
    "\n",
    "\n",
    "    optimizer = tf.keras.optimizers.RMSprop(0.001)\n",
    "\n",
    "    l = tf.keras.losses.LogCosh()\n",
    "    \n",
    "    \n",
    "    model.compile(loss='mse',optimizer=optimizer,metrics=['mse', 'accuracy'])\n",
    "    return model\n",
    "\n",
    "model_conv1D = build_conv1D_model()\n",
    "model_conv1D.summary()"
   ]
  },
  {
   "cell_type": "code",
   "execution_count": 63,
   "id": "0a7264bf",
   "metadata": {},
   "outputs": [
    {
     "name": "stdout",
     "output_type": "stream",
     "text": [
      "Epoch 1/80\n",
      "136/136 [==============================] - 4s 22ms/step - loss: 1.0033 - mse: 1.0033 - accuracy: 0.3646 - val_loss: 1.0050 - val_mse: 1.0050 - val_accuracy: 0.3278\n",
      "Epoch 2/80\n",
      "136/136 [==============================] - 3s 19ms/step - loss: 0.7956 - mse: 0.7956 - accuracy: 0.5898 - val_loss: 0.7091 - val_mse: 0.7091 - val_accuracy: 0.5193\n",
      "Epoch 3/80\n",
      "136/136 [==============================] - 2s 18ms/step - loss: 0.6414 - mse: 0.6414 - accuracy: 0.6926 - val_loss: 0.5644 - val_mse: 0.5644 - val_accuracy: 0.7072\n",
      "Epoch 4/80\n",
      "136/136 [==============================] - 2s 18ms/step - loss: 0.5785 - mse: 0.5785 - accuracy: 0.7179 - val_loss: 0.5206 - val_mse: 0.5206 - val_accuracy: 0.6888\n",
      "Epoch 5/80\n",
      "136/136 [==============================] - 2s 18ms/step - loss: 0.5189 - mse: 0.5189 - accuracy: 0.7274 - val_loss: 0.4735 - val_mse: 0.4735 - val_accuracy: 0.7348\n",
      "Epoch 6/80\n",
      "136/136 [==============================] - 3s 19ms/step - loss: 0.4657 - mse: 0.4657 - accuracy: 0.7481 - val_loss: 0.4401 - val_mse: 0.4401 - val_accuracy: 0.7090\n",
      "Epoch 7/80\n",
      "136/136 [==============================] - 3s 19ms/step - loss: 0.4140 - mse: 0.4140 - accuracy: 0.7654 - val_loss: 0.4402 - val_mse: 0.4402 - val_accuracy: 0.7385\n",
      "Epoch 8/80\n",
      "136/136 [==============================] - 2s 18ms/step - loss: 0.3800 - mse: 0.3800 - accuracy: 0.7820 - val_loss: 0.4039 - val_mse: 0.4039 - val_accuracy: 0.7532\n",
      "Epoch 9/80\n",
      "136/136 [==============================] - 2s 18ms/step - loss: 0.3483 - mse: 0.3483 - accuracy: 0.7912 - val_loss: 0.2982 - val_mse: 0.2982 - val_accuracy: 0.8177\n",
      "Epoch 10/80\n",
      "136/136 [==============================] - 3s 18ms/step - loss: 0.3227 - mse: 0.3227 - accuracy: 0.8034 - val_loss: 0.2917 - val_mse: 0.2917 - val_accuracy: 0.8471\n",
      "Epoch 11/80\n",
      "136/136 [==============================] - 3s 19ms/step - loss: 0.2930 - mse: 0.2930 - accuracy: 0.8147 - val_loss: 0.2765 - val_mse: 0.2765 - val_accuracy: 0.8729\n",
      "Epoch 12/80\n",
      "136/136 [==============================] - 3s 19ms/step - loss: 0.2700 - mse: 0.2700 - accuracy: 0.8295 - val_loss: 0.3096 - val_mse: 0.3096 - val_accuracy: 0.7698\n",
      "Epoch 13/80\n",
      "136/136 [==============================] - 3s 19ms/step - loss: 0.2535 - mse: 0.2535 - accuracy: 0.8329 - val_loss: 0.2143 - val_mse: 0.2143 - val_accuracy: 0.8619\n",
      "Epoch 14/80\n",
      "136/136 [==============================] - 3s 18ms/step - loss: 0.2284 - mse: 0.2284 - accuracy: 0.8412 - val_loss: 0.1909 - val_mse: 0.1909 - val_accuracy: 0.8821\n",
      "Epoch 15/80\n",
      "136/136 [==============================] - 3s 18ms/step - loss: 0.2192 - mse: 0.2192 - accuracy: 0.8493 - val_loss: 0.1710 - val_mse: 0.1710 - val_accuracy: 0.8803\n",
      "Epoch 16/80\n",
      "136/136 [==============================] - 2s 18ms/step - loss: 0.1951 - mse: 0.1951 - accuracy: 0.8576 - val_loss: 0.2507 - val_mse: 0.2507 - val_accuracy: 0.8748\n",
      "Epoch 17/80\n",
      "136/136 [==============================] - 3s 18ms/step - loss: 0.1836 - mse: 0.1836 - accuracy: 0.8649 - val_loss: 0.1540 - val_mse: 0.1540 - val_accuracy: 0.8895\n",
      "Epoch 18/80\n",
      "136/136 [==============================] - 3s 19ms/step - loss: 0.1760 - mse: 0.1760 - accuracy: 0.8613 - val_loss: 0.1448 - val_mse: 0.1448 - val_accuracy: 0.8785\n",
      "Epoch 19/80\n",
      "136/136 [==============================] - 2s 18ms/step - loss: 0.1591 - mse: 0.1591 - accuracy: 0.8705 - val_loss: 0.2477 - val_mse: 0.2477 - val_accuracy: 0.8637\n",
      "Epoch 20/80\n",
      "136/136 [==============================] - 2s 18ms/step - loss: 0.1622 - mse: 0.1622 - accuracy: 0.8610 - val_loss: 0.1458 - val_mse: 0.1458 - val_accuracy: 0.9024\n",
      "Epoch 21/80\n",
      "136/136 [==============================] - 3s 19ms/step - loss: 0.1505 - mse: 0.1505 - accuracy: 0.8719 - val_loss: 0.1390 - val_mse: 0.1390 - val_accuracy: 0.8785\n",
      "Epoch 22/80\n",
      "136/136 [==============================] - 3s 19ms/step - loss: 0.1466 - mse: 0.1466 - accuracy: 0.8712 - val_loss: 0.1805 - val_mse: 0.1805 - val_accuracy: 0.8453\n",
      "Epoch 23/80\n",
      "136/136 [==============================] - 3s 19ms/step - loss: 0.1356 - mse: 0.1356 - accuracy: 0.8767 - val_loss: 0.2049 - val_mse: 0.2049 - val_accuracy: 0.8729\n",
      "Epoch 24/80\n",
      "136/136 [==============================] - 3s 19ms/step - loss: 0.1405 - mse: 0.1405 - accuracy: 0.8760 - val_loss: 0.1000 - val_mse: 0.1000 - val_accuracy: 0.9245\n",
      "Epoch 25/80\n",
      "136/136 [==============================] - 3s 20ms/step - loss: 0.1330 - mse: 0.1330 - accuracy: 0.8788 - val_loss: 0.1149 - val_mse: 0.1149 - val_accuracy: 0.9171\n",
      "Epoch 26/80\n",
      "136/136 [==============================] - 3s 19ms/step - loss: 0.1276 - mse: 0.1276 - accuracy: 0.8797 - val_loss: 0.1826 - val_mse: 0.1826 - val_accuracy: 0.8306\n",
      "Epoch 27/80\n",
      "136/136 [==============================] - 3s 19ms/step - loss: 0.1277 - mse: 0.1277 - accuracy: 0.8804 - val_loss: 0.3729 - val_mse: 0.3729 - val_accuracy: 0.8066\n",
      "Epoch 28/80\n",
      "136/136 [==============================] - 2s 18ms/step - loss: 0.1264 - mse: 0.1264 - accuracy: 0.8829 - val_loss: 0.0969 - val_mse: 0.0969 - val_accuracy: 0.9153\n",
      "Epoch 29/80\n",
      "136/136 [==============================] - 3s 19ms/step - loss: 0.1166 - mse: 0.1166 - accuracy: 0.8866 - val_loss: 0.1001 - val_mse: 0.1001 - val_accuracy: 0.9208\n",
      "Epoch 30/80\n",
      "136/136 [==============================] - 3s 19ms/step - loss: 0.1222 - mse: 0.1222 - accuracy: 0.8785 - val_loss: 0.0889 - val_mse: 0.0889 - val_accuracy: 0.9079\n",
      "Epoch 31/80\n",
      "136/136 [==============================] - 3s 19ms/step - loss: 0.1147 - mse: 0.1147 - accuracy: 0.8889 - val_loss: 0.0873 - val_mse: 0.0873 - val_accuracy: 0.8950\n",
      "Epoch 32/80\n",
      "136/136 [==============================] - 3s 19ms/step - loss: 0.1120 - mse: 0.1120 - accuracy: 0.8947 - val_loss: 0.1355 - val_mse: 0.1355 - val_accuracy: 0.9079\n",
      "Epoch 33/80\n",
      "136/136 [==============================] - 2s 18ms/step - loss: 0.1197 - mse: 0.1197 - accuracy: 0.8859 - val_loss: 0.1051 - val_mse: 0.1051 - val_accuracy: 0.8913\n",
      "Epoch 34/80\n",
      "136/136 [==============================] - 3s 19ms/step - loss: 0.1077 - mse: 0.1077 - accuracy: 0.8896 - val_loss: 0.1276 - val_mse: 0.1276 - val_accuracy: 0.8416\n",
      "Epoch 35/80\n",
      "136/136 [==============================] - 3s 19ms/step - loss: 0.1126 - mse: 0.1126 - accuracy: 0.8924 - val_loss: 0.2405 - val_mse: 0.2405 - val_accuracy: 0.7698\n",
      "Epoch 36/80\n",
      "136/136 [==============================] - 2s 18ms/step - loss: 0.1049 - mse: 0.1049 - accuracy: 0.8871 - val_loss: 0.0931 - val_mse: 0.0931 - val_accuracy: 0.9208\n",
      "Epoch 37/80\n",
      "136/136 [==============================] - 3s 19ms/step - loss: 0.1072 - mse: 0.1072 - accuracy: 0.8940 - val_loss: 0.1707 - val_mse: 0.1707 - val_accuracy: 0.8545\n",
      "Epoch 38/80\n",
      "136/136 [==============================] - 2s 18ms/step - loss: 0.1085 - mse: 0.1085 - accuracy: 0.8940 - val_loss: 0.1761 - val_mse: 0.1761 - val_accuracy: 0.8674\n",
      "Epoch 39/80\n",
      "136/136 [==============================] - 2s 18ms/step - loss: 0.0971 - mse: 0.0971 - accuracy: 0.8986 - val_loss: 0.1991 - val_mse: 0.1991 - val_accuracy: 0.8269\n",
      "Epoch 40/80\n",
      "136/136 [==============================] - 3s 19ms/step - loss: 0.1010 - mse: 0.1010 - accuracy: 0.8974 - val_loss: 0.0855 - val_mse: 0.0855 - val_accuracy: 0.9300\n",
      "Epoch 41/80\n",
      "136/136 [==============================] - 3s 19ms/step - loss: 0.1005 - mse: 0.1005 - accuracy: 0.8963 - val_loss: 0.2741 - val_mse: 0.2741 - val_accuracy: 0.8158\n",
      "Epoch 42/80\n",
      "136/136 [==============================] - 3s 18ms/step - loss: 0.1018 - mse: 0.1018 - accuracy: 0.8947 - val_loss: 0.0784 - val_mse: 0.0784 - val_accuracy: 0.9134\n",
      "Epoch 43/80\n",
      "136/136 [==============================] - 2s 18ms/step - loss: 0.0984 - mse: 0.0984 - accuracy: 0.8984 - val_loss: 0.0676 - val_mse: 0.0676 - val_accuracy: 0.9245\n",
      "Epoch 44/80\n",
      "136/136 [==============================] - 3s 19ms/step - loss: 0.0986 - mse: 0.0986 - accuracy: 0.9011 - val_loss: 0.0674 - val_mse: 0.0674 - val_accuracy: 0.9153\n"
     ]
    }
   ],
   "source": [
    "#train\n",
    "epoch_qty = 80\n",
    "callback = tf.keras.callbacks.EarlyStopping(monitor='loss', \n",
    "                                                patience=5)\n",
    "history = model_conv1D.fit(X_train_reshaped, y_train, epochs=epoch_qty,\n",
    "                    validation_data = (X_val_reshaped, y_val), \n",
    "                           verbose=1, callbacks=[callback])"
   ]
  },
  {
   "cell_type": "code",
   "execution_count": 64,
   "id": "9c545071",
   "metadata": {},
   "outputs": [
    {
     "name": "stdout",
     "output_type": "stream",
     "text": [
      "Testing set Mean Abs Error:   58.83\n"
     ]
    },
    {
     "data": {
      "image/png": "[encoded data removed]",
      "text/plain": [
       "<Figure size 720x432 with 1 Axes>"
      ]
     },
     "metadata": {
      "needs_background": "light"
     },
     "output_type": "display_data"
    }
   ],
   "source": [
    "[loss, mae, accuracy] = model_conv1D.evaluate(X_test_reshaped, y_test, verbose=0)\n",
    "print(\"Testing set Mean Abs Error: {:7.2f}\".format(mae * 1000))\n",
    "\n",
    "pred =model_conv1D.predict(X_test_reshaped)\n",
    "\n",
    "y_pred_inv = standardScaler.inverse_transform(y)\n",
    "\n",
    "\n",
    "train_loss = history.history['loss']\n",
    "\n",
    "\n",
    "val_loss = history.history['val_loss']\n",
    "\n",
    "\n",
    "def plot_train_val(A, B, n, xlabel, ylabel, title):\n",
    "    pltp.figure(1, figsize=(10, 6))\n",
    "    pltp.plot(range(n),A)\n",
    "    pltp.plot(range(n),B)\n",
    "    pltp.ylabel(xlabel)\n",
    "    pltp.xlabel(ylabel)\n",
    "    pltp.title(title)\n",
    "    pltp.grid(True)\n",
    "    pltp.legend(['Training', 'Validation'])\n",
    "    pltp.show()\n",
    "\n",
    "\n",
    "plot_train_val(train_loss, val_loss, 44, 'Loss', 'Number of epochs', 'Training loss vs Validation loss')"
   ]
  },
  {
   "cell_type": "code",
   "execution_count": 65,
   "id": "dc5237c9",
   "metadata": {},
   "outputs": [],
   "source": [
    "model_conv1D.save('../abs_error_58_3.h5')"
   ]
  },
  {
   "cell_type": "code",
   "execution_count": 66,
   "id": "72cbee3e",
   "metadata": {},
   "outputs": [
    {
     "name": "stderr",
     "output_type": "stream",
     "text": [
      "/var/folders/w9/gh780vs52dgb_ypr6vd5g_4m0000gn/T/ipykernel_1020/942857022.py:7: UserWarning: Boolean Series key will be reindexed to match DataFrame index.\n",
      "  df2 = df[m1][m2]\n"
     ]
    },
    {
     "data": {
      "text/html": [
       "<div>\n",
       "<style scoped>\n",
       "    .dataframe tbody tr th:only-of-type {\n",
       "        vertical-align: middle;\n",
       "    }\n",
       "\n",
       "    .dataframe tbody tr th {\n",
       "        vertical-align: top;\n",
       "    }\n",
       "\n",
       "    .dataframe thead th {\n",
       "        text-align: right;\n",
       "    }\n",
       "</style>\n",
       "<table border=\"1\" class=\"dataframe\">\n",
       "  <thead>\n",
       "    <tr style=\"text-align: right;\">\n",
       "      <th></th>\n",
       "      <th>0</th>\n",
       "      <th>1</th>\n",
       "    </tr>\n",
       "  </thead>\n",
       "  <tbody>\n",
       "    <tr>\n",
       "      <th>2367</th>\n",
       "      <td>4460.022618</td>\n",
       "      <td>0.979893</td>\n",
       "    </tr>\n",
       "    <tr>\n",
       "      <th>2368</th>\n",
       "      <td>4460.111978</td>\n",
       "      <td>0.998823</td>\n",
       "    </tr>\n",
       "    <tr>\n",
       "      <th>2369</th>\n",
       "      <td>4460.201338</td>\n",
       "      <td>1.020981</td>\n",
       "    </tr>\n",
       "    <tr>\n",
       "      <th>2370</th>\n",
       "      <td>4460.290697</td>\n",
       "      <td>1.021009</td>\n",
       "    </tr>\n",
       "    <tr>\n",
       "      <th>2371</th>\n",
       "      <td>4460.380057</td>\n",
       "      <td>1.018809</td>\n",
       "    </tr>\n",
       "    <tr>\n",
       "      <th>...</th>\n",
       "      <td>...</td>\n",
       "      <td>...</td>\n",
       "    </tr>\n",
       "    <tr>\n",
       "      <th>2586</th>\n",
       "      <td>4479.592386</td>\n",
       "      <td>0.986350</td>\n",
       "    </tr>\n",
       "    <tr>\n",
       "      <th>2587</th>\n",
       "      <td>4479.681746</td>\n",
       "      <td>0.977661</td>\n",
       "    </tr>\n",
       "    <tr>\n",
       "      <th>2588</th>\n",
       "      <td>4479.771106</td>\n",
       "      <td>0.998069</td>\n",
       "    </tr>\n",
       "    <tr>\n",
       "      <th>2589</th>\n",
       "      <td>4479.860465</td>\n",
       "      <td>0.996876</td>\n",
       "    </tr>\n",
       "    <tr>\n",
       "      <th>2590</th>\n",
       "      <td>4479.949825</td>\n",
       "      <td>0.948284</td>\n",
       "    </tr>\n",
       "  </tbody>\n",
       "</table>\n",
       "<p>224 rows × 2 columns</p>\n",
       "</div>"
      ],
      "text/plain": [
       "                0         1\n",
       "2367  4460.022618  0.979893\n",
       "2368  4460.111978  0.998823\n",
       "2369  4460.201338  1.020981\n",
       "2370  4460.290697  1.021009\n",
       "2371  4460.380057  1.018809\n",
       "...           ...       ...\n",
       "2586  4479.592386  0.986350\n",
       "2587  4479.681746  0.977661\n",
       "2588  4479.771106  0.998069\n",
       "2589  4479.860465  0.996876\n",
       "2590  4479.949825  0.948284\n",
       "\n",
       "[224 rows x 2 columns]"
      ]
     },
     "execution_count": 66,
     "metadata": {},
     "output_type": "execute_result"
    }
   ],
   "source": [
    "#read besos\n",
    "df = pd.read_csv(\"../data-lineas-espectrales/BESOS/2_Be_stars/HD37041/hd37041_2014-01-29_03-58-58_final_corr.txt\", sep=\"\\t\", header=None)\n",
    "\n",
    "m1 = df[0] >= 4460\n",
    "m2 = df[0] <= 4480\n",
    "\n",
    "df2 = df[m1][m2]\n",
    "\n",
    "df2"
   ]
  },
  {
   "cell_type": "code",
   "execution_count": 67,
   "id": "c36f2291",
   "metadata": {},
   "outputs": [
    {
     "data": {
      "image/png": "[encoded data removed]",
      "text/plain": [
       "<Figure size 576x432 with 1 Axes>"
      ]
     },
     "metadata": {
      "needs_background": "light"
     },
     "output_type": "display_data"
    }
   ],
   "source": [
    "pltp.figure(figsize=(8,6))\n",
    "pltp.plot(df2[0], df2[1], label=\"Línea observada\")\n",
    "#plt.plot(df4[0], df4[1], label=\"Modelo\")\n",
    "pltp.grid()\n",
    "pltp.legend(loc=\"best\")\n",
    "pltp.show()"
   ]
  },
  {
   "cell_type": "code",
   "execution_count": 68,
   "id": "4d2ca112",
   "metadata": {},
   "outputs": [],
   "source": [
    "n = 201  # for 2 random indices\n",
    "index = np.random.choice(df2[0].shape[0], n, replace=False) \n",
    "index.sort()"
   ]
  },
  {
   "cell_type": "code",
   "execution_count": 69,
   "id": "555dbebf",
   "metadata": {},
   "outputs": [
    {
     "data": {
      "text/plain": [
       "(201,)"
      ]
     },
     "execution_count": 69,
     "metadata": {},
     "output_type": "execute_result"
    }
   ],
   "source": [
    "obs_waves = df2[0].values[index]\n",
    "\n",
    "obs_flux = df2[1].values[index]\n",
    "obs_flux.shape"
   ]
  },
  {
   "cell_type": "code",
   "execution_count": 70,
   "id": "365b132f",
   "metadata": {},
   "outputs": [
    {
     "data": {
      "image/png": "[encoded data removed]",
      "text/plain": [
       "<Figure size 576x432 with 1 Axes>"
      ]
     },
     "metadata": {
      "needs_background": "light"
     },
     "output_type": "display_data"
    }
   ],
   "source": [
    "pltp.figure(figsize=(8,6))\n",
    "pltp.plot(obs_waves, obs_flux ,label=\"Línea observada\")\n",
    "pltp.legend(loc=\"best\")\n",
    "pltp.show()"
   ]
  },
  {
   "cell_type": "code",
   "execution_count": 71,
   "id": "ef30d0c0",
   "metadata": {},
   "outputs": [],
   "source": [
    "time_steps = 201\n",
    "input_dimension = 1\n",
    "obs_flux_reshaped = obs_flux.reshape((1, time_steps, input_dimension))"
   ]
  },
  {
   "cell_type": "code",
   "execution_count": 72,
   "id": "81eb401d",
   "metadata": {},
   "outputs": [],
   "source": [
    "new_model = tf.keras.models.load_model('../abs_error_58_3.h5')"
   ]
  },
  {
   "cell_type": "code",
   "execution_count": 73,
   "id": "9533d72b",
   "metadata": {},
   "outputs": [],
   "source": [
    "pred_obs = new_model.predict(obs_flux_reshaped)"
   ]
  },
  {
   "cell_type": "code",
   "execution_count": 74,
   "id": "78377d6c",
   "metadata": {},
   "outputs": [
    {
     "name": "stdout",
     "output_type": "stream",
     "text": [
      "t_eff: 0.5183047\n",
      "log g: 1.2092162\n",
      "v_rot: -0.9518839\n"
     ]
    }
   ],
   "source": [
    "print(\"t_eff:\", pred_obs[0][0])\n",
    "print(\"log g:\", pred_obs[0][1])\n",
    "print(\"v_rot:\", pred_obs[0][2])"
   ]
  },
  {
   "cell_type": "code",
   "execution_count": 75,
   "id": "d63bb90c",
   "metadata": {},
   "outputs": [
    {
     "name": "stdout",
     "output_type": "stream",
     "text": [
      "30737.549\n",
      "4.709216\n",
      "164.86092\n"
     ]
    }
   ],
   "source": [
    "pred_obs_inv = standardScaler.inverse_transform(pred_obs)\n",
    "print(pred_obs_inv[0,0])\n",
    "print(pred_obs_inv[0,1])\n",
    "print(pred_obs_inv[0,2])"
   ]
  },
  {
   "cell_type": "code",
   "execution_count": null,
   "id": "27778b54",
   "metadata": {},
   "outputs": [],
   "source": []
  }
 ],
 "metadata": {
  "kernelspec": {
   "display_name": "Python 3 (ipykernel)",
   "language": "python",
   "name": "python3"
  },
  "language_info": {
   "codemirror_mode": {
    "name": "ipython",
    "version": 3
   },
   "file_extension": ".py",
   "mimetype": "text/x-python",
   "name": "python",
   "nbconvert_exporter": "python",
   "pygments_lexer": "ipython3",
   "version": "3.9.7"
  }
 },
 "nbformat": 4,
 "nbformat_minor": 5
}
