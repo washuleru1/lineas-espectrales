{
 "cells": [
  {
   "cell_type": "code",
   "execution_count": 1,
   "id": "56ecb0a3",
   "metadata": {},
   "outputs": [],
   "source": [
    "import numpy as np\n",
    "import pandas as pd\n",
    "import matplotlib as plt\n",
    "from matplotlib import pyplot as pltp\n",
    "import tensorflow as tf\n",
    "import glob\n",
    "from sklearn.preprocessing import MinMaxScaler, StandardScaler\n",
    "from sklearn.model_selection import train_test_split\n",
    "from sklearn.metrics import classification_report, plot_confusion_matrix"
   ]
  },
  {
   "cell_type": "code",
   "execution_count": 2,
   "id": "f32fc74e",
   "metadata": {},
   "outputs": [],
   "source": [
    "#Función que separa los parametros t,g,v del fileName\n",
    "def separateParams(fileName):\n",
    "    t = fileName.split(\"t\")[1].split(\"g\")[0]\n",
    "    rest_of = fileName.split(\"t\")[1].split(\"g\")[1].split(\"v\")\n",
    "    g, v = rest_of\n",
    "    return float(t), float(g)/10, float(v)"
   ]
  },
  {
   "cell_type": "code",
   "execution_count": 3,
   "id": "a9585efc",
   "metadata": {},
   "outputs": [],
   "source": [
    "#Se definen los sets de training, test y validación\n",
    "def train_val_test_split(X, y, train_size, val_size, test_size, random_state = 1):\n",
    "    if train_size + val_size + test_size != 1.0:\n",
    "        print(\"Incorrect sizes!\")\n",
    "        return None \n",
    "    X_tmp, X_test, y_tmp, y_test = train_test_split(X, y, test_size = test_size, random_state=random_state)\n",
    "    X_train, X_val, y_train, y_val = train_test_split(X_tmp, y_tmp, test_size = val_size/(test_size + train_size), random_state=random_state)\n",
    "    return X_train, X_val, X_test, y_train, y_val, y_test"
   ]
  },
  {
   "cell_type": "code",
   "execution_count": 4,
   "id": "2d8da443",
   "metadata": {},
   "outputs": [
    {
     "name": "stdout",
     "output_type": "stream",
     "text": [
      "Files qty: 5425\n"
     ]
    }
   ],
   "source": [
    "files = glob.glob('../data-lineas-espectrales/filtered_wv_models/*')\n",
    "file_qty = len(files)\n",
    "print(\"Files qty: {}\".format(file_qty))"
   ]
  },
  {
   "cell_type": "code",
   "execution_count": 5,
   "id": "13e67b8d",
   "metadata": {},
   "outputs": [
    {
     "name": "stdout",
     "output_type": "stream",
     "text": [
      "points: 201 | columns: 2 \n"
     ]
    }
   ],
   "source": [
    "y = np.zeros((file_qty,3))\n",
    "df = pd.read_csv(files[0], sep=\" \", header=None)\n",
    "n_points , n_columns = df.shape\n",
    "print(\"points: {} | columns: {} \".format(n_points, n_columns))"
   ]
  },
  {
   "cell_type": "code",
   "execution_count": 6,
   "id": "210af774",
   "metadata": {},
   "outputs": [
    {
     "name": "stdout",
     "output_type": "stream",
     "text": [
      "(5425, 201)\n",
      "(5425, 3)\n"
     ]
    }
   ],
   "source": [
    "#Matriz que contiene las lineas espectrales\n",
    "X = np.zeros((file_qty, n_points))\n",
    "#Matriz que contiene los labels de cada linea espectral\n",
    "y = np.zeros((file_qty, 3))\n",
    "\n",
    "print(X.shape)\n",
    "print(y.shape)"
   ]
  },
  {
   "cell_type": "code",
   "execution_count": 7,
   "id": "533602ce",
   "metadata": {},
   "outputs": [],
   "source": [
    "#extract files, se almacenan las lineas espectrales y labels en X e y respectivamente\n",
    "for i, name in enumerate(files):\n",
    "    file_name = name.split(\"/\")[-1].split(\".\")[0].split(\"_\")[1]\n",
    "    df = pd.read_csv(name, sep=\" \", header=None)\n",
    "    t, g, v = separateParams(file_name)\n",
    "    #Se almacena la línea espectral\n",
    "    X[i, :] = df[1].values\n",
    "    #Se almacena el label de la linea espectral\n",
    "    y[i] = t, g, v"
   ]
  },
  {
   "cell_type": "code",
   "execution_count": 8,
   "id": "4e3e43ed",
   "metadata": {},
   "outputs": [
    {
     "name": "stdout",
     "output_type": "stream",
     "text": [
      "[[3.5e+04 2.0e+00 2.8e+02]\n",
      " [2.0e+04 2.0e+00 2.6e+02]\n",
      " [2.8e+04 2.0e+00 3.5e+02]\n",
      " [1.7e+04 3.0e+00 1.7e+02]]\n"
     ]
    }
   ],
   "source": [
    "print(y[:4])"
   ]
  },
  {
   "cell_type": "code",
   "execution_count": 9,
   "id": "7aae3a8f",
   "metadata": {},
   "outputs": [],
   "source": [
    "#se normaliza y\n",
    "standardScaler = StandardScaler()\n",
    "standardScaler.fit(y)\n",
    "normalized_y = standardScaler.transform(y)"
   ]
  },
  {
   "cell_type": "code",
   "execution_count": 10,
   "id": "00d7857b",
   "metadata": {},
   "outputs": [],
   "source": [
    "X_train, X_val, X_test, y_train, y_val, y_test = train_val_test_split(X, normalized_y, .8, .1, .1)"
   ]
  },
  {
   "cell_type": "code",
   "execution_count": 11,
   "id": "714278b3",
   "metadata": {},
   "outputs": [
    {
     "name": "stdout",
     "output_type": "stream",
     "text": [
      "(4339, 201) (4339, 3)\n",
      "(543, 201) (543, 3)\n",
      "(543, 201) (543, 3)\n"
     ]
    }
   ],
   "source": [
    "print(X_train.shape, y_train.shape)\n",
    "print(X_val.shape, y_val.shape)\n",
    "print(X_test.shape, y_test.shape)"
   ]
  },
  {
   "cell_type": "code",
   "execution_count": 12,
   "id": "d5f685d4",
   "metadata": {},
   "outputs": [
    {
     "name": "stdout",
     "output_type": "stream",
     "text": [
      "201\n"
     ]
    }
   ],
   "source": [
    "time_steps = X.shape[1]\n",
    "input_dimension = 1\n",
    "print(time_steps)"
   ]
  },
  {
   "cell_type": "code",
   "execution_count": 13,
   "id": "c3fdf954",
   "metadata": {},
   "outputs": [
    {
     "name": "stdout",
     "output_type": "stream",
     "text": [
      "reshaped X_train: (4339, 201, 1)\n",
      "reshaped X_val: (543, 201, 1)\n",
      "reshaped X_test: (543, 201, 1)\n"
     ]
    }
   ],
   "source": [
    "sample_size = X_train.shape[0]\n",
    "X_train_reshaped = X_train.reshape((sample_size, time_steps, input_dimension))\n",
    "sample_size = X_val.shape[0]\n",
    "X_val_reshaped = X_val.reshape((sample_size, time_steps, input_dimension))\n",
    "sample_size = X_test.shape[0]\n",
    "X_test_reshaped = X_test.reshape((sample_size, time_steps, input_dimension))\n",
    "print(\"reshaped X_train: {}\".format(X_train_reshaped.shape))\n",
    "print(\"reshaped X_val: {}\".format(X_val_reshaped.shape))\n",
    "print(\"reshaped X_test: {}\".format(X_test_reshaped.shape))"
   ]
  },
  {
   "cell_type": "code",
   "execution_count": 14,
   "id": "be7ede77",
   "metadata": {},
   "outputs": [
    {
     "name": "stdout",
     "output_type": "stream",
     "text": [
      "Model: \"model_conv1D\"\n",
      "_________________________________________________________________\n",
      " Layer (type)                Output Shape              Param #   \n",
      "=================================================================\n",
      " conv1d (Conv1D)             (None, 199, 64)           256       \n",
      "                                                                 \n",
      " Conv1D_1 (Conv1D)           (None, 193, 32)           14368     \n",
      "                                                                 \n",
      " Conv1D_2 (Conv1D)           (None, 191, 16)           1552      \n",
      "                                                                 \n",
      " flatten (Flatten)           (None, 3056)              0         \n",
      "                                                                 \n",
      " Dense_00 (Dense)            (None, 128)               391296    \n",
      "                                                                 \n",
      " Dense_0 (Dense)             (None, 64)                8256      \n",
      "                                                                 \n",
      " Dense_1 (Dense)             (None, 32)                2080      \n",
      "                                                                 \n",
      " dense (Dense)               (None, 10)                330       \n",
      "                                                                 \n",
      " Dense_4 (Dense)             (None, 3)                 33        \n",
      "                                                                 \n",
      "=================================================================\n",
      "Total params: 418,171\n",
      "Trainable params: 418,171\n",
      "Non-trainable params: 0\n",
      "_________________________________________________________________\n"
     ]
    },
    {
     "name": "stderr",
     "output_type": "stream",
     "text": [
      "2022-05-26 12:10:00.216888: I tensorflow/core/platform/cpu_feature_guard.cc:151] This TensorFlow binary is optimized with oneAPI Deep Neural Network Library (oneDNN) to use the following CPU instructions in performance-critical operations:  AVX2 AVX512F FMA\n",
      "To enable them in other operations, rebuild TensorFlow with the appropriate compiler flags.\n"
     ]
    }
   ],
   "source": [
    "#Arquitectura de la red\n",
    "def build_conv1D_model():\n",
    "    n_timesteps = X_train_reshaped.shape[1] #210\n",
    "    n_features  = X_train_reshaped.shape[2] #1 \n",
    "    model = tf.keras.Sequential(name=\"model_conv1D\")\n",
    "    model.add(tf.keras.layers.Input(shape=(n_timesteps,n_features)))\n",
    "    model.add(tf.keras.layers.Conv1D(filters=64, kernel_size=3, activation='elu'))\n",
    "    #model.add(tf.keras.layers.Conv1D(filters=64, kernel_size=3, activation='relu', name=\"Conv1D_0\"))\n",
    "    model.add(tf.keras.layers.Conv1D(filters=32, kernel_size=7, activation='softmax', name=\"Conv1D_1\"))\n",
    "    model.add(tf.keras.layers.Conv1D(filters=16, kernel_size=3, activation='selu', name=\"Conv1D_2\"))\n",
    "    tf.keras.layers.BatchNormalization()\n",
    "    model.add(tf.keras.layers.Flatten())\n",
    "    model.add(tf.keras.layers.Dense(128,activation='elu', name=\"Dense_00\"))\n",
    "    model.add(tf.keras.layers.Dense(64,activation='relu', name=\"Dense_0\"))\n",
    "    model.add(tf.keras.layers.Dense(32, activation= \"selu\", name=\"Dense_1\"))\n",
    "    model.add(tf.keras.layers.Dense(10, activation='softmax'))\n",
    "    model.add(tf.keras.layers.Dense(3, activation = \"linear\", name=\"Dense_4\"))\n",
    "    \n",
    "\n",
    "\n",
    "    optimizer = tf.keras.optimizers.RMSprop(0.001)\n",
    "\n",
    "    l = tf.keras.losses.LogCosh()\n",
    "    cs = tf.keras.losses.CosineSimilarity()\n",
    "    hl = tf.keras.losses.Huber()\n",
    "    lg = tf.keras.losses.MeanSquaredLogarithmicError()\n",
    "    hg = tf.keras.losses.Hinge()\n",
    "    LOG_COSH = 'log_cosh'\n",
    "    MEAN_SQUARED_LOG_ERROR = 'mean_squared_logarithmic_error'\n",
    "    COSINE_SIMILARITY = 'cosine_similarity'\n",
    "    \n",
    "    model.compile(loss=l,optimizer=optimizer,metrics=[LOG_COSH])\n",
    "    return model\n",
    "\n",
    "model_conv1D = build_conv1D_model()\n",
    "model_conv1D.summary()"
   ]
  },
  {
   "cell_type": "code",
   "execution_count": 15,
   "id": "0a7264bf",
   "metadata": {},
   "outputs": [
    {
     "name": "stdout",
     "output_type": "stream",
     "text": [
      "Epoch 1/80\n",
      "136/136 [==============================] - 4s 20ms/step - loss: 0.3939 - log_cosh: 0.3939 - val_loss: 0.3457 - val_log_cosh: 0.3457\n",
      "Epoch 2/80\n",
      "136/136 [==============================] - 3s 19ms/step - loss: 0.3081 - log_cosh: 0.3081 - val_loss: 0.2610 - val_log_cosh: 0.2610\n",
      "Epoch 3/80\n",
      "136/136 [==============================] - 2s 17ms/step - loss: 0.2658 - log_cosh: 0.2658 - val_loss: 0.2354 - val_log_cosh: 0.2354\n",
      "Epoch 4/80\n",
      "136/136 [==============================] - 2s 17ms/step - loss: 0.2384 - log_cosh: 0.2384 - val_loss: 0.2153 - val_log_cosh: 0.2153\n",
      "Epoch 5/80\n",
      "136/136 [==============================] - 2s 17ms/step - loss: 0.2139 - log_cosh: 0.2139 - val_loss: 0.1919 - val_log_cosh: 0.1919\n",
      "Epoch 6/80\n",
      "136/136 [==============================] - 2s 18ms/step - loss: 0.1977 - log_cosh: 0.1977 - val_loss: 0.1746 - val_log_cosh: 0.1746\n",
      "Epoch 7/80\n",
      "136/136 [==============================] - 2s 17ms/step - loss: 0.1771 - log_cosh: 0.1771 - val_loss: 0.1534 - val_log_cosh: 0.1534\n",
      "Epoch 8/80\n",
      "136/136 [==============================] - 2s 17ms/step - loss: 0.1600 - log_cosh: 0.1600 - val_loss: 0.1818 - val_log_cosh: 0.1818\n",
      "Epoch 9/80\n",
      "136/136 [==============================] - 2s 18ms/step - loss: 0.1432 - log_cosh: 0.1432 - val_loss: 0.1507 - val_log_cosh: 0.1507\n",
      "Epoch 10/80\n",
      "136/136 [==============================] - 3s 19ms/step - loss: 0.1334 - log_cosh: 0.1334 - val_loss: 0.1196 - val_log_cosh: 0.1196\n",
      "Epoch 11/80\n",
      "136/136 [==============================] - 2s 18ms/step - loss: 0.1229 - log_cosh: 0.1229 - val_loss: 0.1054 - val_log_cosh: 0.1054\n",
      "Epoch 12/80\n",
      "136/136 [==============================] - 2s 18ms/step - loss: 0.1134 - log_cosh: 0.1134 - val_loss: 0.1037 - val_log_cosh: 0.1037\n",
      "Epoch 13/80\n",
      "136/136 [==============================] - 2s 17ms/step - loss: 0.1040 - log_cosh: 0.1040 - val_loss: 0.1096 - val_log_cosh: 0.1096\n",
      "Epoch 14/80\n",
      "136/136 [==============================] - 2s 17ms/step - loss: 0.0965 - log_cosh: 0.0965 - val_loss: 0.0925 - val_log_cosh: 0.0925\n",
      "Epoch 15/80\n",
      "136/136 [==============================] - 2s 18ms/step - loss: 0.0924 - log_cosh: 0.0924 - val_loss: 0.1127 - val_log_cosh: 0.1127\n",
      "Epoch 16/80\n",
      "136/136 [==============================] - 3s 18ms/step - loss: 0.0866 - log_cosh: 0.0866 - val_loss: 0.0783 - val_log_cosh: 0.0783\n",
      "Epoch 17/80\n",
      "136/136 [==============================] - 2s 17ms/step - loss: 0.0807 - log_cosh: 0.0807 - val_loss: 0.0781 - val_log_cosh: 0.0781\n",
      "Epoch 18/80\n",
      "136/136 [==============================] - 2s 18ms/step - loss: 0.0793 - log_cosh: 0.0793 - val_loss: 0.0821 - val_log_cosh: 0.0821\n",
      "Epoch 19/80\n",
      "136/136 [==============================] - 2s 18ms/step - loss: 0.0728 - log_cosh: 0.0728 - val_loss: 0.0642 - val_log_cosh: 0.0642\n",
      "Epoch 20/80\n",
      "136/136 [==============================] - 2s 18ms/step - loss: 0.0740 - log_cosh: 0.0740 - val_loss: 0.0899 - val_log_cosh: 0.0899\n",
      "Epoch 21/80\n",
      "136/136 [==============================] - 2s 18ms/step - loss: 0.0695 - log_cosh: 0.0695 - val_loss: 0.0655 - val_log_cosh: 0.0655\n",
      "Epoch 22/80\n",
      "136/136 [==============================] - 3s 19ms/step - loss: 0.0654 - log_cosh: 0.0654 - val_loss: 0.0551 - val_log_cosh: 0.0551\n",
      "Epoch 23/80\n",
      "136/136 [==============================] - 3s 18ms/step - loss: 0.0623 - log_cosh: 0.0623 - val_loss: 0.0743 - val_log_cosh: 0.0743\n",
      "Epoch 24/80\n",
      "136/136 [==============================] - 3s 19ms/step - loss: 0.0636 - log_cosh: 0.0636 - val_loss: 0.0562 - val_log_cosh: 0.0562\n",
      "Epoch 25/80\n",
      "136/136 [==============================] - 3s 18ms/step - loss: 0.0589 - log_cosh: 0.0589 - val_loss: 0.0545 - val_log_cosh: 0.0545\n",
      "Epoch 26/80\n",
      "136/136 [==============================] - 2s 18ms/step - loss: 0.0568 - log_cosh: 0.0568 - val_loss: 0.0634 - val_log_cosh: 0.0634\n",
      "Epoch 27/80\n",
      "136/136 [==============================] - 2s 18ms/step - loss: 0.0580 - log_cosh: 0.0580 - val_loss: 0.0638 - val_log_cosh: 0.0638\n",
      "Epoch 28/80\n",
      "136/136 [==============================] - 2s 18ms/step - loss: 0.0554 - log_cosh: 0.0554 - val_loss: 0.0536 - val_log_cosh: 0.0536\n",
      "Epoch 29/80\n",
      "136/136 [==============================] - 2s 18ms/step - loss: 0.0525 - log_cosh: 0.0525 - val_loss: 0.0482 - val_log_cosh: 0.0482\n",
      "Epoch 30/80\n",
      "136/136 [==============================] - 2s 18ms/step - loss: 0.0527 - log_cosh: 0.0527 - val_loss: 0.0393 - val_log_cosh: 0.0393\n",
      "Epoch 31/80\n",
      "136/136 [==============================] - 2s 18ms/step - loss: 0.0508 - log_cosh: 0.0508 - val_loss: 0.0454 - val_log_cosh: 0.0454\n",
      "Epoch 32/80\n",
      "136/136 [==============================] - 2s 18ms/step - loss: 0.0501 - log_cosh: 0.0501 - val_loss: 0.0571 - val_log_cosh: 0.0571\n",
      "Epoch 33/80\n",
      "136/136 [==============================] - 3s 19ms/step - loss: 0.0484 - log_cosh: 0.0484 - val_loss: 0.0557 - val_log_cosh: 0.0557\n",
      "Epoch 34/80\n",
      "136/136 [==============================] - 2s 17ms/step - loss: 0.0478 - log_cosh: 0.0478 - val_loss: 0.0494 - val_log_cosh: 0.0494\n",
      "Epoch 35/80\n",
      "136/136 [==============================] - 2s 18ms/step - loss: 0.0481 - log_cosh: 0.0481 - val_loss: 0.0515 - val_log_cosh: 0.0515\n",
      "Epoch 36/80\n",
      "136/136 [==============================] - 2s 18ms/step - loss: 0.0471 - log_cosh: 0.0471 - val_loss: 0.0577 - val_log_cosh: 0.0577\n",
      "Epoch 37/80\n",
      "136/136 [==============================] - 2s 17ms/step - loss: 0.0446 - log_cosh: 0.0446 - val_loss: 0.0889 - val_log_cosh: 0.0889\n",
      "Epoch 38/80\n",
      "136/136 [==============================] - 2s 17ms/step - loss: 0.0467 - log_cosh: 0.0467 - val_loss: 0.0412 - val_log_cosh: 0.0412\n",
      "Epoch 39/80\n",
      "136/136 [==============================] - 2s 17ms/step - loss: 0.0437 - log_cosh: 0.0437 - val_loss: 0.0388 - val_log_cosh: 0.0388\n",
      "Epoch 40/80\n",
      "136/136 [==============================] - 2s 18ms/step - loss: 0.0441 - log_cosh: 0.0441 - val_loss: 0.0548 - val_log_cosh: 0.0548\n",
      "Epoch 41/80\n",
      "136/136 [==============================] - 2s 18ms/step - loss: 0.0423 - log_cosh: 0.0423 - val_loss: 0.0393 - val_log_cosh: 0.0393\n",
      "Epoch 42/80\n",
      "136/136 [==============================] - 2s 18ms/step - loss: 0.0425 - log_cosh: 0.0425 - val_loss: 0.0389 - val_log_cosh: 0.0389\n",
      "Epoch 43/80\n",
      "136/136 [==============================] - 3s 19ms/step - loss: 0.0440 - log_cosh: 0.0440 - val_loss: 0.0319 - val_log_cosh: 0.0319\n",
      "Epoch 44/80\n",
      "136/136 [==============================] - 2s 18ms/step - loss: 0.0407 - log_cosh: 0.0407 - val_loss: 0.0447 - val_log_cosh: 0.0447\n",
      "Epoch 45/80\n",
      "136/136 [==============================] - 2s 18ms/step - loss: 0.0426 - log_cosh: 0.0426 - val_loss: 0.0377 - val_log_cosh: 0.0377\n",
      "Epoch 46/80\n",
      "136/136 [==============================] - 2s 17ms/step - loss: 0.0401 - log_cosh: 0.0401 - val_loss: 0.0379 - val_log_cosh: 0.0379\n",
      "Epoch 47/80\n",
      "136/136 [==============================] - 2s 17ms/step - loss: 0.0405 - log_cosh: 0.0405 - val_loss: 0.0341 - val_log_cosh: 0.0341\n",
      "Epoch 48/80\n",
      "136/136 [==============================] - 2s 18ms/step - loss: 0.0390 - log_cosh: 0.0390 - val_loss: 0.0308 - val_log_cosh: 0.0308\n",
      "Epoch 49/80\n",
      "136/136 [==============================] - 2s 17ms/step - loss: 0.0400 - log_cosh: 0.0400 - val_loss: 0.0352 - val_log_cosh: 0.0352\n",
      "Epoch 50/80\n",
      "136/136 [==============================] - 2s 18ms/step - loss: 0.0386 - log_cosh: 0.0386 - val_loss: 0.0334 - val_log_cosh: 0.0334\n",
      "Epoch 51/80\n",
      "136/136 [==============================] - 3s 19ms/step - loss: 0.0376 - log_cosh: 0.0376 - val_loss: 0.0662 - val_log_cosh: 0.0662\n",
      "Epoch 52/80\n",
      "136/136 [==============================] - 2s 17ms/step - loss: 0.0384 - log_cosh: 0.0384 - val_loss: 0.0333 - val_log_cosh: 0.0333\n",
      "Epoch 53/80\n",
      "136/136 [==============================] - 2s 18ms/step - loss: 0.0385 - log_cosh: 0.0385 - val_loss: 0.0419 - val_log_cosh: 0.0419\n",
      "Epoch 54/80\n",
      "136/136 [==============================] - 3s 19ms/step - loss: 0.0381 - log_cosh: 0.0381 - val_loss: 0.0401 - val_log_cosh: 0.0401\n",
      "Epoch 55/80\n",
      "136/136 [==============================] - 2s 18ms/step - loss: 0.0378 - log_cosh: 0.0378 - val_loss: 0.0494 - val_log_cosh: 0.0494\n",
      "Epoch 56/80\n",
      "136/136 [==============================] - 2s 18ms/step - loss: 0.0367 - log_cosh: 0.0367 - val_loss: 0.0497 - val_log_cosh: 0.0497\n",
      "Epoch 57/80\n",
      "136/136 [==============================] - 2s 18ms/step - loss: 0.0370 - log_cosh: 0.0370 - val_loss: 0.0864 - val_log_cosh: 0.0864\n"
     ]
    },
    {
     "name": "stdout",
     "output_type": "stream",
     "text": [
      "Epoch 58/80\n",
      "136/136 [==============================] - 2s 16ms/step - loss: 0.0359 - log_cosh: 0.0359 - val_loss: 0.0370 - val_log_cosh: 0.0370\n",
      "Epoch 59/80\n",
      "136/136 [==============================] - 2s 17ms/step - loss: 0.0385 - log_cosh: 0.0385 - val_loss: 0.0328 - val_log_cosh: 0.0328\n",
      "Epoch 60/80\n",
      "136/136 [==============================] - 2s 17ms/step - loss: 0.0367 - log_cosh: 0.0367 - val_loss: 0.0288 - val_log_cosh: 0.0288\n",
      "Epoch 61/80\n",
      "136/136 [==============================] - 2s 16ms/step - loss: 0.0348 - log_cosh: 0.0348 - val_loss: 0.0314 - val_log_cosh: 0.0314\n",
      "Epoch 62/80\n",
      "136/136 [==============================] - 2s 17ms/step - loss: 0.0366 - log_cosh: 0.0366 - val_loss: 0.0383 - val_log_cosh: 0.0383\n",
      "Epoch 63/80\n",
      "136/136 [==============================] - 2s 16ms/step - loss: 0.0360 - log_cosh: 0.0360 - val_loss: 0.0291 - val_log_cosh: 0.0291\n",
      "Epoch 64/80\n",
      "136/136 [==============================] - 2s 15ms/step - loss: 0.0356 - log_cosh: 0.0356 - val_loss: 0.0295 - val_log_cosh: 0.0295\n",
      "Epoch 65/80\n",
      "136/136 [==============================] - 2s 15ms/step - loss: 0.0340 - log_cosh: 0.0340 - val_loss: 0.0312 - val_log_cosh: 0.0312\n",
      "Epoch 66/80\n",
      "136/136 [==============================] - 2s 17ms/step - loss: 0.0349 - log_cosh: 0.0349 - val_loss: 0.0650 - val_log_cosh: 0.0650\n",
      "Epoch 67/80\n",
      "136/136 [==============================] - 2s 17ms/step - loss: 0.0343 - log_cosh: 0.0343 - val_loss: 0.0765 - val_log_cosh: 0.0765\n",
      "Epoch 68/80\n",
      "136/136 [==============================] - 2s 17ms/step - loss: 0.0347 - log_cosh: 0.0347 - val_loss: 0.0447 - val_log_cosh: 0.0447\n",
      "Epoch 69/80\n",
      "136/136 [==============================] - 2s 17ms/step - loss: 0.0346 - log_cosh: 0.0346 - val_loss: 0.0282 - val_log_cosh: 0.0282\n",
      "Epoch 70/80\n",
      "136/136 [==============================] - 2s 17ms/step - loss: 0.0345 - log_cosh: 0.0345 - val_loss: 0.0388 - val_log_cosh: 0.0388\n"
     ]
    }
   ],
   "source": [
    "#train\n",
    "epoch_qty = 80\n",
    "callback = tf.keras.callbacks.EarlyStopping(monitor='loss', \n",
    "                                                patience=5)\n",
    "history = model_conv1D.fit(X_train_reshaped, y_train, epochs=epoch_qty,\n",
    "                    validation_data = (X_val_reshaped, y_val), \n",
    "                           verbose=1, callbacks=[callback])"
   ]
  },
  {
   "cell_type": "code",
   "execution_count": 16,
   "id": "9c545071",
   "metadata": {},
   "outputs": [
    {
     "name": "stdout",
     "output_type": "stream",
     "text": [
      "Testing set Mean Abs Error:   35.04\n"
     ]
    },
    {
     "data": {
      "image/png": "[encoded data removed]",
      "text/plain": [
       "<Figure size 720x432 with 1 Axes>"
      ]
     },
     "metadata": {
      "needs_background": "light"
     },
     "output_type": "display_data"
    }
   ],
   "source": [
    "[loss, mae] = model_conv1D.evaluate(X_test_reshaped, y_test, verbose=0)\n",
    "print(\"Testing set Mean Abs Error: {:7.2f}\".format(mae * 1000))\n",
    "\n",
    "pred =model_conv1D.predict(X_test_reshaped)\n",
    "\n",
    "y_pred_inv = standardScaler.inverse_transform(y)\n",
    "\n",
    "\n",
    "train_loss = history.history['loss']\n",
    "\n",
    "\n",
    "val_loss = history.history['val_loss']\n",
    "\n",
    "\n",
    "def plot_train_val(A, B, n, xlabel, ylabel, title):\n",
    "    pltp.figure(1, figsize=(10, 6))\n",
    "    pltp.plot(range(n),A)\n",
    "    pltp.plot(range(n),B)\n",
    "    pltp.ylabel(xlabel)\n",
    "    pltp.xlabel(ylabel)\n",
    "    pltp.title(title)\n",
    "    pltp.grid(True)\n",
    "    pltp.legend(['Training', 'Validation'])\n",
    "    pltp.show()\n",
    "\n",
    "\n",
    "plot_train_val(train_loss, val_loss, 70, 'Loss', 'Number of epochs', 'Training loss vs Validation loss')"
   ]
  },
  {
   "cell_type": "code",
   "execution_count": 17,
   "id": "89a044f7",
   "metadata": {},
   "outputs": [
    {
     "name": "stdout",
     "output_type": "stream",
     "text": [
      "(543,)\n",
      "(543,)\n"
     ]
    },
    {
     "data": {
      "image/png": "[encoded data removed]",
      "text/plain": [
       "<Figure size 432x288 with 1 Axes>"
      ]
     },
     "metadata": {
      "needs_background": "light"
     },
     "output_type": "display_data"
    }
   ],
   "source": [
    "from sklearn.metrics import mean_absolute_error\n",
    "y_pred_normalized = standardScaler.inverse_transform(pred)\n",
    "print(y_pred_normalized[:,0].shape)\n",
    "y_test_normalized = standardScaler.inverse_transform(y_test)\n",
    "print(y_test_normalized[:,0].shape)\n",
    "pltp.figure()\n",
    "pltp.hist(y_pred_normalized[:,0], label=\"pred\")\n",
    "pltp.hist(y_test_normalized[:,0], label=\"test\")\n",
    "\n",
    "pltp.legend(loc=\"best\")\n",
    "pltp.show()"
   ]
  },
  {
   "cell_type": "code",
   "execution_count": 18,
   "id": "27de49d1",
   "metadata": {},
   "outputs": [
    {
     "data": {
      "text/plain": [
       "(543,)"
      ]
     },
     "execution_count": 18,
     "metadata": {},
     "output_type": "execute_result"
    }
   ],
   "source": [
    "pred[:,0].shape"
   ]
  },
  {
   "cell_type": "code",
   "execution_count": 19,
   "id": "0a1257a4",
   "metadata": {},
   "outputs": [
    {
     "data": {
      "image/png": "[encoded data removed]",
      "text/plain": [
       "<Figure size 432x288 with 1 Axes>"
      ]
     },
     "metadata": {
      "needs_background": "light"
     },
     "output_type": "display_data"
    }
   ],
   "source": [
    "pltp.figure()\n",
    "pltp.hist(y_pred_normalized[:,1], label=\"pred\")\n",
    "pltp.hist(y_test_normalized[:,1], label=\"test\")\n",
    "\n",
    "pltp.legend(loc=\"best\")\n",
    "pltp.show()"
   ]
  },
  {
   "cell_type": "code",
   "execution_count": 20,
   "id": "a2e1cc3c",
   "metadata": {},
   "outputs": [
    {
     "data": {
      "image/png": "[encoded data removed]",
      "text/plain": [
       "<Figure size 432x288 with 1 Axes>"
      ]
     },
     "metadata": {
      "needs_background": "light"
     },
     "output_type": "display_data"
    }
   ],
   "source": [
    "pltp.figure()\n",
    "pltp.hist(y_pred_normalized[:,2], label=\"pred\")\n",
    "pltp.hist(y_test_normalized[:,2], label=\"test\")\n",
    "\n",
    "pltp.legend(loc=\"best\")\n",
    "pltp.show()"
   ]
  },
  {
   "cell_type": "code",
   "execution_count": 21,
   "id": "143e42b1",
   "metadata": {},
   "outputs": [
    {
     "data": {
      "text/plain": [
       "271.9381309438147"
      ]
     },
     "execution_count": 21,
     "metadata": {},
     "output_type": "execute_result"
    }
   ],
   "source": [
    "mean_absolute_error(y_pred_normalized, y_test_normalized)"
   ]
  },
  {
   "cell_type": "code",
   "execution_count": 22,
   "id": "dc5237c9",
   "metadata": {},
   "outputs": [],
   "source": [
    "model_conv1D.save('../abs_error_35_04.h5')"
   ]
  },
  {
   "cell_type": "code",
   "execution_count": 23,
   "id": "1e672701",
   "metadata": {},
   "outputs": [
    {
     "name": "stderr",
     "output_type": "stream",
     "text": [
      "/var/folders/w9/gh780vs52dgb_ypr6vd5g_4m0000gn/T/ipykernel_5235/942857022.py:7: UserWarning: Boolean Series key will be reindexed to match DataFrame index.\n",
      "  df2 = df[m1][m2]\n"
     ]
    },
    {
     "data": {
      "text/html": [
       "<div>\n",
       "<style scoped>\n",
       "    .dataframe tbody tr th:only-of-type {\n",
       "        vertical-align: middle;\n",
       "    }\n",
       "\n",
       "    .dataframe tbody tr th {\n",
       "        vertical-align: top;\n",
       "    }\n",
       "\n",
       "    .dataframe thead th {\n",
       "        text-align: right;\n",
       "    }\n",
       "</style>\n",
       "<table border=\"1\" class=\"dataframe\">\n",
       "  <thead>\n",
       "    <tr style=\"text-align: right;\">\n",
       "      <th></th>\n",
       "      <th>0</th>\n",
       "      <th>1</th>\n",
       "    </tr>\n",
       "  </thead>\n",
       "  <tbody>\n",
       "    <tr>\n",
       "      <th>2367</th>\n",
       "      <td>4460.022618</td>\n",
       "      <td>0.979893</td>\n",
       "    </tr>\n",
       "    <tr>\n",
       "      <th>2368</th>\n",
       "      <td>4460.111978</td>\n",
       "      <td>0.998823</td>\n",
       "    </tr>\n",
       "    <tr>\n",
       "      <th>2369</th>\n",
       "      <td>4460.201338</td>\n",
       "      <td>1.020981</td>\n",
       "    </tr>\n",
       "    <tr>\n",
       "      <th>2370</th>\n",
       "      <td>4460.290697</td>\n",
       "      <td>1.021009</td>\n",
       "    </tr>\n",
       "    <tr>\n",
       "      <th>2371</th>\n",
       "      <td>4460.380057</td>\n",
       "      <td>1.018809</td>\n",
       "    </tr>\n",
       "    <tr>\n",
       "      <th>...</th>\n",
       "      <td>...</td>\n",
       "      <td>...</td>\n",
       "    </tr>\n",
       "    <tr>\n",
       "      <th>2586</th>\n",
       "      <td>4479.592386</td>\n",
       "      <td>0.986350</td>\n",
       "    </tr>\n",
       "    <tr>\n",
       "      <th>2587</th>\n",
       "      <td>4479.681746</td>\n",
       "      <td>0.977661</td>\n",
       "    </tr>\n",
       "    <tr>\n",
       "      <th>2588</th>\n",
       "      <td>4479.771106</td>\n",
       "      <td>0.998069</td>\n",
       "    </tr>\n",
       "    <tr>\n",
       "      <th>2589</th>\n",
       "      <td>4479.860465</td>\n",
       "      <td>0.996876</td>\n",
       "    </tr>\n",
       "    <tr>\n",
       "      <th>2590</th>\n",
       "      <td>4479.949825</td>\n",
       "      <td>0.948284</td>\n",
       "    </tr>\n",
       "  </tbody>\n",
       "</table>\n",
       "<p>224 rows × 2 columns</p>\n",
       "</div>"
      ],
      "text/plain": [
       "                0         1\n",
       "2367  4460.022618  0.979893\n",
       "2368  4460.111978  0.998823\n",
       "2369  4460.201338  1.020981\n",
       "2370  4460.290697  1.021009\n",
       "2371  4460.380057  1.018809\n",
       "...           ...       ...\n",
       "2586  4479.592386  0.986350\n",
       "2587  4479.681746  0.977661\n",
       "2588  4479.771106  0.998069\n",
       "2589  4479.860465  0.996876\n",
       "2590  4479.949825  0.948284\n",
       "\n",
       "[224 rows x 2 columns]"
      ]
     },
     "execution_count": 23,
     "metadata": {},
     "output_type": "execute_result"
    }
   ],
   "source": [
    "#read besos\n",
    "df = pd.read_csv(\"../data-lineas-espectrales/BESOS/2_Be_stars/HD37041/hd37041_2014-01-29_03-58-58_final_corr.txt\", sep=\"\\t\", header=None)\n",
    "\n",
    "m1 = df[0] >= 4460\n",
    "m2 = df[0] <= 4480\n",
    "\n",
    "df2 = df[m1][m2]\n",
    "\n",
    "df2"
   ]
  },
  {
   "cell_type": "code",
   "execution_count": 24,
   "id": "9a0884ca",
   "metadata": {},
   "outputs": [
    {
     "data": {
      "image/png": "[encoded data removed]",
      "text/plain": [
       "<Figure size 576x432 with 1 Axes>"
      ]
     },
     "metadata": {
      "needs_background": "light"
     },
     "output_type": "display_data"
    }
   ],
   "source": [
    "pltp.figure(figsize=(8,6))\n",
    "pltp.plot(df2[0], df2[1], label=\"Línea observada\")\n",
    "#plt.plot(df4[0], df4[1], label=\"Modelo\")\n",
    "pltp.grid()\n",
    "pltp.legend(loc=\"best\")\n",
    "pltp.show()"
   ]
  },
  {
   "cell_type": "code",
   "execution_count": 25,
   "id": "22ffe54e",
   "metadata": {},
   "outputs": [],
   "source": [
    "n = 201  # for 2 random indices\n",
    "index = np.random.choice(df2[0].shape[0], n, replace=False) \n",
    "index.sort()"
   ]
  },
  {
   "cell_type": "code",
   "execution_count": 26,
   "id": "cdb1888f",
   "metadata": {},
   "outputs": [
    {
     "data": {
      "text/plain": [
       "(201,)"
      ]
     },
     "execution_count": 26,
     "metadata": {},
     "output_type": "execute_result"
    }
   ],
   "source": [
    "obs_waves = df2[0].values[index]\n",
    "\n",
    "obs_flux = df2[1].values[index]\n",
    "obs_flux.shape"
   ]
  },
  {
   "cell_type": "code",
   "execution_count": 27,
   "id": "5195a0d6",
   "metadata": {},
   "outputs": [
    {
     "data": {
      "image/png": "[encoded data removed]",
      "text/plain": [
       "<Figure size 576x432 with 1 Axes>"
      ]
     },
     "metadata": {
      "needs_background": "light"
     },
     "output_type": "display_data"
    }
   ],
   "source": [
    "pltp.figure(figsize=(8,6))\n",
    "pltp.plot(obs_waves, obs_flux ,label=\"Línea observada\")\n",
    "pltp.legend(loc=\"best\")\n",
    "pltp.show()"
   ]
  },
  {
   "cell_type": "code",
   "execution_count": 28,
   "id": "7e5b1a31",
   "metadata": {},
   "outputs": [],
   "source": [
    "time_steps = 201\n",
    "input_dimension = 1\n",
    "obs_flux_reshaped = obs_flux.reshape((1, time_steps, input_dimension))"
   ]
  },
  {
   "cell_type": "code",
   "execution_count": 29,
   "id": "89155eb6",
   "metadata": {},
   "outputs": [],
   "source": [
    "new_model = tf.keras.models.load_model('../abs_error_35_04.h5')"
   ]
  },
  {
   "cell_type": "code",
   "execution_count": 30,
   "id": "023ed71c",
   "metadata": {},
   "outputs": [],
   "source": [
    "pred_obs = new_model.predict(obs_flux_reshaped)"
   ]
  },
  {
   "cell_type": "code",
   "execution_count": 31,
   "id": "3450dc07",
   "metadata": {},
   "outputs": [
    {
     "name": "stdout",
     "output_type": "stream",
     "text": [
      "t_eff: 0.25343543\n",
      "log g: 1.22284\n",
      "v_rot: -1.0167102\n"
     ]
    }
   ],
   "source": [
    "print(\"t_eff:\", pred_obs[0][0])\n",
    "print(\"log g:\", pred_obs[0][1])\n",
    "print(\"v_rot:\", pred_obs[0][2])"
   ]
  },
  {
   "cell_type": "code",
   "execution_count": 32,
   "id": "dff152bc",
   "metadata": {},
   "outputs": [
    {
     "name": "stdout",
     "output_type": "stream",
     "text": [
      "28827.549\n",
      "4.72284\n",
      "159.06268\n"
     ]
    }
   ],
   "source": [
    "pred_obs_inv = standardScaler.inverse_transform(pred_obs)\n",
    "print(pred_obs_inv[0,0])\n",
    "print(pred_obs_inv[0,1])\n",
    "print(pred_obs_inv[0,2])"
   ]
  },
  {
   "cell_type": "code",
   "execution_count": null,
   "id": "d1b0b541",
   "metadata": {},
   "outputs": [],
   "source": []
  }
 ],
 "metadata": {
  "kernelspec": {
   "display_name": "Python 3 (ipykernel)",
   "language": "python",
   "name": "python3"
  },
  "language_info": {
   "codemirror_mode": {
    "name": "ipython",
    "version": 3
   },
   "file_extension": ".py",
   "mimetype": "text/x-python",
   "name": "python",
   "nbconvert_exporter": "python",
   "pygments_lexer": "ipython3",
   "version": "3.9.7"
  }
 },
 "nbformat": 4,
 "nbformat_minor": 5
}
