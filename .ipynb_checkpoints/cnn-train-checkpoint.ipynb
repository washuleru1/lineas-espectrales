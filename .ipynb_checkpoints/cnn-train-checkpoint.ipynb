{
 "cells": [
  {
   "cell_type": "code",
   "execution_count": 1,
   "id": "56ecb0a3",
   "metadata": {},
   "outputs": [],
   "source": [
    "import numpy as np\n",
    "import pandas as pd\n",
    "import matplotlib as plt\n",
    "from matplotlib import pyplot as pltp\n",
    "import tensorflow as tf\n",
    "import glob\n",
    "from sklearn.preprocessing import MinMaxScaler, StandardScaler\n",
    "from sklearn.model_selection import train_test_split\n",
    "from sklearn.metrics import classification_report, plot_confusion_matrix"
   ]
  },
  {
   "cell_type": "code",
   "execution_count": 2,
   "id": "f32fc74e",
   "metadata": {},
   "outputs": [],
   "source": [
    "#Función que separa los parametros t,g,v del fileName\n",
    "def separateParams(fileName):\n",
    "    t = fileName.split(\"t\")[1].split(\"g\")[0]\n",
    "    rest_of = fileName.split(\"t\")[1].split(\"g\")[1].split(\"v\")\n",
    "    g, v = rest_of\n",
    "    return float(t), float(g)/10, float(v)"
   ]
  },
  {
   "cell_type": "code",
   "execution_count": 3,
   "id": "a9585efc",
   "metadata": {},
   "outputs": [],
   "source": [
    "#Se definen los sets de training, test y validación\n",
    "def train_val_test_split(X, y, train_size, val_size, test_size, random_state = 1):\n",
    "    if train_size + val_size + test_size != 1.0:\n",
    "        print(\"Incorrect sizes!\")\n",
    "        return None \n",
    "    X_tmp, X_test, y_tmp, y_test = train_test_split(X, y, test_size = test_size, random_state=random_state)\n",
    "    X_train, X_val, y_train, y_val = train_test_split(X_tmp, y_tmp, test_size = val_size/(test_size + train_size), random_state=random_state)\n",
    "    return X_train, X_val, X_test, y_train, y_val, y_test"
   ]
  },
  {
   "cell_type": "code",
   "execution_count": 4,
   "id": "2d8da443",
   "metadata": {},
   "outputs": [
    {
     "name": "stdout",
     "output_type": "stream",
     "text": [
      "Files qty: 5425\n"
     ]
    }
   ],
   "source": [
    "files = glob.glob('../data-lineas-espectrales/filtered_wv_models/*')\n",
    "file_qty = len(files)\n",
    "print(\"Files qty: {}\".format(file_qty))"
   ]
  },
  {
   "cell_type": "code",
   "execution_count": 5,
   "id": "13e67b8d",
   "metadata": {},
   "outputs": [
    {
     "name": "stdout",
     "output_type": "stream",
     "text": [
      "points: 201 | columns: 2 \n"
     ]
    }
   ],
   "source": [
    "y = np.zeros((file_qty,3))\n",
    "df = pd.read_csv(files[0], sep=\" \", header=None)\n",
    "n_points , n_columns = df.shape\n",
    "print(\"points: {} | columns: {} \".format(n_points, n_columns))"
   ]
  },
  {
   "cell_type": "code",
   "execution_count": 6,
   "id": "210af774",
   "metadata": {},
   "outputs": [
    {
     "name": "stdout",
     "output_type": "stream",
     "text": [
      "(5425, 201)\n",
      "(5425, 3)\n"
     ]
    }
   ],
   "source": [
    "#Matriz que contiene las lineas espectrales\n",
    "X = np.zeros((file_qty, n_points))\n",
    "#Matriz que contiene los labels de cada linea espectral\n",
    "y = np.zeros((file_qty, 3))\n",
    "\n",
    "print(X.shape)\n",
    "print(y.shape)"
   ]
  },
  {
   "cell_type": "code",
   "execution_count": 7,
   "id": "533602ce",
   "metadata": {},
   "outputs": [],
   "source": [
    "#extract files, se almacenan las lineas espectrales y labels en X e y respectivamente\n",
    "for i, name in enumerate(files):\n",
    "    file_name = name.split(\"/\")[-1].split(\".\")[0].split(\"_\")[1]\n",
    "    df = pd.read_csv(name, sep=\" \", header=None)\n",
    "    t, g, v = separateParams(file_name)\n",
    "    #Se almacena la línea espectral\n",
    "    X[i, :] = df[1].values\n",
    "    #Se almacena el label de la linea espectral\n",
    "    y[i] = t, g, v"
   ]
  },
  {
   "cell_type": "code",
   "execution_count": 8,
   "id": "4e3e43ed",
   "metadata": {},
   "outputs": [
    {
     "name": "stdout",
     "output_type": "stream",
     "text": [
      "[[3.5e+04 2.0e+00 2.8e+02]\n",
      " [2.0e+04 2.0e+00 2.6e+02]\n",
      " [2.8e+04 2.0e+00 3.5e+02]\n",
      " [1.7e+04 3.0e+00 1.7e+02]]\n"
     ]
    }
   ],
   "source": [
    "print(y[:4])"
   ]
  },
  {
   "cell_type": "code",
   "execution_count": 9,
   "id": "7aae3a8f",
   "metadata": {},
   "outputs": [],
   "source": [
    "#se normaliza y\n",
    "standardScaler = StandardScaler()\n",
    "standardScaler.fit(y)\n",
    "normalized_y = standardScaler.transform(y)"
   ]
  },
  {
   "cell_type": "code",
   "execution_count": 10,
   "id": "287d1846",
   "metadata": {},
   "outputs": [],
   "source": [
    "X_train, X_val, X_test, y_train, y_val, y_test = train_val_test_split(X, normalized_y, .8, .1, .1)"
   ]
  },
  {
   "cell_type": "code",
   "execution_count": 11,
   "id": "b05c67a5",
   "metadata": {},
   "outputs": [
    {
     "name": "stdout",
     "output_type": "stream",
     "text": [
      "(4339, 201) (4339, 3)\n",
      "(543, 201) (543, 3)\n",
      "(543, 201) (543, 3)\n"
     ]
    }
   ],
   "source": [
    "print(X_train.shape, y_train.shape)\n",
    "print(X_val.shape, y_val.shape)\n",
    "print(X_test.shape, y_test.shape)"
   ]
  },
  {
   "cell_type": "code",
   "execution_count": 12,
   "id": "4fd8847c",
   "metadata": {},
   "outputs": [
    {
     "name": "stdout",
     "output_type": "stream",
     "text": [
      "201\n"
     ]
    }
   ],
   "source": [
    "time_steps = X.shape[1]\n",
    "input_dimension = 1\n",
    "print(time_steps)"
   ]
  },
  {
   "cell_type": "code",
   "execution_count": 13,
   "id": "89668f23",
   "metadata": {},
   "outputs": [
    {
     "name": "stdout",
     "output_type": "stream",
     "text": [
      "reshaped X_train: (4339, 201, 1)\n",
      "reshaped X_val: (543, 201, 1)\n",
      "reshaped X_test: (543, 201, 1)\n"
     ]
    }
   ],
   "source": [
    "sample_size = X_train.shape[0]\n",
    "X_train_reshaped = X_train.reshape((sample_size, time_steps, input_dimension))\n",
    "sample_size = X_val.shape[0]\n",
    "X_val_reshaped = X_val.reshape((sample_size, time_steps, input_dimension))\n",
    "sample_size = X_test.shape[0]\n",
    "X_test_reshaped = X_test.reshape((sample_size, time_steps, input_dimension))\n",
    "print(\"reshaped X_train: {}\".format(X_train_reshaped.shape))\n",
    "print(\"reshaped X_val: {}\".format(X_val_reshaped.shape))\n",
    "print(\"reshaped X_test: {}\".format(X_test_reshaped.shape))"
   ]
  },
  {
   "cell_type": "code",
   "execution_count": 16,
   "id": "7d37748f",
   "metadata": {},
   "outputs": [
    {
     "name": "stdout",
     "output_type": "stream",
     "text": [
      "Model: \"model_conv1D\"\n",
      "_________________________________________________________________\n",
      " Layer (type)                Output Shape              Param #   \n",
      "=================================================================\n",
      " Conv1D_0 (Conv1D)           (None, 199, 64)           256       \n",
      "                                                                 \n",
      " Conv1D_1 (Conv1D)           (None, 193, 32)           14368     \n",
      "                                                                 \n",
      " Conv1D_2 (Conv1D)           (None, 191, 16)           1552      \n",
      "                                                                 \n",
      " flatten_1 (Flatten)         (None, 3056)              0         \n",
      "                                                                 \n",
      " Dense_1 (Dense)             (None, 32)                97824     \n",
      "                                                                 \n",
      " dense_1 (Dense)             (None, 10)                330       \n",
      "                                                                 \n",
      " Dense_4 (Dense)             (None, 3)                 33        \n",
      "                                                                 \n",
      "=================================================================\n",
      "Total params: 114,363\n",
      "Trainable params: 114,363\n",
      "Non-trainable params: 0\n",
      "_________________________________________________________________\n"
     ]
    }
   ],
   "source": [
    "#Arquitectura de la red\n",
    "def build_conv1D_model():\n",
    "    n_timesteps = X_train_reshaped.shape[1] #210\n",
    "    n_features  = X_train_reshaped.shape[2] #1 \n",
    "    model = tf.keras.Sequential(name=\"model_conv1D\")\n",
    "    model.add(tf.keras.layers.Input(shape=(n_timesteps,n_features)))\n",
    "    model.add(tf.keras.layers.Conv1D(filters=64, kernel_size=3, activation='relu', name=\"Conv1D_0\"))\n",
    "    model.add(tf.keras.layers.Conv1D(filters=32, kernel_size=7, activation='softmax', name=\"Conv1D_1\"))\n",
    "    model.add(tf.keras.layers.Conv1D(filters=16, kernel_size=3, activation='selu', name=\"Conv1D_2\"))\n",
    "    tf.keras.layers.BatchNormalization()\n",
    "    model.add(tf.keras.layers.Flatten())\n",
    "    model.add(tf.keras.layers.Dense(32, activation= \"selu\", name=\"Dense_1\"))\n",
    "    model.add(tf.keras.layers.Dense(10, activation='softmax'))\n",
    "    model.add(tf.keras.layers.Dense(3, activation = \"linear\", name=\"Dense_4\"))\n",
    "    \n",
    "\n",
    "\n",
    "    optimizer = tf.keras.optimizers.RMSprop(0.001)\n",
    "\n",
    "    l = tf.keras.losses.LogCosh()\n",
    "    \n",
    "    \n",
    "    model.compile(loss='mse',optimizer=optimizer,metrics=['mse', 'accuracy'])\n",
    "    return model\n",
    "\n",
    "model_conv1D = build_conv1D_model()\n",
    "model_conv1D.summary()"
   ]
  },
  {
   "cell_type": "code",
   "execution_count": 17,
   "id": "424f24dd",
   "metadata": {},
   "outputs": [
    {
     "name": "stdout",
     "output_type": "stream",
     "text": [
      "Epoch 1/80\n",
      "136/136 [==============================] - 5s 28ms/step - loss: 1.0073 - mse: 1.0073 - accuracy: 0.3326 - val_loss: 0.9684 - val_mse: 0.9684 - val_accuracy: 0.3039\n",
      "Epoch 2/80\n",
      "136/136 [==============================] - 3s 24ms/step - loss: 0.9196 - mse: 0.9196 - accuracy: 0.5266 - val_loss: 0.7649 - val_mse: 0.7649 - val_accuracy: 0.7109\n",
      "Epoch 3/80\n",
      "136/136 [==============================] - 3s 23ms/step - loss: 0.7307 - mse: 0.7307 - accuracy: 0.6935 - val_loss: 0.6447 - val_mse: 0.6447 - val_accuracy: 0.7293\n",
      "Epoch 4/80\n",
      "136/136 [==============================] - 3s 23ms/step - loss: 0.6224 - mse: 0.6224 - accuracy: 0.7304 - val_loss: 0.6145 - val_mse: 0.6145 - val_accuracy: 0.6133\n",
      "Epoch 5/80\n",
      "136/136 [==============================] - 3s 24ms/step - loss: 0.5579 - mse: 0.5579 - accuracy: 0.7541 - val_loss: 0.5081 - val_mse: 0.5081 - val_accuracy: 0.7366\n",
      "Epoch 6/80\n",
      "136/136 [==============================] - 4s 28ms/step - loss: 0.5074 - mse: 0.5074 - accuracy: 0.7681 - val_loss: 0.5390 - val_mse: 0.5390 - val_accuracy: 0.6464\n",
      "Epoch 7/80\n",
      "136/136 [==============================] - 3s 24ms/step - loss: 0.4779 - mse: 0.4779 - accuracy: 0.7686 - val_loss: 0.4484 - val_mse: 0.4484 - val_accuracy: 0.7311\n",
      "Epoch 8/80\n",
      "136/136 [==============================] - 3s 25ms/step - loss: 0.4439 - mse: 0.4439 - accuracy: 0.7822 - val_loss: 0.4259 - val_mse: 0.4259 - val_accuracy: 0.7919\n",
      "Epoch 9/80\n",
      "136/136 [==============================] - 3s 24ms/step - loss: 0.4091 - mse: 0.4091 - accuracy: 0.7940 - val_loss: 0.3812 - val_mse: 0.3812 - val_accuracy: 0.7919\n",
      "Epoch 10/80\n",
      "136/136 [==============================] - 3s 23ms/step - loss: 0.3653 - mse: 0.3653 - accuracy: 0.8193 - val_loss: 0.3787 - val_mse: 0.3787 - val_accuracy: 0.8343\n",
      "Epoch 11/80\n",
      "136/136 [==============================] - 3s 24ms/step - loss: 0.3344 - mse: 0.3344 - accuracy: 0.8281 - val_loss: 0.3198 - val_mse: 0.3198 - val_accuracy: 0.8195\n",
      "Epoch 12/80\n",
      "136/136 [==============================] - 3s 23ms/step - loss: 0.3088 - mse: 0.3088 - accuracy: 0.8366 - val_loss: 0.2820 - val_mse: 0.2820 - val_accuracy: 0.8416\n",
      "Epoch 13/80\n",
      "136/136 [==============================] - 3s 25ms/step - loss: 0.2833 - mse: 0.2833 - accuracy: 0.8315 - val_loss: 0.2616 - val_mse: 0.2616 - val_accuracy: 0.8361\n",
      "Epoch 14/80\n",
      "136/136 [==============================] - 3s 23ms/step - loss: 0.2625 - mse: 0.2625 - accuracy: 0.8343 - val_loss: 0.2347 - val_mse: 0.2347 - val_accuracy: 0.8398\n",
      "Epoch 15/80\n",
      "136/136 [==============================] - 3s 23ms/step - loss: 0.2455 - mse: 0.2455 - accuracy: 0.8311 - val_loss: 0.2339 - val_mse: 0.2339 - val_accuracy: 0.8250\n",
      "Epoch 16/80\n",
      "136/136 [==============================] - 3s 24ms/step - loss: 0.2263 - mse: 0.2263 - accuracy: 0.8327 - val_loss: 0.2118 - val_mse: 0.2118 - val_accuracy: 0.8453\n",
      "Epoch 17/80\n",
      "136/136 [==============================] - 3s 24ms/step - loss: 0.2160 - mse: 0.2160 - accuracy: 0.8315 - val_loss: 0.2115 - val_mse: 0.2115 - val_accuracy: 0.8287\n",
      "Epoch 18/80\n",
      "136/136 [==============================] - 3s 23ms/step - loss: 0.2078 - mse: 0.2078 - accuracy: 0.8380 - val_loss: 0.2403 - val_mse: 0.2403 - val_accuracy: 0.7587\n",
      "Epoch 19/80\n",
      "136/136 [==============================] - 4s 26ms/step - loss: 0.1976 - mse: 0.1976 - accuracy: 0.8426 - val_loss: 0.1771 - val_mse: 0.1771 - val_accuracy: 0.8545\n",
      "Epoch 20/80\n",
      "136/136 [==============================] - 4s 26ms/step - loss: 0.1909 - mse: 0.1909 - accuracy: 0.8490 - val_loss: 0.1921 - val_mse: 0.1921 - val_accuracy: 0.8269\n",
      "Epoch 21/80\n",
      "136/136 [==============================] - 3s 25ms/step - loss: 0.1873 - mse: 0.1873 - accuracy: 0.8504 - val_loss: 0.2169 - val_mse: 0.2169 - val_accuracy: 0.8435\n",
      "Epoch 22/80\n",
      "136/136 [==============================] - 3s 25ms/step - loss: 0.1832 - mse: 0.1832 - accuracy: 0.8569 - val_loss: 0.1983 - val_mse: 0.1983 - val_accuracy: 0.8361\n",
      "Epoch 23/80\n",
      "136/136 [==============================] - 3s 25ms/step - loss: 0.1773 - mse: 0.1773 - accuracy: 0.8576 - val_loss: 0.2011 - val_mse: 0.2011 - val_accuracy: 0.8508\n",
      "Epoch 24/80\n",
      "136/136 [==============================] - 3s 25ms/step - loss: 0.1745 - mse: 0.1745 - accuracy: 0.8569 - val_loss: 0.2371 - val_mse: 0.2371 - val_accuracy: 0.8416\n",
      "Epoch 25/80\n",
      "136/136 [==============================] - 3s 24ms/step - loss: 0.1714 - mse: 0.1714 - accuracy: 0.8633 - val_loss: 0.1985 - val_mse: 0.1985 - val_accuracy: 0.8913\n",
      "Epoch 26/80\n",
      "136/136 [==============================] - 3s 23ms/step - loss: 0.1688 - mse: 0.1688 - accuracy: 0.8643 - val_loss: 0.1899 - val_mse: 0.1899 - val_accuracy: 0.8692\n",
      "Epoch 27/80\n",
      "136/136 [==============================] - 3s 23ms/step - loss: 0.1644 - mse: 0.1644 - accuracy: 0.8580 - val_loss: 0.1620 - val_mse: 0.1620 - val_accuracy: 0.8692\n",
      "Epoch 28/80\n",
      "136/136 [==============================] - 3s 24ms/step - loss: 0.1674 - mse: 0.1674 - accuracy: 0.8636 - val_loss: 0.1581 - val_mse: 0.1581 - val_accuracy: 0.8656\n",
      "Epoch 29/80\n",
      "136/136 [==============================] - 3s 24ms/step - loss: 0.1636 - mse: 0.1636 - accuracy: 0.8594 - val_loss: 0.2561 - val_mse: 0.2561 - val_accuracy: 0.7219\n",
      "Epoch 30/80\n",
      "136/136 [==============================] - 3s 24ms/step - loss: 0.1665 - mse: 0.1665 - accuracy: 0.8610 - val_loss: 0.1498 - val_mse: 0.1498 - val_accuracy: 0.8821\n",
      "Epoch 31/80\n",
      "136/136 [==============================] - 3s 24ms/step - loss: 0.1596 - mse: 0.1596 - accuracy: 0.8679 - val_loss: 0.1474 - val_mse: 0.1474 - val_accuracy: 0.8950\n",
      "Epoch 32/80\n",
      "136/136 [==============================] - 3s 24ms/step - loss: 0.1607 - mse: 0.1607 - accuracy: 0.8668 - val_loss: 0.1862 - val_mse: 0.1862 - val_accuracy: 0.8324\n",
      "Epoch 33/80\n",
      "136/136 [==============================] - 3s 24ms/step - loss: 0.1556 - mse: 0.1556 - accuracy: 0.8682 - val_loss: 0.1384 - val_mse: 0.1384 - val_accuracy: 0.8877\n",
      "Epoch 34/80\n",
      "136/136 [==============================] - 3s 24ms/step - loss: 0.1549 - mse: 0.1549 - accuracy: 0.8682 - val_loss: 0.1337 - val_mse: 0.1337 - val_accuracy: 0.8858\n",
      "Epoch 35/80\n",
      "136/136 [==============================] - 3s 24ms/step - loss: 0.1540 - mse: 0.1540 - accuracy: 0.8673 - val_loss: 0.1676 - val_mse: 0.1676 - val_accuracy: 0.8232\n",
      "Epoch 36/80\n",
      "136/136 [==============================] - 3s 24ms/step - loss: 0.1519 - mse: 0.1519 - accuracy: 0.8700 - val_loss: 0.1520 - val_mse: 0.1520 - val_accuracy: 0.8656\n",
      "Epoch 37/80\n",
      "136/136 [==============================] - 3s 24ms/step - loss: 0.1498 - mse: 0.1498 - accuracy: 0.8723 - val_loss: 0.1275 - val_mse: 0.1275 - val_accuracy: 0.8987\n",
      "Epoch 38/80\n",
      "136/136 [==============================] - 3s 25ms/step - loss: 0.1498 - mse: 0.1498 - accuracy: 0.8645 - val_loss: 0.1623 - val_mse: 0.1623 - val_accuracy: 0.8324\n",
      "Epoch 39/80\n",
      "136/136 [==============================] - 3s 23ms/step - loss: 0.1503 - mse: 0.1503 - accuracy: 0.8700 - val_loss: 0.1550 - val_mse: 0.1550 - val_accuracy: 0.8858\n",
      "Epoch 40/80\n",
      "136/136 [==============================] - 3s 24ms/step - loss: 0.1447 - mse: 0.1447 - accuracy: 0.8744 - val_loss: 0.1448 - val_mse: 0.1448 - val_accuracy: 0.8508\n",
      "Epoch 41/80\n",
      "136/136 [==============================] - 3s 24ms/step - loss: 0.1481 - mse: 0.1481 - accuracy: 0.8749 - val_loss: 0.1395 - val_mse: 0.1395 - val_accuracy: 0.8858\n",
      "Epoch 42/80\n",
      "136/136 [==============================] - 3s 23ms/step - loss: 0.1452 - mse: 0.1452 - accuracy: 0.8730 - val_loss: 0.3220 - val_mse: 0.3220 - val_accuracy: 0.8508\n",
      "Epoch 43/80\n",
      "136/136 [==============================] - 3s 25ms/step - loss: 0.1462 - mse: 0.1462 - accuracy: 0.8769 - val_loss: 0.1207 - val_mse: 0.1207 - val_accuracy: 0.8913\n",
      "Epoch 44/80\n",
      "136/136 [==============================] - 3s 25ms/step - loss: 0.1443 - mse: 0.1443 - accuracy: 0.8755 - val_loss: 0.1624 - val_mse: 0.1624 - val_accuracy: 0.8840\n",
      "Epoch 45/80\n",
      "136/136 [==============================] - 4s 26ms/step - loss: 0.1390 - mse: 0.1390 - accuracy: 0.8751 - val_loss: 0.1342 - val_mse: 0.1342 - val_accuracy: 0.8729\n",
      "Epoch 46/80\n",
      "136/136 [==============================] - 4s 26ms/step - loss: 0.1399 - mse: 0.1399 - accuracy: 0.8790 - val_loss: 0.1360 - val_mse: 0.1360 - val_accuracy: 0.8950\n",
      "Epoch 47/80\n"
     ]
    },
    {
     "name": "stdout",
     "output_type": "stream",
     "text": [
      "136/136 [==============================] - 4s 26ms/step - loss: 0.1376 - mse: 0.1376 - accuracy: 0.8788 - val_loss: 0.1800 - val_mse: 0.1800 - val_accuracy: 0.8729\n",
      "Epoch 48/80\n",
      "136/136 [==============================] - 3s 25ms/step - loss: 0.1379 - mse: 0.1379 - accuracy: 0.8815 - val_loss: 0.1242 - val_mse: 0.1242 - val_accuracy: 0.8877\n",
      "Epoch 49/80\n",
      "136/136 [==============================] - 3s 24ms/step - loss: 0.1364 - mse: 0.1364 - accuracy: 0.8804 - val_loss: 0.1285 - val_mse: 0.1285 - val_accuracy: 0.8821\n",
      "Epoch 50/80\n",
      "136/136 [==============================] - 3s 25ms/step - loss: 0.1346 - mse: 0.1346 - accuracy: 0.8730 - val_loss: 0.1209 - val_mse: 0.1209 - val_accuracy: 0.8656\n",
      "Epoch 51/80\n",
      "136/136 [==============================] - 3s 25ms/step - loss: 0.1341 - mse: 0.1341 - accuracy: 0.8781 - val_loss: 0.1584 - val_mse: 0.1584 - val_accuracy: 0.8803\n",
      "Epoch 52/80\n",
      "136/136 [==============================] - 3s 25ms/step - loss: 0.1343 - mse: 0.1343 - accuracy: 0.8723 - val_loss: 0.1492 - val_mse: 0.1492 - val_accuracy: 0.8508\n",
      "Epoch 53/80\n",
      "136/136 [==============================] - 3s 25ms/step - loss: 0.1320 - mse: 0.1320 - accuracy: 0.8811 - val_loss: 0.1136 - val_mse: 0.1136 - val_accuracy: 0.8895\n",
      "Epoch 54/80\n",
      "136/136 [==============================] - 3s 25ms/step - loss: 0.1319 - mse: 0.1319 - accuracy: 0.8836 - val_loss: 0.2099 - val_mse: 0.2099 - val_accuracy: 0.8140\n",
      "Epoch 55/80\n",
      "136/136 [==============================] - 3s 24ms/step - loss: 0.1313 - mse: 0.1313 - accuracy: 0.8802 - val_loss: 0.1105 - val_mse: 0.1105 - val_accuracy: 0.9079\n",
      "Epoch 56/80\n",
      "136/136 [==============================] - 4s 27ms/step - loss: 0.1309 - mse: 0.1309 - accuracy: 0.8781 - val_loss: 0.1247 - val_mse: 0.1247 - val_accuracy: 0.8877\n",
      "Epoch 57/80\n",
      "136/136 [==============================] - 3s 25ms/step - loss: 0.1305 - mse: 0.1305 - accuracy: 0.8726 - val_loss: 0.1286 - val_mse: 0.1286 - val_accuracy: 0.8564\n",
      "Epoch 58/80\n",
      "136/136 [==============================] - 3s 23ms/step - loss: 0.1317 - mse: 0.1317 - accuracy: 0.8762 - val_loss: 0.1218 - val_mse: 0.1218 - val_accuracy: 0.8950\n",
      "Epoch 59/80\n",
      "136/136 [==============================] - 3s 22ms/step - loss: 0.1251 - mse: 0.1251 - accuracy: 0.8850 - val_loss: 0.1021 - val_mse: 0.1021 - val_accuracy: 0.9061\n",
      "Epoch 60/80\n",
      "136/136 [==============================] - 3s 22ms/step - loss: 0.1268 - mse: 0.1268 - accuracy: 0.8806 - val_loss: 0.1530 - val_mse: 0.1530 - val_accuracy: 0.8637\n",
      "Epoch 61/80\n",
      "136/136 [==============================] - 3s 20ms/step - loss: 0.1244 - mse: 0.1244 - accuracy: 0.8815 - val_loss: 0.1171 - val_mse: 0.1171 - val_accuracy: 0.8987\n",
      "Epoch 62/80\n",
      "136/136 [==============================] - 3s 21ms/step - loss: 0.1226 - mse: 0.1226 - accuracy: 0.8760 - val_loss: 0.1304 - val_mse: 0.1304 - val_accuracy: 0.8913\n",
      "Epoch 63/80\n",
      "136/136 [==============================] - 3s 21ms/step - loss: 0.1214 - mse: 0.1214 - accuracy: 0.8760 - val_loss: 0.1049 - val_mse: 0.1049 - val_accuracy: 0.9079\n",
      "Epoch 64/80\n",
      "136/136 [==============================] - 3s 20ms/step - loss: 0.1218 - mse: 0.1218 - accuracy: 0.8836 - val_loss: 0.1703 - val_mse: 0.1703 - val_accuracy: 0.8214\n",
      "Epoch 65/80\n",
      "136/136 [==============================] - 3s 19ms/step - loss: 0.1209 - mse: 0.1209 - accuracy: 0.8841 - val_loss: 0.1201 - val_mse: 0.1201 - val_accuracy: 0.8785\n",
      "Epoch 66/80\n",
      "136/136 [==============================] - 3s 20ms/step - loss: 0.1219 - mse: 0.1219 - accuracy: 0.8838 - val_loss: 0.1561 - val_mse: 0.1561 - val_accuracy: 0.8913\n",
      "Epoch 67/80\n",
      "136/136 [==============================] - 3s 19ms/step - loss: 0.1182 - mse: 0.1182 - accuracy: 0.8769 - val_loss: 0.1324 - val_mse: 0.1324 - val_accuracy: 0.8858\n",
      "Epoch 68/80\n",
      "136/136 [==============================] - 3s 20ms/step - loss: 0.1189 - mse: 0.1189 - accuracy: 0.8885 - val_loss: 0.1051 - val_mse: 0.1051 - val_accuracy: 0.9171\n",
      "Epoch 69/80\n",
      "136/136 [==============================] - 3s 20ms/step - loss: 0.1159 - mse: 0.1159 - accuracy: 0.8896 - val_loss: 0.1104 - val_mse: 0.1104 - val_accuracy: 0.8987\n",
      "Epoch 70/80\n",
      "136/136 [==============================] - 3s 20ms/step - loss: 0.1154 - mse: 0.1154 - accuracy: 0.8875 - val_loss: 0.1054 - val_mse: 0.1054 - val_accuracy: 0.8987\n",
      "Epoch 71/80\n",
      "136/136 [==============================] - 3s 19ms/step - loss: 0.1156 - mse: 0.1156 - accuracy: 0.8834 - val_loss: 0.1221 - val_mse: 0.1221 - val_accuracy: 0.8932\n",
      "Epoch 72/80\n",
      "136/136 [==============================] - 3s 19ms/step - loss: 0.1146 - mse: 0.1146 - accuracy: 0.8861 - val_loss: 0.0987 - val_mse: 0.0987 - val_accuracy: 0.9024\n",
      "Epoch 73/80\n",
      "136/136 [==============================] - 3s 19ms/step - loss: 0.1127 - mse: 0.1127 - accuracy: 0.8917 - val_loss: 0.0957 - val_mse: 0.0957 - val_accuracy: 0.9079\n",
      "Epoch 74/80\n",
      "136/136 [==============================] - 3s 19ms/step - loss: 0.1128 - mse: 0.1128 - accuracy: 0.8894 - val_loss: 0.0948 - val_mse: 0.0948 - val_accuracy: 0.9024\n",
      "Epoch 75/80\n",
      "136/136 [==============================] - 3s 19ms/step - loss: 0.1125 - mse: 0.1125 - accuracy: 0.8859 - val_loss: 0.1114 - val_mse: 0.1114 - val_accuracy: 0.9171\n",
      "Epoch 76/80\n",
      "136/136 [==============================] - 3s 19ms/step - loss: 0.1090 - mse: 0.1090 - accuracy: 0.8871 - val_loss: 0.1674 - val_mse: 0.1674 - val_accuracy: 0.8803\n",
      "Epoch 77/80\n",
      "136/136 [==============================] - 3s 20ms/step - loss: 0.1114 - mse: 0.1114 - accuracy: 0.8875 - val_loss: 0.1522 - val_mse: 0.1522 - val_accuracy: 0.8895\n",
      "Epoch 78/80\n",
      "136/136 [==============================] - 3s 20ms/step - loss: 0.1104 - mse: 0.1104 - accuracy: 0.8972 - val_loss: 0.1070 - val_mse: 0.1070 - val_accuracy: 0.8858\n",
      "Epoch 79/80\n",
      "136/136 [==============================] - 3s 19ms/step - loss: 0.1073 - mse: 0.1073 - accuracy: 0.8954 - val_loss: 0.1043 - val_mse: 0.1043 - val_accuracy: 0.8858\n",
      "Epoch 80/80\n",
      "136/136 [==============================] - 3s 19ms/step - loss: 0.1064 - mse: 0.1064 - accuracy: 0.8912 - val_loss: 0.1000 - val_mse: 0.1000 - val_accuracy: 0.9171\n"
     ]
    }
   ],
   "source": [
    "#train\n",
    "epoch_qty = 80\n",
    "callback = tf.keras.callbacks.EarlyStopping(monitor='loss', \n",
    "                                                patience=5)\n",
    "history = model_conv1D.fit(X_train_reshaped, y_train, epochs=epoch_qty,\n",
    "                    validation_data = (X_val_reshaped, y_val), \n",
    "                           verbose=1, callbacks=[callback])"
   ]
  },
  {
   "cell_type": "code",
   "execution_count": 18,
   "id": "45648f18",
   "metadata": {},
   "outputs": [
    {
     "name": "stdout",
     "output_type": "stream",
     "text": [
      "Testing set Mean Abs Error:   88.07\n"
     ]
    },
    {
     "data": {
      "image/png": "[encoded data removed]",
      "text/plain": [
       "<Figure size 720x432 with 1 Axes>"
      ]
     },
     "metadata": {
      "needs_background": "light"
     },
     "output_type": "display_data"
    }
   ],
   "source": [
    "[loss, mae, accuracy] = model_conv1D.evaluate(X_test_reshaped, y_test, verbose=0)\n",
    "print(\"Testing set Mean Abs Error: {:7.2f}\".format(mae * 1000))\n",
    "\n",
    "pred =model_conv1D.predict(X_test_reshaped)\n",
    "\n",
    "y_pred_inv = standardScaler.inverse_transform(y)\n",
    "\n",
    "\n",
    "train_loss = history.history['loss']\n",
    "\n",
    "\n",
    "val_loss = history.history['val_loss']\n",
    "\n",
    "\n",
    "def plot_train_val(A, B, n, xlabel, ylabel, title):\n",
    "    pltp.figure(1, figsize=(10, 6))\n",
    "    pltp.plot(range(n),A)\n",
    "    pltp.plot(range(n),B)\n",
    "    pltp.ylabel(xlabel)\n",
    "    pltp.xlabel(ylabel)\n",
    "    pltp.title(title)\n",
    "    pltp.grid(True)\n",
    "    pltp.legend(['Training', 'Validation'])\n",
    "    pltp.show()\n",
    "\n",
    "\n",
    "plot_train_val(train_loss, val_loss, epoch_qty, 'Loss', 'Number of epochs', 'Training loss vs Validation loss')"
   ]
  },
  {
   "cell_type": "code",
   "execution_count": null,
   "id": "81109d2c",
   "metadata": {},
   "outputs": [],
   "source": []
  }
 ],
 "metadata": {
  "kernelspec": {
   "display_name": "Python 3 (ipykernel)",
   "language": "python",
   "name": "python3"
  },
  "language_info": {
   "codemirror_mode": {
    "name": "ipython",
    "version": 3
   },
   "file_extension": ".py",
   "mimetype": "text/x-python",
   "name": "python",
   "nbconvert_exporter": "python",
   "pygments_lexer": "ipython3",
   "version": "3.9.7"
  }
 },
 "nbformat": 4,
 "nbformat_minor": 5
}
