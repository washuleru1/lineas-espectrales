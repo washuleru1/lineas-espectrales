{
 "cells": [
  {
   "cell_type": "code",
   "execution_count": 1,
   "id": "56ecb0a3",
   "metadata": {},
   "outputs": [],
   "source": [
    "import numpy as np\n",
    "import pandas as pd\n",
    "import matplotlib as plt\n",
    "from matplotlib import pyplot as pltp\n",
    "import tensorflow as tf\n",
    "import glob\n",
    "from sklearn.preprocessing import MinMaxScaler, StandardScaler\n",
    "from sklearn.model_selection import train_test_split\n",
    "from sklearn.metrics import classification_report, plot_confusion_matrix"
   ]
  },
  {
   "cell_type": "code",
   "execution_count": 2,
   "id": "f32fc74e",
   "metadata": {},
   "outputs": [],
   "source": [
    "#Función que separa los parametros t,g,v del fileName\n",
    "def separateParams(fileName):\n",
    "    t = fileName.split(\"t\")[1].split(\"g\")[0]\n",
    "    rest_of = fileName.split(\"t\")[1].split(\"g\")[1].split(\"v\")\n",
    "    g, v = rest_of\n",
    "    return float(t), float(g)/10, float(v)"
   ]
  },
  {
   "cell_type": "code",
   "execution_count": 3,
   "id": "a9585efc",
   "metadata": {},
   "outputs": [],
   "source": [
    "#Se definen los sets de training, test y validación\n",
    "def train_val_test_split(X, y, train_size, val_size, test_size, random_state = 1):\n",
    "    if train_size + val_size + test_size != 1.0:\n",
    "        print(\"Incorrect sizes!\")\n",
    "        return None \n",
    "    X_tmp, X_test, y_tmp, y_test = train_test_split(X, y, test_size = test_size, random_state=random_state)\n",
    "    X_train, X_val, y_train, y_val = train_test_split(X_tmp, y_tmp, test_size = val_size/(test_size + train_size), random_state=random_state)\n",
    "    return X_train, X_val, X_test, y_train, y_val, y_test"
   ]
  },
  {
   "cell_type": "code",
   "execution_count": 4,
   "id": "2d8da443",
   "metadata": {},
   "outputs": [
    {
     "name": "stdout",
     "output_type": "stream",
     "text": [
      "Files qty: 5425\n"
     ]
    }
   ],
   "source": [
    "files = glob.glob('../data-lineas-espectrales/filtered_wv_models/*')\n",
    "file_qty = len(files)\n",
    "print(\"Files qty: {}\".format(file_qty))"
   ]
  },
  {
   "cell_type": "code",
   "execution_count": 5,
   "id": "13e67b8d",
   "metadata": {},
   "outputs": [
    {
     "name": "stdout",
     "output_type": "stream",
     "text": [
      "points: 201 | columns: 2 \n"
     ]
    }
   ],
   "source": [
    "y = np.zeros((file_qty,3))\n",
    "df = pd.read_csv(files[0], sep=\" \", header=None)\n",
    "n_points , n_columns = df.shape\n",
    "print(\"points: {} | columns: {} \".format(n_points, n_columns))"
   ]
  },
  {
   "cell_type": "code",
   "execution_count": 6,
   "id": "210af774",
   "metadata": {},
   "outputs": [
    {
     "name": "stdout",
     "output_type": "stream",
     "text": [
      "(5425, 201)\n",
      "(5425, 3)\n"
     ]
    }
   ],
   "source": [
    "#Matriz que contiene las lineas espectrales\n",
    "X = np.zeros((file_qty, n_points))\n",
    "#Matriz que contiene los labels de cada linea espectral\n",
    "y = np.zeros((file_qty, 3))\n",
    "\n",
    "print(X.shape)\n",
    "print(y.shape)"
   ]
  },
  {
   "cell_type": "code",
   "execution_count": 7,
   "id": "533602ce",
   "metadata": {},
   "outputs": [],
   "source": [
    "#extract files, se almacenan las lineas espectrales y labels en X e y respectivamente\n",
    "for i, name in enumerate(files):\n",
    "    file_name = name.split(\"/\")[-1].split(\".\")[0].split(\"_\")[1]\n",
    "    df = pd.read_csv(name, sep=\" \", header=None)\n",
    "    t, g, v = separateParams(file_name)\n",
    "    #Se almacena la línea espectral\n",
    "    X[i, :] = df[1].values\n",
    "    #Se almacena el label de la linea espectral\n",
    "    y[i] = t, g, v"
   ]
  },
  {
   "cell_type": "code",
   "execution_count": 8,
   "id": "4e3e43ed",
   "metadata": {},
   "outputs": [
    {
     "name": "stdout",
     "output_type": "stream",
     "text": [
      "[[3.5e+04 2.0e+00 2.8e+02]\n",
      " [2.0e+04 2.0e+00 2.6e+02]\n",
      " [2.8e+04 2.0e+00 3.5e+02]\n",
      " [1.7e+04 3.0e+00 1.7e+02]]\n"
     ]
    }
   ],
   "source": [
    "print(y[:4])"
   ]
  },
  {
   "cell_type": "code",
   "execution_count": 9,
   "id": "7aae3a8f",
   "metadata": {},
   "outputs": [],
   "source": [
    "#se normaliza y\n",
    "standardScaler = StandardScaler()\n",
    "standardScaler.fit(y)\n",
    "normalized_y = standardScaler.transform(y)"
   ]
  },
  {
   "cell_type": "code",
   "execution_count": 10,
   "id": "00d7857b",
   "metadata": {},
   "outputs": [],
   "source": [
    "X_train, X_val, X_test, y_train, y_val, y_test = train_val_test_split(X, normalized_y, .8, .1, .1)"
   ]
  },
  {
   "cell_type": "code",
   "execution_count": 11,
   "id": "714278b3",
   "metadata": {},
   "outputs": [
    {
     "name": "stdout",
     "output_type": "stream",
     "text": [
      "(4339, 201) (4339, 3)\n",
      "(543, 201) (543, 3)\n",
      "(543, 201) (543, 3)\n"
     ]
    }
   ],
   "source": [
    "print(X_train.shape, y_train.shape)\n",
    "print(X_val.shape, y_val.shape)\n",
    "print(X_test.shape, y_test.shape)"
   ]
  },
  {
   "cell_type": "code",
   "execution_count": 12,
   "id": "d5f685d4",
   "metadata": {},
   "outputs": [
    {
     "name": "stdout",
     "output_type": "stream",
     "text": [
      "201\n"
     ]
    }
   ],
   "source": [
    "time_steps = X.shape[1]\n",
    "input_dimension = 1\n",
    "print(time_steps)"
   ]
  },
  {
   "cell_type": "code",
   "execution_count": 13,
   "id": "c3fdf954",
   "metadata": {},
   "outputs": [
    {
     "name": "stdout",
     "output_type": "stream",
     "text": [
      "reshaped X_train: (4339, 201, 1)\n",
      "reshaped X_val: (543, 201, 1)\n",
      "reshaped X_test: (543, 201, 1)\n"
     ]
    }
   ],
   "source": [
    "sample_size = X_train.shape[0]\n",
    "X_train_reshaped = X_train.reshape((sample_size, time_steps, input_dimension))\n",
    "sample_size = X_val.shape[0]\n",
    "X_val_reshaped = X_val.reshape((sample_size, time_steps, input_dimension))\n",
    "sample_size = X_test.shape[0]\n",
    "X_test_reshaped = X_test.reshape((sample_size, time_steps, input_dimension))\n",
    "print(\"reshaped X_train: {}\".format(X_train_reshaped.shape))\n",
    "print(\"reshaped X_val: {}\".format(X_val_reshaped.shape))\n",
    "print(\"reshaped X_test: {}\".format(X_test_reshaped.shape))"
   ]
  },
  {
   "cell_type": "code",
   "execution_count": 21,
   "id": "be7ede77",
   "metadata": {},
   "outputs": [
    {
     "name": "stdout",
     "output_type": "stream",
     "text": [
      "Model: \"model_conv1D\"\n",
      "_________________________________________________________________\n",
      " Layer (type)                Output Shape              Param #   \n",
      "=================================================================\n",
      " conv1d_2 (Conv1D)           (None, 199, 64)           256       \n",
      "                                                                 \n",
      " Conv1D_1 (Conv1D)           (None, 193, 32)           14368     \n",
      "                                                                 \n",
      " Conv1D_2 (Conv1D)           (None, 191, 16)           1552      \n",
      "                                                                 \n",
      " flatten_2 (Flatten)         (None, 3056)              0         \n",
      "                                                                 \n",
      " Dense_00 (Dense)            (None, 128)               391296    \n",
      "                                                                 \n",
      " Dense_0 (Dense)             (None, 64)                8256      \n",
      "                                                                 \n",
      " Dense_1 (Dense)             (None, 32)                2080      \n",
      "                                                                 \n",
      " dense_1 (Dense)             (None, 10)                330       \n",
      "                                                                 \n",
      " Dense_4 (Dense)             (None, 3)                 33        \n",
      "                                                                 \n",
      "=================================================================\n",
      "Total params: 418,171\n",
      "Trainable params: 418,171\n",
      "Non-trainable params: 0\n",
      "_________________________________________________________________\n"
     ]
    }
   ],
   "source": [
    "#Arquitectura de la red\n",
    "def build_conv1D_model():\n",
    "    n_timesteps = X_train_reshaped.shape[1] #210\n",
    "    n_features  = X_train_reshaped.shape[2] #1 \n",
    "    model = tf.keras.Sequential(name=\"model_conv1D\")\n",
    "    model.add(tf.keras.layers.Input(shape=(n_timesteps,n_features)))\n",
    "    model.add(tf.keras.layers.Conv1D(filters=64, kernel_size=3, activation='elu'))\n",
    "    #model.add(tf.keras.layers.Conv1D(filters=64, kernel_size=3, activation='relu', name=\"Conv1D_0\"))\n",
    "    model.add(tf.keras.layers.Conv1D(filters=32, kernel_size=7, activation='softmax', name=\"Conv1D_1\"))\n",
    "    model.add(tf.keras.layers.Conv1D(filters=16, kernel_size=3, activation='selu', name=\"Conv1D_2\"))\n",
    "    tf.keras.layers.BatchNormalization()\n",
    "    model.add(tf.keras.layers.Flatten())\n",
    "    model.add(tf.keras.layers.Dense(128,activation='elu', name=\"Dense_00\"))\n",
    "    model.add(tf.keras.layers.Dense(64,activation='relu', name=\"Dense_0\"))\n",
    "    model.add(tf.keras.layers.Dense(32, activation= \"selu\", name=\"Dense_1\"))\n",
    "    model.add(tf.keras.layers.Dense(10, activation='softmax'))\n",
    "    model.add(tf.keras.layers.Dense(3, activation = \"linear\", name=\"Dense_4\"))\n",
    "    \n",
    "\n",
    "\n",
    "    optimizer = tf.keras.optimizers.RMSprop(0.001)\n",
    "\n",
    "    l = tf.keras.losses.LogCosh()\n",
    "    \n",
    "    \n",
    "    model.compile(loss='mse',optimizer=optimizer,metrics=['mse', 'accuracy'])\n",
    "    return model\n",
    "\n",
    "model_conv1D = build_conv1D_model()\n",
    "model_conv1D.summary()"
   ]
  },
  {
   "cell_type": "code",
   "execution_count": 22,
   "id": "0a7264bf",
   "metadata": {},
   "outputs": [
    {
     "name": "stdout",
     "output_type": "stream",
     "text": [
      "Epoch 1/80\n",
      "136/136 [==============================] - 3s 20ms/step - loss: 0.9866 - mse: 0.9866 - accuracy: 0.3876 - val_loss: 0.7867 - val_mse: 0.7867 - val_accuracy: 0.6703\n",
      "Epoch 2/80\n",
      "136/136 [==============================] - 2s 18ms/step - loss: 0.7488 - mse: 0.7488 - accuracy: 0.6227 - val_loss: 0.6240 - val_mse: 0.6240 - val_accuracy: 0.6446\n",
      "Epoch 3/80\n",
      "136/136 [==============================] - 2s 18ms/step - loss: 0.6278 - mse: 0.6278 - accuracy: 0.6799 - val_loss: 0.6011 - val_mse: 0.6011 - val_accuracy: 0.7274\n",
      "Epoch 4/80\n",
      "136/136 [==============================] - 3s 18ms/step - loss: 0.5677 - mse: 0.5677 - accuracy: 0.7059 - val_loss: 0.5134 - val_mse: 0.5134 - val_accuracy: 0.7569\n",
      "Epoch 5/80\n",
      "136/136 [==============================] - 2s 18ms/step - loss: 0.5335 - mse: 0.5335 - accuracy: 0.7068 - val_loss: 0.4912 - val_mse: 0.4912 - val_accuracy: 0.7477\n",
      "Epoch 6/80\n",
      "136/136 [==============================] - 2s 17ms/step - loss: 0.5037 - mse: 0.5037 - accuracy: 0.7172 - val_loss: 0.5131 - val_mse: 0.5131 - val_accuracy: 0.7459\n",
      "Epoch 7/80\n",
      "136/136 [==============================] - 3s 19ms/step - loss: 0.4786 - mse: 0.4786 - accuracy: 0.7386 - val_loss: 0.4996 - val_mse: 0.4996 - val_accuracy: 0.7293\n",
      "Epoch 8/80\n",
      "136/136 [==============================] - 3s 19ms/step - loss: 0.4594 - mse: 0.4594 - accuracy: 0.7536 - val_loss: 0.4123 - val_mse: 0.4123 - val_accuracy: 0.7772\n",
      "Epoch 9/80\n",
      "136/136 [==============================] - 3s 19ms/step - loss: 0.4295 - mse: 0.4295 - accuracy: 0.7681 - val_loss: 0.4039 - val_mse: 0.4039 - val_accuracy: 0.7422\n",
      "Epoch 10/80\n",
      "136/136 [==============================] - 2s 18ms/step - loss: 0.3871 - mse: 0.3871 - accuracy: 0.7804 - val_loss: 0.3365 - val_mse: 0.3365 - val_accuracy: 0.8048\n",
      "Epoch 11/80\n",
      "136/136 [==============================] - 2s 17ms/step - loss: 0.3419 - mse: 0.3419 - accuracy: 0.8078 - val_loss: 0.3623 - val_mse: 0.3623 - val_accuracy: 0.7845\n",
      "Epoch 12/80\n",
      "136/136 [==============================] - 2s 17ms/step - loss: 0.3128 - mse: 0.3128 - accuracy: 0.8189 - val_loss: 0.3128 - val_mse: 0.3128 - val_accuracy: 0.7974\n",
      "Epoch 13/80\n",
      "136/136 [==============================] - 2s 17ms/step - loss: 0.2813 - mse: 0.2813 - accuracy: 0.8315 - val_loss: 0.3039 - val_mse: 0.3039 - val_accuracy: 0.8048\n",
      "Epoch 14/80\n",
      "136/136 [==============================] - 2s 18ms/step - loss: 0.2568 - mse: 0.2568 - accuracy: 0.8451 - val_loss: 0.3206 - val_mse: 0.3206 - val_accuracy: 0.8066\n",
      "Epoch 15/80\n",
      "136/136 [==============================] - 2s 17ms/step - loss: 0.2371 - mse: 0.2371 - accuracy: 0.8486 - val_loss: 0.1961 - val_mse: 0.1961 - val_accuracy: 0.8766\n",
      "Epoch 16/80\n",
      "136/136 [==============================] - 2s 18ms/step - loss: 0.2204 - mse: 0.2204 - accuracy: 0.8537 - val_loss: 0.1864 - val_mse: 0.1864 - val_accuracy: 0.8729\n",
      "Epoch 17/80\n",
      "136/136 [==============================] - 2s 17ms/step - loss: 0.2032 - mse: 0.2032 - accuracy: 0.8573 - val_loss: 0.2299 - val_mse: 0.2299 - val_accuracy: 0.7716\n",
      "Epoch 18/80\n",
      "136/136 [==============================] - 2s 17ms/step - loss: 0.1901 - mse: 0.1901 - accuracy: 0.8606 - val_loss: 0.1879 - val_mse: 0.1879 - val_accuracy: 0.8435\n",
      "Epoch 19/80\n",
      "136/136 [==============================] - 2s 17ms/step - loss: 0.1811 - mse: 0.1811 - accuracy: 0.8696 - val_loss: 0.1578 - val_mse: 0.1578 - val_accuracy: 0.8619\n",
      "Epoch 20/80\n",
      "136/136 [==============================] - 2s 18ms/step - loss: 0.1673 - mse: 0.1673 - accuracy: 0.8762 - val_loss: 0.1318 - val_mse: 0.1318 - val_accuracy: 0.9024\n",
      "Epoch 21/80\n",
      "136/136 [==============================] - 2s 17ms/step - loss: 0.1633 - mse: 0.1633 - accuracy: 0.8716 - val_loss: 0.1795 - val_mse: 0.1795 - val_accuracy: 0.8269\n",
      "Epoch 22/80\n",
      "136/136 [==============================] - 2s 18ms/step - loss: 0.1580 - mse: 0.1580 - accuracy: 0.8726 - val_loss: 0.1269 - val_mse: 0.1269 - val_accuracy: 0.9024\n",
      "Epoch 23/80\n",
      "136/136 [==============================] - 2s 18ms/step - loss: 0.1498 - mse: 0.1498 - accuracy: 0.8712 - val_loss: 0.1192 - val_mse: 0.1192 - val_accuracy: 0.9024\n",
      "Epoch 24/80\n",
      "136/136 [==============================] - 2s 18ms/step - loss: 0.1423 - mse: 0.1423 - accuracy: 0.8832 - val_loss: 0.1211 - val_mse: 0.1211 - val_accuracy: 0.9006\n",
      "Epoch 25/80\n",
      "136/136 [==============================] - 2s 17ms/step - loss: 0.1417 - mse: 0.1417 - accuracy: 0.8795 - val_loss: 0.1262 - val_mse: 0.1262 - val_accuracy: 0.8913\n",
      "Epoch 26/80\n",
      "136/136 [==============================] - 2s 17ms/step - loss: 0.1335 - mse: 0.1335 - accuracy: 0.8783 - val_loss: 0.1067 - val_mse: 0.1067 - val_accuracy: 0.9042\n",
      "Epoch 27/80\n",
      "136/136 [==============================] - 2s 17ms/step - loss: 0.1298 - mse: 0.1298 - accuracy: 0.8866 - val_loss: 0.1221 - val_mse: 0.1221 - val_accuracy: 0.9153\n",
      "Epoch 28/80\n",
      "136/136 [==============================] - 2s 18ms/step - loss: 0.1262 - mse: 0.1262 - accuracy: 0.8841 - val_loss: 0.1318 - val_mse: 0.1318 - val_accuracy: 0.8637\n",
      "Epoch 29/80\n",
      "136/136 [==============================] - 2s 18ms/step - loss: 0.1228 - mse: 0.1228 - accuracy: 0.8843 - val_loss: 0.1088 - val_mse: 0.1088 - val_accuracy: 0.8766\n",
      "Epoch 30/80\n",
      "136/136 [==============================] - 2s 17ms/step - loss: 0.1244 - mse: 0.1244 - accuracy: 0.8811 - val_loss: 0.1174 - val_mse: 0.1174 - val_accuracy: 0.9079\n",
      "Epoch 31/80\n",
      "136/136 [==============================] - 2s 18ms/step - loss: 0.1225 - mse: 0.1225 - accuracy: 0.8905 - val_loss: 0.1081 - val_mse: 0.1081 - val_accuracy: 0.8711\n",
      "Epoch 32/80\n",
      "136/136 [==============================] - 2s 17ms/step - loss: 0.1168 - mse: 0.1168 - accuracy: 0.8855 - val_loss: 0.1345 - val_mse: 0.1345 - val_accuracy: 0.8564\n",
      "Epoch 33/80\n",
      "136/136 [==============================] - 2s 17ms/step - loss: 0.1154 - mse: 0.1154 - accuracy: 0.8834 - val_loss: 0.0976 - val_mse: 0.0976 - val_accuracy: 0.9337\n",
      "Epoch 34/80\n",
      "136/136 [==============================] - 3s 19ms/step - loss: 0.1146 - mse: 0.1146 - accuracy: 0.8912 - val_loss: 0.1013 - val_mse: 0.1013 - val_accuracy: 0.8858\n",
      "Epoch 35/80\n",
      "136/136 [==============================] - 3s 19ms/step - loss: 0.1093 - mse: 0.1093 - accuracy: 0.8914 - val_loss: 0.0992 - val_mse: 0.0992 - val_accuracy: 0.9024\n",
      "Epoch 36/80\n",
      "136/136 [==============================] - 3s 20ms/step - loss: 0.1100 - mse: 0.1100 - accuracy: 0.8903 - val_loss: 0.0843 - val_mse: 0.0843 - val_accuracy: 0.9079\n",
      "Epoch 37/80\n",
      "136/136 [==============================] - 3s 19ms/step - loss: 0.1038 - mse: 0.1038 - accuracy: 0.8903 - val_loss: 0.0801 - val_mse: 0.0801 - val_accuracy: 0.9061\n",
      "Epoch 38/80\n",
      "136/136 [==============================] - 2s 18ms/step - loss: 0.1082 - mse: 0.1082 - accuracy: 0.8914 - val_loss: 0.0774 - val_mse: 0.0774 - val_accuracy: 0.9079\n",
      "Epoch 39/80\n",
      "136/136 [==============================] - 3s 18ms/step - loss: 0.0992 - mse: 0.0992 - accuracy: 0.8944 - val_loss: 0.0988 - val_mse: 0.0988 - val_accuracy: 0.9098\n",
      "Epoch 40/80\n",
      "136/136 [==============================] - 2s 17ms/step - loss: 0.1002 - mse: 0.1002 - accuracy: 0.8974 - val_loss: 0.0798 - val_mse: 0.0798 - val_accuracy: 0.8969\n",
      "Epoch 41/80\n",
      "136/136 [==============================] - 3s 19ms/step - loss: 0.0984 - mse: 0.0984 - accuracy: 0.8974 - val_loss: 0.2005 - val_mse: 0.2005 - val_accuracy: 0.8416\n",
      "Epoch 42/80\n",
      "136/136 [==============================] - 2s 18ms/step - loss: 0.0960 - mse: 0.0960 - accuracy: 0.8995 - val_loss: 0.0890 - val_mse: 0.0890 - val_accuracy: 0.9042\n",
      "Epoch 43/80\n",
      "136/136 [==============================] - 2s 18ms/step - loss: 0.0989 - mse: 0.0989 - accuracy: 0.9018 - val_loss: 0.1354 - val_mse: 0.1354 - val_accuracy: 0.8232\n",
      "Epoch 44/80\n",
      "136/136 [==============================] - 2s 18ms/step - loss: 0.1001 - mse: 0.1001 - accuracy: 0.8954 - val_loss: 0.0795 - val_mse: 0.0795 - val_accuracy: 0.9208\n",
      "Epoch 45/80\n",
      "136/136 [==============================] - 2s 18ms/step - loss: 0.0977 - mse: 0.0977 - accuracy: 0.8986 - val_loss: 0.1082 - val_mse: 0.1082 - val_accuracy: 0.8895\n",
      "Epoch 46/80\n",
      "136/136 [==============================] - 3s 19ms/step - loss: 0.0942 - mse: 0.0942 - accuracy: 0.9023 - val_loss: 0.1473 - val_mse: 0.1473 - val_accuracy: 0.8895\n",
      "Epoch 47/80\n"
     ]
    },
    {
     "name": "stdout",
     "output_type": "stream",
     "text": [
      "136/136 [==============================] - 2s 17ms/step - loss: 0.0903 - mse: 0.0903 - accuracy: 0.9000 - val_loss: 0.0900 - val_mse: 0.0900 - val_accuracy: 0.9134\n",
      "Epoch 48/80\n",
      "136/136 [==============================] - 3s 19ms/step - loss: 0.0916 - mse: 0.0916 - accuracy: 0.9018 - val_loss: 0.0800 - val_mse: 0.0800 - val_accuracy: 0.9153\n",
      "Epoch 49/80\n",
      "136/136 [==============================] - 2s 18ms/step - loss: 0.0948 - mse: 0.0948 - accuracy: 0.8944 - val_loss: 0.1125 - val_mse: 0.1125 - val_accuracy: 0.8932\n",
      "Epoch 50/80\n",
      "136/136 [==============================] - 3s 19ms/step - loss: 0.0892 - mse: 0.0892 - accuracy: 0.9055 - val_loss: 0.1087 - val_mse: 0.1087 - val_accuracy: 0.9190\n",
      "Epoch 51/80\n",
      "136/136 [==============================] - 2s 18ms/step - loss: 0.0929 - mse: 0.0929 - accuracy: 0.9090 - val_loss: 0.0702 - val_mse: 0.0702 - val_accuracy: 0.9319\n",
      "Epoch 52/80\n",
      "136/136 [==============================] - 2s 17ms/step - loss: 0.0896 - mse: 0.0896 - accuracy: 0.9071 - val_loss: 0.1252 - val_mse: 0.1252 - val_accuracy: 0.8637\n",
      "Epoch 53/80\n",
      "136/136 [==============================] - 2s 18ms/step - loss: 0.0872 - mse: 0.0872 - accuracy: 0.9074 - val_loss: 0.1034 - val_mse: 0.1034 - val_accuracy: 0.8748\n",
      "Epoch 54/80\n",
      "136/136 [==============================] - 2s 17ms/step - loss: 0.0894 - mse: 0.0894 - accuracy: 0.9085 - val_loss: 0.0833 - val_mse: 0.0833 - val_accuracy: 0.9006\n",
      "Epoch 55/80\n",
      "136/136 [==============================] - 2s 17ms/step - loss: 0.0868 - mse: 0.0868 - accuracy: 0.9110 - val_loss: 0.1310 - val_mse: 0.1310 - val_accuracy: 0.8913\n",
      "Epoch 56/80\n",
      "136/136 [==============================] - 2s 17ms/step - loss: 0.0862 - mse: 0.0862 - accuracy: 0.9062 - val_loss: 0.1104 - val_mse: 0.1104 - val_accuracy: 0.8987\n",
      "Epoch 57/80\n",
      "136/136 [==============================] - 2s 18ms/step - loss: 0.0826 - mse: 0.0826 - accuracy: 0.9110 - val_loss: 0.0636 - val_mse: 0.0636 - val_accuracy: 0.9153\n",
      "Epoch 58/80\n",
      "136/136 [==============================] - 2s 18ms/step - loss: 0.0860 - mse: 0.0860 - accuracy: 0.9067 - val_loss: 0.0755 - val_mse: 0.0755 - val_accuracy: 0.9153\n",
      "Epoch 59/80\n",
      "136/136 [==============================] - 3s 19ms/step - loss: 0.0850 - mse: 0.0850 - accuracy: 0.9057 - val_loss: 0.1632 - val_mse: 0.1632 - val_accuracy: 0.8840\n",
      "Epoch 60/80\n",
      "136/136 [==============================] - 3s 19ms/step - loss: 0.0856 - mse: 0.0856 - accuracy: 0.9150 - val_loss: 0.0837 - val_mse: 0.0837 - val_accuracy: 0.9042\n",
      "Epoch 61/80\n",
      "136/136 [==============================] - 2s 18ms/step - loss: 0.0828 - mse: 0.0828 - accuracy: 0.9099 - val_loss: 0.1200 - val_mse: 0.1200 - val_accuracy: 0.8969\n",
      "Epoch 62/80\n",
      "136/136 [==============================] - 2s 18ms/step - loss: 0.0848 - mse: 0.0848 - accuracy: 0.9103 - val_loss: 0.0711 - val_mse: 0.0711 - val_accuracy: 0.9374\n"
     ]
    }
   ],
   "source": [
    "#train\n",
    "epoch_qty = 80\n",
    "callback = tf.keras.callbacks.EarlyStopping(monitor='loss', \n",
    "                                                patience=5)\n",
    "history = model_conv1D.fit(X_train_reshaped, y_train, epochs=epoch_qty,\n",
    "                    validation_data = (X_val_reshaped, y_val), \n",
    "                           verbose=1, callbacks=[callback])"
   ]
  },
  {
   "cell_type": "code",
   "execution_count": 24,
   "id": "9c545071",
   "metadata": {},
   "outputs": [
    {
     "name": "stdout",
     "output_type": "stream",
     "text": [
      "Testing set Mean Abs Error:   66.70\n"
     ]
    },
    {
     "data": {
      "image/png": "[encoded data removed]",
      "text/plain": [
       "<Figure size 720x432 with 1 Axes>"
      ]
     },
     "metadata": {
      "needs_background": "light"
     },
     "output_type": "display_data"
    }
   ],
   "source": [
    "[loss, mae, accuracy] = model_conv1D.evaluate(X_test_reshaped, y_test, verbose=0)\n",
    "print(\"Testing set Mean Abs Error: {:7.2f}\".format(mae * 1000))\n",
    "\n",
    "pred =model_conv1D.predict(X_test_reshaped)\n",
    "\n",
    "y_pred_inv = standardScaler.inverse_transform(y)\n",
    "\n",
    "\n",
    "train_loss = history.history['loss']\n",
    "\n",
    "\n",
    "val_loss = history.history['val_loss']\n",
    "\n",
    "\n",
    "def plot_train_val(A, B, n, xlabel, ylabel, title):\n",
    "    pltp.figure(1, figsize=(10, 6))\n",
    "    pltp.plot(range(n),A)\n",
    "    pltp.plot(range(n),B)\n",
    "    pltp.ylabel(xlabel)\n",
    "    pltp.xlabel(ylabel)\n",
    "    pltp.title(title)\n",
    "    pltp.grid(True)\n",
    "    pltp.legend(['Training', 'Validation'])\n",
    "    pltp.show()\n",
    "\n",
    "\n",
    "plot_train_val(train_loss, val_loss, 62, 'Loss', 'Number of epochs', 'Training loss vs Validation loss')"
   ]
  },
  {
   "cell_type": "code",
   "execution_count": 27,
   "id": "dc5237c9",
   "metadata": {},
   "outputs": [],
   "source": [
    "model_conv1D.save('../abs_error_66.h5')"
   ]
  },
  {
   "cell_type": "code",
   "execution_count": null,
   "id": "c90f62c6",
   "metadata": {},
   "outputs": [],
   "source": []
  }
 ],
 "metadata": {
  "kernelspec": {
   "display_name": "Python 3 (ipykernel)",
   "language": "python",
   "name": "python3"
  },
  "language_info": {
   "codemirror_mode": {
    "name": "ipython",
    "version": 3
   },
   "file_extension": ".py",
   "mimetype": "text/x-python",
   "name": "python",
   "nbconvert_exporter": "python",
   "pygments_lexer": "ipython3",
   "version": "3.9.7"
  }
 },
 "nbformat": 4,
 "nbformat_minor": 5
}
