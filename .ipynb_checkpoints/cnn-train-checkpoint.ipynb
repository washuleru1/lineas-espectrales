{
 "cells": [
  {
   "cell_type": "code",
   "execution_count": 1,
   "id": "56ecb0a3",
   "metadata": {},
   "outputs": [],
   "source": [
    "import numpy as np\n",
    "import pandas as pd\n",
    "import matplotlib as plt\n",
    "from matplotlib import pyplot as pltp\n",
    "import tensorflow as tf\n",
    "import glob\n",
    "from sklearn.preprocessing import MinMaxScaler, StandardScaler\n",
    "from sklearn.model_selection import train_test_split\n",
    "from sklearn.metrics import classification_report, plot_confusion_matrix"
   ]
  },
  {
   "cell_type": "code",
   "execution_count": 2,
   "id": "f32fc74e",
   "metadata": {},
   "outputs": [],
   "source": [
    "#Función que separa los parametros t,g,v del fileName\n",
    "def separateParams(fileName):\n",
    "    t = fileName.split(\"t\")[1].split(\"g\")[0]\n",
    "    rest_of = fileName.split(\"t\")[1].split(\"g\")[1].split(\"v\")\n",
    "    g, v = rest_of\n",
    "    return float(t), float(g)/10, float(v)"
   ]
  },
  {
   "cell_type": "code",
   "execution_count": 3,
   "id": "a9585efc",
   "metadata": {},
   "outputs": [],
   "source": [
    "#Se definen los sets de training, test y validación\n",
    "def train_val_test_split(X, y, train_size, val_size, test_size, random_state = 1):\n",
    "    if train_size + val_size + test_size != 1.0:\n",
    "        print(\"Incorrect sizes!\")\n",
    "        return None \n",
    "    X_tmp, X_test, y_tmp, y_test = train_test_split(X, y, test_size = test_size, random_state=random_state)\n",
    "    X_train, X_val, y_train, y_val = train_test_split(X_tmp, y_tmp, test_size = val_size/(test_size + train_size), random_state=random_state)\n",
    "    return X_train, X_val, X_test, y_train, y_val, y_test"
   ]
  },
  {
   "cell_type": "code",
   "execution_count": 4,
   "id": "2d8da443",
   "metadata": {},
   "outputs": [
    {
     "name": "stdout",
     "output_type": "stream",
     "text": [
      "Files qty: 5425\n"
     ]
    }
   ],
   "source": [
    "files = glob.glob('../data-lineas-espectrales/filtered_wv_models/*')\n",
    "file_qty = len(files)\n",
    "print(\"Files qty: {}\".format(file_qty))"
   ]
  },
  {
   "cell_type": "code",
   "execution_count": 5,
   "id": "13e67b8d",
   "metadata": {},
   "outputs": [
    {
     "name": "stdout",
     "output_type": "stream",
     "text": [
      "points: 201 | columns: 2 \n"
     ]
    }
   ],
   "source": [
    "y = np.zeros((file_qty,3))\n",
    "df = pd.read_csv(files[0], sep=\" \", header=None)\n",
    "n_points , n_columns = df.shape\n",
    "print(\"points: {} | columns: {} \".format(n_points, n_columns))"
   ]
  },
  {
   "cell_type": "code",
   "execution_count": 6,
   "id": "210af774",
   "metadata": {},
   "outputs": [
    {
     "name": "stdout",
     "output_type": "stream",
     "text": [
      "(5425, 201)\n",
      "(5425, 3)\n"
     ]
    }
   ],
   "source": [
    "#Matriz que contiene las lineas espectrales\n",
    "X = np.zeros((file_qty, n_points))\n",
    "#Matriz que contiene los labels de cada linea espectral\n",
    "y = np.zeros((file_qty, 3))\n",
    "\n",
    "print(X.shape)\n",
    "print(y.shape)"
   ]
  },
  {
   "cell_type": "code",
   "execution_count": 7,
   "id": "533602ce",
   "metadata": {},
   "outputs": [],
   "source": [
    "#extract files, se almacenan las lineas espectrales y labels en X e y respectivamente\n",
    "for i, name in enumerate(files):\n",
    "    file_name = name.split(\"/\")[-1].split(\".\")[0].split(\"_\")[1]\n",
    "    df = pd.read_csv(name, sep=\" \", header=None)\n",
    "    t, g, v = separateParams(file_name)\n",
    "    #Se almacena la línea espectral\n",
    "    X[i, :] = df[1].values\n",
    "    #Se almacena el label de la linea espectral\n",
    "    y[i] = t, g, v"
   ]
  },
  {
   "cell_type": "code",
   "execution_count": 8,
   "id": "4e3e43ed",
   "metadata": {},
   "outputs": [
    {
     "name": "stdout",
     "output_type": "stream",
     "text": [
      "[[3.5e+04 2.0e+00 2.8e+02]\n",
      " [2.0e+04 2.0e+00 2.6e+02]\n",
      " [2.8e+04 2.0e+00 3.5e+02]\n",
      " [1.7e+04 3.0e+00 1.7e+02]]\n"
     ]
    }
   ],
   "source": [
    "print(y[:4])"
   ]
  },
  {
   "cell_type": "code",
   "execution_count": 9,
   "id": "7aae3a8f",
   "metadata": {},
   "outputs": [],
   "source": [
    "#se normaliza y\n",
    "standardScaler = StandardScaler()\n",
    "standardScaler.fit(y)\n",
    "normalized_y = standardScaler.transform(y)"
   ]
  },
  {
   "cell_type": "code",
   "execution_count": 10,
   "id": "00d7857b",
   "metadata": {},
   "outputs": [],
   "source": [
    "X_train, X_val, X_test, y_train, y_val, y_test = train_val_test_split(X, normalized_y, .8, .1, .1)"
   ]
  },
  {
   "cell_type": "code",
   "execution_count": 11,
   "id": "714278b3",
   "metadata": {},
   "outputs": [
    {
     "name": "stdout",
     "output_type": "stream",
     "text": [
      "(4339, 201) (4339, 3)\n",
      "(543, 201) (543, 3)\n",
      "(543, 201) (543, 3)\n"
     ]
    }
   ],
   "source": [
    "print(X_train.shape, y_train.shape)\n",
    "print(X_val.shape, y_val.shape)\n",
    "print(X_test.shape, y_test.shape)"
   ]
  },
  {
   "cell_type": "code",
   "execution_count": 12,
   "id": "d5f685d4",
   "metadata": {},
   "outputs": [
    {
     "name": "stdout",
     "output_type": "stream",
     "text": [
      "201\n"
     ]
    }
   ],
   "source": [
    "time_steps = X.shape[1]\n",
    "input_dimension = 1\n",
    "print(time_steps)"
   ]
  },
  {
   "cell_type": "code",
   "execution_count": 13,
   "id": "c3fdf954",
   "metadata": {},
   "outputs": [
    {
     "name": "stdout",
     "output_type": "stream",
     "text": [
      "reshaped X_train: (4339, 201, 1)\n",
      "reshaped X_val: (543, 201, 1)\n",
      "reshaped X_test: (543, 201, 1)\n"
     ]
    }
   ],
   "source": [
    "sample_size = X_train.shape[0]\n",
    "X_train_reshaped = X_train.reshape((sample_size, time_steps, input_dimension))\n",
    "sample_size = X_val.shape[0]\n",
    "X_val_reshaped = X_val.reshape((sample_size, time_steps, input_dimension))\n",
    "sample_size = X_test.shape[0]\n",
    "X_test_reshaped = X_test.reshape((sample_size, time_steps, input_dimension))\n",
    "print(\"reshaped X_train: {}\".format(X_train_reshaped.shape))\n",
    "print(\"reshaped X_val: {}\".format(X_val_reshaped.shape))\n",
    "print(\"reshaped X_test: {}\".format(X_test_reshaped.shape))"
   ]
  },
  {
   "cell_type": "code",
   "execution_count": 70,
   "id": "be7ede77",
   "metadata": {},
   "outputs": [
    {
     "name": "stdout",
     "output_type": "stream",
     "text": [
      "Model: \"model_conv1D\"\n",
      "_________________________________________________________________\n",
      " Layer (type)                Output Shape              Param #   \n",
      "=================================================================\n",
      " conv1d_11 (Conv1D)          (None, 199, 64)           256       \n",
      "                                                                 \n",
      " Conv1D_1 (Conv1D)           (None, 193, 32)           14368     \n",
      "                                                                 \n",
      " Conv1D_2 (Conv1D)           (None, 191, 16)           1552      \n",
      "                                                                 \n",
      " flatten_11 (Flatten)        (None, 3056)              0         \n",
      "                                                                 \n",
      " Dense_00 (Dense)            (None, 128)               391296    \n",
      "                                                                 \n",
      " Dense_0 (Dense)             (None, 64)                8256      \n",
      "                                                                 \n",
      " Dense_1 (Dense)             (None, 32)                2080      \n",
      "                                                                 \n",
      " dense_11 (Dense)            (None, 10)                330       \n",
      "                                                                 \n",
      " Dense_4 (Dense)             (None, 3)                 33        \n",
      "                                                                 \n",
      "=================================================================\n",
      "Total params: 418,171\n",
      "Trainable params: 418,171\n",
      "Non-trainable params: 0\n",
      "_________________________________________________________________\n"
     ]
    }
   ],
   "source": [
    "#Arquitectura de la red\n",
    "def build_conv1D_model():\n",
    "    n_timesteps = X_train_reshaped.shape[1] #210\n",
    "    n_features  = X_train_reshaped.shape[2] #1 \n",
    "    model = tf.keras.Sequential(name=\"model_conv1D\")\n",
    "    model.add(tf.keras.layers.Input(shape=(n_timesteps,n_features)))\n",
    "    model.add(tf.keras.layers.Conv1D(filters=64, kernel_size=3, activation='elu'))\n",
    "    #model.add(tf.keras.layers.Conv1D(filters=64, kernel_size=3, activation='relu', name=\"Conv1D_0\"))\n",
    "    model.add(tf.keras.layers.Conv1D(filters=32, kernel_size=7, activation='softmax', name=\"Conv1D_1\"))\n",
    "    model.add(tf.keras.layers.Conv1D(filters=16, kernel_size=3, activation='selu', name=\"Conv1D_2\"))\n",
    "    tf.keras.layers.BatchNormalization()\n",
    "    model.add(tf.keras.layers.Flatten())\n",
    "    model.add(tf.keras.layers.Dense(128,activation='elu', name=\"Dense_00\"))\n",
    "    model.add(tf.keras.layers.Dense(64,activation='relu', name=\"Dense_0\"))\n",
    "    model.add(tf.keras.layers.Dense(32, activation= \"selu\", name=\"Dense_1\"))\n",
    "    model.add(tf.keras.layers.Dense(10, activation='softmax'))\n",
    "    model.add(tf.keras.layers.Dense(3, activation = \"linear\", name=\"Dense_4\"))\n",
    "    \n",
    "\n",
    "\n",
    "    optimizer = tf.keras.optimizers.RMSprop(0.001)\n",
    "\n",
    "    l = tf.keras.losses.LogCosh() #ok\n",
    "    cs = tf.keras.losses.CosineSimilarity() #ok\n",
    "    hl = tf.keras.losses.Huber() #NO FUNCIONA\n",
    "    lg = tf.keras.losses.MeanSquaredLogarithmicError()\n",
    "    hg = tf.keras.losses.Hinge()\n",
    "    mse = tf.keras.losses.MeanSquaredError()\n",
    "    bc = tf.keras.losses.BinaryCrossentropy() #NO SIRVE\n",
    "    ce = tf.keras.losses.CategoricalCrossentropy() # NO SIRVE\n",
    "    LOG_COSH = 'log_cosh'\n",
    "    MEAN_SQUARED_LOG_ERROR = 'mean_squared_logarithmic_error'\n",
    "    COSINE_SIMILARITY = 'cosine_similarity'\n",
    "    HINGHE = 'hinge'\n",
    "    MEAN_SQUARE_ERROR = 'mse'\n",
    "    BINARY_CROSS_ENTROPY = 'binary_crossentropy'\n",
    "    CATEGORICAL_CROSS_ENTROPY = 'categorical_crossentropy'\n",
    "    HUBER = 'huber_loss'\n",
    "    \n",
    "    model.compile(loss=l,optimizer=optimizer,metrics=[LOG_COSH])\n",
    "    return model\n",
    "\n",
    "model_conv1D = build_conv1D_model()\n",
    "model_conv1D.summary()"
   ]
  },
  {
   "cell_type": "code",
   "execution_count": 71,
   "id": "0a7264bf",
   "metadata": {},
   "outputs": [
    {
     "name": "stdout",
     "output_type": "stream",
     "text": [
      "Epoch 1/100\n",
      "136/136 [==============================] - 4s 21ms/step - loss: 0.4045 - log_cosh: 0.4045 - val_loss: 0.3890 - val_log_cosh: 0.3890\n",
      "Epoch 2/100\n",
      "136/136 [==============================] - 3s 19ms/step - loss: 0.3395 - log_cosh: 0.3395 - val_loss: 0.2833 - val_log_cosh: 0.2833\n",
      "Epoch 3/100\n",
      "136/136 [==============================] - 3s 22ms/step - loss: 0.2790 - log_cosh: 0.2790 - val_loss: 0.2562 - val_log_cosh: 0.2562\n",
      "Epoch 4/100\n",
      "136/136 [==============================] - 3s 20ms/step - loss: 0.2468 - log_cosh: 0.2468 - val_loss: 0.2445 - val_log_cosh: 0.2445\n",
      "Epoch 5/100\n",
      "136/136 [==============================] - 3s 21ms/step - loss: 0.2285 - log_cosh: 0.2285 - val_loss: 0.2246 - val_log_cosh: 0.2246\n",
      "Epoch 6/100\n",
      "136/136 [==============================] - 3s 20ms/step - loss: 0.2127 - log_cosh: 0.2127 - val_loss: 0.1995 - val_log_cosh: 0.1995\n",
      "Epoch 7/100\n",
      "136/136 [==============================] - 3s 22ms/step - loss: 0.1954 - log_cosh: 0.1954 - val_loss: 0.1954 - val_log_cosh: 0.1954\n",
      "Epoch 8/100\n",
      "136/136 [==============================] - 3s 21ms/step - loss: 0.1765 - log_cosh: 0.1765 - val_loss: 0.1805 - val_log_cosh: 0.1805\n",
      "Epoch 9/100\n",
      "136/136 [==============================] - 3s 20ms/step - loss: 0.1588 - log_cosh: 0.1588 - val_loss: 0.1368 - val_log_cosh: 0.1368\n",
      "Epoch 10/100\n",
      "136/136 [==============================] - 3s 20ms/step - loss: 0.1410 - log_cosh: 0.1410 - val_loss: 0.1598 - val_log_cosh: 0.1598\n",
      "Epoch 11/100\n",
      "136/136 [==============================] - 3s 19ms/step - loss: 0.1277 - log_cosh: 0.1277 - val_loss: 0.1273 - val_log_cosh: 0.1273\n",
      "Epoch 12/100\n",
      "136/136 [==============================] - 3s 18ms/step - loss: 0.1154 - log_cosh: 0.1154 - val_loss: 0.1300 - val_log_cosh: 0.1300\n",
      "Epoch 13/100\n",
      "136/136 [==============================] - 3s 18ms/step - loss: 0.1069 - log_cosh: 0.1069 - val_loss: 0.0910 - val_log_cosh: 0.0910\n",
      "Epoch 14/100\n",
      "136/136 [==============================] - 3s 19ms/step - loss: 0.0972 - log_cosh: 0.0972 - val_loss: 0.0802 - val_log_cosh: 0.0802\n",
      "Epoch 15/100\n",
      "136/136 [==============================] - 3s 20ms/step - loss: 0.0911 - log_cosh: 0.0911 - val_loss: 0.0866 - val_log_cosh: 0.0866\n",
      "Epoch 16/100\n",
      "136/136 [==============================] - 3s 20ms/step - loss: 0.0842 - log_cosh: 0.0842 - val_loss: 0.0724 - val_log_cosh: 0.0724\n",
      "Epoch 17/100\n",
      "136/136 [==============================] - 3s 21ms/step - loss: 0.0812 - log_cosh: 0.0812 - val_loss: 0.0659 - val_log_cosh: 0.0659\n",
      "Epoch 18/100\n",
      "136/136 [==============================] - 3s 20ms/step - loss: 0.0767 - log_cosh: 0.0767 - val_loss: 0.0784 - val_log_cosh: 0.0784\n",
      "Epoch 19/100\n",
      "136/136 [==============================] - 3s 20ms/step - loss: 0.0729 - log_cosh: 0.0729 - val_loss: 0.0618 - val_log_cosh: 0.0618\n",
      "Epoch 20/100\n",
      "136/136 [==============================] - 3s 20ms/step - loss: 0.0708 - log_cosh: 0.0708 - val_loss: 0.0684 - val_log_cosh: 0.0684\n",
      "Epoch 21/100\n",
      "136/136 [==============================] - 3s 21ms/step - loss: 0.0689 - log_cosh: 0.0689 - val_loss: 0.0562 - val_log_cosh: 0.0562\n",
      "Epoch 22/100\n",
      "136/136 [==============================] - 3s 21ms/step - loss: 0.0639 - log_cosh: 0.0639 - val_loss: 0.0652 - val_log_cosh: 0.0652\n",
      "Epoch 23/100\n",
      "136/136 [==============================] - 3s 22ms/step - loss: 0.0616 - log_cosh: 0.0616 - val_loss: 0.0615 - val_log_cosh: 0.0615\n",
      "Epoch 24/100\n",
      "136/136 [==============================] - 3s 22ms/step - loss: 0.0611 - log_cosh: 0.0611 - val_loss: 0.0838 - val_log_cosh: 0.0838\n",
      "Epoch 25/100\n",
      "136/136 [==============================] - 3s 23ms/step - loss: 0.0592 - log_cosh: 0.0592 - val_loss: 0.0588 - val_log_cosh: 0.0588\n",
      "Epoch 26/100\n",
      "136/136 [==============================] - 3s 21ms/step - loss: 0.0561 - log_cosh: 0.0561 - val_loss: 0.0728 - val_log_cosh: 0.0728\n",
      "Epoch 27/100\n",
      "136/136 [==============================] - 3s 23ms/step - loss: 0.0541 - log_cosh: 0.0541 - val_loss: 0.0644 - val_log_cosh: 0.0644\n",
      "Epoch 28/100\n",
      "136/136 [==============================] - 3s 23ms/step - loss: 0.0533 - log_cosh: 0.0533 - val_loss: 0.1440 - val_log_cosh: 0.1440\n",
      "Epoch 29/100\n",
      "136/136 [==============================] - 3s 21ms/step - loss: 0.0518 - log_cosh: 0.0518 - val_loss: 0.0442 - val_log_cosh: 0.0442\n",
      "Epoch 30/100\n",
      "136/136 [==============================] - 3s 20ms/step - loss: 0.0515 - log_cosh: 0.0515 - val_loss: 0.0838 - val_log_cosh: 0.0838\n",
      "Epoch 31/100\n",
      "136/136 [==============================] - 3s 23ms/step - loss: 0.0510 - log_cosh: 0.0510 - val_loss: 0.0558 - val_log_cosh: 0.0558\n",
      "Epoch 32/100\n",
      "136/136 [==============================] - 3s 22ms/step - loss: 0.0497 - log_cosh: 0.0497 - val_loss: 0.0565 - val_log_cosh: 0.0565\n",
      "Epoch 33/100\n",
      "136/136 [==============================] - 4s 26ms/step - loss: 0.0502 - log_cosh: 0.0502 - val_loss: 0.0447 - val_log_cosh: 0.0447\n",
      "Epoch 34/100\n",
      "136/136 [==============================] - 4s 27ms/step - loss: 0.0497 - log_cosh: 0.0497 - val_loss: 0.0670 - val_log_cosh: 0.0670\n",
      "Epoch 35/100\n",
      "136/136 [==============================] - 4s 27ms/step - loss: 0.0463 - log_cosh: 0.0463 - val_loss: 0.0440 - val_log_cosh: 0.0440\n",
      "Epoch 36/100\n",
      "136/136 [==============================] - 3s 26ms/step - loss: 0.0457 - log_cosh: 0.0457 - val_loss: 0.0363 - val_log_cosh: 0.0363\n",
      "Epoch 37/100\n",
      "136/136 [==============================] - 3s 22ms/step - loss: 0.0457 - log_cosh: 0.0457 - val_loss: 0.1653 - val_log_cosh: 0.1653\n",
      "Epoch 38/100\n",
      "136/136 [==============================] - 3s 20ms/step - loss: 0.0454 - log_cosh: 0.0454 - val_loss: 0.0354 - val_log_cosh: 0.0354\n",
      "Epoch 39/100\n",
      "136/136 [==============================] - 3s 19ms/step - loss: 0.0452 - log_cosh: 0.0452 - val_loss: 0.0422 - val_log_cosh: 0.0422\n",
      "Epoch 40/100\n",
      "136/136 [==============================] - 3s 19ms/step - loss: 0.0433 - log_cosh: 0.0433 - val_loss: 0.0407 - val_log_cosh: 0.0407\n",
      "Epoch 41/100\n",
      "136/136 [==============================] - 3s 20ms/step - loss: 0.0435 - log_cosh: 0.0435 - val_loss: 0.0369 - val_log_cosh: 0.0369\n",
      "Epoch 42/100\n",
      "136/136 [==============================] - 3s 20ms/step - loss: 0.0420 - log_cosh: 0.0420 - val_loss: 0.0374 - val_log_cosh: 0.0374\n",
      "Epoch 43/100\n",
      "136/136 [==============================] - 3s 21ms/step - loss: 0.0423 - log_cosh: 0.0423 - val_loss: 0.0350 - val_log_cosh: 0.0350\n",
      "Epoch 44/100\n",
      "136/136 [==============================] - 3s 21ms/step - loss: 0.0435 - log_cosh: 0.0435 - val_loss: 0.0407 - val_log_cosh: 0.0407\n",
      "Epoch 45/100\n",
      "136/136 [==============================] - 3s 20ms/step - loss: 0.0413 - log_cosh: 0.0413 - val_loss: 0.0611 - val_log_cosh: 0.0611\n",
      "Epoch 46/100\n",
      "136/136 [==============================] - 3s 20ms/step - loss: 0.0416 - log_cosh: 0.0416 - val_loss: 0.0496 - val_log_cosh: 0.0496\n",
      "Epoch 47/100\n",
      "136/136 [==============================] - 3s 20ms/step - loss: 0.0411 - log_cosh: 0.0411 - val_loss: 0.0451 - val_log_cosh: 0.0451\n",
      "Epoch 48/100\n",
      "136/136 [==============================] - 3s 19ms/step - loss: 0.0412 - log_cosh: 0.0412 - val_loss: 0.0398 - val_log_cosh: 0.0398\n",
      "Epoch 49/100\n",
      "136/136 [==============================] - 3s 20ms/step - loss: 0.0385 - log_cosh: 0.0385 - val_loss: 0.0342 - val_log_cosh: 0.0342\n",
      "Epoch 50/100\n",
      "136/136 [==============================] - 3s 19ms/step - loss: 0.0417 - log_cosh: 0.0417 - val_loss: 0.0359 - val_log_cosh: 0.0359\n",
      "Epoch 51/100\n",
      "136/136 [==============================] - 3s 20ms/step - loss: 0.0387 - log_cosh: 0.0387 - val_loss: 0.0544 - val_log_cosh: 0.0544\n",
      "Epoch 52/100\n",
      "136/136 [==============================] - 3s 19ms/step - loss: 0.0388 - log_cosh: 0.0388 - val_loss: 0.0847 - val_log_cosh: 0.0847\n",
      "Epoch 53/100\n",
      "136/136 [==============================] - 3s 19ms/step - loss: 0.0370 - log_cosh: 0.0370 - val_loss: 0.0418 - val_log_cosh: 0.0418\n",
      "Epoch 54/100\n",
      "136/136 [==============================] - 3s 20ms/step - loss: 0.0365 - log_cosh: 0.0365 - val_loss: 0.0336 - val_log_cosh: 0.0336\n",
      "Epoch 55/100\n",
      "136/136 [==============================] - 3s 20ms/step - loss: 0.0370 - log_cosh: 0.0370 - val_loss: 0.0385 - val_log_cosh: 0.0385\n",
      "Epoch 56/100\n",
      "136/136 [==============================] - 3s 20ms/step - loss: 0.0373 - log_cosh: 0.0373 - val_loss: 0.0502 - val_log_cosh: 0.0502\n",
      "Epoch 57/100\n"
     ]
    },
    {
     "name": "stdout",
     "output_type": "stream",
     "text": [
      "136/136 [==============================] - 3s 20ms/step - loss: 0.0356 - log_cosh: 0.0356 - val_loss: 0.0450 - val_log_cosh: 0.0450\n",
      "Epoch 58/100\n",
      "136/136 [==============================] - 3s 20ms/step - loss: 0.0369 - log_cosh: 0.0369 - val_loss: 0.0303 - val_log_cosh: 0.0303\n",
      "Epoch 59/100\n",
      "136/136 [==============================] - 3s 19ms/step - loss: 0.0352 - log_cosh: 0.0352 - val_loss: 0.0271 - val_log_cosh: 0.0271\n",
      "Epoch 60/100\n",
      "136/136 [==============================] - 3s 19ms/step - loss: 0.0354 - log_cosh: 0.0354 - val_loss: 0.0736 - val_log_cosh: 0.0736\n",
      "Epoch 61/100\n",
      "136/136 [==============================] - 3s 19ms/step - loss: 0.0369 - log_cosh: 0.0369 - val_loss: 0.0257 - val_log_cosh: 0.0257\n",
      "Epoch 62/100\n",
      "136/136 [==============================] - 3s 19ms/step - loss: 0.0348 - log_cosh: 0.0348 - val_loss: 0.0295 - val_log_cosh: 0.0295\n",
      "Epoch 63/100\n",
      "136/136 [==============================] - 3s 19ms/step - loss: 0.0340 - log_cosh: 0.0340 - val_loss: 0.0503 - val_log_cosh: 0.0503\n",
      "Epoch 64/100\n",
      "136/136 [==============================] - 3s 19ms/step - loss: 0.0345 - log_cosh: 0.0345 - val_loss: 0.0316 - val_log_cosh: 0.0316\n",
      "Epoch 65/100\n",
      "136/136 [==============================] - 3s 19ms/step - loss: 0.0353 - log_cosh: 0.0353 - val_loss: 0.0328 - val_log_cosh: 0.0328\n",
      "Epoch 66/100\n",
      "136/136 [==============================] - 3s 19ms/step - loss: 0.0348 - log_cosh: 0.0348 - val_loss: 0.0388 - val_log_cosh: 0.0388\n",
      "Epoch 67/100\n",
      "136/136 [==============================] - 3s 19ms/step - loss: 0.0336 - log_cosh: 0.0336 - val_loss: 0.0681 - val_log_cosh: 0.0681\n",
      "Epoch 68/100\n",
      "136/136 [==============================] - 3s 19ms/step - loss: 0.0340 - log_cosh: 0.0340 - val_loss: 0.0318 - val_log_cosh: 0.0318\n",
      "Epoch 69/100\n",
      "136/136 [==============================] - 3s 20ms/step - loss: 0.0344 - log_cosh: 0.0344 - val_loss: 0.0751 - val_log_cosh: 0.0751\n",
      "Epoch 70/100\n",
      "136/136 [==============================] - 3s 19ms/step - loss: 0.0338 - log_cosh: 0.0338 - val_loss: 0.0340 - val_log_cosh: 0.0340\n",
      "Epoch 71/100\n",
      "136/136 [==============================] - 3s 19ms/step - loss: 0.0339 - log_cosh: 0.0339 - val_loss: 0.0295 - val_log_cosh: 0.0295\n",
      "Epoch 72/100\n",
      "136/136 [==============================] - 3s 19ms/step - loss: 0.0346 - log_cosh: 0.0346 - val_loss: 0.0349 - val_log_cosh: 0.0349\n"
     ]
    }
   ],
   "source": [
    "#train\n",
    "epoch_qty = 100\n",
    "callback = tf.keras.callbacks.EarlyStopping(monitor='loss', \n",
    "                                                patience=5)\n",
    "history = model_conv1D.fit(X_train_reshaped, y_train, epochs=epoch_qty,\n",
    "                    validation_data = (X_val_reshaped, y_val), \n",
    "                           verbose=1, callbacks=[callback])"
   ]
  },
  {
   "cell_type": "code",
   "execution_count": 72,
   "id": "9c545071",
   "metadata": {},
   "outputs": [
    {
     "name": "stdout",
     "output_type": "stream",
     "text": [
      "Testing set Mean Abs Error:   31.46\n"
     ]
    },
    {
     "data": {
      "image/png": "[encoded data removed]",
      "text/plain": [
       "<Figure size 720x432 with 1 Axes>"
      ]
     },
     "metadata": {
      "needs_background": "light"
     },
     "output_type": "display_data"
    }
   ],
   "source": [
    "[loss, mae] = model_conv1D.evaluate(X_test_reshaped, y_test, verbose=0)\n",
    "print(\"Testing set Mean Abs Error: {:7.2f}\".format(mae * 1000))\n",
    "\n",
    "pred =model_conv1D.predict(X_test_reshaped)\n",
    "\n",
    "y_pred_inv = standardScaler.inverse_transform(y)\n",
    "\n",
    "\n",
    "train_loss = history.history['loss']\n",
    "\n",
    "\n",
    "val_loss = history.history['val_loss']\n",
    "\n",
    "\n",
    "def plot_train_val(A, B, n, xlabel, ylabel, title):\n",
    "    pltp.figure(1, figsize=(10, 6))\n",
    "    pltp.plot(range(n),A)\n",
    "    pltp.plot(range(n),B)\n",
    "    pltp.ylabel(xlabel)\n",
    "    pltp.xlabel(ylabel)\n",
    "    pltp.title(title)\n",
    "    pltp.grid(True)\n",
    "    pltp.legend(['Training', 'Validation'])\n",
    "    pltp.show()\n",
    "\n",
    "\n",
    "plot_train_val(train_loss, val_loss, 72, 'Loss', 'Number of epochs', 'Training loss vs Validation loss')"
   ]
  },
  {
   "cell_type": "code",
   "execution_count": 73,
   "id": "e78a52fd",
   "metadata": {},
   "outputs": [
    {
     "name": "stdout",
     "output_type": "stream",
     "text": [
      "(543,)\n",
      "(543,)\n"
     ]
    },
    {
     "data": {
      "image/png": "[encoded data removed]",
      "text/plain": [
       "<Figure size 432x288 with 1 Axes>"
      ]
     },
     "metadata": {
      "needs_background": "light"
     },
     "output_type": "display_data"
    }
   ],
   "source": [
    "from sklearn.metrics import mean_absolute_error\n",
    "y_pred_normalized = standardScaler.inverse_transform(pred)\n",
    "print(y_pred_normalized[:,0].shape)\n",
    "y_test_normalized = standardScaler.inverse_transform(y_test)\n",
    "print(y_test_normalized[:,0].shape)\n",
    "pltp.figure()\n",
    "pltp.hist(y_pred_normalized[:,0], label=\"pred\")\n",
    "pltp.hist(y_test_normalized[:,0], label=\"test\")\n",
    "\n",
    "pltp.legend(loc=\"best\")\n",
    "pltp.show()"
   ]
  },
  {
   "cell_type": "code",
   "execution_count": 74,
   "id": "a381b5a8",
   "metadata": {},
   "outputs": [
    {
     "data": {
      "text/plain": [
       "(543,)"
      ]
     },
     "execution_count": 74,
     "metadata": {},
     "output_type": "execute_result"
    }
   ],
   "source": [
    "pred[:,0].shape"
   ]
  },
  {
   "cell_type": "code",
   "execution_count": 75,
   "id": "a24f98fe",
   "metadata": {},
   "outputs": [
    {
     "data": {
      "image/png": "[encoded data removed]",
      "text/plain": [
       "<Figure size 432x288 with 1 Axes>"
      ]
     },
     "metadata": {
      "needs_background": "light"
     },
     "output_type": "display_data"
    }
   ],
   "source": [
    "pltp.figure()\n",
    "pltp.hist(y_pred_normalized[:,1], label=\"pred\")\n",
    "pltp.hist(y_test_normalized[:,1], label=\"test\")\n",
    "\n",
    "pltp.legend(loc=\"best\")\n",
    "pltp.show()"
   ]
  },
  {
   "cell_type": "code",
   "execution_count": 76,
   "id": "6a6fd135",
   "metadata": {},
   "outputs": [
    {
     "data": {
      "image/png": "[encoded data removed]",
      "text/plain": [
       "<Figure size 432x288 with 1 Axes>"
      ]
     },
     "metadata": {
      "needs_background": "light"
     },
     "output_type": "display_data"
    }
   ],
   "source": [
    "pltp.figure()\n",
    "pltp.hist(y_pred_normalized[:,2], label=\"pred\")\n",
    "pltp.hist(y_test_normalized[:,2], label=\"test\")\n",
    "\n",
    "pltp.legend(loc=\"best\")\n",
    "pltp.show()"
   ]
  },
  {
   "cell_type": "code",
   "execution_count": 77,
   "id": "5d17f3b9",
   "metadata": {},
   "outputs": [
    {
     "data": {
      "text/plain": [
       "288.4877836288595"
      ]
     },
     "execution_count": 77,
     "metadata": {},
     "output_type": "execute_result"
    }
   ],
   "source": [
    "mean_absolute_error(y_pred_normalized, y_test_normalized)"
   ]
  },
  {
   "cell_type": "code",
   "execution_count": 78,
   "id": "dc5237c9",
   "metadata": {},
   "outputs": [],
   "source": [
    "model_conv1D.save('../abs_error_31_46.h5')"
   ]
  },
  {
   "cell_type": "code",
   "execution_count": 79,
   "id": "1e672701",
   "metadata": {},
   "outputs": [
    {
     "name": "stderr",
     "output_type": "stream",
     "text": [
      "/var/folders/w9/gh780vs52dgb_ypr6vd5g_4m0000gn/T/ipykernel_5235/942857022.py:7: UserWarning: Boolean Series key will be reindexed to match DataFrame index.\n",
      "  df2 = df[m1][m2]\n"
     ]
    },
    {
     "data": {
      "text/html": [
       "<div>\n",
       "<style scoped>\n",
       "    .dataframe tbody tr th:only-of-type {\n",
       "        vertical-align: middle;\n",
       "    }\n",
       "\n",
       "    .dataframe tbody tr th {\n",
       "        vertical-align: top;\n",
       "    }\n",
       "\n",
       "    .dataframe thead th {\n",
       "        text-align: right;\n",
       "    }\n",
       "</style>\n",
       "<table border=\"1\" class=\"dataframe\">\n",
       "  <thead>\n",
       "    <tr style=\"text-align: right;\">\n",
       "      <th></th>\n",
       "      <th>0</th>\n",
       "      <th>1</th>\n",
       "    </tr>\n",
       "  </thead>\n",
       "  <tbody>\n",
       "    <tr>\n",
       "      <th>2367</th>\n",
       "      <td>4460.022618</td>\n",
       "      <td>0.979893</td>\n",
       "    </tr>\n",
       "    <tr>\n",
       "      <th>2368</th>\n",
       "      <td>4460.111978</td>\n",
       "      <td>0.998823</td>\n",
       "    </tr>\n",
       "    <tr>\n",
       "      <th>2369</th>\n",
       "      <td>4460.201338</td>\n",
       "      <td>1.020981</td>\n",
       "    </tr>\n",
       "    <tr>\n",
       "      <th>2370</th>\n",
       "      <td>4460.290697</td>\n",
       "      <td>1.021009</td>\n",
       "    </tr>\n",
       "    <tr>\n",
       "      <th>2371</th>\n",
       "      <td>4460.380057</td>\n",
       "      <td>1.018809</td>\n",
       "    </tr>\n",
       "    <tr>\n",
       "      <th>...</th>\n",
       "      <td>...</td>\n",
       "      <td>...</td>\n",
       "    </tr>\n",
       "    <tr>\n",
       "      <th>2586</th>\n",
       "      <td>4479.592386</td>\n",
       "      <td>0.986350</td>\n",
       "    </tr>\n",
       "    <tr>\n",
       "      <th>2587</th>\n",
       "      <td>4479.681746</td>\n",
       "      <td>0.977661</td>\n",
       "    </tr>\n",
       "    <tr>\n",
       "      <th>2588</th>\n",
       "      <td>4479.771106</td>\n",
       "      <td>0.998069</td>\n",
       "    </tr>\n",
       "    <tr>\n",
       "      <th>2589</th>\n",
       "      <td>4479.860465</td>\n",
       "      <td>0.996876</td>\n",
       "    </tr>\n",
       "    <tr>\n",
       "      <th>2590</th>\n",
       "      <td>4479.949825</td>\n",
       "      <td>0.948284</td>\n",
       "    </tr>\n",
       "  </tbody>\n",
       "</table>\n",
       "<p>224 rows × 2 columns</p>\n",
       "</div>"
      ],
      "text/plain": [
       "                0         1\n",
       "2367  4460.022618  0.979893\n",
       "2368  4460.111978  0.998823\n",
       "2369  4460.201338  1.020981\n",
       "2370  4460.290697  1.021009\n",
       "2371  4460.380057  1.018809\n",
       "...           ...       ...\n",
       "2586  4479.592386  0.986350\n",
       "2587  4479.681746  0.977661\n",
       "2588  4479.771106  0.998069\n",
       "2589  4479.860465  0.996876\n",
       "2590  4479.949825  0.948284\n",
       "\n",
       "[224 rows x 2 columns]"
      ]
     },
     "execution_count": 79,
     "metadata": {},
     "output_type": "execute_result"
    }
   ],
   "source": [
    "#read besos\n",
    "df = pd.read_csv(\"../data-lineas-espectrales/BESOS/2_Be_stars/HD37041/hd37041_2014-01-29_03-58-58_final_corr.txt\", sep=\"\\t\", header=None)\n",
    "\n",
    "m1 = df[0] >= 4460\n",
    "m2 = df[0] <= 4480\n",
    "\n",
    "df2 = df[m1][m2]\n",
    "\n",
    "df2"
   ]
  },
  {
   "cell_type": "code",
   "execution_count": 80,
   "id": "9a0884ca",
   "metadata": {},
   "outputs": [
    {
     "data": {
      "image/png": "[encoded data removed]",
      "text/plain": [
       "<Figure size 576x432 with 1 Axes>"
      ]
     },
     "metadata": {
      "needs_background": "light"
     },
     "output_type": "display_data"
    }
   ],
   "source": [
    "pltp.figure(figsize=(8,6))\n",
    "pltp.plot(df2[0], df2[1], label=\"Línea observada\")\n",
    "#plt.plot(df4[0], df4[1], label=\"Modelo\")\n",
    "pltp.grid()\n",
    "pltp.legend(loc=\"best\")\n",
    "pltp.show()"
   ]
  },
  {
   "cell_type": "code",
   "execution_count": 81,
   "id": "22ffe54e",
   "metadata": {},
   "outputs": [],
   "source": [
    "n = 201  # for 2 random indices\n",
    "index = np.random.choice(df2[0].shape[0], n, replace=False) \n",
    "index.sort()"
   ]
  },
  {
   "cell_type": "code",
   "execution_count": 82,
   "id": "cdb1888f",
   "metadata": {},
   "outputs": [
    {
     "data": {
      "text/plain": [
       "(201,)"
      ]
     },
     "execution_count": 82,
     "metadata": {},
     "output_type": "execute_result"
    }
   ],
   "source": [
    "obs_waves = df2[0].values[index]\n",
    "\n",
    "obs_flux = df2[1].values[index]\n",
    "obs_flux.shape"
   ]
  },
  {
   "cell_type": "code",
   "execution_count": 83,
   "id": "5195a0d6",
   "metadata": {},
   "outputs": [
    {
     "data": {
      "image/png": "[encoded data removed]",
      "text/plain": [
       "<Figure size 576x432 with 1 Axes>"
      ]
     },
     "metadata": {
      "needs_background": "light"
     },
     "output_type": "display_data"
    }
   ],
   "source": [
    "pltp.figure(figsize=(8,6))\n",
    "pltp.plot(obs_waves, obs_flux ,label=\"Línea observada\")\n",
    "pltp.legend(loc=\"best\")\n",
    "pltp.show()"
   ]
  },
  {
   "cell_type": "code",
   "execution_count": 84,
   "id": "7e5b1a31",
   "metadata": {},
   "outputs": [],
   "source": [
    "time_steps = 201\n",
    "input_dimension = 1\n",
    "obs_flux_reshaped = obs_flux.reshape((1, time_steps, input_dimension))"
   ]
  },
  {
   "cell_type": "code",
   "execution_count": 85,
   "id": "89155eb6",
   "metadata": {},
   "outputs": [],
   "source": [
    "new_model = tf.keras.models.load_model('../abs_error_31_46.h5')"
   ]
  },
  {
   "cell_type": "code",
   "execution_count": 86,
   "id": "023ed71c",
   "metadata": {},
   "outputs": [],
   "source": [
    "pred_obs = new_model.predict(obs_flux_reshaped)"
   ]
  },
  {
   "cell_type": "code",
   "execution_count": 87,
   "id": "3450dc07",
   "metadata": {},
   "outputs": [
    {
     "name": "stdout",
     "output_type": "stream",
     "text": [
      "t_eff: 0.30677557\n",
      "log g: 0.73155427\n",
      "v_rot: -0.68377554\n"
     ]
    }
   ],
   "source": [
    "print(\"t_eff:\", pred_obs[0][0])\n",
    "print(\"log g:\", pred_obs[0][1])\n",
    "print(\"v_rot:\", pred_obs[0][2])"
   ]
  },
  {
   "cell_type": "code",
   "execution_count": 88,
   "id": "dff152bc",
   "metadata": {},
   "outputs": [
    {
     "name": "stdout",
     "output_type": "stream",
     "text": [
      "29212.19\n",
      "4.231554\n",
      "188.84125\n"
     ]
    }
   ],
   "source": [
    "pred_obs_inv = standardScaler.inverse_transform(pred_obs)\n",
    "print(pred_obs_inv[0,0])\n",
    "print(pred_obs_inv[0,1])\n",
    "print(pred_obs_inv[0,2])"
   ]
  },
  {
   "cell_type": "code",
   "execution_count": null,
   "id": "d1b0b541",
   "metadata": {},
   "outputs": [],
   "source": []
  }
 ],
 "metadata": {
  "kernelspec": {
   "display_name": "Python 3 (ipykernel)",
   "language": "python",
   "name": "python3"
  },
  "language_info": {
   "codemirror_mode": {
    "name": "ipython",
    "version": 3
   },
   "file_extension": ".py",
   "mimetype": "text/x-python",
   "name": "python",
   "nbconvert_exporter": "python",
   "pygments_lexer": "ipython3",
   "version": "3.9.7"
  }
 },
 "nbformat": 4,
 "nbformat_minor": 5
}
