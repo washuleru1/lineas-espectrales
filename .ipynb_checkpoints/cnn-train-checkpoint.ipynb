{
 "cells": [
  {
   "cell_type": "code",
   "execution_count": 1,
   "id": "56ecb0a3",
   "metadata": {},
   "outputs": [],
   "source": [
    "import numpy as np\n",
    "import pandas as pd\n",
    "import matplotlib as plt\n",
    "from matplotlib import pyplot as pltp\n",
    "import tensorflow as tf\n",
    "import glob\n",
    "from sklearn.preprocessing import MinMaxScaler, StandardScaler\n",
    "from sklearn.model_selection import train_test_split\n",
    "from sklearn.metrics import classification_report, plot_confusion_matrix"
   ]
  },
  {
   "cell_type": "code",
   "execution_count": 2,
   "id": "f32fc74e",
   "metadata": {},
   "outputs": [],
   "source": [
    "#Función que separa los parametros t,g,v del fileName\n",
    "def separateParams(fileName):\n",
    "    t = fileName.split(\"t\")[1].split(\"g\")[0]\n",
    "    rest_of = fileName.split(\"t\")[1].split(\"g\")[1].split(\"v\")\n",
    "    g, v = rest_of\n",
    "    return float(t), float(g)/10, float(v)"
   ]
  },
  {
   "cell_type": "code",
   "execution_count": 3,
   "id": "a9585efc",
   "metadata": {},
   "outputs": [],
   "source": [
    "#Se definen los sets de training, test y validación\n",
    "def train_val_test_split(X, y, train_size, val_size, test_size, random_state = 1):\n",
    "    if train_size + val_size + test_size != 1.0:\n",
    "        print(\"Incorrect sizes!\")\n",
    "        return None \n",
    "    X_tmp, X_test, y_tmp, y_test = train_test_split(X, y, test_size = test_size, random_state=random_state)\n",
    "    X_train, X_val, y_train, y_val = train_test_split(X_tmp, y_tmp, test_size = val_size/(test_size + train_size), random_state=random_state)\n",
    "    return X_train, X_val, X_test, y_train, y_val, y_test"
   ]
  },
  {
   "cell_type": "code",
   "execution_count": 4,
   "id": "2d8da443",
   "metadata": {},
   "outputs": [
    {
     "name": "stdout",
     "output_type": "stream",
     "text": [
      "Files qty: 5425\n"
     ]
    }
   ],
   "source": [
    "files = glob.glob('../data-lineas-espectrales/filtered_wv_models/*')\n",
    "file_qty = len(files)\n",
    "print(\"Files qty: {}\".format(file_qty))"
   ]
  },
  {
   "cell_type": "code",
   "execution_count": 5,
   "id": "13e67b8d",
   "metadata": {},
   "outputs": [
    {
     "name": "stdout",
     "output_type": "stream",
     "text": [
      "points: 201 | columns: 2 \n"
     ]
    }
   ],
   "source": [
    "y = np.zeros((file_qty,3))\n",
    "df = pd.read_csv(files[0], sep=\" \", header=None)\n",
    "n_points , n_columns = df.shape\n",
    "print(\"points: {} | columns: {} \".format(n_points, n_columns))"
   ]
  },
  {
   "cell_type": "code",
   "execution_count": 6,
   "id": "210af774",
   "metadata": {},
   "outputs": [
    {
     "name": "stdout",
     "output_type": "stream",
     "text": [
      "(5425, 201)\n",
      "(5425, 3)\n"
     ]
    }
   ],
   "source": [
    "#Matriz que contiene las lineas espectrales\n",
    "X = np.zeros((file_qty, n_points))\n",
    "#Matriz que contiene los labels de cada linea espectral\n",
    "y = np.zeros((file_qty, 3))\n",
    "\n",
    "print(X.shape)\n",
    "print(y.shape)"
   ]
  },
  {
   "cell_type": "code",
   "execution_count": 7,
   "id": "533602ce",
   "metadata": {},
   "outputs": [],
   "source": [
    "#extract files, se almacenan las lineas espectrales y labels en X e y respectivamente\n",
    "for i, name in enumerate(files):\n",
    "    file_name = name.split(\"/\")[-1].split(\".\")[0].split(\"_\")[1]\n",
    "    df = pd.read_csv(name, sep=\" \", header=None)\n",
    "    t, g, v = separateParams(file_name)\n",
    "    #Se almacena la línea espectral\n",
    "    X[i, :] = df[1].values\n",
    "    #Se almacena el label de la linea espectral\n",
    "    y[i] = t, g, v"
   ]
  },
  {
   "cell_type": "code",
   "execution_count": 8,
   "id": "4e3e43ed",
   "metadata": {},
   "outputs": [
    {
     "name": "stdout",
     "output_type": "stream",
     "text": [
      "[[3.5e+04 2.0e+00 2.8e+02]\n",
      " [2.0e+04 2.0e+00 2.6e+02]\n",
      " [2.8e+04 2.0e+00 3.5e+02]\n",
      " [1.7e+04 3.0e+00 1.7e+02]]\n"
     ]
    }
   ],
   "source": [
    "print(y[:4])"
   ]
  },
  {
   "cell_type": "code",
   "execution_count": 9,
   "id": "7aae3a8f",
   "metadata": {},
   "outputs": [],
   "source": [
    "#se normaliza y\n",
    "standardScaler = StandardScaler()\n",
    "standardScaler.fit(y)\n",
    "normalized_y = standardScaler.transform(y)"
   ]
  },
  {
   "cell_type": "code",
   "execution_count": 10,
   "id": "00d7857b",
   "metadata": {},
   "outputs": [],
   "source": [
    "X_train, X_val, X_test, y_train, y_val, y_test = train_val_test_split(X, normalized_y, .8, .1, .1)"
   ]
  },
  {
   "cell_type": "code",
   "execution_count": 11,
   "id": "714278b3",
   "metadata": {},
   "outputs": [
    {
     "name": "stdout",
     "output_type": "stream",
     "text": [
      "(4339, 201) (4339, 3)\n",
      "(543, 201) (543, 3)\n",
      "(543, 201) (543, 3)\n"
     ]
    }
   ],
   "source": [
    "print(X_train.shape, y_train.shape)\n",
    "print(X_val.shape, y_val.shape)\n",
    "print(X_test.shape, y_test.shape)"
   ]
  },
  {
   "cell_type": "code",
   "execution_count": 12,
   "id": "d5f685d4",
   "metadata": {},
   "outputs": [
    {
     "name": "stdout",
     "output_type": "stream",
     "text": [
      "201\n"
     ]
    }
   ],
   "source": [
    "time_steps = X.shape[1]\n",
    "input_dimension = 1\n",
    "print(time_steps)"
   ]
  },
  {
   "cell_type": "code",
   "execution_count": 13,
   "id": "c3fdf954",
   "metadata": {},
   "outputs": [
    {
     "name": "stdout",
     "output_type": "stream",
     "text": [
      "reshaped X_train: (4339, 201, 1)\n",
      "reshaped X_val: (543, 201, 1)\n",
      "reshaped X_test: (543, 201, 1)\n"
     ]
    }
   ],
   "source": [
    "sample_size = X_train.shape[0]\n",
    "X_train_reshaped = X_train.reshape((sample_size, time_steps, input_dimension))\n",
    "sample_size = X_val.shape[0]\n",
    "X_val_reshaped = X_val.reshape((sample_size, time_steps, input_dimension))\n",
    "sample_size = X_test.shape[0]\n",
    "X_test_reshaped = X_test.reshape((sample_size, time_steps, input_dimension))\n",
    "print(\"reshaped X_train: {}\".format(X_train_reshaped.shape))\n",
    "print(\"reshaped X_val: {}\".format(X_val_reshaped.shape))\n",
    "print(\"reshaped X_test: {}\".format(X_test_reshaped.shape))"
   ]
  },
  {
   "cell_type": "code",
   "execution_count": 46,
   "id": "be7ede77",
   "metadata": {},
   "outputs": [
    {
     "name": "stdout",
     "output_type": "stream",
     "text": [
      "Model: \"model_conv1D\"\n",
      "_________________________________________________________________\n",
      " Layer (type)                Output Shape              Param #   \n",
      "=================================================================\n",
      " conv1d_3 (Conv1D)           (None, 199, 64)           256       \n",
      "                                                                 \n",
      " Conv1D_1 (Conv1D)           (None, 193, 32)           14368     \n",
      "                                                                 \n",
      " Conv1D_2 (Conv1D)           (None, 191, 16)           1552      \n",
      "                                                                 \n",
      " flatten_3 (Flatten)         (None, 3056)              0         \n",
      "                                                                 \n",
      " Dense_00 (Dense)            (None, 128)               391296    \n",
      "                                                                 \n",
      " Dense_0 (Dense)             (None, 64)                8256      \n",
      "                                                                 \n",
      " Dense_1 (Dense)             (None, 32)                2080      \n",
      "                                                                 \n",
      " dense_3 (Dense)             (None, 10)                330       \n",
      "                                                                 \n",
      " Dense_4 (Dense)             (None, 3)                 33        \n",
      "                                                                 \n",
      "=================================================================\n",
      "Total params: 418,171\n",
      "Trainable params: 418,171\n",
      "Non-trainable params: 0\n",
      "_________________________________________________________________\n"
     ]
    }
   ],
   "source": [
    "#Arquitectura de la red\n",
    "def build_conv1D_model():\n",
    "    n_timesteps = X_train_reshaped.shape[1] #210\n",
    "    n_features  = X_train_reshaped.shape[2] #1 \n",
    "    model = tf.keras.Sequential(name=\"model_conv1D\")\n",
    "    model.add(tf.keras.layers.Input(shape=(n_timesteps,n_features)))\n",
    "    model.add(tf.keras.layers.Conv1D(filters=64, kernel_size=3, activation='elu'))\n",
    "    #model.add(tf.keras.layers.Conv1D(filters=64, kernel_size=3, activation='relu', name=\"Conv1D_0\"))\n",
    "    model.add(tf.keras.layers.Conv1D(filters=32, kernel_size=7, activation='softmax', name=\"Conv1D_1\"))\n",
    "    model.add(tf.keras.layers.Conv1D(filters=16, kernel_size=3, activation='selu', name=\"Conv1D_2\"))\n",
    "    tf.keras.layers.BatchNormalization()\n",
    "    model.add(tf.keras.layers.Flatten())\n",
    "    model.add(tf.keras.layers.Dense(128,activation='elu', name=\"Dense_00\"))\n",
    "    model.add(tf.keras.layers.Dense(64,activation='relu', name=\"Dense_0\"))\n",
    "    model.add(tf.keras.layers.Dense(32, activation= \"selu\", name=\"Dense_1\"))\n",
    "    model.add(tf.keras.layers.Dense(10, activation='softmax'))\n",
    "    model.add(tf.keras.layers.Dense(3, activation = \"linear\", name=\"Dense_4\"))\n",
    "    \n",
    "\n",
    "\n",
    "    optimizer = tf.keras.optimizers.RMSprop(0.001)\n",
    "\n",
    "    l = tf.keras.losses.LogCosh() #ok\n",
    "    cs = tf.keras.losses.CosineSimilarity() #ok\n",
    "    hl = tf.keras.losses.Huber() #NO FUNCIONA\n",
    "    lg = tf.keras.losses.MeanSquaredLogarithmicError()\n",
    "    hg = tf.keras.losses.Hinge()\n",
    "    mse = tf.keras.losses.MeanSquaredError()\n",
    "    bc = tf.keras.losses.BinaryCrossentropy() #NO SIRVE\n",
    "    ce = tf.keras.losses.CategoricalCrossentropy() # NO SIRVE\n",
    "    LOG_COSH = 'log_cosh'\n",
    "    MEAN_SQUARED_LOG_ERROR = 'mean_squared_logarithmic_error'\n",
    "    COSINE_SIMILARITY = 'cosine_similarity'\n",
    "    HINGHE = 'hinge'\n",
    "    MEAN_SQUARE_ERROR = 'mse'\n",
    "    BINARY_CROSS_ENTROPY = 'binary_crossentropy'\n",
    "    CATEGORICAL_CROSS_ENTROPY = 'categorical_crossentropy'\n",
    "    HUBER = 'huber_loss'\n",
    "    RECALL = 'recall'\n",
    "    RECALL_METRIC = tf.keras.metrics.Recall\n",
    "    #activations\n",
    "    \n",
    "    model.compile(loss=l,optimizer=optimizer,metrics=['mse', LOG_COSH, 'accuracy'])\n",
    "    return model\n",
    "\n",
    "model_conv1D = build_conv1D_model()\n",
    "model_conv1D.summary()"
   ]
  },
  {
   "cell_type": "code",
   "execution_count": 47,
   "id": "0a7264bf",
   "metadata": {},
   "outputs": [
    {
     "name": "stdout",
     "output_type": "stream",
     "text": [
      "Epoch 1/100\n",
      "136/136 [==============================] - 4s 22ms/step - loss: 0.3940 - mse: 0.9800 - log_cosh: 0.3940 - accuracy: 0.4040 - val_loss: 0.3250 - val_mse: 0.7901 - val_log_cosh: 0.3250 - val_accuracy: 0.6685\n",
      "Epoch 2/100\n",
      "136/136 [==============================] - 3s 21ms/step - loss: 0.3070 - mse: 0.7455 - log_cosh: 0.3070 - accuracy: 0.6598 - val_loss: 0.2680 - val_mse: 0.6435 - val_log_cosh: 0.2680 - val_accuracy: 0.7017\n",
      "Epoch 3/100\n",
      "136/136 [==============================] - 3s 20ms/step - loss: 0.2685 - mse: 0.6480 - log_cosh: 0.2685 - accuracy: 0.7027 - val_loss: 0.2453 - val_mse: 0.5885 - val_log_cosh: 0.2453 - val_accuracy: 0.6888\n",
      "Epoch 4/100\n",
      "136/136 [==============================] - 3s 19ms/step - loss: 0.2484 - mse: 0.5990 - log_cosh: 0.2484 - accuracy: 0.7038 - val_loss: 0.2287 - val_mse: 0.5491 - val_log_cosh: 0.2287 - val_accuracy: 0.6961\n",
      "Epoch 5/100\n",
      "136/136 [==============================] - 3s 20ms/step - loss: 0.2302 - mse: 0.5535 - log_cosh: 0.2302 - accuracy: 0.7059 - val_loss: 0.2112 - val_mse: 0.5129 - val_log_cosh: 0.2112 - val_accuracy: 0.7569\n",
      "Epoch 6/100\n",
      "136/136 [==============================] - 3s 20ms/step - loss: 0.2147 - mse: 0.5154 - log_cosh: 0.2147 - accuracy: 0.7202 - val_loss: 0.2092 - val_mse: 0.5099 - val_log_cosh: 0.2092 - val_accuracy: 0.7459\n",
      "Epoch 7/100\n",
      "136/136 [==============================] - 3s 20ms/step - loss: 0.2021 - mse: 0.4830 - log_cosh: 0.2021 - accuracy: 0.7128 - val_loss: 0.1935 - val_mse: 0.4627 - val_log_cosh: 0.1935 - val_accuracy: 0.7385\n",
      "Epoch 8/100\n",
      "136/136 [==============================] - 3s 20ms/step - loss: 0.1871 - mse: 0.4435 - log_cosh: 0.1871 - accuracy: 0.7329 - val_loss: 0.1777 - val_mse: 0.4219 - val_log_cosh: 0.1777 - val_accuracy: 0.7680\n",
      "Epoch 9/100\n",
      "136/136 [==============================] - 3s 20ms/step - loss: 0.1724 - mse: 0.4049 - log_cosh: 0.1724 - accuracy: 0.7522 - val_loss: 0.1759 - val_mse: 0.4107 - val_log_cosh: 0.1759 - val_accuracy: 0.6703\n",
      "Epoch 10/100\n",
      "136/136 [==============================] - 3s 21ms/step - loss: 0.1588 - mse: 0.3693 - log_cosh: 0.1588 - accuracy: 0.7608 - val_loss: 0.1354 - val_mse: 0.3110 - val_log_cosh: 0.1354 - val_accuracy: 0.7716\n",
      "Epoch 11/100\n",
      "136/136 [==============================] - 3s 20ms/step - loss: 0.1437 - mse: 0.3324 - log_cosh: 0.1437 - accuracy: 0.7870 - val_loss: 0.1283 - val_mse: 0.2944 - val_log_cosh: 0.1283 - val_accuracy: 0.8140\n",
      "Epoch 12/100\n",
      "136/136 [==============================] - 3s 21ms/step - loss: 0.1299 - mse: 0.2987 - log_cosh: 0.1299 - accuracy: 0.8064 - val_loss: 0.1081 - val_mse: 0.2446 - val_log_cosh: 0.1081 - val_accuracy: 0.8490\n",
      "Epoch 13/100\n",
      "136/136 [==============================] - 3s 21ms/step - loss: 0.1170 - mse: 0.2685 - log_cosh: 0.1170 - accuracy: 0.8283 - val_loss: 0.1031 - val_mse: 0.2364 - val_log_cosh: 0.1031 - val_accuracy: 0.8600\n",
      "Epoch 14/100\n",
      "136/136 [==============================] - 3s 19ms/step - loss: 0.1047 - mse: 0.2389 - log_cosh: 0.1047 - accuracy: 0.8380 - val_loss: 0.1058 - val_mse: 0.2404 - val_log_cosh: 0.1058 - val_accuracy: 0.7827\n",
      "Epoch 15/100\n",
      "136/136 [==============================] - 3s 19ms/step - loss: 0.0973 - mse: 0.2220 - log_cosh: 0.0973 - accuracy: 0.8361 - val_loss: 0.0920 - val_mse: 0.2119 - val_log_cosh: 0.0920 - val_accuracy: 0.8195\n",
      "Epoch 16/100\n",
      "136/136 [==============================] - 3s 19ms/step - loss: 0.0861 - mse: 0.1953 - log_cosh: 0.0861 - accuracy: 0.8442 - val_loss: 0.0934 - val_mse: 0.2130 - val_log_cosh: 0.0934 - val_accuracy: 0.8545\n",
      "Epoch 17/100\n",
      "136/136 [==============================] - 3s 19ms/step - loss: 0.0836 - mse: 0.1898 - log_cosh: 0.0836 - accuracy: 0.8532 - val_loss: 0.0687 - val_mse: 0.1551 - val_log_cosh: 0.0687 - val_accuracy: 0.8637\n",
      "Epoch 18/100\n",
      "136/136 [==============================] - 3s 21ms/step - loss: 0.0777 - mse: 0.1776 - log_cosh: 0.0777 - accuracy: 0.8617 - val_loss: 0.0803 - val_mse: 0.1783 - val_log_cosh: 0.0803 - val_accuracy: 0.8785\n",
      "Epoch 19/100\n",
      "136/136 [==============================] - 3s 20ms/step - loss: 0.0745 - mse: 0.1693 - log_cosh: 0.0745 - accuracy: 0.8622 - val_loss: 0.0679 - val_mse: 0.1526 - val_log_cosh: 0.0679 - val_accuracy: 0.8895\n",
      "Epoch 20/100\n",
      "136/136 [==============================] - 3s 20ms/step - loss: 0.0689 - mse: 0.1557 - log_cosh: 0.0689 - accuracy: 0.8709 - val_loss: 0.0919 - val_mse: 0.2156 - val_log_cosh: 0.0919 - val_accuracy: 0.8711\n",
      "Epoch 21/100\n",
      "136/136 [==============================] - 3s 20ms/step - loss: 0.0672 - mse: 0.1522 - log_cosh: 0.0672 - accuracy: 0.8721 - val_loss: 0.0732 - val_mse: 0.1667 - val_log_cosh: 0.0732 - val_accuracy: 0.8729\n",
      "Epoch 22/100\n",
      "136/136 [==============================] - 3s 20ms/step - loss: 0.0653 - mse: 0.1475 - log_cosh: 0.0653 - accuracy: 0.8693 - val_loss: 0.0523 - val_mse: 0.1175 - val_log_cosh: 0.0523 - val_accuracy: 0.9042\n",
      "Epoch 23/100\n",
      "136/136 [==============================] - 3s 20ms/step - loss: 0.0616 - mse: 0.1383 - log_cosh: 0.0616 - accuracy: 0.8795 - val_loss: 0.0513 - val_mse: 0.1157 - val_log_cosh: 0.0513 - val_accuracy: 0.9006\n",
      "Epoch 24/100\n",
      "136/136 [==============================] - 3s 21ms/step - loss: 0.0593 - mse: 0.1336 - log_cosh: 0.0593 - accuracy: 0.8779 - val_loss: 0.0733 - val_mse: 0.1631 - val_log_cosh: 0.0733 - val_accuracy: 0.8545\n",
      "Epoch 25/100\n",
      "136/136 [==============================] - 3s 21ms/step - loss: 0.0585 - mse: 0.1312 - log_cosh: 0.0585 - accuracy: 0.8760 - val_loss: 0.0568 - val_mse: 0.1298 - val_log_cosh: 0.0568 - val_accuracy: 0.8932\n",
      "Epoch 26/100\n",
      "136/136 [==============================] - 3s 21ms/step - loss: 0.0584 - mse: 0.1327 - log_cosh: 0.0584 - accuracy: 0.8829 - val_loss: 0.0831 - val_mse: 0.1908 - val_log_cosh: 0.0831 - val_accuracy: 0.8711\n",
      "Epoch 27/100\n",
      "136/136 [==============================] - 3s 21ms/step - loss: 0.0552 - mse: 0.1245 - log_cosh: 0.0552 - accuracy: 0.8822 - val_loss: 0.0462 - val_mse: 0.1017 - val_log_cosh: 0.0462 - val_accuracy: 0.8969\n",
      "Epoch 28/100\n",
      "136/136 [==============================] - 3s 22ms/step - loss: 0.0537 - mse: 0.1209 - log_cosh: 0.0537 - accuracy: 0.8889 - val_loss: 0.0543 - val_mse: 0.1219 - val_log_cosh: 0.0543 - val_accuracy: 0.8858\n",
      "Epoch 29/100\n",
      "136/136 [==============================] - 3s 21ms/step - loss: 0.0543 - mse: 0.1225 - log_cosh: 0.0543 - accuracy: 0.8901 - val_loss: 0.0702 - val_mse: 0.1580 - val_log_cosh: 0.0702 - val_accuracy: 0.8877\n",
      "Epoch 30/100\n",
      "136/136 [==============================] - 3s 20ms/step - loss: 0.0524 - mse: 0.1173 - log_cosh: 0.0524 - accuracy: 0.8926 - val_loss: 0.0530 - val_mse: 0.1179 - val_log_cosh: 0.0530 - val_accuracy: 0.8766\n",
      "Epoch 31/100\n",
      "136/136 [==============================] - 3s 20ms/step - loss: 0.0527 - mse: 0.1186 - log_cosh: 0.0527 - accuracy: 0.8855 - val_loss: 0.0569 - val_mse: 0.1237 - val_log_cosh: 0.0569 - val_accuracy: 0.8398\n",
      "Epoch 32/100\n",
      "136/136 [==============================] - 3s 20ms/step - loss: 0.0511 - mse: 0.1146 - log_cosh: 0.0511 - accuracy: 0.8919 - val_loss: 0.0424 - val_mse: 0.0921 - val_log_cosh: 0.0424 - val_accuracy: 0.9024\n",
      "Epoch 33/100\n",
      "136/136 [==============================] - 3s 20ms/step - loss: 0.0487 - mse: 0.1093 - log_cosh: 0.0487 - accuracy: 0.8933 - val_loss: 0.0444 - val_mse: 0.0965 - val_log_cosh: 0.0444 - val_accuracy: 0.9153\n",
      "Epoch 34/100\n",
      "136/136 [==============================] - 3s 20ms/step - loss: 0.0497 - mse: 0.1123 - log_cosh: 0.0497 - accuracy: 0.8912 - val_loss: 0.0678 - val_mse: 0.1653 - val_log_cosh: 0.0678 - val_accuracy: 0.8748\n",
      "Epoch 35/100\n",
      "136/136 [==============================] - 3s 20ms/step - loss: 0.0481 - mse: 0.1074 - log_cosh: 0.0481 - accuracy: 0.8926 - val_loss: 0.0412 - val_mse: 0.0904 - val_log_cosh: 0.0412 - val_accuracy: 0.9171\n",
      "Epoch 36/100\n",
      "136/136 [==============================] - 3s 20ms/step - loss: 0.0462 - mse: 0.1025 - log_cosh: 0.0462 - accuracy: 0.8963 - val_loss: 0.1056 - val_mse: 0.2524 - val_log_cosh: 0.1056 - val_accuracy: 0.8508\n",
      "Epoch 37/100\n",
      "136/136 [==============================] - 3s 20ms/step - loss: 0.0469 - mse: 0.1049 - log_cosh: 0.0469 - accuracy: 0.8954 - val_loss: 0.0517 - val_mse: 0.1147 - val_log_cosh: 0.0517 - val_accuracy: 0.8858\n",
      "Epoch 38/100\n"
     ]
    },
    {
     "name": "stdout",
     "output_type": "stream",
     "text": [
      "136/136 [==============================] - 3s 21ms/step - loss: 0.0451 - mse: 0.1001 - log_cosh: 0.0451 - accuracy: 0.8979 - val_loss: 0.0484 - val_mse: 0.1088 - val_log_cosh: 0.0484 - val_accuracy: 0.9042\n",
      "Epoch 39/100\n",
      "136/136 [==============================] - 3s 20ms/step - loss: 0.0462 - mse: 0.1038 - log_cosh: 0.0462 - accuracy: 0.8965 - val_loss: 0.0362 - val_mse: 0.0799 - val_log_cosh: 0.0362 - val_accuracy: 0.9153\n",
      "Epoch 40/100\n",
      "136/136 [==============================] - 3s 20ms/step - loss: 0.0453 - mse: 0.1015 - log_cosh: 0.0453 - accuracy: 0.9021 - val_loss: 0.0611 - val_mse: 0.1378 - val_log_cosh: 0.0611 - val_accuracy: 0.8913\n",
      "Epoch 41/100\n",
      "136/136 [==============================] - 3s 20ms/step - loss: 0.0441 - mse: 0.0983 - log_cosh: 0.0441 - accuracy: 0.8972 - val_loss: 0.0372 - val_mse: 0.0803 - val_log_cosh: 0.0372 - val_accuracy: 0.9190\n",
      "Epoch 42/100\n",
      "136/136 [==============================] - 3s 21ms/step - loss: 0.0430 - mse: 0.0963 - log_cosh: 0.0430 - accuracy: 0.9037 - val_loss: 0.0912 - val_mse: 0.2225 - val_log_cosh: 0.0912 - val_accuracy: 0.8122\n",
      "Epoch 43/100\n",
      "136/136 [==============================] - 3s 21ms/step - loss: 0.0425 - mse: 0.0945 - log_cosh: 0.0425 - accuracy: 0.9016 - val_loss: 0.0406 - val_mse: 0.0884 - val_log_cosh: 0.0406 - val_accuracy: 0.9263\n",
      "Epoch 44/100\n",
      "136/136 [==============================] - 3s 21ms/step - loss: 0.0410 - mse: 0.0914 - log_cosh: 0.0410 - accuracy: 0.9048 - val_loss: 0.0673 - val_mse: 0.1543 - val_log_cosh: 0.0673 - val_accuracy: 0.8803\n",
      "Epoch 45/100\n",
      "136/136 [==============================] - 3s 20ms/step - loss: 0.0435 - mse: 0.0980 - log_cosh: 0.0435 - accuracy: 0.9037 - val_loss: 0.0494 - val_mse: 0.1088 - val_log_cosh: 0.0494 - val_accuracy: 0.9282\n",
      "Epoch 46/100\n",
      "136/136 [==============================] - 3s 20ms/step - loss: 0.0413 - mse: 0.0921 - log_cosh: 0.0413 - accuracy: 0.9034 - val_loss: 0.0401 - val_mse: 0.0881 - val_log_cosh: 0.0401 - val_accuracy: 0.9171\n",
      "Epoch 47/100\n",
      "136/136 [==============================] - 3s 21ms/step - loss: 0.0402 - mse: 0.0899 - log_cosh: 0.0402 - accuracy: 0.9074 - val_loss: 0.0416 - val_mse: 0.0911 - val_log_cosh: 0.0416 - val_accuracy: 0.8987\n",
      "Epoch 48/100\n",
      "136/136 [==============================] - 3s 21ms/step - loss: 0.0401 - mse: 0.0886 - log_cosh: 0.0401 - accuracy: 0.9090 - val_loss: 0.0347 - val_mse: 0.0743 - val_log_cosh: 0.0347 - val_accuracy: 0.9208\n",
      "Epoch 49/100\n",
      "136/136 [==============================] - 3s 21ms/step - loss: 0.0398 - mse: 0.0884 - log_cosh: 0.0398 - accuracy: 0.9099 - val_loss: 0.0381 - val_mse: 0.0826 - val_log_cosh: 0.0381 - val_accuracy: 0.9079\n",
      "Epoch 50/100\n",
      "136/136 [==============================] - 3s 20ms/step - loss: 0.0394 - mse: 0.0876 - log_cosh: 0.0394 - accuracy: 0.9057 - val_loss: 0.0409 - val_mse: 0.0888 - val_log_cosh: 0.0409 - val_accuracy: 0.9116\n",
      "Epoch 51/100\n",
      "136/136 [==============================] - 3s 20ms/step - loss: 0.0389 - mse: 0.0869 - log_cosh: 0.0389 - accuracy: 0.9083 - val_loss: 0.0601 - val_mse: 0.1349 - val_log_cosh: 0.0601 - val_accuracy: 0.8803\n",
      "Epoch 52/100\n",
      "136/136 [==============================] - 3s 21ms/step - loss: 0.0391 - mse: 0.0872 - log_cosh: 0.0391 - accuracy: 0.9071 - val_loss: 0.0309 - val_mse: 0.0671 - val_log_cosh: 0.0309 - val_accuracy: 0.9411\n",
      "Epoch 53/100\n",
      "136/136 [==============================] - 3s 20ms/step - loss: 0.0380 - mse: 0.0848 - log_cosh: 0.0380 - accuracy: 0.9136 - val_loss: 0.0399 - val_mse: 0.0857 - val_log_cosh: 0.0399 - val_accuracy: 0.9098\n",
      "Epoch 54/100\n",
      "136/136 [==============================] - 3s 21ms/step - loss: 0.0385 - mse: 0.0860 - log_cosh: 0.0385 - accuracy: 0.9092 - val_loss: 0.0354 - val_mse: 0.0761 - val_log_cosh: 0.0354 - val_accuracy: 0.9300\n",
      "Epoch 55/100\n",
      "136/136 [==============================] - 3s 20ms/step - loss: 0.0380 - mse: 0.0844 - log_cosh: 0.0380 - accuracy: 0.9092 - val_loss: 0.0393 - val_mse: 0.0845 - val_log_cosh: 0.0393 - val_accuracy: 0.9079\n",
      "Epoch 56/100\n",
      "136/136 [==============================] - 3s 21ms/step - loss: 0.0378 - mse: 0.0839 - log_cosh: 0.0378 - accuracy: 0.9087 - val_loss: 0.0400 - val_mse: 0.0873 - val_log_cosh: 0.0400 - val_accuracy: 0.9098\n",
      "Epoch 57/100\n",
      "136/136 [==============================] - 3s 20ms/step - loss: 0.0367 - mse: 0.0809 - log_cosh: 0.0367 - accuracy: 0.9147 - val_loss: 0.0315 - val_mse: 0.0683 - val_log_cosh: 0.0315 - val_accuracy: 0.9448\n",
      "Epoch 58/100\n",
      "136/136 [==============================] - 3s 20ms/step - loss: 0.0369 - mse: 0.0818 - log_cosh: 0.0369 - accuracy: 0.9085 - val_loss: 0.0286 - val_mse: 0.0609 - val_log_cosh: 0.0286 - val_accuracy: 0.9337\n",
      "Epoch 59/100\n",
      "136/136 [==============================] - 3s 21ms/step - loss: 0.0367 - mse: 0.0816 - log_cosh: 0.0367 - accuracy: 0.9090 - val_loss: 0.0431 - val_mse: 0.0954 - val_log_cosh: 0.0431 - val_accuracy: 0.9079\n",
      "Epoch 60/100\n",
      "136/136 [==============================] - 3s 20ms/step - loss: 0.0361 - mse: 0.0797 - log_cosh: 0.0361 - accuracy: 0.9152 - val_loss: 0.0357 - val_mse: 0.0788 - val_log_cosh: 0.0357 - val_accuracy: 0.9411\n",
      "Epoch 61/100\n",
      "136/136 [==============================] - 3s 19ms/step - loss: 0.0359 - mse: 0.0801 - log_cosh: 0.0359 - accuracy: 0.9120 - val_loss: 0.0655 - val_mse: 0.1573 - val_log_cosh: 0.0655 - val_accuracy: 0.8564\n",
      "Epoch 62/100\n",
      "136/136 [==============================] - 3s 19ms/step - loss: 0.0353 - mse: 0.0783 - log_cosh: 0.0353 - accuracy: 0.9170 - val_loss: 0.0564 - val_mse: 0.1285 - val_log_cosh: 0.0564 - val_accuracy: 0.8987\n",
      "Epoch 63/100\n",
      "136/136 [==============================] - 3s 20ms/step - loss: 0.0354 - mse: 0.0787 - log_cosh: 0.0354 - accuracy: 0.9161 - val_loss: 0.0375 - val_mse: 0.0840 - val_log_cosh: 0.0375 - val_accuracy: 0.9300\n",
      "Epoch 64/100\n",
      "136/136 [==============================] - 3s 19ms/step - loss: 0.0357 - mse: 0.0793 - log_cosh: 0.0357 - accuracy: 0.9170 - val_loss: 0.0304 - val_mse: 0.0651 - val_log_cosh: 0.0304 - val_accuracy: 0.9429\n",
      "Epoch 65/100\n",
      "136/136 [==============================] - 3s 20ms/step - loss: 0.0352 - mse: 0.0781 - log_cosh: 0.0352 - accuracy: 0.9154 - val_loss: 0.0297 - val_mse: 0.0642 - val_log_cosh: 0.0297 - val_accuracy: 0.9466\n",
      "Epoch 66/100\n",
      "136/136 [==============================] - 3s 21ms/step - loss: 0.0343 - mse: 0.0759 - log_cosh: 0.0343 - accuracy: 0.9156 - val_loss: 0.0402 - val_mse: 0.0958 - val_log_cosh: 0.0402 - val_accuracy: 0.9153\n",
      "Epoch 67/100\n",
      "136/136 [==============================] - 3s 21ms/step - loss: 0.0339 - mse: 0.0751 - log_cosh: 0.0339 - accuracy: 0.9221 - val_loss: 0.0355 - val_mse: 0.0770 - val_log_cosh: 0.0355 - val_accuracy: 0.9337\n",
      "Epoch 68/100\n",
      "136/136 [==============================] - 3s 21ms/step - loss: 0.0350 - mse: 0.0778 - log_cosh: 0.0350 - accuracy: 0.9184 - val_loss: 0.0326 - val_mse: 0.0730 - val_log_cosh: 0.0326 - val_accuracy: 0.9355\n",
      "Epoch 69/100\n",
      "136/136 [==============================] - 3s 21ms/step - loss: 0.0347 - mse: 0.0770 - log_cosh: 0.0347 - accuracy: 0.9110 - val_loss: 0.0329 - val_mse: 0.0702 - val_log_cosh: 0.0329 - val_accuracy: 0.9116\n",
      "Epoch 70/100\n",
      "136/136 [==============================] - 3s 21ms/step - loss: 0.0336 - mse: 0.0743 - log_cosh: 0.0336 - accuracy: 0.9198 - val_loss: 0.0265 - val_mse: 0.0566 - val_log_cosh: 0.0265 - val_accuracy: 0.9466\n",
      "Epoch 71/100\n",
      "136/136 [==============================] - 3s 20ms/step - loss: 0.0336 - mse: 0.0749 - log_cosh: 0.0336 - accuracy: 0.9175 - val_loss: 0.0541 - val_mse: 0.1345 - val_log_cosh: 0.0541 - val_accuracy: 0.9171\n",
      "Epoch 72/100\n",
      "136/136 [==============================] - 3s 19ms/step - loss: 0.0335 - mse: 0.0748 - log_cosh: 0.0335 - accuracy: 0.9168 - val_loss: 0.0259 - val_mse: 0.0564 - val_log_cosh: 0.0259 - val_accuracy: 0.9337\n",
      "Epoch 73/100\n",
      "136/136 [==============================] - 3s 22ms/step - loss: 0.0336 - mse: 0.0741 - log_cosh: 0.0336 - accuracy: 0.9186 - val_loss: 0.0433 - val_mse: 0.0998 - val_log_cosh: 0.0433 - val_accuracy: 0.9098\n",
      "Epoch 74/100\n",
      "136/136 [==============================] - 3s 19ms/step - loss: 0.0343 - mse: 0.0762 - log_cosh: 0.0343 - accuracy: 0.9163 - val_loss: 0.0318 - val_mse: 0.0690 - val_log_cosh: 0.0318 - val_accuracy: 0.9282\n",
      "Epoch 75/100\n"
     ]
    },
    {
     "name": "stdout",
     "output_type": "stream",
     "text": [
      "136/136 [==============================] - 3s 20ms/step - loss: 0.0341 - mse: 0.0757 - log_cosh: 0.0341 - accuracy: 0.9186 - val_loss: 0.0494 - val_mse: 0.1107 - val_log_cosh: 0.0494 - val_accuracy: 0.8895\n",
      "Epoch 76/100\n",
      "136/136 [==============================] - 3s 20ms/step - loss: 0.0327 - mse: 0.0721 - log_cosh: 0.0327 - accuracy: 0.9150 - val_loss: 0.0304 - val_mse: 0.0653 - val_log_cosh: 0.0304 - val_accuracy: 0.9429\n",
      "Epoch 77/100\n",
      "136/136 [==============================] - 3s 20ms/step - loss: 0.0327 - mse: 0.0723 - log_cosh: 0.0327 - accuracy: 0.9209 - val_loss: 0.0478 - val_mse: 0.1101 - val_log_cosh: 0.0478 - val_accuracy: 0.8803\n",
      "Epoch 78/100\n",
      "136/136 [==============================] - 3s 20ms/step - loss: 0.0319 - mse: 0.0704 - log_cosh: 0.0319 - accuracy: 0.9216 - val_loss: 0.0268 - val_mse: 0.0576 - val_log_cosh: 0.0268 - val_accuracy: 0.9337\n",
      "Epoch 79/100\n",
      "136/136 [==============================] - 3s 19ms/step - loss: 0.0329 - mse: 0.0733 - log_cosh: 0.0329 - accuracy: 0.9209 - val_loss: 0.0254 - val_mse: 0.0546 - val_log_cosh: 0.0254 - val_accuracy: 0.9337\n",
      "Epoch 80/100\n",
      "136/136 [==============================] - 3s 21ms/step - loss: 0.0323 - mse: 0.0712 - log_cosh: 0.0323 - accuracy: 0.9175 - val_loss: 0.0387 - val_mse: 0.0834 - val_log_cosh: 0.0387 - val_accuracy: 0.9061\n",
      "Epoch 81/100\n",
      "136/136 [==============================] - 3s 21ms/step - loss: 0.0328 - mse: 0.0727 - log_cosh: 0.0328 - accuracy: 0.9200 - val_loss: 0.0314 - val_mse: 0.0681 - val_log_cosh: 0.0314 - val_accuracy: 0.9263\n",
      "Epoch 82/100\n",
      "136/136 [==============================] - 3s 22ms/step - loss: 0.0321 - mse: 0.0710 - log_cosh: 0.0321 - accuracy: 0.9170 - val_loss: 0.0344 - val_mse: 0.0754 - val_log_cosh: 0.0344 - val_accuracy: 0.9300\n",
      "Epoch 83/100\n",
      "136/136 [==============================] - 3s 22ms/step - loss: 0.0308 - mse: 0.0676 - log_cosh: 0.0308 - accuracy: 0.9175 - val_loss: 0.0535 - val_mse: 0.1217 - val_log_cosh: 0.0535 - val_accuracy: 0.9190\n",
      "Epoch 84/100\n",
      "136/136 [==============================] - 3s 22ms/step - loss: 0.0307 - mse: 0.0672 - log_cosh: 0.0307 - accuracy: 0.9235 - val_loss: 0.0337 - val_mse: 0.0728 - val_log_cosh: 0.0337 - val_accuracy: 0.9171\n",
      "Epoch 85/100\n",
      "136/136 [==============================] - 3s 22ms/step - loss: 0.0308 - mse: 0.0676 - log_cosh: 0.0308 - accuracy: 0.9223 - val_loss: 0.0296 - val_mse: 0.0651 - val_log_cosh: 0.0296 - val_accuracy: 0.9227\n",
      "Epoch 86/100\n",
      "136/136 [==============================] - 3s 20ms/step - loss: 0.0315 - mse: 0.0694 - log_cosh: 0.0315 - accuracy: 0.9177 - val_loss: 0.0396 - val_mse: 0.0843 - val_log_cosh: 0.0396 - val_accuracy: 0.9190\n",
      "Epoch 87/100\n",
      "136/136 [==============================] - 3s 20ms/step - loss: 0.0311 - mse: 0.0688 - log_cosh: 0.0311 - accuracy: 0.9214 - val_loss: 0.0237 - val_mse: 0.0513 - val_log_cosh: 0.0237 - val_accuracy: 0.9540\n",
      "Epoch 88/100\n",
      "136/136 [==============================] - 3s 19ms/step - loss: 0.0311 - mse: 0.0681 - log_cosh: 0.0311 - accuracy: 0.9233 - val_loss: 0.0279 - val_mse: 0.0617 - val_log_cosh: 0.0279 - val_accuracy: 0.9392\n",
      "Epoch 89/100\n",
      "136/136 [==============================] - 3s 20ms/step - loss: 0.0308 - mse: 0.0677 - log_cosh: 0.0308 - accuracy: 0.9233 - val_loss: 0.0267 - val_mse: 0.0569 - val_log_cosh: 0.0267 - val_accuracy: 0.9282\n"
     ]
    }
   ],
   "source": [
    "#train\n",
    "epoch_qty = 100\n",
    "callback = tf.keras.callbacks.EarlyStopping(monitor='loss', \n",
    "                                                patience=5)\n",
    "history = model_conv1D.fit(X_train_reshaped, y_train, epochs=epoch_qty,\n",
    "                    validation_data = (X_val_reshaped, y_val), \n",
    "                           verbose=1, callbacks=[callback])"
   ]
  },
  {
   "cell_type": "code",
   "execution_count": 48,
   "id": "9c545071",
   "metadata": {},
   "outputs": [
    {
     "name": "stdout",
     "output_type": "stream",
     "text": [
      "Testing set Mean SQ Error:   49.75\n",
      "Accuracy: 94.65929865837097\n",
      "['loss', 'mse', 'log_cosh', 'accuracy']\n"
     ]
    },
    {
     "data": {
      "image/png": "[encoded data removed]",
      "text/plain": [
       "<Figure size 720x432 with 1 Axes>"
      ]
     },
     "metadata": {
      "needs_background": "light"
     },
     "output_type": "display_data"
    }
   ],
   "source": [
    "[loss, mse, metric, accuracy] = model_conv1D.evaluate(X_test_reshaped, y_test, verbose=0)\n",
    "print(\"Testing set Mean SQ Error: {:7.2f}\".format(mse * 1000))\n",
    "print(\"Accuracy: {}\".format(accuracy*100))\n",
    "print(model_conv1D.metrics_names)\n",
    "pred =model_conv1D.predict(X_test_reshaped)\n",
    "\n",
    "y_pred_inv = standardScaler.inverse_transform(y)\n",
    "\n",
    "\n",
    "train_loss = history.history['loss']\n",
    "\n",
    "\n",
    "val_loss = history.history['val_loss']\n",
    "\n",
    "\n",
    "def plot_train_val(A, B, n, xlabel, ylabel, title):\n",
    "    pltp.figure(1, figsize=(10, 6))\n",
    "    pltp.plot(range(n),A)\n",
    "    pltp.plot(range(n),B)\n",
    "    pltp.ylabel(xlabel)\n",
    "    pltp.xlabel(ylabel)\n",
    "    pltp.title(title)\n",
    "    pltp.grid(True)\n",
    "    pltp.legend(['Training', 'Validation'])\n",
    "    pltp.show()\n",
    "\n",
    "\n",
    "plot_train_val(train_loss, val_loss, 89, 'Loss', 'Number of epochs', 'Training loss vs Validation loss')"
   ]
  },
  {
   "cell_type": "code",
   "execution_count": 49,
   "id": "510db48c",
   "metadata": {},
   "outputs": [
    {
     "name": "stdout",
     "output_type": "stream",
     "text": [
      "(543,)\n",
      "(543,)\n"
     ]
    },
    {
     "data": {
      "image/png": "[encoded data removed]",
      "text/plain": [
       "<Figure size 432x288 with 1 Axes>"
      ]
     },
     "metadata": {
      "needs_background": "light"
     },
     "output_type": "display_data"
    }
   ],
   "source": [
    "from sklearn.metrics import mean_absolute_error\n",
    "y_pred_normalized = standardScaler.inverse_transform(pred)\n",
    "print(y_pred_normalized[:,0].shape)\n",
    "y_test_normalized = standardScaler.inverse_transform(y_test)\n",
    "print(y_test_normalized[:,0].shape)\n",
    "pltp.figure()\n",
    "pltp.hist(y_pred_normalized[:,0], label=\"pred\")\n",
    "pltp.hist(y_test_normalized[:,0], label=\"test\")\n",
    "\n",
    "pltp.legend(loc=\"best\")\n",
    "pltp.show()"
   ]
  },
  {
   "cell_type": "code",
   "execution_count": 50,
   "id": "80719173",
   "metadata": {},
   "outputs": [
    {
     "data": {
      "text/plain": [
       "(543,)"
      ]
     },
     "execution_count": 50,
     "metadata": {},
     "output_type": "execute_result"
    }
   ],
   "source": [
    "pred[:,0].shape"
   ]
  },
  {
   "cell_type": "code",
   "execution_count": 51,
   "id": "41ede450",
   "metadata": {},
   "outputs": [
    {
     "data": {
      "image/png": "[encoded data removed]",
      "text/plain": [
       "<Figure size 432x288 with 1 Axes>"
      ]
     },
     "metadata": {
      "needs_background": "light"
     },
     "output_type": "display_data"
    }
   ],
   "source": [
    "pltp.figure()\n",
    "pltp.hist(y_pred_normalized[:,1], label=\"pred\")\n",
    "pltp.hist(y_test_normalized[:,1], label=\"test\")\n",
    "\n",
    "pltp.legend(loc=\"best\")\n",
    "pltp.show()"
   ]
  },
  {
   "cell_type": "code",
   "execution_count": 52,
   "id": "dab0eb97",
   "metadata": {},
   "outputs": [
    {
     "data": {
      "image/png": "[encoded data removed]",
      "text/plain": [
       "<Figure size 432x288 with 1 Axes>"
      ]
     },
     "metadata": {
      "needs_background": "light"
     },
     "output_type": "display_data"
    }
   ],
   "source": [
    "pltp.figure()\n",
    "pltp.hist(y_pred_normalized[:,2], label=\"pred\")\n",
    "pltp.hist(y_test_normalized[:,2], label=\"test\")\n",
    "\n",
    "pltp.legend(loc=\"best\")\n",
    "pltp.show()"
   ]
  },
  {
   "cell_type": "code",
   "execution_count": 53,
   "id": "d6f88361",
   "metadata": {},
   "outputs": [
    {
     "data": {
      "text/plain": [
       "204.9518641586169"
      ]
     },
     "execution_count": 53,
     "metadata": {},
     "output_type": "execute_result"
    }
   ],
   "source": [
    "mean_absolute_error(y_pred_normalized, y_test_normalized)"
   ]
  },
  {
   "cell_type": "code",
   "execution_count": null,
   "id": "203e4090",
   "metadata": {},
   "outputs": [],
   "source": []
  },
  {
   "cell_type": "code",
   "execution_count": 54,
   "id": "dc5237c9",
   "metadata": {},
   "outputs": [],
   "source": [
    "model_conv1D.save('../abs_error_49_75_204.h5')"
   ]
  },
  {
   "cell_type": "code",
   "execution_count": 55,
   "id": "1e672701",
   "metadata": {},
   "outputs": [
    {
     "name": "stdout",
     "output_type": "stream",
     "text": [
      "2367    4460.022618\n",
      "2368    4460.111978\n",
      "2369    4460.201338\n",
      "2370    4460.290697\n",
      "2371    4460.380057\n",
      "           ...     \n",
      "2586    4479.592386\n",
      "2587    4479.681746\n",
      "2588    4479.771106\n",
      "2589    4479.860465\n",
      "2590    4479.949825\n",
      "Name: 0, Length: 224, dtype: float64\n"
     ]
    },
    {
     "name": "stderr",
     "output_type": "stream",
     "text": [
      "/var/folders/w9/gh780vs52dgb_ypr6vd5g_4m0000gn/T/ipykernel_19466/932170932.py:7: UserWarning: Boolean Series key will be reindexed to match DataFrame index.\n",
      "  df2 = df[m1][m2]\n"
     ]
    }
   ],
   "source": [
    "#read besos\n",
    "df = pd.read_csv(\"../data-lineas-espectrales/BESOS/2_Be_stars/HD37041/hd37041_2014-01-29_03-58-58_final_corr.txt\", sep=\"\\t\", header=None)\n",
    "\n",
    "m1 = df[0] >= 4460\n",
    "m2 = df[0] <= 4480\n",
    "\n",
    "df2 = df[m1][m2]\n",
    "\n",
    "df2\n",
    "print(df2[0])"
   ]
  },
  {
   "cell_type": "code",
   "execution_count": 56,
   "id": "9a0884ca",
   "metadata": {},
   "outputs": [
    {
     "data": {
      "image/png": "[encoded data removed]",
      "text/plain": [
       "<Figure size 576x432 with 1 Axes>"
      ]
     },
     "metadata": {
      "needs_background": "light"
     },
     "output_type": "display_data"
    }
   ],
   "source": [
    "pltp.figure(figsize=(8,6))\n",
    "pltp.plot(df2[0], df2[1], label=\"Línea observada\")\n",
    "#plt.plot(df4[0], df4[1], label=\"Modelo\")\n",
    "pltp.grid()\n",
    "pltp.legend(loc=\"best\")\n",
    "pltp.show()"
   ]
  },
  {
   "cell_type": "code",
   "execution_count": 57,
   "id": "22ffe54e",
   "metadata": {},
   "outputs": [],
   "source": [
    "n = 201  # for 2 random indices\n",
    "index = np.random.choice(df2[0].shape[0], n, replace=False) \n",
    "index.sort()"
   ]
  },
  {
   "cell_type": "code",
   "execution_count": 58,
   "id": "cdb1888f",
   "metadata": {},
   "outputs": [
    {
     "data": {
      "text/plain": [
       "(201,)"
      ]
     },
     "execution_count": 58,
     "metadata": {},
     "output_type": "execute_result"
    }
   ],
   "source": [
    "obs_waves = df2[0].values[index]\n",
    "\n",
    "obs_flux = df2[1].values[index]\n",
    "obs_flux.shape"
   ]
  },
  {
   "cell_type": "code",
   "execution_count": 59,
   "id": "5195a0d6",
   "metadata": {},
   "outputs": [
    {
     "data": {
      "image/png": "[encoded data removed]",
      "text/plain": [
       "<Figure size 576x432 with 1 Axes>"
      ]
     },
     "metadata": {
      "needs_background": "light"
     },
     "output_type": "display_data"
    }
   ],
   "source": [
    "pltp.figure(figsize=(8,6))\n",
    "pltp.plot(obs_waves, obs_flux ,label=\"Línea observada\")\n",
    "pltp.legend(loc=\"best\")\n",
    "pltp.show()"
   ]
  },
  {
   "cell_type": "code",
   "execution_count": 60,
   "id": "7e5b1a31",
   "metadata": {},
   "outputs": [],
   "source": [
    "time_steps = 201\n",
    "input_dimension = 1\n",
    "obs_flux_reshaped = obs_flux.reshape((1, time_steps, input_dimension))"
   ]
  },
  {
   "cell_type": "code",
   "execution_count": 61,
   "id": "89155eb6",
   "metadata": {},
   "outputs": [],
   "source": [
    "new_model = tf.keras.models.load_model('../abs_error_49_75_204.h5')"
   ]
  },
  {
   "cell_type": "code",
   "execution_count": 62,
   "id": "023ed71c",
   "metadata": {},
   "outputs": [],
   "source": [
    "pred_obs = new_model.predict(obs_flux_reshaped)"
   ]
  },
  {
   "cell_type": "code",
   "execution_count": 63,
   "id": "3450dc07",
   "metadata": {},
   "outputs": [
    {
     "name": "stdout",
     "output_type": "stream",
     "text": [
      "t_eff: 0.6450063\n",
      "log g: 1.2520632\n",
      "v_rot: -0.88318896\n"
     ]
    }
   ],
   "source": [
    "print(\"t_eff:\", pred_obs[0][0])\n",
    "print(\"log g:\", pred_obs[0][1])\n",
    "print(\"v_rot:\", pred_obs[0][2])"
   ]
  },
  {
   "cell_type": "code",
   "execution_count": 64,
   "id": "dff152bc",
   "metadata": {},
   "outputs": [
    {
     "name": "stdout",
     "output_type": "stream",
     "text": [
      "31651.207\n",
      "4.7520633\n",
      "171.00519\n"
     ]
    }
   ],
   "source": [
    "pred_obs_inv = standardScaler.inverse_transform(pred_obs)\n",
    "print(pred_obs_inv[0,0])\n",
    "print(pred_obs_inv[0,1])\n",
    "print(pred_obs_inv[0,2])"
   ]
  },
  {
   "cell_type": "code",
   "execution_count": null,
   "id": "d1b0b541",
   "metadata": {},
   "outputs": [],
   "source": []
  }
 ],
 "metadata": {
  "kernelspec": {
   "display_name": "Python 3 (ipykernel)",
   "language": "python",
   "name": "python3"
  },
  "language_info": {
   "codemirror_mode": {
    "name": "ipython",
    "version": 3
   },
   "file_extension": ".py",
   "mimetype": "text/x-python",
   "name": "python",
   "nbconvert_exporter": "python",
   "pygments_lexer": "ipython3",
   "version": "3.9.7"
  }
 },
 "nbformat": 4,
 "nbformat_minor": 5
}
